{
 "cells": [
  {
   "cell_type": "code",
   "execution_count": 1,
   "metadata": {},
   "outputs": [],
   "source": [
    "import pandas as pd\n",
    "import numpy as np"
   ]
  },
  {
   "cell_type": "code",
   "execution_count": 2,
   "metadata": {},
   "outputs": [],
   "source": [
    "df1 = pd.read_csv('train1.csv')\n",
    "df2 = pd.read_csv('train2.csv')\n",
    "df3 = pd.read_csv('train3.csv')"
   ]
  },
  {
   "cell_type": "code",
   "execution_count": 3,
   "metadata": {},
   "outputs": [
    {
     "data": {
      "text/html": [
       "<div>\n",
       "<style scoped>\n",
       "    .dataframe tbody tr th:only-of-type {\n",
       "        vertical-align: middle;\n",
       "    }\n",
       "\n",
       "    .dataframe tbody tr th {\n",
       "        vertical-align: top;\n",
       "    }\n",
       "\n",
       "    .dataframe thead th {\n",
       "        text-align: right;\n",
       "    }\n",
       "</style>\n",
       "<table border=\"1\" class=\"dataframe\">\n",
       "  <thead>\n",
       "    <tr style=\"text-align: right;\">\n",
       "      <th></th>\n",
       "      <th>month</th>\n",
       "      <th>town</th>\n",
       "      <th>flat_type</th>\n",
       "      <th>block</th>\n",
       "      <th>street_name</th>\n",
       "      <th>storey_range</th>\n",
       "      <th>floor_area_sqm</th>\n",
       "      <th>flat_model</th>\n",
       "      <th>lease_commence_date</th>\n",
       "      <th>resale_price</th>\n",
       "      <th>uniqueID</th>\n",
       "    </tr>\n",
       "  </thead>\n",
       "  <tbody>\n",
       "    <tr>\n",
       "      <th>0</th>\n",
       "      <td>2012-03</td>\n",
       "      <td>ANG MO KIO</td>\n",
       "      <td>2 ROOM</td>\n",
       "      <td>172</td>\n",
       "      <td>ANG MO KIO AVE 4</td>\n",
       "      <td>06 TO 10</td>\n",
       "      <td>45.0</td>\n",
       "      <td>Improved</td>\n",
       "      <td>1986</td>\n",
       "      <td>250000.0</td>\n",
       "      <td>100000</td>\n",
       "    </tr>\n",
       "    <tr>\n",
       "      <th>1</th>\n",
       "      <td>2012-03</td>\n",
       "      <td>ANG MO KIO</td>\n",
       "      <td>2 ROOM</td>\n",
       "      <td>510</td>\n",
       "      <td>ANG MO KIO AVE 8</td>\n",
       "      <td>01 TO 05</td>\n",
       "      <td>44.0</td>\n",
       "      <td>Improved</td>\n",
       "      <td>1980</td>\n",
       "      <td>265000.0</td>\n",
       "      <td>100001</td>\n",
       "    </tr>\n",
       "    <tr>\n",
       "      <th>2</th>\n",
       "      <td>2012-03</td>\n",
       "      <td>ANG MO KIO</td>\n",
       "      <td>3 ROOM</td>\n",
       "      <td>610</td>\n",
       "      <td>ANG MO KIO AVE 4</td>\n",
       "      <td>06 TO 10</td>\n",
       "      <td>68.0</td>\n",
       "      <td>New Generation</td>\n",
       "      <td>1980</td>\n",
       "      <td>315000.0</td>\n",
       "      <td>100002</td>\n",
       "    </tr>\n",
       "    <tr>\n",
       "      <th>3</th>\n",
       "      <td>2012-03</td>\n",
       "      <td>ANG MO KIO</td>\n",
       "      <td>3 ROOM</td>\n",
       "      <td>474</td>\n",
       "      <td>ANG MO KIO AVE 10</td>\n",
       "      <td>01 TO 05</td>\n",
       "      <td>67.0</td>\n",
       "      <td>New Generation</td>\n",
       "      <td>1984</td>\n",
       "      <td>320000.0</td>\n",
       "      <td>100003</td>\n",
       "    </tr>\n",
       "    <tr>\n",
       "      <th>4</th>\n",
       "      <td>2012-03</td>\n",
       "      <td>ANG MO KIO</td>\n",
       "      <td>3 ROOM</td>\n",
       "      <td>604</td>\n",
       "      <td>ANG MO KIO AVE 5</td>\n",
       "      <td>06 TO 10</td>\n",
       "      <td>67.0</td>\n",
       "      <td>New Generation</td>\n",
       "      <td>1980</td>\n",
       "      <td>321000.0</td>\n",
       "      <td>100004</td>\n",
       "    </tr>\n",
       "  </tbody>\n",
       "</table>\n",
       "</div>"
      ],
      "text/plain": [
       "     month        town flat_type block        street_name storey_range  \\\n",
       "0  2012-03  ANG MO KIO    2 ROOM   172   ANG MO KIO AVE 4     06 TO 10   \n",
       "1  2012-03  ANG MO KIO    2 ROOM   510   ANG MO KIO AVE 8     01 TO 05   \n",
       "2  2012-03  ANG MO KIO    3 ROOM   610   ANG MO KIO AVE 4     06 TO 10   \n",
       "3  2012-03  ANG MO KIO    3 ROOM   474  ANG MO KIO AVE 10     01 TO 05   \n",
       "4  2012-03  ANG MO KIO    3 ROOM   604   ANG MO KIO AVE 5     06 TO 10   \n",
       "\n",
       "   floor_area_sqm      flat_model  lease_commence_date  resale_price  uniqueID  \n",
       "0            45.0        Improved                 1986      250000.0    100000  \n",
       "1            44.0        Improved                 1980      265000.0    100001  \n",
       "2            68.0  New Generation                 1980      315000.0    100002  \n",
       "3            67.0  New Generation                 1984      320000.0    100003  \n",
       "4            67.0  New Generation                 1980      321000.0    100004  "
      ]
     },
     "execution_count": 3,
     "metadata": {},
     "output_type": "execute_result"
    }
   ],
   "source": [
    "df1.head()"
   ]
  },
  {
   "cell_type": "code",
   "execution_count": 4,
   "metadata": {},
   "outputs": [
    {
     "data": {
      "text/plain": [
       "((52203, 11), (37153, 12), (32578, 12))"
      ]
     },
     "execution_count": 4,
     "metadata": {},
     "output_type": "execute_result"
    }
   ],
   "source": [
    "df1.shape, df2.shape, df3.shape"
   ]
  },
  {
   "cell_type": "code",
   "execution_count": 5,
   "metadata": {},
   "outputs": [
    {
     "data": {
      "text/html": [
       "<div>\n",
       "<style scoped>\n",
       "    .dataframe tbody tr th:only-of-type {\n",
       "        vertical-align: middle;\n",
       "    }\n",
       "\n",
       "    .dataframe tbody tr th {\n",
       "        vertical-align: top;\n",
       "    }\n",
       "\n",
       "    .dataframe thead th {\n",
       "        text-align: right;\n",
       "    }\n",
       "</style>\n",
       "<table border=\"1\" class=\"dataframe\">\n",
       "  <thead>\n",
       "    <tr style=\"text-align: right;\">\n",
       "      <th></th>\n",
       "      <th>month</th>\n",
       "      <th>town</th>\n",
       "      <th>flat_type</th>\n",
       "      <th>block</th>\n",
       "      <th>street_name</th>\n",
       "      <th>storey_range</th>\n",
       "      <th>floor_area_sqm</th>\n",
       "      <th>flat_model</th>\n",
       "      <th>lease_commence_date</th>\n",
       "      <th>remaining_lease</th>\n",
       "      <th>resale_price</th>\n",
       "      <th>uniqueID</th>\n",
       "    </tr>\n",
       "  </thead>\n",
       "  <tbody>\n",
       "    <tr>\n",
       "      <th>0</th>\n",
       "      <td>2015-01</td>\n",
       "      <td>ANG MO KIO</td>\n",
       "      <td>3 ROOM</td>\n",
       "      <td>174</td>\n",
       "      <td>ANG MO KIO AVE 4</td>\n",
       "      <td>07 TO 09</td>\n",
       "      <td>60.0</td>\n",
       "      <td>Improved</td>\n",
       "      <td>1986</td>\n",
       "      <td>70</td>\n",
       "      <td>255000.0</td>\n",
       "      <td>152203</td>\n",
       "    </tr>\n",
       "    <tr>\n",
       "      <th>1</th>\n",
       "      <td>2015-01</td>\n",
       "      <td>ANG MO KIO</td>\n",
       "      <td>3 ROOM</td>\n",
       "      <td>541</td>\n",
       "      <td>ANG MO KIO AVE 10</td>\n",
       "      <td>01 TO 03</td>\n",
       "      <td>68.0</td>\n",
       "      <td>New Generation</td>\n",
       "      <td>1981</td>\n",
       "      <td>65</td>\n",
       "      <td>275000.0</td>\n",
       "      <td>152204</td>\n",
       "    </tr>\n",
       "    <tr>\n",
       "      <th>2</th>\n",
       "      <td>2015-01</td>\n",
       "      <td>ANG MO KIO</td>\n",
       "      <td>3 ROOM</td>\n",
       "      <td>163</td>\n",
       "      <td>ANG MO KIO AVE 4</td>\n",
       "      <td>01 TO 03</td>\n",
       "      <td>69.0</td>\n",
       "      <td>New Generation</td>\n",
       "      <td>1980</td>\n",
       "      <td>64</td>\n",
       "      <td>285000.0</td>\n",
       "      <td>152205</td>\n",
       "    </tr>\n",
       "    <tr>\n",
       "      <th>3</th>\n",
       "      <td>2015-01</td>\n",
       "      <td>ANG MO KIO</td>\n",
       "      <td>3 ROOM</td>\n",
       "      <td>446</td>\n",
       "      <td>ANG MO KIO AVE 10</td>\n",
       "      <td>01 TO 03</td>\n",
       "      <td>68.0</td>\n",
       "      <td>New Generation</td>\n",
       "      <td>1979</td>\n",
       "      <td>63</td>\n",
       "      <td>290000.0</td>\n",
       "      <td>152206</td>\n",
       "    </tr>\n",
       "    <tr>\n",
       "      <th>4</th>\n",
       "      <td>2015-01</td>\n",
       "      <td>ANG MO KIO</td>\n",
       "      <td>3 ROOM</td>\n",
       "      <td>557</td>\n",
       "      <td>ANG MO KIO AVE 10</td>\n",
       "      <td>07 TO 09</td>\n",
       "      <td>68.0</td>\n",
       "      <td>New Generation</td>\n",
       "      <td>1980</td>\n",
       "      <td>64</td>\n",
       "      <td>290000.0</td>\n",
       "      <td>152207</td>\n",
       "    </tr>\n",
       "  </tbody>\n",
       "</table>\n",
       "</div>"
      ],
      "text/plain": [
       "     month        town flat_type block        street_name storey_range  \\\n",
       "0  2015-01  ANG MO KIO    3 ROOM   174   ANG MO KIO AVE 4     07 TO 09   \n",
       "1  2015-01  ANG MO KIO    3 ROOM   541  ANG MO KIO AVE 10     01 TO 03   \n",
       "2  2015-01  ANG MO KIO    3 ROOM   163   ANG MO KIO AVE 4     01 TO 03   \n",
       "3  2015-01  ANG MO KIO    3 ROOM   446  ANG MO KIO AVE 10     01 TO 03   \n",
       "4  2015-01  ANG MO KIO    3 ROOM   557  ANG MO KIO AVE 10     07 TO 09   \n",
       "\n",
       "   floor_area_sqm      flat_model  lease_commence_date  remaining_lease  \\\n",
       "0            60.0        Improved                 1986               70   \n",
       "1            68.0  New Generation                 1981               65   \n",
       "2            69.0  New Generation                 1980               64   \n",
       "3            68.0  New Generation                 1979               63   \n",
       "4            68.0  New Generation                 1980               64   \n",
       "\n",
       "   resale_price  uniqueID  \n",
       "0      255000.0    152203  \n",
       "1      275000.0    152204  \n",
       "2      285000.0    152205  \n",
       "3      290000.0    152206  \n",
       "4      290000.0    152207  "
      ]
     },
     "execution_count": 5,
     "metadata": {},
     "output_type": "execute_result"
    }
   ],
   "source": [
    "df2.head()"
   ]
  },
  {
   "cell_type": "markdown",
   "metadata": {},
   "source": [
    "## Data cleaning"
   ]
  },
  {
   "cell_type": "markdown",
   "metadata": {},
   "source": [
    "#### Storey_range attribute"
   ]
  },
  {
   "cell_type": "code",
   "execution_count": 6,
   "metadata": {},
   "outputs": [],
   "source": [
    "ranges = df2.storey_range.values"
   ]
  },
  {
   "cell_type": "code",
   "execution_count": 7,
   "metadata": {},
   "outputs": [
    {
     "data": {
      "text/plain": [
       "array(['07 TO 09', '01 TO 03', '01 TO 03', ..., '10 TO 12', '01 TO 03',\n",
       "       '10 TO 12'], dtype=object)"
      ]
     },
     "execution_count": 7,
     "metadata": {},
     "output_type": "execute_result"
    }
   ],
   "source": [
    "ranges"
   ]
  },
  {
   "cell_type": "code",
   "execution_count": 8,
   "metadata": {},
   "outputs": [],
   "source": [
    "up = []\n",
    "for i in ranges:\n",
    "    up.append(i.split(\"TO\"))  "
   ]
  },
  {
   "cell_type": "code",
   "execution_count": 9,
   "metadata": {},
   "outputs": [],
   "source": [
    "toponly = [int(j[1]) for j in up]"
   ]
  },
  {
   "cell_type": "code",
   "execution_count": 10,
   "metadata": {},
   "outputs": [],
   "source": [
    "def Gettopfloor(floorrange):\n",
    "    topfloor = floorrange.split(\"TO\")\n",
    "    topfloor = int(topfloor[1])\n",
    "    return topfloor "
   ]
  },
  {
   "cell_type": "code",
   "execution_count": 11,
   "metadata": {},
   "outputs": [],
   "source": [
    "df1['storey_range'] = df1['storey_range'].apply(Gettopfloor)\n",
    "df2['storey_range'] = df2['storey_range'].apply(Gettopfloor)\n",
    "df3['storey_range'] = df3['storey_range'].apply(Gettopfloor)"
   ]
  },
  {
   "cell_type": "markdown",
   "metadata": {},
   "source": [
    "#### Month and Remaining Lease year attribute"
   ]
  },
  {
   "cell_type": "code",
   "execution_count": 12,
   "metadata": {},
   "outputs": [],
   "source": [
    "#Adding year if the month is in August(08) and above\n",
    "\n",
    "def Addingmonth(month):\n",
    "    splitMonth = month.split(\"-\")\n",
    "    finalmonth = int(splitMonth[1])\n",
    "    finalyear = int(splitMonth[0])\n",
    "    if(finalmonth>8):\n",
    "        finalyear = finalyear+1\n",
    "    return finalyear "
   ]
  },
  {
   "cell_type": "code",
   "execution_count": 13,
   "metadata": {},
   "outputs": [],
   "source": [
    "df1['month'] = df1['month'].apply(Addingmonth)\n",
    "df2['month'] = df2['month'].apply(Addingmonth)\n",
    "df3['month'] = df3['month'].apply(Addingmonth)"
   ]
  },
  {
   "cell_type": "code",
   "execution_count": 14,
   "metadata": {},
   "outputs": [],
   "source": [
    "#Adding year if the month is in August(08) and above of \"remaining lease\" column\n",
    "\n",
    "def CalculateRemaingLease(date):\n",
    "   splitDate = date.split(\" \")\n",
    "   size = len(splitDate)\n",
    "   finalYear = int(splitDate[0])\n",
    "   if(size>2):\n",
    "       month = int(splitDate[2])\n",
    "       if(month>8):\n",
    "           finalYear = finalYear+1\n",
    "   return finalYear"
   ]
  },
  {
   "cell_type": "code",
   "execution_count": 15,
   "metadata": {},
   "outputs": [],
   "source": [
    "df3['remaining_lease_year'] = df3['remaining_lease'].apply(CalculateRemaingLease)"
   ]
  },
  {
   "cell_type": "code",
   "execution_count": 16,
   "metadata": {},
   "outputs": [],
   "source": [
    "# Deleting 'remaining lease' column which not require\n",
    "del df3['remaining_lease']\n",
    "df3['remaining_lease'] = df3['remaining_lease_year']\n",
    "del df3['remaining_lease_year']"
   ]
  },
  {
   "cell_type": "code",
   "execution_count": 17,
   "metadata": {},
   "outputs": [
    {
     "data": {
      "text/html": [
       "<div>\n",
       "<style scoped>\n",
       "    .dataframe tbody tr th:only-of-type {\n",
       "        vertical-align: middle;\n",
       "    }\n",
       "\n",
       "    .dataframe tbody tr th {\n",
       "        vertical-align: top;\n",
       "    }\n",
       "\n",
       "    .dataframe thead th {\n",
       "        text-align: right;\n",
       "    }\n",
       "</style>\n",
       "<table border=\"1\" class=\"dataframe\">\n",
       "  <thead>\n",
       "    <tr style=\"text-align: right;\">\n",
       "      <th></th>\n",
       "      <th>month</th>\n",
       "      <th>town</th>\n",
       "      <th>flat_type</th>\n",
       "      <th>block</th>\n",
       "      <th>street_name</th>\n",
       "      <th>storey_range</th>\n",
       "      <th>floor_area_sqm</th>\n",
       "      <th>flat_model</th>\n",
       "      <th>lease_commence_date</th>\n",
       "      <th>resale_price</th>\n",
       "      <th>uniqueID</th>\n",
       "    </tr>\n",
       "  </thead>\n",
       "  <tbody>\n",
       "    <tr>\n",
       "      <th>0</th>\n",
       "      <td>2012</td>\n",
       "      <td>ANG MO KIO</td>\n",
       "      <td>2 ROOM</td>\n",
       "      <td>172</td>\n",
       "      <td>ANG MO KIO AVE 4</td>\n",
       "      <td>10</td>\n",
       "      <td>45.0</td>\n",
       "      <td>Improved</td>\n",
       "      <td>1986</td>\n",
       "      <td>250000.0</td>\n",
       "      <td>100000</td>\n",
       "    </tr>\n",
       "    <tr>\n",
       "      <th>1</th>\n",
       "      <td>2012</td>\n",
       "      <td>ANG MO KIO</td>\n",
       "      <td>2 ROOM</td>\n",
       "      <td>510</td>\n",
       "      <td>ANG MO KIO AVE 8</td>\n",
       "      <td>5</td>\n",
       "      <td>44.0</td>\n",
       "      <td>Improved</td>\n",
       "      <td>1980</td>\n",
       "      <td>265000.0</td>\n",
       "      <td>100001</td>\n",
       "    </tr>\n",
       "    <tr>\n",
       "      <th>2</th>\n",
       "      <td>2012</td>\n",
       "      <td>ANG MO KIO</td>\n",
       "      <td>3 ROOM</td>\n",
       "      <td>610</td>\n",
       "      <td>ANG MO KIO AVE 4</td>\n",
       "      <td>10</td>\n",
       "      <td>68.0</td>\n",
       "      <td>New Generation</td>\n",
       "      <td>1980</td>\n",
       "      <td>315000.0</td>\n",
       "      <td>100002</td>\n",
       "    </tr>\n",
       "    <tr>\n",
       "      <th>3</th>\n",
       "      <td>2012</td>\n",
       "      <td>ANG MO KIO</td>\n",
       "      <td>3 ROOM</td>\n",
       "      <td>474</td>\n",
       "      <td>ANG MO KIO AVE 10</td>\n",
       "      <td>5</td>\n",
       "      <td>67.0</td>\n",
       "      <td>New Generation</td>\n",
       "      <td>1984</td>\n",
       "      <td>320000.0</td>\n",
       "      <td>100003</td>\n",
       "    </tr>\n",
       "    <tr>\n",
       "      <th>4</th>\n",
       "      <td>2012</td>\n",
       "      <td>ANG MO KIO</td>\n",
       "      <td>3 ROOM</td>\n",
       "      <td>604</td>\n",
       "      <td>ANG MO KIO AVE 5</td>\n",
       "      <td>10</td>\n",
       "      <td>67.0</td>\n",
       "      <td>New Generation</td>\n",
       "      <td>1980</td>\n",
       "      <td>321000.0</td>\n",
       "      <td>100004</td>\n",
       "    </tr>\n",
       "  </tbody>\n",
       "</table>\n",
       "</div>"
      ],
      "text/plain": [
       "   month        town flat_type block        street_name  storey_range  \\\n",
       "0   2012  ANG MO KIO    2 ROOM   172   ANG MO KIO AVE 4            10   \n",
       "1   2012  ANG MO KIO    2 ROOM   510   ANG MO KIO AVE 8             5   \n",
       "2   2012  ANG MO KIO    3 ROOM   610   ANG MO KIO AVE 4            10   \n",
       "3   2012  ANG MO KIO    3 ROOM   474  ANG MO KIO AVE 10             5   \n",
       "4   2012  ANG MO KIO    3 ROOM   604   ANG MO KIO AVE 5            10   \n",
       "\n",
       "   floor_area_sqm      flat_model  lease_commence_date  resale_price  uniqueID  \n",
       "0            45.0        Improved                 1986      250000.0    100000  \n",
       "1            44.0        Improved                 1980      265000.0    100001  \n",
       "2            68.0  New Generation                 1980      315000.0    100002  \n",
       "3            67.0  New Generation                 1984      320000.0    100003  \n",
       "4            67.0  New Generation                 1980      321000.0    100004  "
      ]
     },
     "execution_count": 17,
     "metadata": {},
     "output_type": "execute_result"
    }
   ],
   "source": [
    "df1.head()"
   ]
  },
  {
   "cell_type": "code",
   "execution_count": 18,
   "metadata": {},
   "outputs": [
    {
     "data": {
      "text/html": [
       "<div>\n",
       "<style scoped>\n",
       "    .dataframe tbody tr th:only-of-type {\n",
       "        vertical-align: middle;\n",
       "    }\n",
       "\n",
       "    .dataframe tbody tr th {\n",
       "        vertical-align: top;\n",
       "    }\n",
       "\n",
       "    .dataframe thead th {\n",
       "        text-align: right;\n",
       "    }\n",
       "</style>\n",
       "<table border=\"1\" class=\"dataframe\">\n",
       "  <thead>\n",
       "    <tr style=\"text-align: right;\">\n",
       "      <th></th>\n",
       "      <th>month</th>\n",
       "      <th>town</th>\n",
       "      <th>flat_type</th>\n",
       "      <th>block</th>\n",
       "      <th>street_name</th>\n",
       "      <th>storey_range</th>\n",
       "      <th>floor_area_sqm</th>\n",
       "      <th>flat_model</th>\n",
       "      <th>lease_commence_date</th>\n",
       "      <th>remaining_lease</th>\n",
       "      <th>resale_price</th>\n",
       "      <th>uniqueID</th>\n",
       "    </tr>\n",
       "  </thead>\n",
       "  <tbody>\n",
       "    <tr>\n",
       "      <th>0</th>\n",
       "      <td>2015</td>\n",
       "      <td>ANG MO KIO</td>\n",
       "      <td>3 ROOM</td>\n",
       "      <td>174</td>\n",
       "      <td>ANG MO KIO AVE 4</td>\n",
       "      <td>9</td>\n",
       "      <td>60.0</td>\n",
       "      <td>Improved</td>\n",
       "      <td>1986</td>\n",
       "      <td>70</td>\n",
       "      <td>255000.0</td>\n",
       "      <td>152203</td>\n",
       "    </tr>\n",
       "    <tr>\n",
       "      <th>1</th>\n",
       "      <td>2015</td>\n",
       "      <td>ANG MO KIO</td>\n",
       "      <td>3 ROOM</td>\n",
       "      <td>541</td>\n",
       "      <td>ANG MO KIO AVE 10</td>\n",
       "      <td>3</td>\n",
       "      <td>68.0</td>\n",
       "      <td>New Generation</td>\n",
       "      <td>1981</td>\n",
       "      <td>65</td>\n",
       "      <td>275000.0</td>\n",
       "      <td>152204</td>\n",
       "    </tr>\n",
       "    <tr>\n",
       "      <th>2</th>\n",
       "      <td>2015</td>\n",
       "      <td>ANG MO KIO</td>\n",
       "      <td>3 ROOM</td>\n",
       "      <td>163</td>\n",
       "      <td>ANG MO KIO AVE 4</td>\n",
       "      <td>3</td>\n",
       "      <td>69.0</td>\n",
       "      <td>New Generation</td>\n",
       "      <td>1980</td>\n",
       "      <td>64</td>\n",
       "      <td>285000.0</td>\n",
       "      <td>152205</td>\n",
       "    </tr>\n",
       "    <tr>\n",
       "      <th>3</th>\n",
       "      <td>2015</td>\n",
       "      <td>ANG MO KIO</td>\n",
       "      <td>3 ROOM</td>\n",
       "      <td>446</td>\n",
       "      <td>ANG MO KIO AVE 10</td>\n",
       "      <td>3</td>\n",
       "      <td>68.0</td>\n",
       "      <td>New Generation</td>\n",
       "      <td>1979</td>\n",
       "      <td>63</td>\n",
       "      <td>290000.0</td>\n",
       "      <td>152206</td>\n",
       "    </tr>\n",
       "    <tr>\n",
       "      <th>4</th>\n",
       "      <td>2015</td>\n",
       "      <td>ANG MO KIO</td>\n",
       "      <td>3 ROOM</td>\n",
       "      <td>557</td>\n",
       "      <td>ANG MO KIO AVE 10</td>\n",
       "      <td>9</td>\n",
       "      <td>68.0</td>\n",
       "      <td>New Generation</td>\n",
       "      <td>1980</td>\n",
       "      <td>64</td>\n",
       "      <td>290000.0</td>\n",
       "      <td>152207</td>\n",
       "    </tr>\n",
       "  </tbody>\n",
       "</table>\n",
       "</div>"
      ],
      "text/plain": [
       "   month        town flat_type block        street_name  storey_range  \\\n",
       "0   2015  ANG MO KIO    3 ROOM   174   ANG MO KIO AVE 4             9   \n",
       "1   2015  ANG MO KIO    3 ROOM   541  ANG MO KIO AVE 10             3   \n",
       "2   2015  ANG MO KIO    3 ROOM   163   ANG MO KIO AVE 4             3   \n",
       "3   2015  ANG MO KIO    3 ROOM   446  ANG MO KIO AVE 10             3   \n",
       "4   2015  ANG MO KIO    3 ROOM   557  ANG MO KIO AVE 10             9   \n",
       "\n",
       "   floor_area_sqm      flat_model  lease_commence_date  remaining_lease  \\\n",
       "0            60.0        Improved                 1986               70   \n",
       "1            68.0  New Generation                 1981               65   \n",
       "2            69.0  New Generation                 1980               64   \n",
       "3            68.0  New Generation                 1979               63   \n",
       "4            68.0  New Generation                 1980               64   \n",
       "\n",
       "   resale_price  uniqueID  \n",
       "0      255000.0    152203  \n",
       "1      275000.0    152204  \n",
       "2      285000.0    152205  \n",
       "3      290000.0    152206  \n",
       "4      290000.0    152207  "
      ]
     },
     "execution_count": 18,
     "metadata": {},
     "output_type": "execute_result"
    }
   ],
   "source": [
    "df2.head()"
   ]
  },
  {
   "cell_type": "code",
   "execution_count": 19,
   "metadata": {},
   "outputs": [
    {
     "data": {
      "text/html": [
       "<div>\n",
       "<style scoped>\n",
       "    .dataframe tbody tr th:only-of-type {\n",
       "        vertical-align: middle;\n",
       "    }\n",
       "\n",
       "    .dataframe tbody tr th {\n",
       "        vertical-align: top;\n",
       "    }\n",
       "\n",
       "    .dataframe thead th {\n",
       "        text-align: right;\n",
       "    }\n",
       "</style>\n",
       "<table border=\"1\" class=\"dataframe\">\n",
       "  <thead>\n",
       "    <tr style=\"text-align: right;\">\n",
       "      <th></th>\n",
       "      <th>month</th>\n",
       "      <th>town</th>\n",
       "      <th>flat_type</th>\n",
       "      <th>block</th>\n",
       "      <th>street_name</th>\n",
       "      <th>storey_range</th>\n",
       "      <th>floor_area_sqm</th>\n",
       "      <th>flat_model</th>\n",
       "      <th>lease_commence_date</th>\n",
       "      <th>resale_price</th>\n",
       "      <th>uniqueID</th>\n",
       "      <th>remaining_lease</th>\n",
       "    </tr>\n",
       "  </thead>\n",
       "  <tbody>\n",
       "    <tr>\n",
       "      <th>0</th>\n",
       "      <td>2017</td>\n",
       "      <td>ANG MO KIO</td>\n",
       "      <td>2 ROOM</td>\n",
       "      <td>406</td>\n",
       "      <td>ANG MO KIO AVE 10</td>\n",
       "      <td>12</td>\n",
       "      <td>44.0</td>\n",
       "      <td>Improved</td>\n",
       "      <td>1979</td>\n",
       "      <td>232000.0</td>\n",
       "      <td>189356</td>\n",
       "      <td>61</td>\n",
       "    </tr>\n",
       "    <tr>\n",
       "      <th>1</th>\n",
       "      <td>2017</td>\n",
       "      <td>ANG MO KIO</td>\n",
       "      <td>3 ROOM</td>\n",
       "      <td>108</td>\n",
       "      <td>ANG MO KIO AVE 4</td>\n",
       "      <td>3</td>\n",
       "      <td>67.0</td>\n",
       "      <td>New Generation</td>\n",
       "      <td>1978</td>\n",
       "      <td>250000.0</td>\n",
       "      <td>189357</td>\n",
       "      <td>60</td>\n",
       "    </tr>\n",
       "    <tr>\n",
       "      <th>2</th>\n",
       "      <td>2017</td>\n",
       "      <td>ANG MO KIO</td>\n",
       "      <td>3 ROOM</td>\n",
       "      <td>602</td>\n",
       "      <td>ANG MO KIO AVE 5</td>\n",
       "      <td>3</td>\n",
       "      <td>67.0</td>\n",
       "      <td>New Generation</td>\n",
       "      <td>1980</td>\n",
       "      <td>262000.0</td>\n",
       "      <td>189358</td>\n",
       "      <td>62</td>\n",
       "    </tr>\n",
       "    <tr>\n",
       "      <th>3</th>\n",
       "      <td>2017</td>\n",
       "      <td>ANG MO KIO</td>\n",
       "      <td>3 ROOM</td>\n",
       "      <td>465</td>\n",
       "      <td>ANG MO KIO AVE 10</td>\n",
       "      <td>6</td>\n",
       "      <td>68.0</td>\n",
       "      <td>New Generation</td>\n",
       "      <td>1980</td>\n",
       "      <td>265000.0</td>\n",
       "      <td>189359</td>\n",
       "      <td>62</td>\n",
       "    </tr>\n",
       "    <tr>\n",
       "      <th>4</th>\n",
       "      <td>2017</td>\n",
       "      <td>ANG MO KIO</td>\n",
       "      <td>3 ROOM</td>\n",
       "      <td>601</td>\n",
       "      <td>ANG MO KIO AVE 5</td>\n",
       "      <td>3</td>\n",
       "      <td>67.0</td>\n",
       "      <td>New Generation</td>\n",
       "      <td>1980</td>\n",
       "      <td>265000.0</td>\n",
       "      <td>189360</td>\n",
       "      <td>62</td>\n",
       "    </tr>\n",
       "  </tbody>\n",
       "</table>\n",
       "</div>"
      ],
      "text/plain": [
       "   month        town flat_type block        street_name  storey_range  \\\n",
       "0   2017  ANG MO KIO    2 ROOM   406  ANG MO KIO AVE 10            12   \n",
       "1   2017  ANG MO KIO    3 ROOM   108   ANG MO KIO AVE 4             3   \n",
       "2   2017  ANG MO KIO    3 ROOM   602   ANG MO KIO AVE 5             3   \n",
       "3   2017  ANG MO KIO    3 ROOM   465  ANG MO KIO AVE 10             6   \n",
       "4   2017  ANG MO KIO    3 ROOM   601   ANG MO KIO AVE 5             3   \n",
       "\n",
       "   floor_area_sqm      flat_model  lease_commence_date  resale_price  \\\n",
       "0            44.0        Improved                 1979      232000.0   \n",
       "1            67.0  New Generation                 1978      250000.0   \n",
       "2            67.0  New Generation                 1980      262000.0   \n",
       "3            68.0  New Generation                 1980      265000.0   \n",
       "4            67.0  New Generation                 1980      265000.0   \n",
       "\n",
       "   uniqueID  remaining_lease  \n",
       "0    189356               61  \n",
       "1    189357               60  \n",
       "2    189358               62  \n",
       "3    189359               62  \n",
       "4    189360               62  "
      ]
     },
     "execution_count": 19,
     "metadata": {},
     "output_type": "execute_result"
    }
   ],
   "source": [
    "df3.head()"
   ]
  },
  {
   "cell_type": "markdown",
   "metadata": {},
   "source": [
    "#### Adding Remaining_lease attribute in df1"
   ]
  },
  {
   "cell_type": "code",
   "execution_count": 20,
   "metadata": {},
   "outputs": [
    {
     "data": {
      "text/plain": [
       "month                    int64\n",
       "town                    object\n",
       "flat_type               object\n",
       "block                   object\n",
       "street_name             object\n",
       "storey_range             int64\n",
       "floor_area_sqm         float64\n",
       "flat_model              object\n",
       "lease_commence_date      int64\n",
       "resale_price           float64\n",
       "uniqueID                 int64\n",
       "dtype: object"
      ]
     },
     "execution_count": 20,
     "metadata": {},
     "output_type": "execute_result"
    }
   ],
   "source": [
    "df1.dtypes"
   ]
  },
  {
   "cell_type": "code",
   "execution_count": 21,
   "metadata": {},
   "outputs": [],
   "source": [
    "df1['remaining_lease'] = (99 -(df1['month'] - df1['lease_commence_date']))"
   ]
  },
  {
   "cell_type": "code",
   "execution_count": 22,
   "metadata": {},
   "outputs": [
    {
     "data": {
      "text/html": [
       "<div>\n",
       "<style scoped>\n",
       "    .dataframe tbody tr th:only-of-type {\n",
       "        vertical-align: middle;\n",
       "    }\n",
       "\n",
       "    .dataframe tbody tr th {\n",
       "        vertical-align: top;\n",
       "    }\n",
       "\n",
       "    .dataframe thead th {\n",
       "        text-align: right;\n",
       "    }\n",
       "</style>\n",
       "<table border=\"1\" class=\"dataframe\">\n",
       "  <thead>\n",
       "    <tr style=\"text-align: right;\">\n",
       "      <th></th>\n",
       "      <th>month</th>\n",
       "      <th>town</th>\n",
       "      <th>flat_type</th>\n",
       "      <th>block</th>\n",
       "      <th>street_name</th>\n",
       "      <th>storey_range</th>\n",
       "      <th>floor_area_sqm</th>\n",
       "      <th>flat_model</th>\n",
       "      <th>lease_commence_date</th>\n",
       "      <th>resale_price</th>\n",
       "      <th>uniqueID</th>\n",
       "      <th>remaining_lease</th>\n",
       "    </tr>\n",
       "  </thead>\n",
       "  <tbody>\n",
       "    <tr>\n",
       "      <th>0</th>\n",
       "      <td>2012</td>\n",
       "      <td>ANG MO KIO</td>\n",
       "      <td>2 ROOM</td>\n",
       "      <td>172</td>\n",
       "      <td>ANG MO KIO AVE 4</td>\n",
       "      <td>10</td>\n",
       "      <td>45.0</td>\n",
       "      <td>Improved</td>\n",
       "      <td>1986</td>\n",
       "      <td>250000.0</td>\n",
       "      <td>100000</td>\n",
       "      <td>73</td>\n",
       "    </tr>\n",
       "    <tr>\n",
       "      <th>1</th>\n",
       "      <td>2012</td>\n",
       "      <td>ANG MO KIO</td>\n",
       "      <td>2 ROOM</td>\n",
       "      <td>510</td>\n",
       "      <td>ANG MO KIO AVE 8</td>\n",
       "      <td>5</td>\n",
       "      <td>44.0</td>\n",
       "      <td>Improved</td>\n",
       "      <td>1980</td>\n",
       "      <td>265000.0</td>\n",
       "      <td>100001</td>\n",
       "      <td>67</td>\n",
       "    </tr>\n",
       "    <tr>\n",
       "      <th>2</th>\n",
       "      <td>2012</td>\n",
       "      <td>ANG MO KIO</td>\n",
       "      <td>3 ROOM</td>\n",
       "      <td>610</td>\n",
       "      <td>ANG MO KIO AVE 4</td>\n",
       "      <td>10</td>\n",
       "      <td>68.0</td>\n",
       "      <td>New Generation</td>\n",
       "      <td>1980</td>\n",
       "      <td>315000.0</td>\n",
       "      <td>100002</td>\n",
       "      <td>67</td>\n",
       "    </tr>\n",
       "    <tr>\n",
       "      <th>3</th>\n",
       "      <td>2012</td>\n",
       "      <td>ANG MO KIO</td>\n",
       "      <td>3 ROOM</td>\n",
       "      <td>474</td>\n",
       "      <td>ANG MO KIO AVE 10</td>\n",
       "      <td>5</td>\n",
       "      <td>67.0</td>\n",
       "      <td>New Generation</td>\n",
       "      <td>1984</td>\n",
       "      <td>320000.0</td>\n",
       "      <td>100003</td>\n",
       "      <td>71</td>\n",
       "    </tr>\n",
       "    <tr>\n",
       "      <th>4</th>\n",
       "      <td>2012</td>\n",
       "      <td>ANG MO KIO</td>\n",
       "      <td>3 ROOM</td>\n",
       "      <td>604</td>\n",
       "      <td>ANG MO KIO AVE 5</td>\n",
       "      <td>10</td>\n",
       "      <td>67.0</td>\n",
       "      <td>New Generation</td>\n",
       "      <td>1980</td>\n",
       "      <td>321000.0</td>\n",
       "      <td>100004</td>\n",
       "      <td>67</td>\n",
       "    </tr>\n",
       "  </tbody>\n",
       "</table>\n",
       "</div>"
      ],
      "text/plain": [
       "   month        town flat_type block        street_name  storey_range  \\\n",
       "0   2012  ANG MO KIO    2 ROOM   172   ANG MO KIO AVE 4            10   \n",
       "1   2012  ANG MO KIO    2 ROOM   510   ANG MO KIO AVE 8             5   \n",
       "2   2012  ANG MO KIO    3 ROOM   610   ANG MO KIO AVE 4            10   \n",
       "3   2012  ANG MO KIO    3 ROOM   474  ANG MO KIO AVE 10             5   \n",
       "4   2012  ANG MO KIO    3 ROOM   604   ANG MO KIO AVE 5            10   \n",
       "\n",
       "   floor_area_sqm      flat_model  lease_commence_date  resale_price  \\\n",
       "0            45.0        Improved                 1986      250000.0   \n",
       "1            44.0        Improved                 1980      265000.0   \n",
       "2            68.0  New Generation                 1980      315000.0   \n",
       "3            67.0  New Generation                 1984      320000.0   \n",
       "4            67.0  New Generation                 1980      321000.0   \n",
       "\n",
       "   uniqueID  remaining_lease  \n",
       "0    100000               73  \n",
       "1    100001               67  \n",
       "2    100002               67  \n",
       "3    100003               71  \n",
       "4    100004               67  "
      ]
     },
     "execution_count": 22,
     "metadata": {},
     "output_type": "execute_result"
    }
   ],
   "source": [
    "df1.head()"
   ]
  },
  {
   "cell_type": "code",
   "execution_count": 23,
   "metadata": {},
   "outputs": [
    {
     "data": {
      "text/plain": [
       "(month                  0\n",
       " town                   0\n",
       " flat_type              0\n",
       " block                  0\n",
       " street_name            0\n",
       " storey_range           0\n",
       " floor_area_sqm         0\n",
       " flat_model             0\n",
       " lease_commence_date    0\n",
       " resale_price           0\n",
       " uniqueID               0\n",
       " remaining_lease        0\n",
       " dtype: int64,\n",
       " month                  0\n",
       " town                   0\n",
       " flat_type              0\n",
       " block                  0\n",
       " street_name            0\n",
       " storey_range           0\n",
       " floor_area_sqm         0\n",
       " flat_model             0\n",
       " lease_commence_date    0\n",
       " remaining_lease        0\n",
       " resale_price           0\n",
       " uniqueID               0\n",
       " dtype: int64,\n",
       " month                  0\n",
       " town                   0\n",
       " flat_type              0\n",
       " block                  0\n",
       " street_name            0\n",
       " storey_range           0\n",
       " floor_area_sqm         0\n",
       " flat_model             0\n",
       " lease_commence_date    0\n",
       " resale_price           0\n",
       " uniqueID               0\n",
       " remaining_lease        0\n",
       " dtype: int64)"
      ]
     },
     "execution_count": 23,
     "metadata": {},
     "output_type": "execute_result"
    }
   ],
   "source": [
    "df1.isnull().sum(),df2.isnull().sum(), df3.isnull().sum()"
   ]
  },
  {
   "cell_type": "code",
   "execution_count": 24,
   "metadata": {},
   "outputs": [
    {
     "data": {
      "text/plain": [
       "((52203, 12), (37153, 12), (32578, 12))"
      ]
     },
     "execution_count": 24,
     "metadata": {},
     "output_type": "execute_result"
    }
   ],
   "source": [
    "df1.shape, df2.shape, df3.shape"
   ]
  },
  {
   "cell_type": "markdown",
   "metadata": {},
   "source": [
    "### Concating the 3 dataframe"
   ]
  },
  {
   "cell_type": "code",
   "execution_count": 25,
   "metadata": {},
   "outputs": [],
   "source": [
    "frames = [df1,df2,df3]\n",
    "all3 = pd.concat(frames)"
   ]
  },
  {
   "cell_type": "code",
   "execution_count": 26,
   "metadata": {},
   "outputs": [
    {
     "data": {
      "text/plain": [
       "(121934, 12)"
      ]
     },
     "execution_count": 26,
     "metadata": {},
     "output_type": "execute_result"
    }
   ],
   "source": [
    "all3.shape"
   ]
  },
  {
   "cell_type": "code",
   "execution_count": 27,
   "metadata": {},
   "outputs": [
    {
     "data": {
      "text/plain": [
       "month                  0\n",
       "town                   0\n",
       "flat_type              0\n",
       "block                  0\n",
       "street_name            0\n",
       "storey_range           0\n",
       "floor_area_sqm         0\n",
       "flat_model             0\n",
       "lease_commence_date    0\n",
       "resale_price           0\n",
       "uniqueID               0\n",
       "remaining_lease        0\n",
       "dtype: int64"
      ]
     },
     "execution_count": 27,
     "metadata": {},
     "output_type": "execute_result"
    }
   ],
   "source": [
    "all3.isnull().sum()"
   ]
  },
  {
   "cell_type": "code",
   "execution_count": 28,
   "metadata": {},
   "outputs": [
    {
     "data": {
      "text/html": [
       "<div>\n",
       "<style scoped>\n",
       "    .dataframe tbody tr th:only-of-type {\n",
       "        vertical-align: middle;\n",
       "    }\n",
       "\n",
       "    .dataframe tbody tr th {\n",
       "        vertical-align: top;\n",
       "    }\n",
       "\n",
       "    .dataframe thead th {\n",
       "        text-align: right;\n",
       "    }\n",
       "</style>\n",
       "<table border=\"1\" class=\"dataframe\">\n",
       "  <thead>\n",
       "    <tr style=\"text-align: right;\">\n",
       "      <th></th>\n",
       "      <th>month</th>\n",
       "      <th>town</th>\n",
       "      <th>flat_type</th>\n",
       "      <th>block</th>\n",
       "      <th>street_name</th>\n",
       "      <th>storey_range</th>\n",
       "      <th>floor_area_sqm</th>\n",
       "      <th>flat_model</th>\n",
       "      <th>lease_commence_date</th>\n",
       "      <th>resale_price</th>\n",
       "      <th>uniqueID</th>\n",
       "      <th>remaining_lease</th>\n",
       "    </tr>\n",
       "  </thead>\n",
       "  <tbody>\n",
       "    <tr>\n",
       "      <th>0</th>\n",
       "      <td>2012</td>\n",
       "      <td>ANG MO KIO</td>\n",
       "      <td>2 ROOM</td>\n",
       "      <td>172</td>\n",
       "      <td>ANG MO KIO AVE 4</td>\n",
       "      <td>10</td>\n",
       "      <td>45.0</td>\n",
       "      <td>Improved</td>\n",
       "      <td>1986</td>\n",
       "      <td>250000.0</td>\n",
       "      <td>100000</td>\n",
       "      <td>73</td>\n",
       "    </tr>\n",
       "    <tr>\n",
       "      <th>1</th>\n",
       "      <td>2012</td>\n",
       "      <td>ANG MO KIO</td>\n",
       "      <td>2 ROOM</td>\n",
       "      <td>510</td>\n",
       "      <td>ANG MO KIO AVE 8</td>\n",
       "      <td>5</td>\n",
       "      <td>44.0</td>\n",
       "      <td>Improved</td>\n",
       "      <td>1980</td>\n",
       "      <td>265000.0</td>\n",
       "      <td>100001</td>\n",
       "      <td>67</td>\n",
       "    </tr>\n",
       "    <tr>\n",
       "      <th>2</th>\n",
       "      <td>2012</td>\n",
       "      <td>ANG MO KIO</td>\n",
       "      <td>3 ROOM</td>\n",
       "      <td>610</td>\n",
       "      <td>ANG MO KIO AVE 4</td>\n",
       "      <td>10</td>\n",
       "      <td>68.0</td>\n",
       "      <td>New Generation</td>\n",
       "      <td>1980</td>\n",
       "      <td>315000.0</td>\n",
       "      <td>100002</td>\n",
       "      <td>67</td>\n",
       "    </tr>\n",
       "    <tr>\n",
       "      <th>3</th>\n",
       "      <td>2012</td>\n",
       "      <td>ANG MO KIO</td>\n",
       "      <td>3 ROOM</td>\n",
       "      <td>474</td>\n",
       "      <td>ANG MO KIO AVE 10</td>\n",
       "      <td>5</td>\n",
       "      <td>67.0</td>\n",
       "      <td>New Generation</td>\n",
       "      <td>1984</td>\n",
       "      <td>320000.0</td>\n",
       "      <td>100003</td>\n",
       "      <td>71</td>\n",
       "    </tr>\n",
       "    <tr>\n",
       "      <th>4</th>\n",
       "      <td>2012</td>\n",
       "      <td>ANG MO KIO</td>\n",
       "      <td>3 ROOM</td>\n",
       "      <td>604</td>\n",
       "      <td>ANG MO KIO AVE 5</td>\n",
       "      <td>10</td>\n",
       "      <td>67.0</td>\n",
       "      <td>New Generation</td>\n",
       "      <td>1980</td>\n",
       "      <td>321000.0</td>\n",
       "      <td>100004</td>\n",
       "      <td>67</td>\n",
       "    </tr>\n",
       "  </tbody>\n",
       "</table>\n",
       "</div>"
      ],
      "text/plain": [
       "   month        town flat_type block        street_name  storey_range  \\\n",
       "0   2012  ANG MO KIO    2 ROOM   172   ANG MO KIO AVE 4            10   \n",
       "1   2012  ANG MO KIO    2 ROOM   510   ANG MO KIO AVE 8             5   \n",
       "2   2012  ANG MO KIO    3 ROOM   610   ANG MO KIO AVE 4            10   \n",
       "3   2012  ANG MO KIO    3 ROOM   474  ANG MO KIO AVE 10             5   \n",
       "4   2012  ANG MO KIO    3 ROOM   604   ANG MO KIO AVE 5            10   \n",
       "\n",
       "   floor_area_sqm      flat_model  lease_commence_date  resale_price  \\\n",
       "0            45.0        Improved                 1986      250000.0   \n",
       "1            44.0        Improved                 1980      265000.0   \n",
       "2            68.0  New Generation                 1980      315000.0   \n",
       "3            67.0  New Generation                 1984      320000.0   \n",
       "4            67.0  New Generation                 1980      321000.0   \n",
       "\n",
       "   uniqueID  remaining_lease  \n",
       "0    100000               73  \n",
       "1    100001               67  \n",
       "2    100002               67  \n",
       "3    100003               71  \n",
       "4    100004               67  "
      ]
     },
     "execution_count": 28,
     "metadata": {},
     "output_type": "execute_result"
    }
   ],
   "source": [
    "all3.head()"
   ]
  },
  {
   "cell_type": "code",
   "execution_count": 29,
   "metadata": {},
   "outputs": [],
   "source": [
    "Building_new = all3['street_name']+\" \"+'BLK'+\" \"+all3['block']"
   ]
  },
  {
   "cell_type": "code",
   "execution_count": 30,
   "metadata": {},
   "outputs": [],
   "source": [
    "distance = pd.read_csv('building_to_mrt_distance.csv')"
   ]
  },
  {
   "cell_type": "code",
   "execution_count": 31,
   "metadata": {},
   "outputs": [
    {
     "data": {
      "text/html": [
       "<div>\n",
       "<style scoped>\n",
       "    .dataframe tbody tr th:only-of-type {\n",
       "        vertical-align: middle;\n",
       "    }\n",
       "\n",
       "    .dataframe tbody tr th {\n",
       "        vertical-align: top;\n",
       "    }\n",
       "\n",
       "    .dataframe thead th {\n",
       "        text-align: right;\n",
       "    }\n",
       "</style>\n",
       "<table border=\"1\" class=\"dataframe\">\n",
       "  <thead>\n",
       "    <tr style=\"text-align: right;\">\n",
       "      <th></th>\n",
       "      <th>Building</th>\n",
       "      <th>Jurong East MRT station</th>\n",
       "      <th>Bukit Batok MRT station</th>\n",
       "      <th>Bukit Gombak MRT station</th>\n",
       "      <th>Choa Chu Kang MRT station</th>\n",
       "      <th>Yew Tee MRT station</th>\n",
       "      <th>Kranji MRT station</th>\n",
       "      <th>Marsiling MRT station</th>\n",
       "      <th>Woodlands MRT station</th>\n",
       "      <th>Admiralty MRT station</th>\n",
       "      <th>...</th>\n",
       "      <th>Bendemeer MRT station</th>\n",
       "      <th>Geylang Bahru MRT Station</th>\n",
       "      <th>Mattar MRT station</th>\n",
       "      <th>Ubi MRT station</th>\n",
       "      <th>Kaki Bukit MRT Station</th>\n",
       "      <th>Bedok North MRT station</th>\n",
       "      <th>Bedok Reservoir MRT station</th>\n",
       "      <th>Tampines West MRT station</th>\n",
       "      <th>Tampines East MRT station</th>\n",
       "      <th>Upper Changi MRT station</th>\n",
       "    </tr>\n",
       "  </thead>\n",
       "  <tbody>\n",
       "    <tr>\n",
       "      <th>0</th>\n",
       "      <td>ANCHORVALE ST BLK 331C</td>\n",
       "      <td>17818.84265</td>\n",
       "      <td>16471.03384</td>\n",
       "      <td>15856.79247</td>\n",
       "      <td>16199.22480</td>\n",
       "      <td>15808.72792</td>\n",
       "      <td>14570.109930</td>\n",
       "      <td>13485.500120</td>\n",
       "      <td>12369.979820</td>\n",
       "      <td>11061.899320</td>\n",
       "      <td>...</td>\n",
       "      <td>9584.39327</td>\n",
       "      <td>8494.000192</td>\n",
       "      <td>7640.691202</td>\n",
       "      <td>7398.618897</td>\n",
       "      <td>7079.585070</td>\n",
       "      <td>7440.940807</td>\n",
       "      <td>8107.447171</td>\n",
       "      <td>7743.354078</td>\n",
       "      <td>8438.549604</td>\n",
       "      <td>9950.182657</td>\n",
       "    </tr>\n",
       "    <tr>\n",
       "      <th>1</th>\n",
       "      <td>PUNGGOL WAY BLK 266B</td>\n",
       "      <td>19092.61457</td>\n",
       "      <td>17694.05674</td>\n",
       "      <td>17032.15623</td>\n",
       "      <td>17205.95322</td>\n",
       "      <td>16731.88625</td>\n",
       "      <td>15248.533120</td>\n",
       "      <td>14065.860790</td>\n",
       "      <td>12863.730930</td>\n",
       "      <td>11445.713010</td>\n",
       "      <td>...</td>\n",
       "      <td>10932.92815</td>\n",
       "      <td>9808.425468</td>\n",
       "      <td>8872.302279</td>\n",
       "      <td>8425.747280</td>\n",
       "      <td>7957.972942</td>\n",
       "      <td>8163.873942</td>\n",
       "      <td>8589.377565</td>\n",
       "      <td>8042.543847</td>\n",
       "      <td>8366.769609</td>\n",
       "      <td>9996.575353</td>\n",
       "    </tr>\n",
       "    <tr>\n",
       "      <th>2</th>\n",
       "      <td>YISHUN AVE 9 BLK 318A</td>\n",
       "      <td>15919.39969</td>\n",
       "      <td>14166.65357</td>\n",
       "      <td>13182.50154</td>\n",
       "      <td>12293.68148</td>\n",
       "      <td>11439.72263</td>\n",
       "      <td>9122.636441</td>\n",
       "      <td>7722.266883</td>\n",
       "      <td>6368.157244</td>\n",
       "      <td>4795.908711</td>\n",
       "      <td>...</td>\n",
       "      <td>13570.68606</td>\n",
       "      <td>12907.865810</td>\n",
       "      <td>12661.750790</td>\n",
       "      <td>13179.447730</td>\n",
       "      <td>13208.994580</td>\n",
       "      <td>13791.613210</td>\n",
       "      <td>14675.215580</td>\n",
       "      <td>14401.138090</td>\n",
       "      <td>15072.755350</td>\n",
       "      <td>16621.097390</td>\n",
       "    </tr>\n",
       "    <tr>\n",
       "      <th>3</th>\n",
       "      <td>YISHUN AVE 9 BLK 318B</td>\n",
       "      <td>15903.04510</td>\n",
       "      <td>14152.90288</td>\n",
       "      <td>13171.66285</td>\n",
       "      <td>12296.13129</td>\n",
       "      <td>11447.44104</td>\n",
       "      <td>9144.786709</td>\n",
       "      <td>7748.983596</td>\n",
       "      <td>6398.540744</td>\n",
       "      <td>4831.224121</td>\n",
       "      <td>...</td>\n",
       "      <td>13515.78029</td>\n",
       "      <td>12851.563270</td>\n",
       "      <td>12604.181940</td>\n",
       "      <td>13121.274190</td>\n",
       "      <td>13151.040900</td>\n",
       "      <td>13734.103470</td>\n",
       "      <td>14618.776730</td>\n",
       "      <td>14345.977870</td>\n",
       "      <td>15020.740460</td>\n",
       "      <td>16567.813760</td>\n",
       "    </tr>\n",
       "    <tr>\n",
       "      <th>4</th>\n",
       "      <td>YISHUN AVE 9 BLK 315A</td>\n",
       "      <td>15705.88647</td>\n",
       "      <td>13955.91314</td>\n",
       "      <td>12975.36314</td>\n",
       "      <td>12109.29884</td>\n",
       "      <td>11267.18726</td>\n",
       "      <td>8991.283610</td>\n",
       "      <td>7607.087576</td>\n",
       "      <td>6267.390055</td>\n",
       "      <td>4716.850722</td>\n",
       "      <td>...</td>\n",
       "      <td>13402.90599</td>\n",
       "      <td>12752.522990</td>\n",
       "      <td>12524.591610</td>\n",
       "      <td>13068.535130</td>\n",
       "      <td>13115.059640</td>\n",
       "      <td>13710.617970</td>\n",
       "      <td>14613.647670</td>\n",
       "      <td>14356.366340</td>\n",
       "      <td>15058.662370</td>\n",
       "      <td>16595.614410</td>\n",
       "    </tr>\n",
       "  </tbody>\n",
       "</table>\n",
       "<p>5 rows × 120 columns</p>\n",
       "</div>"
      ],
      "text/plain": [
       "                 Building  Jurong East MRT station  Bukit Batok MRT station  \\\n",
       "0  ANCHORVALE ST BLK 331C              17818.84265              16471.03384   \n",
       "1    PUNGGOL WAY BLK 266B              19092.61457              17694.05674   \n",
       "2   YISHUN AVE 9 BLK 318A              15919.39969              14166.65357   \n",
       "3   YISHUN AVE 9 BLK 318B              15903.04510              14152.90288   \n",
       "4   YISHUN AVE 9 BLK 315A              15705.88647              13955.91314   \n",
       "\n",
       "   Bukit Gombak MRT station  Choa Chu Kang MRT station  Yew Tee MRT station  \\\n",
       "0               15856.79247                16199.22480          15808.72792   \n",
       "1               17032.15623                17205.95322          16731.88625   \n",
       "2               13182.50154                12293.68148          11439.72263   \n",
       "3               13171.66285                12296.13129          11447.44104   \n",
       "4               12975.36314                12109.29884          11267.18726   \n",
       "\n",
       "   Kranji MRT station  Marsiling MRT station  Woodlands MRT station  \\\n",
       "0        14570.109930           13485.500120           12369.979820   \n",
       "1        15248.533120           14065.860790           12863.730930   \n",
       "2         9122.636441            7722.266883            6368.157244   \n",
       "3         9144.786709            7748.983596            6398.540744   \n",
       "4         8991.283610            7607.087576            6267.390055   \n",
       "\n",
       "   Admiralty MRT station  ...  Bendemeer MRT station  \\\n",
       "0           11061.899320  ...             9584.39327   \n",
       "1           11445.713010  ...            10932.92815   \n",
       "2            4795.908711  ...            13570.68606   \n",
       "3            4831.224121  ...            13515.78029   \n",
       "4            4716.850722  ...            13402.90599   \n",
       "\n",
       "   Geylang Bahru MRT Station  Mattar MRT station  Ubi MRT station  \\\n",
       "0                8494.000192         7640.691202      7398.618897   \n",
       "1                9808.425468         8872.302279      8425.747280   \n",
       "2               12907.865810        12661.750790     13179.447730   \n",
       "3               12851.563270        12604.181940     13121.274190   \n",
       "4               12752.522990        12524.591610     13068.535130   \n",
       "\n",
       "   Kaki Bukit MRT Station  Bedok North MRT station  \\\n",
       "0             7079.585070              7440.940807   \n",
       "1             7957.972942              8163.873942   \n",
       "2            13208.994580             13791.613210   \n",
       "3            13151.040900             13734.103470   \n",
       "4            13115.059640             13710.617970   \n",
       "\n",
       "   Bedok Reservoir MRT station  Tampines West MRT station  \\\n",
       "0                  8107.447171                7743.354078   \n",
       "1                  8589.377565                8042.543847   \n",
       "2                 14675.215580               14401.138090   \n",
       "3                 14618.776730               14345.977870   \n",
       "4                 14613.647670               14356.366340   \n",
       "\n",
       "   Tampines East MRT station  Upper Changi MRT station  \n",
       "0                8438.549604               9950.182657  \n",
       "1                8366.769609               9996.575353  \n",
       "2               15072.755350              16621.097390  \n",
       "3               15020.740460              16567.813760  \n",
       "4               15058.662370              16595.614410  \n",
       "\n",
       "[5 rows x 120 columns]"
      ]
     },
     "execution_count": 31,
     "metadata": {},
     "output_type": "execute_result"
    }
   ],
   "source": [
    "distance.head()"
   ]
  },
  {
   "cell_type": "markdown",
   "metadata": {},
   "source": [
    "#### Comparing values of Building and bilding new columns"
   ]
  },
  {
   "cell_type": "code",
   "execution_count": 32,
   "metadata": {},
   "outputs": [],
   "source": [
    "build_list = distance['Building'].tolist()\n",
    "new_list = Building_new.tolist()"
   ]
  },
  {
   "cell_type": "code",
   "execution_count": 33,
   "metadata": {},
   "outputs": [
    {
     "name": "stdout",
     "output_type": "stream",
     "text": [
      "['ADMIRALTY LINK BLK 484', 'ADMIRALTY LINK BLK 485', 'ADMIRALTY LINK BLK 493', 'ADMIRALTY LINK BLK 492', 'ADMIRALTY LINK BLK 491', 'ADMIRALTY LINK BLK 486', 'ADMIRALTY LINK BLK 483', 'SEMBAWANG DR BLK 466C', 'SEMBAWANG DR BLK 466D', 'ADMIRALTY LINK BLK 487', 'ADMIRALTY LINK BLK 482', 'SEMBAWANG DR BLK 466A', 'SEMBAWANG DR BLK 466B', 'ADMIRALTY LINK BLK 490', 'ADMIRALTY LINK BLK 488', 'ADMIRALTY LINK BLK 489', 'CANBERRA RD BLK 425', 'ADMIRALTY LINK BLK 401', 'WELLINGTON CIRCLE BLK 513', 'ADMIRALTY LINK BLK 403', 'WELLINGTON CIRCLE BLK 510B', 'ADMIRALTY LINK BLK 402', 'CANBERRA RD BLK 424', 'CANBERRA RD BLK 423', 'ADMIRALTY LINK BLK 404', 'WELLINGTON CIRCLE BLK 510A', 'SEMBAWANG DR BLK 408', 'SEMBAWANG DR BLK 407', 'ADMIRALTY LINK BLK 405', 'CANBERRA RD BLK 422', 'WELLINGTON CIRCLE BLK 509B', 'SEMBAWANG DR BLK 409', 'SEMBAWANG DR BLK 406', 'WELLINGTON CIRCLE BLK 509A', 'CANBERRA RD BLK 421', 'WELLINGTON CIRCLE BLK 508C', 'WELLINGTON CIRCLE BLK 507B', 'SEMBAWANG DR BLK 481', 'ADMIRALTY DR BLK 467A', 'WELLINGTON CIRCLE BLK 508B', 'CANBERRA RD BLK 420', 'WELLINGTON CIRCLE BLK 507A', 'SEMBAWANG DR BLK 410', 'WELLINGTON CIRCLE BLK 508A', 'SEMBAWANG DR BLK 479', 'SEMBAWANG DR BLK 478', 'CANBERRA RD BLK 418', 'SEMBAWANG DR BLK 480', 'ADMIRALTY DR BLK 467', 'SEMBAWANG DR BLK 411', 'CANBERRA RD BLK 419', 'WELLINGTON CIRCLE BLK 507C', 'WELLINGTON CIRCLE BLK 501B', 'SEMBAWANG DR BLK 477', 'CANBERRA RD BLK 417', 'SEMBAWANG DR BLK 412', 'WELLINGTON CIRCLE BLK 506A', 'SEMBAWANG DR BLK 471', 'CANBERRA RD BLK 416', 'SEMBAWANG DR BLK 413', 'WELLINGTON CIRCLE BLK 501C', 'WELLINGTON CIRCLE BLK 501A', 'SEMBAWANG DR BLK 470', 'SEMBAWANG DR BLK 472', 'SEMBAWANG DR BLK 414', 'SEMBAWANG DR BLK 415', 'MONTREAL DR BLK 504A', 'SEMBAWANG DR BLK 476', 'WELLINGTON CIRCLE BLK 507D', 'CANBERRA RD BLK 351C', 'SEMBAWANG DR BLK 473', 'ADMIRALTY DR BLK 467B', 'WELLINGTON CIRCLE BLK 502A', 'CANBERRA RD BLK 351D', 'WELLINGTON CIRCLE BLK 501D', 'MONTREAL DR BLK 504B', 'ADMIRALTY DR BLK 354D', 'SEMBAWANG DR BLK 475', 'ADMIRALTY DR BLK 468D', 'CANBERRA RD BLK 351B', 'SEMBAWANG DR BLK 474', 'CANBERRA RD BLK 352A', 'ADMIRALTY DR BLK 353A', 'MONTREAL DR BLK 504D', 'ADMIRALTY DR BLK 468A', 'ADMIRALTY DR BLK 354C', 'MONTREAL DR BLK 588C', 'CANBERRA LINK BLK 503C', 'MONTREAL DR BLK 588A', 'CANBERRA LINK BLK 503A', 'CANBERRA RD BLK 351A', 'ADMIRALTY DR BLK 357B', 'CANBERRA RD BLK 350A', 'CANBERRA LINK BLK 503B', 'MONTREAL DR BLK 588B', 'CANBERRA RD BLK 352B', 'ADMIRALTY DR BLK 354B', 'ADMIRALTY DR BLK 468C', 'ADMIRALTY DR BLK 353B', 'CANBERRA LINK BLK 504C', 'ADMIRALTY DR BLK 354A', 'ADMIRALTY DR BLK 468B', 'CANBERRA RD BLK 350B', 'ADMIRALTY DR BLK 357A', 'ADMIRALTY DR BLK 357', 'MONTREAL DR BLK 589D', 'ADMIRALTY DR BLK 469A', 'CANBERRA RD BLK 350C', 'MONTREAL DR BLK 589C', 'MONTREAL DR BLK 589A', 'CANBERRA RD BLK 352C', 'ADMIRALTY DR BLK 357C', 'ADMIRALTY DR BLK 353C', 'MONTREAL DR BLK 589B', 'ADMIRALTY DR BLK 359', 'SEMBAWANG WAY BLK 355A', 'ADMIRALTY DR BLK 359A', 'ADMIRALTY DR BLK 356A', 'ADMIRALTY DR BLK 359B', 'ADMIRALTY DR BLK 359C', 'ADMIRALTY DR BLK 356C', 'ADMIRALTY DR BLK 360A', 'ADMIRALTY DR BLK 356B', 'ADMIRALTY DR BLK 469', 'ADMIRALTY DR BLK 360B', 'WOODLANDS CRES BLK 775', 'ADMIRALTY DR BLK 360C', 'ADMIRALTY DR BLK 469B', 'SEMBAWANG CL BLK 341B', 'WOODLANDS CRES BLK 774', 'WOODLANDS CRES BLK 777', 'SEMBAWANG CL BLK 339B', 'SEMBAWANG CL BLK 339A', 'WOODLANDS CRES BLK 776', 'SEMBAWANG CL BLK 334', 'MARSILING LANE BLK 215', 'SEMBAWANG CL BLK 341A', 'SEMBAWANG CL BLK 340A', 'WOODLANDS CRES BLK 779', 'SEMBAWANG CL BLK 331', 'WOODLANDS DR 60 BLK 778', 'WOODLANDS DR 60 BLK 773', 'SEMBAWANG CL BLK 340B', 'WOODLANDS DR 60 BLK 772', 'SEMBAWANG CL BLK 335', 'SEMBAWANG CL BLK 341', 'MARSILING LANE BLK 216', 'WOODLANDS DR 60 BLK 786E', 'CANBERRA RD BLK 310', 'WOODLANDS DR 60 BLK 769', 'SEMBAWANG CL BLK 333', 'SEMBAWANG CRES BLK 336', 'SEMBAWANG VISTA BLK 315', 'WOODLANDS DR 60 BLK 786B', 'WOODLANDS AVE 6 BLK 760', 'SEMBAWANG CL BLK 330', 'WOODLANDS DR 60 BLK 771', 'MARSILING LANE BLK 214', 'MARSILING CRES BLK 217', 'CANBERRA RD BLK 309', 'WOODLANDS DR 60 BLK 786D', 'SEMBAWANG CL BLK 332', 'MARSILING CRES BLK 218', 'CANBERRA RD BLK 311', 'WOODLANDS DR 60 BLK 770', 'SEMBAWANG CL BLK 320', 'SEMBAWANG VISTA BLK 316', 'SEMBAWANG VISTA BLK 318', 'WOODLANDS AVE 6 BLK 759', 'WOODLANDS AVE 6 BLK 761', 'MARSILING CRES BLK 213', 'WOODLANDS DR 60 BLK 786F', 'CANBERRA RD BLK 308', 'SEMBAWANG CL BLK 329', 'SEMBAWANG CL BLK 319', 'WOODLANDS CIRCLE BLK 767', 'SEMBAWANG CRES BLK 337', 'WOODLANDS AVE 4 BLK 757', 'WOODLANDS CIRCLE BLK 766', 'MARSILING CRES BLK 212', 'WOODLANDS AVE 6 BLK 758', 'WOODLANDS AVE 6 BLK 762', 'CANBERRA RD BLK 306', 'SEMBAWANG CL BLK 321', 'WOODLANDS CIRCLE BLK 765', 'CANBERRA RD BLK 300', 'WOODLANDS DR 60 BLK 786C', 'CANBERRA RD BLK 307', 'SEMBAWANG VISTA BLK 317', 'WOODLANDS CIRCLE BLK 753', 'WOODLANDS AVE 4 BLK 756', 'SEMBAWANG CRES BLK 338', 'SEMBAWANG CRES BLK 327', 'CANBERRA RD BLK 305', 'WOODLANDS CIRCLE BLK 764A', 'SEMBAWANG CL BLK 322', 'SEMBAWANG CRES BLK 328', 'WOODLANDS AVE 6 BLK 723', 'WOODLANDS CIRCLE BLK 754', 'WOODLANDS CIRCLE BLK 752', 'WOODLANDS AVE 6 BLK 763', 'WOODLANDS CRES BLK 787D', 'MARSILING DR BLK 206', 'WOODLANDS AVE 9 BLK 878', 'WOODLANDS AVE 6 BLK 722', 'WOODLANDS AVE 4 BLK 755', 'WOODLANDS CIRCLE BLK 748', 'WOODLANDS CIRCLE BLK 764', 'WOODLANDS AVE 9 BLK 877', 'CANBERRA RD BLK 304', 'MARSILING DR BLK 35', 'MARSILING DR BLK 36', 'MARSILING DR BLK 37', 'WOODLANDS CIRCLE BLK 751', 'SEMBAWANG CL BLK 323', 'CANBERRA RD BLK 302', 'MARSILING DR BLK 205', 'WOODLANDS ST 82 BLK 879', 'WOODLANDS AVE 6 BLK 725', 'WOODLANDS DR 75 BLK 689C', 'SEMBAWANG CRES BLK 326', 'WOODLANDS CRES BLK 787C', 'WOODLANDS CRES BLK 787E', 'WOODLANDS AVE 9 BLK 876', 'SEMBAWANG DR BLK 313', 'CANBERRA RD BLK 303', 'WOODLANDS CIRCLE BLK 740', 'WOODLANDS CIRCLE BLK 749', 'WOODLANDS DR 75 BLK 689B', 'SEMBAWANG CL BLK 324', 'WOODLANDS ST 82 BLK 881', 'WOODLANDS DR 75 BLK 689A', 'SEMBAWANG DR BLK 312', 'WOODLANDS AVE 6 BLK 724', 'WOODLANDS CRES BLK 788E', 'SEMBAWANG CRES BLK 325', 'WOODLANDS ST 82 BLK 880', 'WOODLANDS CIRCLE BLK 741', 'WOODLANDS AVE 4 BLK 750', 'WOODLANDS DR 75 BLK 689D', 'WOODLANDS CRES BLK 787B', 'MARSILING DR BLK 34', 'WOODLANDS ST 82 BLK 882', 'WOODLANDS CIRCLE BLK 738', 'MARSILING DR BLK 204', 'WOODLANDS CIRCLE BLK 726', 'WOODLANDS DR 75 BLK 688F', 'WOODLANDS CIRCLE BLK 739', 'WOODLANDS CIRCLE BLK 721', 'WOODLANDS CIRCLE BLK 734', 'WOODLANDS DR 75 BLK 688A', 'WOODLANDS CRES BLK 788D', 'WOODLANDS DR 75 BLK 689E', 'WOODLANDS CIRCLE BLK 742', 'WOODLANDS AVE 4 BLK 844', 'WOODLANDS CRES BLK 788B', 'WOODLANDS ST 81 BLK 872', 'WOODLANDS ST 81 BLK 871', 'WOODLANDS ST 82 BLK 840', 'WOODLANDS CRES BLK 788C', 'WOODLANDS DR 75 BLK 688E', 'SEMBAWANG DR BLK 314', 'WOODLANDS DR 72 BLK 798', 'WOODLANDS CIRCLE BLK 743', 'WOODLANDS CIRCLE BLK 733', 'WOODLANDS CIRCLE BLK 727', 'MARSILING LANE BLK 19', 'WOODLANDS DR 72 BLK 797', 'WOODLANDS CIRCLE BLK 737', 'WOODLANDS DR 75 BLK 690A', 'WOODLANDS DR 75 BLK 689F', 'WOODLANDS DR 75 BLK 688D', 'MARSILING DR BLK 29', 'MARSILING DR BLK 33', 'WOODLANDS AVE 4 BLK 846', 'WOODLANDS ST 82 BLK 842', 'WOODLANDS ST 82 BLK 841', 'WOODLANDS AVE 6 BLK 789', 'WOODLANDS ST 81 BLK 870', 'WOODLANDS DR 75 BLK 688C', 'WOODLANDS CIRCLE BLK 735', 'MARSILING LANE BLK 18', 'MARSILING DR BLK 32', 'WOODLANDS DR 75 BLK 688B', 'WOODLANDS DR 75 BLK 690B', 'WOODLANDS CIRCLE BLK 732', 'WOODLANDS AVE 6 BLK 788', 'MARSILING DR BLK 203', 'MARSILING DR BLK 31', 'WOODLANDS ST 81 BLK 873', 'WOODLANDS CIRCLE BLK 747', 'WOODLANDS DR 72 BLK 796', 'WOODLANDS ST 82 BLK 843', 'MARSILING DR BLK 202', 'WOODLANDS ST 81 BLK 809', 'WOODLANDS DR 75 BLK 690C', 'WOODLANDS DR 75 BLK 690F', 'WOODLANDS CIRCLE BLK 744', 'WOODLANDS CIRCLE BLK 728', 'WOODLANDS ST 82 BLK 874', 'WOODLANDS AVE 6 BLK 790', 'WOODLANDS DR 72 BLK 795', 'WOODLANDS ST 83 BLK 869', 'WOODLANDS CIRCLE BLK 731', 'MARSILING DR BLK 28', 'WOODLANDS ST 82 BLK 845', 'WOODLANDS AVE 6 BLK 791', 'WOODLANDS ST 81 BLK 810', 'WOODLANDS CIRCLE BLK 736', 'MARSILING DR BLK 22', 'MARSILING DR BLK 27', 'MARSILING LANE BLK 17', 'MARSILING DR BLK 201', 'WOODLANDS DR 72 BLK 794', 'WOODLANDS ST 82 BLK 839', 'WOODLANDS DR 73 BLK 686B', 'WOODLANDS DR 75 BLK 690D', 'WOODLANDS ST 83 BLK 868', 'MARSILING DR BLK 30', 'WOODLANDS CIRCLE BLK 746', 'WOODLANDS CIRCLE BLK 730', 'WOODLANDS CIRCLE BLK 729', 'WOODLANDS ST 82 BLK 875', 'WOODLANDS ST 81 BLK 808', 'MARSILING LANE BLK 16', 'WOODLANDS AVE 6 BLK 720', 'WOODLANDS ST 83 BLK 867', 'WOODLANDS DR 73 BLK 686C', 'WOODLANDS CIRCLE BLK 745', 'WOODLANDS AVE 6 BLK 793', 'WOODLANDS DR 75 BLK 690E', 'WOODLANDS AVE 6 BLK 792', 'WOODLANDS DR 70 BLK 715', 'WOODLANDS ST 82 BLK 847', 'WOODLANDS DR 73 BLK 686A', 'WOODLANDS DR 70 BLK 714', 'WOODLANDS ST 81 BLK 807', 'WOODLANDS ST 82 BLK 816', 'MARSILING LANE BLK 15', 'MARSILING DR BLK 6', 'MARSILING DR BLK 26', 'MARSILING DR BLK 25', 'WOODLANDS DR 70 BLK 713', 'WOODLANDS ST 81 BLK 801', 'WOODLANDS DR 75 BLK 687B', 'WOODLANDS ST 82 BLK 822', 'WOODLANDS ST 82 BLK 817', 'WOODLANDS ST 82 BLK 838', 'WOODLANDS ST 82 BLK 848', 'WOODLANDS CTR RD BLK 1A', 'WOODLANDS DR 40 BLK 701', 'WOODLANDS DR 40 BLK 702', 'WOODLANDS AVE 6 BLK 719', 'WOODLANDS DR 73 BLK 685C', 'WOODLANDS DR 75 BLK 687C', 'WOODLANDS ST 82 BLK 818', 'WOODLANDS ST 83 BLK 866', 'WOODLANDS AVE 6 BLK 718', 'WOODLANDS DR 73 BLK 684B', 'MARSILING DR BLK 24', 'WOODLANDS DR 70 BLK 712', 'WOODLANDS DR 62 BLK 684C', 'WOODLANDS DR 70 BLK 716', 'MARSILING DR BLK 23', 'MARSILING DR BLK 8', 'WOODLANDS DR 73 BLK 684D', 'WOODLANDS DR 73 BLK 685B', 'WOODLANDS ST 82 BLK 837', 'WOODLANDS ST 82 BLK 849', 'MARSILING DR BLK 9', 'MARSILING LANE BLK 12A', 'WOODLANDS DR 62 BLK 683C', 'WOODLANDS DR 73 BLK 684A', 'WOODLANDS DR 70 BLK 711', 'MARSILING DR BLK 7', 'WOODLANDS ST 82 BLK 820', 'WOODLANDS ST 83 BLK 865', 'MARSILING LANE BLK 12', 'MARSILING LANE BLK 12B', 'WOODLANDS ST 82 BLK 819', 'WOODLANDS DR 75 BLK 687A', 'WOODLANDS ST 81 BLK 802', 'MARSILING LANE BLK 13', 'WOODLANDS DR 40 BLK 703', 'MARSILING LANE BLK 12C', 'WOODLANDS DR 62 BLK 683B', 'WOODLANDS ST 82 BLK 850', 'WOODLANDS ST 83 BLK 864', 'WOODLANDS DR 70 BLK 717', 'WOODLANDS ST 82 BLK 823', 'WOODLANDS ST 82 BLK 821', 'WOODLANDS DR 73 BLK 682D', 'MARSILING DR BLK 10', 'WOODLANDS DR 62 BLK 683D', 'WOODLANDS DR 40 BLK 707', 'WOODLANDS DR 70 BLK 710', 'MARSILING DR BLK 1', 'MARSILING DR BLK 5A', 'WOODLANDS ST 81 BLK 805', 'WOODLANDS DR 73 BLK 682C', 'WOODLANDS DR 40 BLK 704', 'WOODLANDS ST 83 BLK 857', 'WOODLANDS DR 62 BLK 682B', 'WOODLANDS ST 83 BLK 856', 'WOODLANDS CTR RD BLK 2A', 'WOODLANDS ST 83 BLK 835', 'YISHUN AVE 6 BLK 289', 'WOODLANDS ST 81 BLK 803', 'WOODLANDS ST 83 BLK 863', 'WOODLANDS ST 83 BLK 851', 'WOODLANDS DR 70 BLK 709', 'WOODLANDS ST 83 BLK 858', 'WOODLANDS AVE 6 BLK 679', 'MARSILING DR BLK 11', 'WOODLANDS DR 62 BLK 682A', 'WOODLANDS DR 62 BLK 683A', 'YISHUN AVE 6 BLK 286', 'WOODLANDS ST 83 BLK 833', 'WOODLANDS ST 83 BLK 855', 'WOODLANDS ST 81 BLK 804', 'WOODLANDS DR 62 BLK 681D', 'WOODLANDS ST 83 BLK 836', 'WOODLANDS ST 83 BLK 862', 'WOODLANDS ST 83 BLK 834', 'WOODLANDS DR 70 BLK 708', 'YISHUN AVE 6 BLK 285', 'YISHUN AVE 6 BLK 288', 'WOODLANDS ST 83 BLK 859', 'MARSILING DR BLK 2', 'WOODLANDS AVE 6 BLK 678', 'WOODLANDS ST 83 BLK 854', 'WOODLANDS DR 40 BLK 706', 'WOODLANDS DR 62 BLK 681C', 'YISHUN AVE 6 BLK 284', 'WOODLANDS DR 40 BLK 705', 'YISHUN AVE 6 BLK 287', 'WOODLANDS ST 81 BLK 827', 'WOODLANDS ST 81 BLK 828', 'WOODLANDS ST 83 BLK 829', 'WOODLANDS ST 83 BLK 832', 'WOODLANDS DR 71 BLK 672', 'WOODLANDS ST 83 BLK 861', 'WOODLANDS ST 83 BLK 831', 'WOODLANDS DR 62 BLK 681A', 'WOODLANDS ST 83 BLK 853', 'YISHUN AVE 6 BLK 282', 'MARSILING DR BLK 5', 'WOODLANDS AVE 6 BLK 680', 'WOODLANDS ST 83 BLK 860', 'YISHUN AVE 6 BLK 283', 'WOODLANDS DR 71 BLK 671', 'WOODLANDS DR 62 BLK 681B', 'WOODLANDS AVE 6 BLK 677', 'WOODLANDS ST 83 BLK 830', 'WOODLANDS ST 81 BLK 826', 'MARSILING RISE BLK 120', 'MARSILING RISE BLK 123', 'MARSILING RISE BLK 121', 'WOODLANDS DR 71 BLK 673', 'WOODLANDS ST 81 BLK 824', 'YISHUN ST 22 BLK 281', 'WOODLANDS RING RD BLK 668', 'WOODLANDS RING RD BLK 649', 'WOODLANDS ST 81 BLK 825', 'MARSILING RISE BLK 124', 'WOODLANDS DR 71 BLK 670', 'MARSILING RISE BLK 119', 'MARSILING RISE BLK 114', 'WOODLANDS DR 42 BLK 601', 'WOODLANDS RING RD BLK 667', 'WOODLANDS DR 50 BLK 886D', 'WOODLANDS DR 50 BLK 886C', 'YISHUN ST 22 BLK 280', 'MARSILING RISE BLK 125', 'MARSILING RISE BLK 118', 'WOODLANDS RING RD BLK 650', 'MARSILING RD BLK 137', 'MARSILING RISE BLK 131', 'YISHUN ST 22 BLK 279', 'MARSILING RD BLK 136', 'WOODLANDS ST 13 BLK 112', 'WOODLANDS RING RD BLK 669', 'WOODLANDS RING RD BLK 651', 'MARSILING RISE BLK 132', 'WOODLANDS RING RD BLK 666', 'WOODLANDS DR 50 BLK 886B', 'MARSILING RISE BLK 117', 'WOODLANDS RING RD BLK 648', 'YISHUN ST 22 BLK 278', 'WOODLANDS DR 42 BLK 602', 'WOODLANDS RING RD BLK 640', 'MARSILING RISE BLK 130', 'MARSILING RISE BLK 127', 'MARSILING RISE BLK 115', 'MARSILING RD BLK 138', 'YISHUN ST 22 BLK 272', 'MARSILING RISE BLK 116', 'WOODLANDS RING RD BLK 665', 'YISHUN ST 22 BLK 277', 'WOODLANDS ST 13 BLK 113', 'WOODLANDS RING RD BLK 653', 'WOODLANDS ST 13 BLK 111', 'YISHUN ST 22 BLK 276', 'WOODLANDS RING RD BLK 652', 'WOODLANDS RING RD BLK 647', 'YISHUN ST 22 BLK 271', 'MARSILING RISE BLK 129', 'WOODLANDS DR 50 BLK 887B', 'WOODLANDS DR 50 BLK 891A', 'WOODLANDS DR 42 BLK 603', 'YISHUN ST 22 BLK 275', 'WOODLANDS RING RD BLK 654', 'MARSILING RD BLK 139', 'WOODLANDS RING RD BLK 643', 'WOODLANDS DR 50 BLK 891B', 'MARSILING RD BLK 140', 'MARSILING RISE BLK 133', 'WOODLANDS RING RD BLK 639', 'WOODLANDS ST 13 BLK 110', 'WOODLANDS RING RD BLK 655', 'WOODLANDS RING RD BLK 646', 'WOODLANDS DR 50 BLK 892B', 'YISHUN ST 22 BLK 273', 'MARSILING RD BLK 135', 'YISHUN AVE 7 BLK 175', 'YISHUN ST 22 BLK 274', 'YISHUN AVE 7 BLK 174', 'MARSILING RISE BLK 128', 'YISHUN ST 22 BLK 270', 'WOODLANDS ST 13 BLK 109', 'MARSILING RD BLK 141', 'WOODLANDS RING RD BLK 637', 'WOODLANDS DR 42 BLK 605', 'WOODLANDS DR 50 BLK 887A', 'WOODLANDS DR 50 BLK 892A', 'YISHUN AVE 7 BLK 170', 'WOODLANDS RING RD BLK 638', 'WOODLANDS DR 50 BLK 896B', 'WOODLANDS ST 13 BLK 108', 'WOODLANDS DR 42 BLK 604', 'WOODLANDS RING RD BLK 644', 'YISHUN ST 22 BLK 269', 'YISHUN ST 22 BLK 267', 'WOODLANDS RING RD BLK 645', 'WOODLANDS DR 50 BLK 896C', 'YISHUN ST 22 BLK 292', 'WOODLANDS DR 50 BLK 887C', 'YISHUN AVE 7 BLK 173', 'WOODLANDS RING RD BLK 656', 'YISHUN AVE 7 BLK 171', 'YISHUN ST 22 BLK 266', 'MARSILING RD BLK 142', 'WOODLANDS DR 50 BLK 893B', 'YISHUN ST 22 BLK 268', 'YISHUN AVE 7 BLK 172', 'WOODLANDS ST 13 BLK 105', 'WOODLANDS RING RD BLK 636', 'MARSILING RD BLK 134', 'WOODLANDS RING RD BLK 635', 'WOODLANDS DR 50 BLK 893A', 'WOODLANDS ST 13 BLK 106', 'WOODLANDS RING RD BLK 657', 'WOODLANDS RING RD BLK 606', 'MARSILING RD BLK 143', 'YISHUN ST 22 BLK 265', 'WOODLANDS RING RD BLK 607', 'WOODLANDS ST 13 BLK 103', 'YISHUN RING RD BLK 167', 'WOODLANDS DR 50 BLK 897A', 'WOODLANDS DR 50 BLK 899C', 'WOODLANDS DR 50 BLK 893D', 'WOODLANDS DR 50 BLK 896A', 'WOODLANDS ST 13 BLK 104', 'YISHUN ST 22 BLK 293', 'YISHUN ST 20 BLK 299', 'WOODLANDS RING RD BLK 664', 'WOODLANDS DR 50 BLK 893C', 'YISHUN RING RD BLK 166', 'WOODLANDS ST 13 BLK 102', 'WOODLANDS RING RD BLK 658', 'WOODLANDS RING RD BLK 608', 'WOODLANDS RING RD BLK 663', 'WOODLANDS RING RD BLK 659', 'YISHUN ST 22 BLK 263', 'WOODLANDS RING RD BLK 634', 'WOODLANDS DR 50 BLK 899B', 'YISHUN ST 20 BLK 298', 'WOODLANDS DR 50 BLK 897B', 'WOODLANDS ST 13 BLK 145', 'WOODLANDS ST 13 BLK 146', 'WOODLANDS DR 50 BLK 895A', 'YISHUN RING RD BLK 118', 'WOODLANDS DR 50 BLK 894A', 'WOODLANDS DR 50 BLK 894B', 'YISHUN ST 22 BLK 291', 'WOODLANDS DR 50 BLK 895C', 'WOODLANDS RING RD BLK 609', 'WOODLANDS ST 13 BLK 101', 'YISHUN ST 20 BLK 297', 'WOODLANDS RING RD BLK 632', 'WOODLANDS ST 13 BLK 149', 'YISHUN ST 22 BLK 262', 'WOODLANDS ST 13 BLK 148', 'WOODLANDS DR 50 BLK 897C', 'WOODLANDS DR 50 BLK 899A', 'YISHUN RING RD BLK 165', 'YISHUN AVE 9 BLK 248', 'WOODLANDS DR 50 BLK 894D', 'WOODLANDS DR 50 BLK 894C', 'WOODLANDS RING RD BLK 633', 'YISHUN ST 22 BLK 264', 'WOODLANDS DR 50 BLK 895B', 'WOODLANDS RING RD BLK 662', 'YISHUN ST 22 BLK 260', 'YISHUN AVE 9 BLK 250', 'YISHUN RING RD BLK 117', 'WOODLANDS RING RD BLK 660', 'WOODLANDS RING RD BLK 611', 'WOODLANDS RING RD BLK 661', 'WOODLANDS RING RD BLK 631', 'YISHUN RING RD BLK 119', 'YISHUN ST 21 BLK 228', 'WOODLANDS ST 13 BLK 151', 'WOODLANDS AVE 4 BLK 610', 'YISHUN ST 22 BLK 261', 'YISHUN ST 20 BLK 296', 'WOODLANDS DR 50 BLK 898A', 'WOODLANDS ST 13 BLK 150', 'YISHUN AVE 9 BLK 249', 'YISHUN ST 22 BLK 259', 'YISHUN ST 21 BLK 227', 'YISHUN ST 22 BLK 258', 'WOODLANDS AVE 4 BLK 612', 'YISHUN RING RD BLK 116', 'YISHUN AVE 9 BLK 246', 'WOODLANDS ST 13 BLK 152', 'YISHUN ST 21 BLK 233', 'YISHUN AVE 9 BLK 247', 'YISHUN RING RD BLK 253', 'YISHUN ST 11 BLK 122', 'WOODLANDS DR 50 BLK 898B', 'YISHUN RING RD BLK 120', 'YISHUN ST 21 BLK 229', 'YISHUN ST 21 BLK 225', 'YISHUN ST 11 BLK 123', 'WOODLANDS DR 52 BLK 623', 'YISHUN RING RD BLK 251', 'WOODLANDS DR 14 BLK 515', 'WOODLANDS DR 14 BLK 519', 'WOODLANDS ST 13 BLK 154', 'WOODLANDS RING RD BLK 628A', 'WOODLANDS ST 13 BLK 179', 'YISHUN RING RD BLK 252', 'WOODLANDS DR 14 BLK 516', 'WOODLANDS ST 13 BLK 155', 'WOODLANDS DR 14 BLK 514', 'YISHUN ST 21 BLK 224', 'YISHUN ST 21 BLK 230', 'WOODLANDS RING RD BLK 630', 'YISHUN ST 11 BLK 124', 'YISHUN RING RD BLK 254', 'WOODLANDS ST 13 BLK 178', 'YISHUN RING RD BLK 257', 'YISHUN RING RD BLK 115', 'YISHUN ST 21 BLK 235', 'WOODLANDS AVE 4 BLK 614', 'YISHUN ST 21 BLK 226', 'YISHUN ST 21 BLK 223', 'YISHUN RING RD BLK 113', 'WOODLANDS AVE 4 BLK 613', 'YISHUN AVE 9 BLK 245', 'YISHUN ST 21 BLK 234', 'WOODLANDS DR 14 BLK 518', 'WOODLANDS AVE 4 BLK 616', 'YISHUN ST 11 BLK 121', 'WOODLANDS ST 13 BLK 157', 'WOODLANDS ST 13 BLK 177', 'YISHUN RING RD BLK 114', 'WOODLANDS DR 14 BLK 520', 'YISHUN ST 11 BLK 125', 'YISHUN RING RD BLK 255', 'WOODLANDS DR 14 BLK 512', 'YISHUN RING RD BLK 112', 'YISHUN ST 21 BLK 232', 'WOODLANDS ST 13 BLK 156', 'WOODLANDS AVE 5 BLK 365', 'WOODLANDS RING RD BLK 629', 'WOODLANDS DR 52 BLK 622', 'WOODLANDS DR 52 BLK 624A', 'WOODLANDS DR 52 BLK 624B', 'YISHUN ST 21 BLK 231', 'WOODLANDS RING RD BLK 628B', 'WOODLANDS AVE 5 BLK 359', 'YISHUN ST 21 BLK 222', 'YISHUN RING RD BLK 236', 'YISHUN ST 11 BLK 127', 'WOODLANDS AVE 4 BLK 615', 'WOODLANDS ST 13 BLK 158', 'WOODLANDS AVE 5 BLK 360', 'YISHUN ST 21 BLK 221', 'YISHUN RING RD BLK 256', 'WOODLANDS AVE 5 BLK 364', 'WOODLANDS ST 11 BLK 171', 'WOODLANDS ST 13 BLK 172', 'YISHUN RING RD BLK 244', 'WOODLANDS AVE 4 BLK 617', 'WOODLANDS AVE 5 BLK 361', 'WOODLANDS AVE 5 BLK 363', 'WOODLANDS DR 52 BLK 621', 'YISHUN ST 11 BLK 128', 'YISHUN ST 11 BLK 129', 'WOODLANDS AVE 3 BLK 350', 'WOODLANDS AVE 5 BLK 366', 'WOODLANDS DR 14 BLK 517', 'WOODLANDS DR 14 BLK 521', 'WOODLANDS DR 14 BLK 522', 'WOODLANDS DR 14 BLK 513', 'YISHUN RING RD BLK 115C', 'YISHUN RING RD BLK 239', 'WOODLANDS AVE 5 BLK 362', 'WOODLANDS ST 13 BLK 159', 'WOODLANDS ST 13 BLK 166', 'WOODLANDS AVE 6 BLK 626', 'YISHUN RING RD BLK 110', 'WOODLANDS AVE 5 BLK 358', 'WOODLANDS AVE 4 BLK 618', 'YISHUN ST 11 BLK 126', 'WOODLANDS DR 52 BLK 620', 'WOODLANDS ST 11 BLK 170', 'WOODLANDS AVE 6 BLK 627', 'WOODLANDS ST 13 BLK 175', 'WOODLANDS DR 52 BLK 625A', 'WOODLANDS ST 13 BLK 176', 'WOODLANDS ST 11 BLK 167', 'YISHUN RING RD BLK 243', 'WOODLANDS AVE 5 BLK 367', 'YISHUN ST 11 BLK 130', 'WOODLANDS DR 52 BLK 625B', 'WOODLANDS AVE 5 BLK 356', 'WOODLANDS DR 52 BLK 619', 'WOODLANDS AVE 1 BLK 369', 'YISHUN RING RD BLK 237', 'WOODLANDS AVE 3 BLK 349', 'WOODLANDS DR 14 BLK 511', 'YISHUN ST 21 BLK 220', 'WOODLANDS ST 13 BLK 161', 'YISHUN ST 21 BLK 219', 'WOODLANDS ST 13 BLK 160', 'WOODLANDS ST 11 BLK 169', 'WOODLANDS ST 13 BLK 174', 'WOODLANDS DR 14 BLK 502A', 'YISHUN RING RD BLK 115A', 'YISHUN RING RD BLK 115B', 'YISHUN RING RD BLK 238', 'YISHUN RING RD BLK 111', 'WOODLANDS DR 14 BLK 502', 'WOODLANDS AVE 3 BLK 347', 'WOODLANDS DR 14 BLK 523', 'YISHUN ST 11 BLK 131', 'WOODLANDS AVE 1 BLK 368', 'WOODLANDS DR 44 BLK 551', 'WOODLANDS AVE 5 BLK 357', 'WOODLANDS ST 13 BLK 163', 'WOODLANDS ST 13 BLK 164', 'YISHUN ST 21 BLK 218', 'WOODLANDS DR 14 BLK 526', 'WOODLANDS DR 53 BLK 556', 'WOODLANDS ST 13 BLK 162', 'WOODLANDS ST 13 BLK 165', 'WOODLANDS ST 11 BLK 168', 'WOODLANDS ST 13 BLK 173', 'WOODLANDS AVE 3 BLK 348', 'WOODLANDS DR 14 BLK 504', 'YISHUN RING RD BLK 242', 'WOODLANDS AVE 1 BLK 370', 'WOODLANDS DR 14 BLK 501', 'YISHUN ST 11 BLK 132', 'YISHUN ST 11 BLK 161', 'YISHUN ST 11 BLK 159', 'WOODLANDS DR 53 BLK 557', 'YISHUN RING RD BLK 109', 'WOODLANDS AVE 1 BLK 355', 'YISHUN RING RD BLK 107', 'WOODLANDS DR 44 BLK 550', 'YISHUN ST 21 BLK 217', 'YISHUN RING RD BLK 240', 'WOODLANDS DR 14 BLK 524', 'WOODLANDS DR 14 BLK 510', 'WOODLANDS DR 14 BLK 509', 'YISHUN ST 11 BLK 158', 'WOODLANDS DR 14 BLK 503', 'YISHUN ST 11 BLK 160', 'WOODLANDS DR 14 BLK 506', 'YISHUN ST 11 BLK 134', 'WOODLANDS ST 32 BLK 346', 'WOODLANDS DR 14 BLK 525', 'YISHUN ST 11 BLK 133', 'WOODLANDS AVE 1 BLK 354', 'YISHUN ST 21 BLK 216', 'YISHUN RING RD BLK 108', 'YISHUN RING RD BLK 309', 'WOODLANDS DR 53 BLK 555', 'YISHUN ST 11 BLK 135', 'WOODLANDS AVE 1 BLK 371', 'YISHUN ST 11 BLK 157', 'WOODLANDS ST 32 BLK 345', 'YISHUN ST 11 BLK 144', 'WOODLANDS AVE 1 BLK 351', 'WOODLANDS DR 14 BLK 508', 'WOODLANDS DR 14 BLK 505', 'WOODLANDS ST 32 BLK 344', 'YISHUN RING RD BLK 241', 'WOODLANDS DR 53 BLK 554', 'YISHUN RING RD BLK 136', 'YISHUN RING RD BLK 310', 'YISHUN ST 11 BLK 155', 'WOODLANDS DR 44 BLK 549', 'YISHUN ST 11 BLK 148', 'WOODLANDS AVE 1 BLK 342', 'YISHUN ST 11 BLK 156', 'WOODLANDS DR 44 BLK 552', 'YISHUN RING RD BLK 137', 'YISHUN RING RD BLK 103', 'WOODLANDS AVE 1 BLK 343', 'WOODLANDS ST 31 BLK 317', 'WOODLANDS ST 31 BLK 318', 'YISHUN ST 21 BLK 213', 'WOODLANDS DR 14 BLK 507', 'WOODLANDS ST 32 BLK 321', 'WOODLANDS DR 14 BLK 527', 'WOODLANDS AVE 1 BLK 353', 'YISHUN ST 21 BLK 212', 'WOODLANDS ST 31 BLK 302', 'WOODLANDS DR 14 BLK 529', 'YISHUN ST 21 BLK 211', 'WOODLANDS AVE 1 BLK 572B', 'YISHUN RING RD BLK 139', 'WOODLANDS AVE 1 BLK 352', 'YISHUN ST 21 BLK 215', 'YISHUN RING RD BLK 314', 'YISHUN RING RD BLK 138', 'WOODLANDS ST 31 BLK 301', 'WOODLANDS ST 32 BLK 320', 'YISHUN ST 11 BLK 154', 'WOODLANDS DR 44 BLK 553', 'YISHUN ST 11 BLK 149', 'WOODLANDS DR 16 BLK 578', 'WOODLANDS DR 14 BLK 528', 'WOODLANDS AVE 1 BLK 341', 'YISHUN RING RD BLK 312', 'YISHUN ST 21 BLK 214', 'YISHUN RING RD BLK 106', 'WOODLANDS ST 31 BLK 319', 'WOODLANDS ST 31 BLK 316', 'WOODLANDS ST 31 BLK 315', 'YISHUN ST 21 BLK 209', 'WOODLANDS ST 32 BLK 322', 'WOODLANDS DR 14 BLK 536', 'YISHUN RING RD BLK 311', 'WOODLANDS DR 14 BLK 530', 'WOODLANDS AVE 1 BLK 570C', 'YISHUN ST 11 BLK 147', 'YISHUN ST 21 BLK 210', 'YISHUN RING RD BLK 308', 'YISHUN ST 21 BLK 207', 'YISHUN ST 11 BLK 153', 'WOODLANDS ST 32 BLK 324', 'YISHUN AVE 5 BLK 101', 'YISHUN CTRL BLK 306', 'WOODLANDS AVE 1 BLK 340', 'YISHUN ST 21 BLK 206', 'WOODLANDS DR 16 BLK 575', 'YISHUN RING RD BLK 140', 'YISHUN CTRL BLK 305', 'WOODLANDS DR 14 BLK 535', 'YISHUN ST 21 BLK 205', 'WOODLANDS ST 31 BLK 314', 'WOODLANDS ST 32 BLK 323', 'YISHUN RING RD BLK 143', 'YISHUN ST 11 BLK 145', 'YISHUN ST 11 BLK 152', 'WOODLANDS DR 14 BLK 531', 'WOODLANDS AVE 1 BLK 339', 'YISHUN RING RD BLK 330', 'WOODLANDS ST 41 BLK 402', 'WOODLANDS DR 16 BLK 577', 'YISHUN ST 11 BLK 146', 'WOODLANDS ST 31 BLK 303', 'YISHUN RING RD BLK 141', 'YISHUN ST 21 BLK 208', 'WOODLANDS AVE 1 BLK 572A', 'YISHUN ST 11 BLK 151', 'WOODLANDS AVE 1 BLK 337', 'YISHUN ST 11 BLK 150', 'YISHUN RING RD BLK 142', 'WOODLANDS ST 31 BLK 313', 'WOODLANDS AVE 1 BLK 570B', 'WOODLANDS ST 32 BLK 325', 'WOODLANDS DR 16 BLK 579', 'YISHUN ST 21 BLK 203', 'WOODLANDS AVE 1 BLK 338', 'WOODLANDS ST 41 BLK 403', 'YISHUN ST 21 BLK 202', 'YISHUN ST 21 BLK 201', 'WOODLANDS AVE 1 BLK 570A', 'WOODLANDS DR 14 BLK 532', 'WOODLANDS ST 31 BLK 312', 'WOODLANDS DR 14 BLK 534', 'YISHUN RING RD BLK 331', 'YISHUN ST 21 BLK 204', 'WOODLANDS DR 14 BLK 533', 'YISHUN CTRL BLK 304', 'WOODLANDS DR 16 BLK 580', 'WOODLANDS DR 16 BLK 576', 'WOODLANDS DR 16 BLK 583', 'WOODLANDS ST 41 BLK 401', 'WOODLANDS ST 31 BLK 311', 'WOODLANDS AVE 1 BLK 336', 'YISHUN RING RD BLK 332', 'WOODLANDS ST 32 BLK 326', 'WOODLANDS AVE 1 BLK 571C', 'YISHUN RING RD BLK 329', 'YISHUN CTRL BLK 303', 'WOODLANDS ST 32 BLK 329', 'WOODLANDS ST 41 BLK 404', 'WOODLANDS ST 32 BLK 327', 'WOODLANDS DR 16 BLK 582', 'YISHUN CTRL BLK 302', 'WOODLANDS DR 16 BLK 547', 'WOODLANDS ST 31 BLK 306', 'YISHUN RING RD BLK 327', 'YISHUN AVE 5 BLK 740', 'WOODLANDS AVE 1 BLK 571A', 'YISHUN AVE 5 BLK 741', 'WOODLANDS ST 31 BLK 310', 'WOODLANDS AVE 1 BLK 571B', 'WOODLANDS ST 32 BLK 328', 'WOODLANDS ST 32 BLK 334', 'WOODLANDS ST 41 BLK 405', 'WOODLANDS DR 16 BLK 581', 'YISHUN AVE 5 BLK 743', 'YISHUN RING RD BLK 328', 'WOODLANDS DR 16 BLK 537', 'YISHUN AVE 5 BLK 701', 'WOODLANDS ST 31 BLK 304', 'YISHUN AVE 5 BLK 739', 'YISHUN AVE 5 BLK 742', 'YISHUN AVE 5 BLK 702', 'WOODLANDS AVE 1 BLK 308', 'WOODLANDS ST 32 BLK 335', 'WOODLANDS DR 16 BLK 546', 'WOODLANDS AVE 1 BLK 332', 'WOODLANDS ST 32 BLK 333', 'WOODLANDS AVE 1 BLK 309', 'WOODLANDS AVE 1 BLK 330', 'YISHUN AVE 5 BLK 733', 'YISHUN RING RD BLK 326', 'YISHUN AVE 6 BLK 389', 'WOODLANDS DR 16 BLK 584', 'WOODLANDS DR 16 BLK 538', 'YISHUN AVE 5 BLK 703', 'YISHUN RING RD BLK 367', 'YISHUN RING RD BLK 387', 'YISHUN AVE 11 BLK 343', 'YISHUN AVE 6 BLK 391', 'WOODLANDS AVE 1 BLK 307', 'WOODLANDS AVE 1 BLK 331', 'YISHUN ST 72 BLK 738', 'WOODLANDS ST 41 BLK 406', 'YISHUN ST 72 BLK 744', 'YISHUN AVE 5 BLK 704', 'YISHUN AVE 5 BLK 734', 'WOODLANDS DR 16 BLK 585', 'YISHUN ST 72 BLK 745', 'YISHUN CTRL BLK 320', 'YISHUN AVE 6 BLK 390', 'YISHUN RING RD BLK 365', 'YISHUN RING RD BLK 388', 'YISHUN CTRL BLK 325', 'YISHUN RING RD BLK 364', 'WOODLANDS ST 41 BLK 409', 'YISHUN RING RD BLK 366', 'WOODLANDS DR 16 BLK 539', 'YISHUN CTRL BLK 321', 'YISHUN AVE 5 BLK 705', 'WOODLANDS DR 16 BLK 545', 'YISHUN AVE 5 BLK 732', 'YISHUN ST 72 BLK 737', 'YISHUN CTRL BLK 322', 'YISHUN AVE 11 BLK 344', 'YISHUN RING RD BLK 386', 'WOODLANDS ST 41 BLK 418', 'YISHUN ST 72 BLK 746', 'YISHUN AVE 5 BLK 707', 'YISHUN AVE 5 BLK 706', 'YISHUN RING RD BLK 363', 'YISHUN ST 72 BLK 735', 'YISHUN AVE 6 BLK 394', 'WOODLANDS DR 16 BLK 544', 'YISHUN AVE 5 BLK 708', 'WOODLANDS ST 41 BLK 410', 'WOODLANDS ST 41 BLK 417', 'YISHUN RING RD BLK 395', 'WOODLANDS ST 41 BLK 408', 'WOODLANDS DR 16 BLK 586', 'YISHUN AVE 6 BLK 392', 'YISHUN ST 72 BLK 736', 'YISHUN AVE 5 BLK 709', 'WOODLANDS DR 16 BLK 587', 'YISHUN AVE 11 BLK 345', 'YISHUN AVE 6 BLK 393', 'YISHUN RING RD BLK 362', 'WOODLANDS ST 41 BLK 419', 'YISHUN AVE 11 BLK 346', 'WOODLANDS ST 41 BLK 416', 'WOODLANDS DR 16 BLK 540', 'WOODLANDS ST 41 BLK 411', 'YISHUN CTRL BLK 324', 'YISHUN ST 72 BLK 749', 'YISHUN AVE 6 BLK 396', 'YISHUN RING RD BLK 361', 'WOODLANDS DR 16 BLK 543', 'YISHUN ST 72 BLK 731', 'YISHUN ST 72 BLK 747', 'YISHUN AVE 5 BLK 710', 'YISHUN CTRL BLK 323', 'WOODLANDS ST 41 BLK 412', 'WOODLANDS ST 41 BLK 420', 'WOODLANDS ST 41 BLK 414', 'WOODLANDS DR 16 BLK 541', 'YISHUN AVE 5 BLK 711', 'WOODLANDS ST 41 BLK 415', 'YISHUN ST 72 BLK 750', 'YISHUN AVE 5 BLK 712', 'YISHUN RING RD BLK 398', 'WOODLANDS DR 16 BLK 589', 'YISHUN CTRL 1 BLK 926', 'YISHUN ST 72 BLK 748', 'YISHUN AVE 6 BLK 397', 'WOODLANDS ST 41 BLK 421', 'WOODLANDS DR 16 BLK 542', 'WOODLANDS ST 41 BLK 413', 'YISHUN RING RD BLK 360', 'WOODLANDS DR 16 BLK 588', 'YISHUN CTRL 1 BLK 927', 'YISHUN ST 72 BLK 751', 'YISHUN AVE 6 BLK 399', 'YISHUN ST 71 BLK 713', 'YISHUN RING RD BLK 359', 'WOODLANDS ST 41 BLK 427', 'WOODLANDS ST 41 BLK 426', 'WOODLANDS ST 41 BLK 424', 'YISHUN ST 72 BLK 752', 'YISHUN ST 71 BLK 730', 'YISHUN ST 71 BLK 714', 'WOODLANDS ST 41 BLK 425', 'YISHUN CTRL 1 BLK 928', 'YISHUN ST 72 BLK 755', 'YISHUN ST 72 BLK 753', 'YISHUN ST 71 BLK 725', 'YISHUN AVE 6 BLK 401', 'YISHUN AVE 6 BLK 403', 'WOODLANDS ST 41 BLK 428', 'YISHUN ST 72 BLK 754', 'WOODLANDS ST 41 BLK 437', 'YISHUN RING RD BLK 358', 'YISHUN ST 71 BLK 719', 'YISHUN AVE 6 BLK 405', 'YISHUN ST 71 BLK 718', 'YISHUN ST 72 BLK 756', 'YISHUN CTRL 1 BLK 930', 'YISHUN CTRL 1 BLK 931', 'YISHUN ST 71 BLK 726', 'YISHUN ST 72 BLK 757', 'WOODLANDS ST 41 BLK 429', 'WOODLANDS ST 41 BLK 436', 'YISHUN RING RD BLK 402', 'YISHUN AVE 6 BLK 404', 'YISHUN ST 71 BLK 724', 'YISHUN AVE 11 BLK 351', 'YISHUN RING RD BLK 352', 'YISHUN RING RD BLK 410', 'YISHUN ST 71 BLK 716', 'YISHUN ST 71 BLK 720', 'YISHUN CTRL 1 BLK 932', 'YISHUN RING RD BLK 357', 'YISHUN ST 71 BLK 715', 'YISHUN RING RD BLK 409', 'YISHUN AVE 6 BLK 408', 'YISHUN ST 72 BLK 759', 'YISHUN ST 71 BLK 727', 'YISHUN AVE 11 BLK 350A', 'YISHUN RING RD BLK 353', 'YISHUN ST 71 BLK 721', 'YISHUN ST 72 BLK 758', 'YISHUN AVE 11 BLK 349', 'YISHUN ST 71 BLK 723', 'YISHUN RING RD BLK 355A', 'YISHUN RING RD BLK 411', 'YISHUN AVE 6 BLK 407', 'YISHUN ST 71 BLK 729', 'YISHUN AVE 11 BLK 350', 'YISHUN AVE 6 BLK 406', 'YISHUN ST 72 BLK 760', 'YISHUN ST 71 BLK 722', 'YISHUN ST 71 BLK 728', 'YISHUN ST 71 BLK 717', 'YISHUN RING RD BLK 354', 'YISHUN ST 72 BLK 762', 'YISHUN RING RD BLK 412', 'YISHUN ST 72 BLK 763', 'YISHUN ST 72 BLK 764', 'YISHUN RING RD BLK 355', 'YISHUN RING RD BLK 356', 'YISHUN CTRL 1 BLK 935', 'YISHUN ST 72 BLK 761', 'YISHUN ST 72 BLK 765', 'YISHUN RING RD BLK 413', 'YISHUN AVE 3 BLK 769', 'YISHUN AVE 3 BLK 766', 'YISHUN AVE 11 BLK 415', 'YISHUN AVE 3 BLK 767', 'YISHUN AVE 3 BLK 770', 'YISHUN AVE 3 BLK 768', 'YISHUN AVE 3 BLK 771', 'YISHUN AVE 11 BLK 416', 'YISHUN AVE 4 BLK 652', 'YISHUN AVE 11 BLK 419', 'YISHUN AVE 3 BLK 772', 'YISHUN AVE 11 BLK 443', 'YISHUN AVE 4 BLK 651', 'YISHUN AVE 3 BLK 774', 'YISHUN AVE 11 BLK 442', 'YISHUN AVE 3 BLK 773', 'YISHUN AVE 4 BLK 653', 'YISHUN AVE 11 BLK 445', 'YISHUN AVE 4 BLK 654', 'YISHUN AVE 4 BLK 650', 'YISHUN AVE 11 BLK 446', 'YISHUN RING RD BLK 449', 'YISHUN AVE 11 BLK 423', 'YISHUN AVE 4 BLK 655', 'YISHUN AVE 2 BLK 776', 'YISHUN RING RD BLK 775', 'YISHUN RING RD BLK 448', 'YISHUN ST 61 BLK 602', 'YISHUN AVE 4 BLK 656', 'YISHUN ST 61 BLK 647', 'YISHUN AVE 11 BLK 440', 'YISHUN AVE 2 BLK 779', 'YISHUN ST 61 BLK 604', 'YISHUN AVE 4 BLK 661', 'YISHUN AVE 4 BLK 657', 'YISHUN AVE 11 BLK 425', 'YISHUN ST 61 BLK 645A', 'YISHUN RING RD BLK 781', 'YISHUN AVE 2 BLK 778', 'YISHUN RING RD BLK 451', 'YISHUN RING RD BLK 780', 'YISHUN RING RD BLK 450', 'YISHUN ST 61 BLK 646', 'YISHUN AVE 11 BLK 439', 'YISHUN AVE 2 BLK 777', 'YISHUN ST 61 BLK 603', 'YISHUN RING RD BLK 452', 'YISHUN RING RD BLK 782', 'YISHUN AVE 4 BLK 658', 'YISHUN AVE 11 BLK 427', 'YISHUN ST 61 BLK 645', 'YISHUN AVE 4 BLK 660', 'YISHUN AVE 2 BLK 784', 'YISHUN RING RD BLK 783', 'YISHUN ST 61 BLK 644', 'YISHUN AVE 11 BLK 438', 'YISHUN ST 61 BLK 605', 'YISHUN AVE 6 BLK 437', 'YISHUN AVE 4 BLK 659', 'YISHUN AVE 2 BLK 785', 'YISHUN RING RD BLK 786', 'YISHUN AVE 6 BLK 435', 'YISHUN ST 61 BLK 607', 'YISHUN ST 61 BLK 643', 'YISHUN ST 61 BLK 606', 'YISHUN ST 61 BLK 640', 'YISHUN RING RD BLK 787', 'YISHUN AVE 2 BLK 788', 'YISHUN ST 61 BLK 642', 'YISHUN ST 61 BLK 609', 'YISHUN AVE 11 BLK 459', 'YISHUN AVE 6 BLK 433', 'YISHUN ST 61 BLK 640A', 'YISHUN ST 61 BLK 608', 'YISHUN AVE 11 BLK 458', 'YISHUN ST 61 BLK 641', 'YISHUN RING RD BLK 792', 'YISHUN ST 61 BLK 610', 'YISHUN ST 61 BLK 639', 'YISHUN AVE 2 BLK 789', 'YISHUN AVE 2 BLK 791', 'YISHUN ST 61 BLK 637A', 'YISHUN ST 41 BLK 457', 'YISHUN AVE 4 BLK 662', 'YISHUN ST 61 BLK 612', 'YISHUN RING RD BLK 793', 'YISHUN AVE 4 BLK 664', 'YISHUN ST 41 BLK 456', 'YISHUN AVE 4 BLK 663A', 'YISHUN ST 61 BLK 611', 'YISHUN ST 61 BLK 637', 'YISHUN ST 61 BLK 638', 'YISHUN ST 61 BLK 613', 'YISHUN AVE 2 BLK 790', 'YISHUN RING RD BLK 794', 'YISHUN ST 41 BLK 455', 'YISHUN ST 61 BLK 614', 'YISHUN AVE 4 BLK 663', 'YISHUN ST 41 BLK 454', 'YISHUN ST 61 BLK 636', 'YISHUN ST 41 BLK 453', 'YISHUN AVE 4 BLK 665', 'YISHUN RING RD BLK 616', 'YISHUN RING RD BLK 796', 'YISHUN RING RD BLK 795', 'YISHUN RING RD BLK 615', 'YISHUN RING RD BLK 795A', 'YISHUN ST 61 BLK 636A', 'YISHUN RING RD BLK 796A', 'YISHUN RING RD BLK 617', 'YISHUN RING RD BLK 799', 'YISHUN RING RD BLK 797', 'YISHUN ST 61 BLK 635', 'YISHUN RING RD BLK 619', 'YISHUN ST 61 BLK 633A', 'YISHUN RING RD BLK 798', 'YISHUN ST 61 BLK 634', 'YISHUN RING RD BLK 620', 'YISHUN AVE 4 BLK 666', 'YISHUN RING RD BLK 618', 'YISHUN AVE 4 BLK 664A', 'YISHUN RING RD BLK 800', 'YISHUN RING RD BLK 621', 'YISHUN ST 61 BLK 633', 'YISHUN RING RD BLK 802', 'YISHUN ST 61 BLK 629', 'YISHUN ST 61 BLK 632', 'YISHUN ST 61 BLK 631', 'YISHUN RING RD BLK 622', 'YISHUN RING RD BLK 803', 'YISHUN ST 61 BLK 628', 'YISHUN RING RD BLK 801', 'YISHUN ST 61 BLK 625', 'YISHUN AVE 4 BLK 859', 'YISHUN RING RD BLK 624', 'YISHUN ST 61 BLK 630', 'YISHUN RING RD BLK 804', 'YISHUN AVE 4 BLK 860', 'YISHUN ST 61 BLK 627', 'YISHUN AVE 4 BLK 858', 'YISHUN RING RD BLK 805', 'YISHUN ST 61 BLK 626', 'YISHUN AVE 4 BLK 861', 'YISHUN AVE 4 BLK 862', 'YISHUN RING RD BLK 806', 'YISHUN RING RD BLK 812', 'YISHUN AVE 4 BLK 863', 'YISHUN RING RD BLK 855', 'YISHUN RING RD BLK 808', 'YISHUN RING RD BLK 849', 'YISHUN RING RD BLK 846', 'YISHUN RING RD BLK 807', 'YISHUN RING RD BLK 854', 'YISHUN RING RD BLK 809', 'YISHUN AVE 4 BLK 864', 'YISHUN RING RD BLK 853', 'YISHUN RING RD BLK 811', 'YISHUN ST 81 BLK 838', 'YISHUN ST 81 BLK 850', 'YISHUN ST 81 BLK 848', 'YISHUN RING RD BLK 810', 'YISHUN ST 81 BLK 837', 'YISHUN ST 81 BLK 841', 'YISHUN ST 81 BLK 852', 'YISHUN ST 81 BLK 839', 'YISHUN ST 81 BLK 851', 'YISHUN ST 81 BLK 840', 'YISHUN ST 81 BLK 844', 'YISHUN ST 81 BLK 836', 'YISHUN ST 81 BLK 874', 'YISHUN ST 81 BLK 828', 'YISHUN ST 81 BLK 835', 'YISHUN ST 81 BLK 834', 'YISHUN ST 81 BLK 873', 'YISHUN ST 81 BLK 875', 'YISHUN ST 81 BLK 827', 'YISHUN ST 81 BLK 876', 'YISHUN ST 81 BLK 866', 'YISHUN ST 81 BLK 829', 'YISHUN ST 81 BLK 832', 'YISHUN ST 81 BLK 833', 'YISHUN ST 81 BLK 879', 'YISHUN ST 81 BLK 825', 'YISHUN ST 81 BLK 878', 'YISHUN ST 81 BLK 865', 'YISHUN ST 81 BLK 830', 'YISHUN ST 81 BLK 867', 'YISHUN ST 81 BLK 826', 'YISHUN ST 81 BLK 880', 'YISHUN ST 81 BLK 877', 'YISHUN ST 81 BLK 868', 'YISHUN ST 81 BLK 824', 'YISHUN ST 81 BLK 872', 'YISHUN ST 81 BLK 821', 'YISHUN ST 81 BLK 870', 'YISHUN ST 81 BLK 820', 'YISHUN ST 81 BLK 871', 'YISHUN ST 81 BLK 819', 'YISHUN ST 81 BLK 817', 'YISHUN ST 81 BLK 816', 'PUNGGOL PL BLK 306C', 'PUNGGOL PL BLK 306A', 'PUNGGOL DR BLK 306D', 'PUNGGOL PL BLK 306B', 'PUNGGOL DR BLK 305D', 'PUNGGOL RD BLK 305B', 'PUNGGOL RD BLK 305A', 'PUNGGOL DR BLK 612C', 'PUNGGOL DR BLK 612B', 'PUNGGOL DR BLK 612A', 'PUNGGOL DR BLK 612D', 'CHOA CHU KANG CRES BLK 683C', 'CHOA CHU KANG CRES BLK 686C', 'CHOA CHU KANG CRES BLK 684D', 'CHOA CHU KANG CRES BLK 686A', 'PUNGGOL DR BLK 613A', 'CHOA CHU KANG CRES BLK 686B', 'CHOA CHU KANG CRES BLK 684C', 'PUNGGOL RD BLK 604A', 'PUNGGOL PL BLK 302A', 'CHOA CHU KANG DR BLK 687A', 'PUNGGOL FIELD BLK 267A', 'PUNGGOL FIELD BLK 267B', 'CHOA CHU KANG DR BLK 687B', 'PUNGGOL PL BLK 302B', 'PUNGGOL FIELD BLK 267C', 'PUNGGOL DR BLK 613B', 'PUNGGOL FIELD BLK 270C', 'PUNGGOL WALK BLK 271B', 'CHOA CHU KANG CRES BLK 686D', 'PUNGGOL CTRL BLK 303A', 'PUNGGOL FIELD BLK 268A', 'PUNGGOL FIELD BLK 270B', 'PUNGGOL DR BLK 613C', 'CHOA CHU KANG CRES BLK 685A', 'CHOA CHU KANG CRES BLK 684A', 'PUNGGOL FIELD BLK 270A', 'PUNGGOL RD BLK 604B', 'CHOA CHU KANG CRES BLK 684B', 'CHOA CHU KANG DR BLK 688A', 'PUNGGOL WALK BLK 271C', 'CHOA CHU KANG CRES BLK 683A', 'CHOA CHU KANG DR BLK 687D', 'PUNGGOL CTRL BLK 303B', 'PUNGGOL CTRL BLK 301A', 'PUNGGOL CTRL BLK 301C', 'PUNGGOL CTRL BLK 301B', 'PUNGGOL CTRL BLK 303C', 'PUNGGOL PL BLK 303D', 'PUNGGOL PL BLK 302D', 'PUNGGOL PL BLK 301D', 'PUNGGOL PL BLK 302C', 'EDGEFIELD PLAINS BLK 615B', 'PUNGGOL DR BLK 613D', 'CHOA CHU KANG CRES BLK 683B', 'CHOA CHU KANG DR BLK 687C', 'PUNGGOL WALK BLK 271A', 'PUNGGOL FIELD BLK 268B', 'PUNGGOL RD BLK 604C', 'PUNGGOL RD BLK 603A', 'CHOA CHU KANG CRES BLK 685B', 'PUNGGOL WALK BLK 271D', 'CHOA CHU KANG DR BLK 688B', 'PUNGGOL FIELD BLK 268C', 'CHOA CHU KANG CRES BLK 685C', 'PUNGGOL FIELD BLK 268D', 'PUNGGOL RD BLK 603C', 'EDGEFIELD PLAINS BLK 614A', 'PUNGGOL CTRL BLK 602A', 'PUNGGOL WALK BLK 272B', 'CHOA CHU KANG CRES BLK 688C', 'PUNGGOL PL BLK 274B', 'PUNGGOL RD BLK 603B', 'PUNGGOL CTRL BLK 602B', 'CHOA CHU KANG CRES BLK 690B', 'CHOA CHU KANG CRES BLK 680', 'PUNGGOL CTRL BLK 293', 'PUNGGOL FIELD BLK 269C', 'PUNGGOL FIELD BLK 269B', 'PUNGGOL FIELD BLK 269A', 'CHOA CHU KANG DR BLK 689B', 'CHOA CHU KANG DR BLK 689A', 'PUNGGOL PL BLK 274A', 'PUNGGOL PL BLK 274C', 'CHOA CHU KANG CRES BLK 670', 'PUNGGOL PL BLK 274D', 'PUNGGOL WALK BLK 272A', 'PUNGGOL CTRL BLK 601D', 'EDGEFIELD PLAINS BLK 615C', 'EDGEFIELD PLAINS BLK 615A', 'CHOA CHU KANG CRES BLK 681', 'EDGEFIELD PLAINS BLK 614B', 'CHOA CHU KANG CRES BLK 669', 'PUNGGOL DR BLK 619B', 'PUNGGOL WALK BLK 272C', 'CHOA CHU KANG CRES BLK 690A', 'PUNGGOL WALK BLK 272D', 'PUNGGOL CTRL BLK 299', 'CHOA CHU KANG CRES BLK 682', 'CHOA CHU KANG CRES BLK 690C', 'CHOA CHU KANG CRES BLK 679', 'PUNGGOL PL BLK 273D', 'PUNGGOL PL BLK 288C', 'CHOA CHU KANG CRES BLK 670A', 'PUNGGOL CTRL BLK 601C', 'PUNGGOL CTRL BLK 298', 'PUNGGOL CTRL BLK 294', 'CHOA CHU KANG CRES BLK 671', 'PUNGGOL PL BLK 288B', 'PUNGGOL PL BLK 289A', 'CHOA CHU KANG CRES BLK 667', 'PUNGGOL CTRL BLK 601A', 'PUNGGOL DR BLK 619A', 'PUNGGOL CTRL BLK 602C', 'CHOA CHU KANG CRES BLK 666', 'PUNGGOL DR BLK 619C', 'PUNGGOL PL BLK 288A', 'PUNGGOL DR BLK 617B', 'PUNGGOL DR BLK 617A', 'CHOA CHU KANG CRES BLK 664', 'PUNGGOL PL BLK 273C', 'PUNGGOL PL BLK 273A', 'PUNGGOL CTRL BLK 297', 'PUNGGOL CTRL BLK 601B', 'CHOA CHU KANG CRES BLK 672', 'PUNGGOL DR BLK 619D', 'CHOA CHU KANG CRES BLK 690D', 'CHOA CHU KANG CRES BLK 676A', 'CHOA CHU KANG CRES BLK 671A', 'PUNGGOL CTRL BLK 295', 'PUNGGOL PL BLK 273B', 'PUNGGOL PL BLK 289D', 'PUNGGOL DR BLK 617C', 'CHOA CHU KANG CRES BLK 676', 'CHOA CHU KANG CRES BLK 665', 'CHOA CHU KANG CRES BLK 672A', 'CHOA CHU KANG CRES BLK 663', 'CHOA CHU KANG CRES BLK 672B', 'PUNGGOL DR BLK 618D', 'CHOA CHU KANG CRES BLK 678', 'PUNGGOL RD BLK 195E', 'CHOA CHU KANG CRES BLK 668', 'PUNGGOL DR BLK 618C', 'CHOA CHU KANG CRES BLK 677', 'PUNGGOL WALK BLK 211A', 'CHOA CHU KANG CRES BLK 674A', 'PUNGGOL DR BLK 617D', 'PUNGGOL PL BLK 289C', 'PUNGGOL CTRL BLK 296', 'CHOA CHU KANG CRES BLK 674', 'PUNGGOL RD BLK 195A', 'CHOA CHU KANG CRES BLK 691B', 'PUNGGOL DR BLK 618A', 'PUNGGOL RD BLK 195D', 'PUNGGOL DR BLK 618B', 'CHOA CHU KANG CRES BLK 675', 'PUNGGOL PL BLK 208B', 'PUNGGOL DR BLK 633A', 'CHOA CHU KANG CRES BLK 662', 'CHOA CHU KANG CRES BLK 673', 'CHOA CHU KANG CRES BLK 659', 'PUNGGOL RD BLK 195B', 'CHOA CHU KANG CRES BLK 673A', 'CHOA CHU KANG CRES BLK 691A', 'PUNGGOL PL BLK 289B', 'PUNGGOL DR BLK 633B', 'PUNGGOL RD BLK 195C', 'PUNGGOL WALK BLK 211C', 'CHOA CHU KANG CRES BLK 660', 'PUNGGOL WALK BLK 211B', 'CHOA CHU KANG ST 62 BLK 614', 'PUNGGOL DR BLK 635A', 'PUNGGOL WALK BLK 211D', 'PUNGGOL DR BLK 632A', 'PUNGGOL DR BLK 635B', 'PUNGGOL DR BLK 632C', 'CHOA CHU KANG CRES BLK 661', 'CHOA CHU KANG ST 62 BLK 615', 'PUNGGOL PL BLK 207D', 'PUNGGOL WALK BLK 213A', 'PUNGGOL PL BLK 208C', 'PUNGGOL DR BLK 632B', 'PUNGGOL PL BLK 208A', 'PUNGGOL CTRL BLK 622C', 'PUNGGOL WALK BLK 213B', 'CHOA CHU KANG CRES BLK 658', 'PUNGGOL DR BLK 635C', 'CHOA CHU KANG ST 62 BLK 613', 'CHOA CHU KANG CRES BLK 692B', 'PUNGGOL FIELD BLK 199C', 'CHOA CHU KANG NTH 7 BLK 617', 'PUNGGOL DR BLK 636B', 'CHOA CHU KANG CRES BLK 657', 'PUNGGOL PL BLK 207A', 'PUNGGOL FIELD BLK 199D', 'PUNGGOL FIELD BLK 201A', 'PUNGGOL PL BLK 207B', 'CHOA CHU KANG NTH 7 BLK 618', 'CHOA CHU KANG CRES BLK 656', 'PUNGGOL PL BLK 207C', 'PUNGGOL DR BLK 636A', 'PUNGGOL CTRL BLK 624C', 'CHOA CHU KANG NTH 7 BLK 619', 'CHOA CHU KANG CRES BLK 692A', 'PUNGGOL FIELD BLK 201B', 'PUNGGOL FIELD BLK 197B', 'CHOA CHU KANG ST 62 BLK 612', 'PUNGGOL CTRL BLK 622A', 'PUNGGOL CTRL BLK 622B', 'PUNGGOL DR BLK 638A', 'PUNGGOL DR BLK 638B', 'PUNGGOL FIELD BLK 199B', 'PUNGGOL CTRL BLK 191', 'CHOA CHU KANG ST 62 BLK 611', 'PUNGGOL PL BLK 210A', 'PUNGGOL PL BLK 210B', 'PUNGGOL CTRL BLK 192', 'PUNGGOL PL BLK 209A', 'EDGEFIELD PLAINS BLK 193', 'PUNGGOL FIELD BLK 202A', 'PUNGGOL CTRL BLK 624B', 'PUNGGOL DR BLK 638C', 'PUNGGOL CTRL BLK 624A', 'PUNGGOL WALK BLK 212A', 'CHOA CHU KANG ST 62 BLK 620', 'PUNGGOL FIELD BLK 199A', 'PUNGGOL CTRL BLK 190', 'PUNGGOL PL BLK 210C', 'CHOA CHU KANG ST 62 BLK 616', 'PUNGGOL FIELD BLK 196D', 'PUNGGOL DR BLK 637A', 'PUNGGOL FIELD BLK 201D', 'PUNGGOL DR BLK 637B', 'PUNGGOL CTRL BLK 623A', 'PUNGGOL CTRL BLK 623B', 'PUNGGOL CTRL BLK 623C', 'PUNGGOL FIELD BLK 197A', 'CHOA CHU KANG ST 62 BLK 610', 'PUNGGOL CTRL BLK 188', 'EDGEFIELD PLAINS BLK 178', 'PUNGGOL FIELD BLK 196A', 'CHOA CHU KANG ST 62 BLK 609', 'PUNGGOL FIELD BLK 201C', 'PUNGGOL FIELD BLK 196C', 'EDGEFIELD PLAINS BLK 181', 'PUNGGOL PL BLK 209C', 'PUNGGOL DR BLK 637C', 'PUNGGOL FIELD BLK 102B', 'CHOA CHU KANG ST 62 BLK 621', 'PUNGGOL DR BLK 641C', 'PUNGGOL DR BLK 637D', 'PUNGGOL FIELD BLK 202B', 'EDGEFIELD PLAINS BLK 176A', 'PUNGGOL FIELD BLK 196B', 'PUNGGOL FIELD BLK 102A', 'CHOA CHU KANG ST 62 BLK 607', 'PUNGGOL DR BLK 641B', 'PUNGGOL DR BLK 642D', 'PUNGGOL FIELD BLK 102C', 'PUNGGOL FIELD BLK 204A', 'EDGEFIELD PLAINS BLK 183', 'PUNGGOL CTRL BLK 187', 'CHOA CHU KANG ST 62 BLK 625', 'EDGEFIELD PLAINS BLK 182', 'EDGEFIELD PLAINS BLK 176C', 'PUNGGOL DR BLK 642C', 'PUNGGOL FIELD BLK 204B', 'PUNGGOL DR BLK 641A', 'CHOA CHU KANG ST 64 BLK 643', 'CHOA CHU KANG ST 62 BLK 606', 'PUNGGOL FIELD BLK 101D', 'PUNGGOL FIELD BLK 205A', 'PUNGGOL CTRL BLK 186', 'PUNGGOL FIELD BLK 203A', 'EDGEFIELD PLAINS BLK 176B', 'CHOA CHU KANG ST 62 BLK 608', 'CHOA CHU KANG ST 64 BLK 642', 'CHOA CHU KANG ST 64 BLK 641', 'CHOA CHU KANG ST 62 BLK 626', 'PUNGGOL FIELD BLK 102D', 'PUNGGOL DR BLK 642B', 'EDGEFIELD PLAINS BLK 103A', 'PUNGGOL FIELD BLK 175D', 'COMPASSVALE CRES BLK 295A', 'PUNGGOL FIELD BLK 204D', 'PUNGGOL FIELD BLK 101C', 'CHOA CHU KANG ST 62 BLK 605', 'PUNGGOL CTRL BLK 646', 'CHOA CHU KANG ST 62 BLK 604', 'PUNGGOL DR BLK 642A', 'EDGEFIELD PLAINS BLK 184', 'PUNGGOL FIELD BLK 175C', 'PUNGGOL CTRL BLK 647', 'PUNGGOL FIELD BLK 204C', 'PUNGGOL FIELD BLK 101A', 'PUNGGOL FIELD BLK 203B', 'COMPASSVALE CRES BLK 295B', 'CHOA CHU KANG ST 62 BLK 627', 'EDGEFIELD PLAINS BLK 103B', 'CHOA CHU KANG ST 64 BLK 639', 'CHOA CHU KANG ST 64 BLK 640', 'EDGEFIELD PLAINS BLK 185', 'PUNGGOL CTRL BLK 645', 'CHOA CHU KANG ST 64 BLK 638', 'EDGEFIELD PLAINS BLK 176D', 'PUNGGOL FIELD BLK 101B', 'COMPASSVALE CRES BLK 296B', 'CHOA CHU KANG ST 62 BLK 603', 'PUNGGOL FIELD BLK 175B', 'PUNGGOL CTRL BLK 648', 'EDGEFIELD PLAINS BLK 105C', 'PUNGGOL FIELD BLK 106D', 'COMPASSVALE CRES BLK 296C', 'PUNGGOL CTRL BLK 643', 'EDGEFIELD PLAINS BLK 103C', 'EDGEFIELD PLAINS BLK 105D', 'PUNGGOL FIELD BLK 106C', 'EDGEFIELD PLAINS BLK 107A', 'PUNGGOL FIELD BLK 175A', 'CHOA CHU KANG NTH 6 BLK 637', 'CHOA CHU KANG NTH 6 BLK 636', 'CHOA CHU KANG NTH 6 BLK 635', 'PUNGGOL CTRL BLK 649', 'EDGEFIELD PLAINS BLK 105B', 'COMPASSVALE CRES BLK 295C', 'PUNGGOL FIELD BLK 106B', 'CHOA CHU KANG ST 62 BLK 602', 'EDGEDALE PLAINS BLK 174D', 'PUNGGOL FIELD BLK 173A', 'EDGEFIELD PLAINS BLK 107B', 'COMPASSVALE CRES BLK 296A', 'EDGEDALE PLAINS BLK 174C', 'COMPASSVALE ST BLK 299B', 'PUNGGOL CTRL BLK 652', 'CHOA CHU KANG ST 62 BLK 601', 'EDGEFIELD PLAINS BLK 107C', 'EDGEFIELD PLAINS BLK 104A', 'PUNGGOL CTRL BLK 651', 'COMPASSVALE ST BLK 291D', 'CHOA CHU KANG NTH 6 BLK 632', 'EDGEFIELD PLAINS BLK 111', 'COMPASSVALE CRES BLK 290C', 'EDGEFIELD PLAINS BLK 107D', 'EDGEFIELD PLAINS BLK 105A', 'PUNGGOL FIELD BLK 106A', 'CHOA CHU KANG NTH 6 BLK 631', 'CHOA CHU KANG NTH 6 BLK 634', 'CHOA CHU KANG NTH 6 BLK 633', 'PUNGGOL CTRL BLK 162A', 'EDGEDALE PLAINS BLK 174B', 'EDGEFIELD PLAINS BLK 104B', 'PUNGGOL FIELD BLK 173B', 'PUNGGOL CTRL BLK 162B', 'COMPASSVALE ST BLK 291C', 'CHOA CHU KANG ST 52 BLK 562', 'COMPASSVALE ST BLK 299C', 'EDGEFIELD PLAINS BLK 112', 'COMPASSVALE CRES BLK 290B', 'CHOA CHU KANG NTH 6 BLK 555', 'PUNGGOL FIELD BLK 173C', 'EDGEFIELD PLAINS BLK 114', 'EDGEDALE PLAINS BLK 174A', 'CHOA CHU KANG ST 52 BLK 569', 'PUNGGOL FIELD BLK 110A', 'COMPASSVALE CRES BLK 290A', 'COMPASSVALE ST BLK 298C', 'COMPASSVALE ST BLK 292A', 'CHOA CHU KANG NTH 6 BLK 790', 'EDGEFIELD PLAINS BLK 118', 'CHOA CHU KANG NTH 6 BLK 559', 'COMPASSVALE ST BLK 291A', 'PUNGGOL CTRL BLK 161A', 'COMPASSVALE ST BLK 299A', 'CHOA CHU KANG NTH 6 BLK 560', 'CHOA CHU KANG NTH 6 BLK 561', 'PUNGGOL FIELD BLK 110B', 'CHOA CHU KANG NTH 6 BLK 788', 'PUNGGOL CTRL BLK 161B', 'CHOA CHU KANG NTH 6 BLK 789', 'PUNGGOL FIELD BLK 173D', 'COMPASSVALE ST BLK 291B', 'EDGEDALE PLAINS BLK 172B', 'CHOA CHU KANG NTH 6 BLK 787', 'RIVERVALE DR BLK 189B', 'CHOA CHU KANG NTH 6 BLK 553', 'CHOA CHU KANG ST 52 BLK 563', 'CHOA CHU KANG NTH 6 BLK 554', 'PUNGGOL CTRL BLK 163A', 'COMPASSVALE ST BLK 298D', 'CHOA CHU KANG NTH 6 BLK 556', 'CHOA CHU KANG ST 52 BLK 568', 'PUNGGOL CTRL BLK 163B', 'EDGEFIELD PLAINS BLK 117', 'PUNGGOL CTRL BLK 160A', 'COMPASSVALE ST BLK 262A', 'PUNGGOL FIELD BLK 110C', 'RIVERVALE DR BLK 189A', 'CHOA CHU KANG NTH 6 BLK 558', 'EDGEDALE PLAINS BLK 109D', 'COMPASSVALE ST BLK 292B', 'EDGEDALE PLAINS BLK 172C', 'COMPASSVALE ST BLK 298B', 'CHOA CHU KANG NTH 6 BLK 791', 'CHOA CHU KANG NTH 6 BLK 557', 'CHOA CHU KANG ST 52 BLK 564', 'RIVERVALE DR BLK 189C', 'PUNGGOL CTRL BLK 160B', 'EDGEDALE PLAINS BLK 172A', 'PUNGGOL FIELD BLK 110D', 'COMPASSVALE ST BLK 262B', 'EDGEFIELD PLAINS BLK 116', 'COMPASSVALE ST BLK 298A', 'PUNGGOL CTRL BLK 165A', 'RIVERVALE DR BLK 190A', 'EDGEFIELD PLAINS BLK 115', 'EDGEDALE PLAINS BLK 109C', 'PUNGGOL CTRL BLK 165B', 'CHOA CHU KANG DR BLK 786', 'CHOA CHU KANG NTH 6 BLK 792', 'COMPASSVALE ST BLK 297A', 'EDGEDALE PLAINS BLK 171B', 'RIVERVALE DR BLK 188D', 'CHOA CHU KANG ST 52 BLK 565', 'CHOA CHU KANG ST 54 BLK 770', 'EDGEDALE PLAINS BLK 109B', 'CHOA CHU KANG ST 52 BLK 567', 'FERNVALE LINK BLK 430D', 'EDGEDALE PLAINS BLK 171C', 'PUNGGOL CTRL BLK 166A', 'PUNGGOL CTRL BLK 166B', 'FERNVALE RD BLK 434B', 'CHOA CHU KANG ST 52 BLK 566', 'CHOA CHU KANG DR BLK 784', 'PUNGGOL EAST BLK 168A', 'COMPASSVALE ST BLK 297B', 'COMPASSVALE ST BLK 262C', 'PUNGGOL EAST BLK 168B', 'RIVERVALE DR BLK 191B', 'CHOA CHU KANG DR BLK 785', 'CHOA CHU KANG ST 52 BLK 552', 'EDGEDALE PLAINS BLK 171A', 'COMPASSVALE ST BLK 250A', 'PUNGGOL EAST BLK 167D', 'EDGEDALE PLAINS BLK 109A', 'CHOA CHU KANG ST 54 BLK 771', 'COMPASSVALE RD BLK 255', 'RIVERVALE DR BLK 188C', 'RIVERVALE DR BLK 192A', 'PUNGGOL EAST BLK 167C', 'RIVERVALE DR BLK 188B', 'FERNVALE RD BLK 434A', 'RIVERVALE DR BLK 187B', 'SENGKANG WEST WAY BLK 450A', 'RIVERVALE DR BLK 192C', 'RIVERVALE DR BLK 188A', 'EDGEDALE PLAINS BLK 126A', 'PUNGGOL EAST BLK 167B', 'EDGEDALE PLAINS BLK 126B', 'CHOA CHU KANG ST 52 BLK 551', 'SENGKANG EAST WAY BLK 260D', 'CHOA CHU KANG ST 54 BLK 769', 'COMPASSVALE ST BLK 262D', 'RIVERVALE DR BLK 192B', 'RIVERVALE DR BLK 190B', 'SENGKANG WEST WAY BLK 433B', 'PUNGGOL EAST BLK 167A', 'SENGKANG EAST WAY BLK 260C', 'CHOA CHU KANG ST 54 BLK 768', 'COMPASSVALE RD BLK 254', 'COMPASSVALE RD BLK 259A', 'COMPASSVALE ST BLK 253', 'EDGEDALE PLAINS BLK 126C', 'CHOA CHU KANG ST 52 BLK 544', 'ANCHORVALE LINK BLK 318B', 'SENGKANG WEST WAY BLK 432B', 'SENGKANG WEST WAY BLK 450B', 'CHOA CHU KANG ST 52 BLK 550', 'ANCHORVALE RD BLK 317A', 'FERNVALE LINK BLK 430C', 'FERNVALE LINK BLK 430B', 'FERNVALE LINK BLK 430A', 'COMPASSVALE RD BLK 259B', 'PUNGGOL FIELD BLK 168C', 'RIVERVALE CRES BLK 185D', 'CHOA CHU KANG ST 52 BLK 543', 'ANCHORVALE RD BLK 317B', 'RIVERVALE DR BLK 191A', 'COMPASSVALE ST BLK 252', 'CHOA CHU KANG ST 54 BLK 767', 'SENGKANG EAST WAY BLK 325A', 'SENGKANG WEST WAY BLK 450C', 'PUNGGOL FIELD BLK 168D', 'RIVERVALE DR BLK 187A', 'ANCHORVALE LINK BLK 318A', 'EDGEDALE PLAINS BLK 126D', 'COMPASSVALE RD BLK 256', 'SENGKANG EAST WAY BLK 261B', 'FERNVALE RD BLK 435A', 'EDGEDALE PLAINS BLK 130', 'CHOA CHU KANG ST 52 BLK 548', 'COMPASSVALE ST BLK 251', 'CHOA CHU KANG ST 52 BLK 547', 'CHOA CHU KANG ST 52 BLK 549', 'PUNGGOL FIELD BLK 170A', 'CHOA CHU KANG NTH 5 BLK 766', 'COMPASSVALE RD BLK 244', 'RIVERVALE DR BLK 193', 'PUNGGOL FIELD BLK 169A', 'SENGKANG EAST WAY BLK 260B', 'SENGKANG EAST WAY BLK 261A', 'SENGKANG EAST WAY BLK 261C', 'SENGKANG EAST WAY BLK 261D', 'COMPASSVALE RD BLK 258D', 'FERNVALE RD BLK 435C', 'ANCHORVALE RD BLK 317C', 'PUNGGOL FIELD WALK BLK 128A', 'SENGKANG EAST WAY BLK 324A', 'CHOA CHU KANG ST 52 BLK 545', 'CHOA CHU KANG ST 52 BLK 542', 'ANCHORVALE RD BLK 317D', 'SENGKANG EAST WAY BLK 323A', 'SENGKANG WEST WAY BLK 448B', 'COMPASSVALE RD BLK 259C', 'ANCHORVALE LINK BLK 318C', 'EDGEDALE PLAINS BLK 138', 'PUNGGOL FIELD BLK 170B', 'CHOA CHU KANG NTH 5 BLK 758', 'RIVERVALE CRES BLK 185A', 'SENGKANG EAST WAY BLK 325C', 'FERNVALE RD BLK 435B', 'COMPASSVALE RD BLK 258C', 'EDGEDALE PLAINS BLK 132', 'CHOA CHU KANG NTH 5 BLK 764', 'RIVERVALE DR BLK 186D', 'SENGKANG EAST WAY BLK 260A', 'PUNGGOL FIELD WALK BLK 128B', 'RIVERVALE CRES BLK 185C', 'FERNVALE RD BLK 436A', 'SENGKANG WEST WAY BLK 448A', 'CHOA CHU KANG NTH 5 BLK 759', 'CHOA CHU KANG NTH 5 BLK 760', 'PUNGGOL FIELD BLK 170C', 'COMPASSVALE ST BLK 250D', 'CHOA CHU KANG NTH 5 BLK 761', 'COMPASSVALE RD BLK 258A', 'CHOA CHU KANG ST 52 BLK 546', 'ANCHORVALE LINK BLK 318D', 'PUNGGOL FIELD BLK 169B', 'PUNGGOL FIELD BLK 169C', 'ANCHORVALE LINK BLK 316C', 'ANCHORVALE LINK BLK 316B', 'SENGKANG EAST WAY BLK 323C', 'COMPASSVALE RD BLK 245', 'PUNGGOL FIELD WALK BLK 128D', 'SENGKANG EAST WAY BLK 325B', 'CHOA CHU KANG NTH 5 BLK 763', 'CHOA CHU KANG ST 52 BLK 541', 'CHOA CHU KANG NTH 5 BLK 757', 'RIVERVALE DR BLK 186A', 'CHOA CHU KANG ST 52 BLK 540', 'COMPASSVALE RD BLK 257C', 'CHOA CHU KANG NTH 5 BLK 765', 'EDGEDALE PLAINS BLK 133', 'FERNVALE RD BLK 436B', 'CHOA CHU KANG ST 51 BLK 531', 'RIVERVALE DR BLK 195', 'COMPASSVALE RD BLK 258B', 'SENGKANG WEST AVE BLK 438B', 'RIVERVALE DR BLK 186C', 'RIVERVALE DR BLK 194', 'RIVERVALE CRES BLK 185B', 'SENGKANG WEST AVE BLK 438A', 'RIVERVALE CRES BLK 184C', 'RIVERVALE DR BLK 196', 'CHOA CHU KANG ST 51 BLK 530', 'COMPASSVALE ST BLK 250C', 'SENGKANG EAST WAY BLK 324D', 'JLN KAYU BLK 447B', 'PUNGGOL FIELD WALK BLK 128C', 'CHOA CHU KANG ST 51 BLK 529', 'RIVERVALE DR BLK 186B', 'COMPASSVALE RD BLK 257B', 'SENGKANG EAST WAY BLK 324B', 'COMPASSVALE RD BLK 246', 'SENGKANG EAST WAY BLK 324C', 'ANCHORVALE LINK BLK 316A', 'RIVERVALE DR BLK 197', 'CHOA CHU KANG NTH 5 BLK 751', 'RIVERVALE CRES BLK 150', 'FERNVALE RD BLK 441D', 'CHOA CHU KANG NTH 5 BLK 762', 'ANCHORVALE RD BLK 315C', 'FERNVALE RD BLK 445B', 'COMPASSVALE RD BLK 257A', 'CHOA CHU KANG ST 51 BLK 528', 'CHOA CHU KANG NTH 5 BLK 756', 'CHOA CHU KANG NTH 5 BLK 753', 'CHOA CHU KANG NTH 5 BLK 752', 'CHOA CHU KANG NTH 5 BLK 755', 'RIVERVALE CRES BLK 184B', 'COMPASSVALE RD BLK 248', 'FERNVALE RD BLK 436C', 'EDGEDALE PLAINS BLK 134', 'CHOA CHU KANG NTH 5 BLK 754', 'JLN KAYU BLK 446C', 'JLN KAYU BLK 447A', 'SENGKANG WEST AVE BLK 439C', 'RIVERVALE CRES BLK 184A', 'ANCHORVALE RD BLK 315B', 'COMPASSVALE RD BLK 247', 'EDGEDALE PLAINS BLK 135', 'FERNVALE RD BLK 445A', 'FERNVALE RD BLK 436D', 'FERNVALE RD BLK 441C', 'RIVERVALE CRES BLK 151', 'COMPASSVALE ST BLK 250B', 'SENGKANG EAST WAY BLK 323B', 'SENGKANG WEST AVE BLK 439B', 'ANCHORVALE RD BLK 313D', 'ANCHORVALE RD BLK 315A', 'ANCHORVALE RD BLK 313C', 'CHOA CHU KANG ST 51 BLK 527', 'ANCHORVALE DR BLK 322C', 'ANCHORVALE LANE BLK 311C', 'ANCHORVALE LANE BLK 311D', 'ANCHORVALE LANE BLK 311B', 'JLN KAYU BLK 446B', 'SENGKANG WEST AVE BLK 439A', 'COMPASSVALE RD BLK 249', 'ANCHORVALE LANE BLK 312A', 'RIVERVALE CRES BLK 152', 'ANCHORVALE LANE BLK 312B', 'ANCHORVALE RD BLK 309A', 'CHOA CHU KANG ST 51 BLK 523', 'CHOA CHU KANG ST 53 BLK 708', 'ANCHORVALE LINK BLK 314C', 'CHOA CHU KANG ST 53 BLK 701', 'CHOA CHU KANG ST 53 BLK 702', 'RIVERVALE CRES BLK 183A', 'ANCHORVALE LINK BLK 314D', 'CHOA CHU KANG ST 51 BLK 524', 'ANCHORVALE DR BLK 319B', 'ANCHORVALE RD BLK 313A', 'RIVERVALE CRES BLK 149', 'RIVERVALE CRES BLK 183D', 'ANCHORVALE DR BLK 322B', 'RIVERVALE CRES BLK 153', 'ANCHORVALE DR BLK 322A', 'CHOA CHU KANG ST 51 BLK 525', 'CHOA CHU KANG ST 51 BLK 535', 'ANCHORVALE RD BLK 313B', 'CHOA CHU KANG ST 51 BLK 526', 'CHOA CHU KANG ST 53 BLK 703', 'COMPASSVALE WALK BLK 239', 'FERNVALE RD BLK 443C', 'ANCHORVALE DR BLK 320B', 'FERNVALE RD BLK 441A', 'FERNVALE RD BLK 443A', 'ANCHORVALE LINK BLK 314B', 'RIVERVALE CRES BLK 154', 'RIVERVALE CRES BLK 183B', 'RIVERVALE CRES BLK 148', 'FERNVALE RD BLK 443B', 'ANCHORVALE DR BLK 320C', 'FERNVALE RD BLK 441B', 'CHOA CHU KANG ST 51 BLK 517', 'RIVERVALE CRES BLK 156', 'CHOA CHU KANG ST 53 BLK 704', 'ANCHORVALE LANE BLK 311A', 'ANCHORVALE LINK BLK 314A', 'ANCHORVALE RD BLK 310B', 'ANCHORVALE RD BLK 310A', 'COMPASSVALE WALK BLK 240', 'ANCHORVALE DR BLK 320D', 'COMPASSVALE WALK BLK 235', 'ANCHORVALE DR BLK 321B', 'ANCHORVALE RD BLK 309C', 'ANCHORVALE RD BLK 309B', 'CHOA CHU KANG ST 51 BLK 518', 'RIVERVALE CRES BLK 183C', 'RIVERVALE CRES BLK 155', 'RIVERVALE DR BLK 146', 'ANCHORVALE RD BLK 309D', 'ANCHORVALE DR BLK 319A', 'COMPASSVALE WALK BLK 238', 'COMPASSVALE WALK BLK 234', 'ANCHORVALE DR BLK 321C', 'RIVERVALE ST BLK 127', 'RIVERVALE CRES BLK 142', 'CHOA CHU KANG ST 51 BLK 516', 'CHOA CHU KANG ST 53 BLK 707', 'COMPASSVALE WALK BLK 232', 'COMPASSVALE WALK BLK 236', 'RIVERVALE CRES BLK 147', 'CHOA CHU KANG ST 53 BLK 705', 'ANCHORVALE RD BLK 307D', 'RIVERVALE ST BLK 128', 'ANCHORVALE LINK BLK 306A', 'COMPASSVALE WALK BLK 237', 'CHOA CHU KANG ST 53 BLK 706', 'CHOA CHU KANG ST 51 BLK 514', 'FERNVALE RD BLK 411A', 'ANCHORVALE DR BLK 319C', 'RIVERVALE CRES BLK 180A', 'COMPASSVALE WALK BLK 241', 'CHOA CHU KANG ST 51 BLK 515', 'ANCHORVALE DR BLK 320A', 'RIVERVALE DR BLK 143', 'RIVERVALE ST BLK 132', 'FERNVALE RD BLK 411B', 'ANCHORVALE DR BLK 321A', 'FERNVALE RD BLK 410C', 'ANCHORVALE RD BLK 307C', 'ANCHORVALE LINK BLK 306C', 'ANCHORVALE RD BLK 308A', 'COMPASSVALE WALK BLK 233', 'RIVERVALE DR BLK 145', 'ANCHORVALE RD BLK 308B', 'RIVERVALE ST BLK 129', 'RIVERVALE CRES BLK 180B', 'FERNVALE LINK BLK 412B', 'FERNVALE LINK BLK 413B', 'CHOA CHU KANG ST 51 BLK 513', 'SEGAR RD BLK 480', 'FERNVALE RD BLK 410A', 'SEGAR RD BLK 479', 'RIVERVALE ST BLK 131', 'ANCHORVALE RD BLK 308C', 'SEGAR RD BLK 478', 'FERNVALE RD BLK 409B', 'ANCHORVALE DR BLK 301A', 'FERNVALE RD BLK 410B', 'ANCHORVALE DR BLK 301B', 'ANCHORVALE RD BLK 307B', 'ANCHORVALE LINK BLK 306B', 'RIVERVALE CRES BLK 180C', 'CHOA CHU KANG ST 51 BLK 511', 'CHOA CHU KANG ST 51 BLK 512', 'COMPASSVALE WALK BLK 231', 'CHOA CHU KANG ST 51 BLK 501', 'SEGAR RD BLK 481', 'RIVERVALE ST BLK 141', 'RIVERVALE CRES BLK 180D', 'ANCHORVALE RD BLK 307A', 'RIVERVALE ST BLK 130', 'SEGAR RD BLK 477', 'COMPASSVALE WALK BLK 223D', 'FERNVALE LANE BLK 405C', 'RIVERVALE ST BLK 140', 'FERNVALE RD BLK 409A', 'FERNVALE LINK BLK 412A', 'FERNVALE RD BLK 408C', 'COMPASSVALE WALK BLK 224C', 'SEGAR RD BLK 482', 'RIVERVALE DR BLK 144', 'FERNVALE LANE BLK 405A', 'CHANGI VILLAGE RD BLK 4', 'CHOA CHU KANG ST 51 BLK 504', 'FERNVALE LINK BLK 413A', 'CHOA CHU KANG ST 51 BLK 502', 'RIVERVALE CRES BLK 178A', 'FERNVALE LANE BLK 405B', 'ANCHORVALE LINK BLK 305B', 'RIVERVALE ST BLK 137', 'ANCHORVALE LINK BLK 305C', 'FERNVALE RD BLK 408B', 'RIVERVALE ST BLK 126', 'CHOA CHU KANG ST 51 BLK 506', 'CHOA CHU KANG ST 51 BLK 505', 'SEGAR RD BLK 476', 'RIVERVALE CRES BLK 178D', 'FERNVALE RD BLK 407B', 'SEGAR RD BLK 475', 'RIVERVALE ST BLK 139', 'RIVERVALE ST BLK 125', 'FERNVALE LANE BLK 403B', 'CHOA CHU KANG ST 51 BLK 507', 'ANCHORVALE LINK BLK 305D', 'FERNVALE RD BLK 406C', 'COMPASSVALE WALK BLK 223C', 'SEGAR RD BLK 483', 'FERNVALE LANE BLK 403A', 'COMPASSVALE WALK BLK 230', 'CHANGI VILLAGE RD BLK 5', 'FERNVALE RD BLK 408A', 'COMPASSVALE WALK BLK 224D', 'COMPASSVALE DR BLK 201A', 'RIVERVALE CRES BLK 158A', 'COMPASSVALE DR BLK 202A', 'RIVERVALE ST BLK 133', 'COMPASSVALE DR BLK 201B', 'ANCHORVALE DR BLK 301C', 'FERNVALE RD BLK 406B', 'COMPASSVALE DR BLK 202', 'RIVERVALE ST BLK 136', 'COMPASSVALE WALK BLK 225C', 'ANCHORVALE LINK BLK 304B', 'RIVERVALE CRES BLK 158B', 'COMPASSVALE WALK BLK 229', 'ANCHORVALE LINK BLK 305A', 'SEGAR RD BLK 484', 'SEGAR RD BLK 474', 'CHOA CHU KANG ST 51 BLK 508', 'RIVERVALE CRES BLK 158D', 'CHANGI VILLAGE RD BLK 1', 'RIVERVALE CRES BLK 158C', 'SEGAR RD BLK 470', 'RIVERVALE DR BLK 124A', 'RIVERVALE DR BLK 124B', 'FERNVALE LANE BLK 404A', 'FERNVALE LANE BLK 403D', 'CHOA CHU KANG ST 51 BLK 503', 'ANCHORVALE DR BLK 301D', 'FERNVALE RD BLK 407A', 'SEGAR RD BLK 457', 'RIVERVALE ST BLK 135', 'SEGAR RD BLK 473', 'SEGAR RD BLK 471', 'COMPASSVALE WALK BLK 223B', 'COMPASSVALE WALK BLK 224B', 'FERNVALE LANE BLK 404B', 'COMPASSVALE WALK BLK 223A', 'COMPASSVALE DR BLK 204A', 'FERNVALE LANE BLK 403C', 'RIVERVALE ST BLK 138', 'JELAPANG RD BLK 515', 'ANCHORVALE LINK BLK 302D', 'JELAPANG RD BLK 517', 'RIVERVALE DR BLK 124', 'RIVERVALE CRES BLK 157D', 'JELAPANG RD BLK 513', 'COMPASSVALE WALK BLK 226C', 'SENGKANG EAST RD BLK 202B', 'SEGAR RD BLK 458', 'ANCHORVALE LINK BLK 302C', 'CHOA CHU KANG ST 51 BLK 510', 'CHOA CHU KANG ST 51 BLK 509', 'JELAPANG RD BLK 519', 'FERNVALE RD BLK 406A', 'SEGAR RD BLK 472', 'SEGAR RD BLK 469', 'RIVERVALE DR BLK 124C', 'RIVERVALE DR BLK 122E', 'COMPASSVALE WALK BLK 228B', 'RIVERVALE CRES BLK 159A', 'ANCHORVALE LINK BLK 304A', 'RIVERVALE ST BLK 134', 'RIVERVALE CRES BLK 157C', 'ANCHORVALE LINK BLK 302B', 'COMPASSVALE WALK BLK 224A', 'JELAPANG RD BLK 511', 'COMPASSVALE WALK BLK 225B', 'COMPASSVALE WALK BLK 228C', 'COMPASSVALE RD BLK 203E', 'SENJA RD BLK 654', 'ANCHORVALE LINK BLK 303C', 'SENGKANG EAST RD BLK 202C', 'COMPASSVALE WALK BLK 226A', 'COMPASSVALE WALK BLK 226B', 'COMPASSVALE WALK BLK 225A', 'RIVERVALE CRES BLK 157A', 'SENJA RD BLK 656', 'SEGAR RD BLK 456', 'RIVERVALE CRES BLK 157B', 'JELAPANG RD BLK 514', 'SENGKANG EAST WAY BLK 122C', 'ANCHORVALE LINK BLK 302A', 'COMPASSVALE WALK BLK 228A', 'COMPASSVALE DR BLK 204D', 'SEGAR RD BLK 468', 'COMPASSVALE DR BLK 204C', 'JELAPANG RD BLK 510', 'JELAPANG RD BLK 521', 'JELAPANG RD BLK 523', 'COMPASSVALE DR BLK 201D', 'COMPASSVALE LANE BLK 206B', 'ANCHORVALE LINK BLK 303B', 'JELAPANG RD BLK 512', 'SEGAR RD BLK 455', 'SENJA LINK BLK 652', 'COMPASSVALE DR BLK 204B', 'COMPASSVALE DR BLK 227B', 'JELAPANG RD BLK 516', 'SEGAR RD BLK 465', 'SENJA RD BLK 655', 'COMPASSVALE DR BLK 227A', 'SENGKANG EAST RD BLK 200D', 'SENGKANG EAST RD BLK 200A', 'COMPASSVALE DR BLK 201C', 'SENGKANG EAST RD BLK 200B', 'RIVERVALE DR BLK 122D', 'SEGAR RD BLK 467', 'JELAPANG RD BLK 518', 'COMPASSVALE DR BLK 227D', 'JELAPANG RD BLK 506', 'ANCHORVALE LINK BLK 303A', 'COMPASSVALE RD BLK 203D', 'RIVERVALE DR BLK 123D', 'SENJA LINK BLK 650', 'SENJA LINK BLK 653', 'SENGKANG EAST WAY BLK 122B', 'COMPASSVALE LANE BLK 206D', 'BT PANJANG RING RD BLK 429', 'RIVERVALE DR BLK 121A', 'RIVERVALE DR BLK 121B', 'SEGAR RD BLK 466', 'COMPASSVALE RD BLK 203B', 'COMPASSVALE LANE BLK 206C', 'BT PANJANG RING RD BLK 430', 'COMPASSVALE DR BLK 227C', 'COMPASSVALE LANE BLK 206A', 'JELAPANG RD BLK 509', 'SENJA RD BLK 630', 'BT PANJANG RING RD BLK 428', 'JELAPANG RD BLK 525', 'RIVERVALE DR BLK 121', 'RIVERVALE DR BLK 123E', 'SENJA LINK BLK 651', 'COMPASSVALE RD BLK 203C', 'JELAPANG RD BLK 507', 'JELAPANG RD BLK 520', 'SENJA RD BLK 631', 'SENGKANG EAST WAY BLK 122A', 'SENJA RD BLK 629', 'SENGKANG EAST WAY BLK 122', 'COMPASSVALE RD BLK 203A', 'COMPASSVALE DR BLK 212A', 'RIVERVALE DR BLK 123', 'BT PANJANG RING RD BLK 427', 'RIVERVALE DR BLK 123C', 'JELAPANG RD BLK 508', 'COMPASSVALE DR BLK 212B', 'JELAPANG RD BLK 527', 'JELAPANG RD BLK 522', 'FAJAR RD BLK 426', 'SENGKANG EAST WAY BLK 121C', 'BT PANJANG RING RD BLK 432', 'RIVERVALE DR BLK 120A', 'SENJA RD BLK 623', 'BT PANJANG RING RD BLK 431', 'SENJA RD BLK 624', 'JELAPANG RD BLK 524', 'COMPASSVALE LANE BLK 205C', 'RIVERVALE DR BLK 123B', 'RIVERVALE DR BLK 123A', 'SENJA RD BLK 621', 'COMPASSVALE DR BLK 212C', 'JELAPANG RD BLK 529', 'BT PANJANG RING RD BLK 435', 'FAJAR RD BLK 425', 'SENGKANG CTRL BLK 271A', 'SENJA RD BLK 622', 'BT PANJANG RING RD BLK 620', 'COMPASSVALE LANE BLK 205A', 'COMPASSVALE LANE BLK 213A', 'BT PANJANG RING RD BLK 619', 'COMPASSVALE LANE BLK 211D', 'FAJAR RD BLK 424', 'SENGKANG EAST WAY BLK 121D', 'BT PANJANG RING RD BLK 433', 'SENGKANG CTRL BLK 270A', 'COMPASSVALE LANE BLK 207A', 'RIVERVALE DR BLK 120B', 'JELAPANG RD BLK 531', 'SENJA RD BLK 625', 'COMPASSVALE LANE BLK 213B', 'SENJA RD BLK 627', 'SENGKANG CTRL BLK 271B', 'FAJAR RD BLK 452', 'BT PANJANG RING RD BLK 617', 'COMPASSVALE LANE BLK 205B', 'FAJAR RD BLK 423', 'SENJA RD BLK 633A', 'SENJA RD BLK 626', 'BT PANJANG RING RD BLK 434', 'FAJAR RD BLK 453', 'JELAPANG RD BLK 526', 'SENJA RD BLK 618', 'CHOA CHU KANG AVE 4 BLK 307', 'RIVERVALE DR BLK 119D', 'SENGKANG CTRL BLK 272A', 'BT PANJANG RING RD BLK 615', 'SENJA RD BLK 633B', 'COMPASSVALE LANE BLK 211C', 'CHOA CHU KANG AVE 4 BLK 435', 'RIVERVALE DR BLK 120C', 'JELAPANG RD BLK 528', 'FAJAR RD BLK 422', 'SENGKANG CTRL BLK 271C', 'FAJAR RD BLK 451', 'COMPASSVALE LANE BLK 211B', 'CHOA CHU KANG AVE 4 BLK 433', 'JELAPANG RD BLK 530', 'SENJA RD BLK 616', 'BT PANJANG RING RD BLK 533', 'CHOA CHU KANG AVE 4 BLK 306', 'SENJA RD BLK 633C', 'SENJA RD BLK 633D', 'COMPASSVALE LINK BLK 268D', 'SENGKANG CTRL BLK 272B', 'COMPASSVALE LANE BLK 207B', 'JELAPANG RD BLK 532', 'COMPASSVALE LANE BLK 210A', 'RIVERVALE DR BLK 119C', 'RIVERVALE WALK BLK 115', 'COMPASSVALE LINK BLK 268C', 'COMPASSVALE LANE BLK 211A', 'CHOA CHU KANG AVE 4 BLK 436', 'CHOA CHU KANG AVE 4 BLK 432', 'COMPASSVALE LANE BLK 207C', 'JELAPANG RD BLK 504', 'FAJAR RD BLK 420', 'BT PANJANG RING RD BLK 450', 'JELAPANG RD BLK 534', 'BT PANJANG RING RD BLK 613', 'COMPASSVALE LINK BLK 273B', 'COMPASSVALE LANE BLK 210B', 'COMPASSVALE LANE BLK 208B', 'COMPASSVALE LINK BLK 273C', 'CHOA CHU KANG AVE 4 BLK 434', 'JELAPANG RD BLK 503', 'SENJA RD BLK 614', 'CHOA CHU KANG LOOP BLK 341', 'BT PANJANG RING RD BLK 535', 'FAJAR RD BLK 421', 'COMPASSVALE LINK BLK 268B', 'COMPASSVALE LANE BLK 207D', 'COMPASSVALE LINK BLK 269D', 'COMPASSVALE LANE BLK 208A', 'FAJAR RD BLK 419', 'SENGKANG CTRL BLK 272C', 'RIVERVALE WALK BLK 113', 'CHOA CHU KANG AVE 4 BLK 305', 'FAJAR RD BLK 418', 'COMPASSVALE LANE BLK 210C', 'COMPASSVALE LINK BLK 268A', 'RIVERVALE DR BLK 119B', 'JELAPANG RD BLK 536', 'JELAPANG RD BLK 505', 'BT PANJANG RING RD BLK 449', 'RIVERVALE WALK BLK 111', 'COMPASSVALE LINK BLK 273D', 'CHOA CHU KANG AVE 4 BLK 437', 'CHOA CHU KANG AVE 4 BLK 438', 'COMPASSVALE LINK BLK 273A', 'CHOA CHU KANG LOOP BLK 340', 'CHOA CHU KANG LOOP BLK 342', 'RIVERVALE WALK BLK 114', 'JELAPANG RD BLK 502', 'RIVERVALE DR BLK 119A', 'FAJAR RD BLK 417', 'SENJA RD BLK 612', 'COMPASSVALE LANE BLK 209C', 'CHOA CHU KANG AVE 4 BLK 431', 'BT PANJANG RING RD BLK 537', 'BT PANJANG RING RD BLK 611', 'CHOA CHU KANG AVE 4 BLK 430', 'RIVERVALE WALK BLK 110', 'SENGKANG CTRL BLK 272D', 'CHOA CHU KANG AVE 4 BLK 440', 'BT PANJANG RING RD BLK 448', 'JELAPANG RD BLK 538', 'COMPASSVALE LANE BLK 209B', 'RIVERVALE DR BLK 117B', 'COMPASSVALE LINK BLK 269A', 'COMPASSVALE LINK BLK 269B', 'CHOA CHU KANG CTRL BLK 350', 'CHOA CHU KANG LOOP BLK 346', 'FAJAR RD BLK 440', 'CHOA CHU KANG CTRL BLK 351', 'COMPASSVALE LINK BLK 269C', 'RIVERVALE WALK BLK 112', 'COMPASSVALE LANE BLK 209A', 'JELAPANG RD BLK 501', 'CHOA CHU KANG AVE 4 BLK 439', 'FAJAR RD BLK 441', 'CHOA CHU KANG LOOP BLK 343', 'BT PANJANG RING RD BLK 447', 'SENJA RD BLK 610', 'RIVERVALE DR BLK 117C', 'JELAPANG RD BLK 540', 'SAUJANA RD BLK 415', 'SAUJANA RD BLK 416', 'CHOA CHU KANG AVE 4 BLK 416', 'CHOA CHU KANG LOOP BLK 344', 'CHOA CHU KANG CTRL BLK 216', 'CHOA CHU KANG AVE 4 BLK 441', 'COMPASSVALE LINK BLK 275C', 'COMPASSVALE LINK BLK 275B', 'RIVERVALE DR BLK 117A', 'PASIR RIS ST 72 BLK 716', 'COMPASSVALE LINK BLK 267B', 'RIVERVALE WALK BLK 109', 'CHOA CHU KANG CTRL BLK 217', 'PASIR RIS ST 72 BLK 714', 'CHOA CHU KANG AVE 4 BLK 417', 'RIVERVALE WALK BLK 107', 'BT PANJANG RING RD BLK 539', 'ANG MO KIO AVE 9 BLK 621', 'FAJAR RD BLK 439', 'SAUJANA RD BLK 411', 'CHOA CHU KANG CTRL BLK 352', 'SAUJANA RD BLK 412', 'CHOA CHU KANG CTRL BLK 355', 'COMPASSVALE LINK BLK 267A', 'BT PANJANG RING RD BLK 609', 'CHOA CHU KANG CTRL BLK 215', 'JELAPANG RD BLK 542', 'SENJA RD BLK 608', 'COMPASSVALE LINK BLK 275A', 'RIVERVALE WALK BLK 103', 'CHOA CHU KANG CTRL BLK 218', 'FAJAR RD BLK 438', 'CHOA CHU KANG LOOP BLK 345', 'PASIR RIS ST 72 BLK 715', 'SAUJANA RD BLK 414', 'PASIR RIS ST 72 BLK 717', 'RIVERVALE WALK BLK 108', 'CHOA CHU KANG AVE 4 BLK 429', 'CHOA CHU KANG AVE 4 BLK 415', 'COMPASSVALE LINK BLK 275D', 'CHOA CHU KANG CTRL BLK 219', 'COMPASSVALE BOW BLK 266C', 'RIVERVALE WALK BLK 104', 'ANG MO KIO AVE 9 BLK 623', 'RIVERVALE WALK BLK 101', 'RIVERVALE DR BLK 116A', 'CHOA CHU KANG CTRL BLK 354', 'BT PANJANG RING RD BLK 541', 'TECK WHYE AVE BLK 1', 'PASIR RIS ST 72 BLK 713', 'RIVERVALE WALK BLK 106', 'TECK WHYE AVE BLK 3', 'COMPASSVALE BOW BLK 266B', 'CHOA CHU KANG CTRL BLK 214', 'COMPASSVALE LINK BLK 265A', 'CHOA CHU KANG CTRL BLK 212', 'ANG MO KIO AVE 9 BLK 620', 'PASIR RIS ST 72 BLK 718', 'JELAPANG RD BLK 543', 'COMPASSVALE BOW BLK 266A', 'SAUJANA RD BLK 410', 'BUANGKOK LINK BLK 984C', 'CHOA CHU KANG CTRL BLK 210', 'CHOA CHU KANG AVE 4 BLK 418', 'SAUJANA RD BLK 413', 'COMPASSVALE LINK BLK 277C', 'SENJA RD BLK 607', 'COMPASSVALE LINK BLK 277B', 'CHOA CHU KANG AVE 4 BLK 422', 'SAUJANA RD BLK 409', 'FAJAR RD BLK 437', 'BUANGKOK LINK BLK 984D', 'ANG MO KIO AVE 9 BLK 625', 'FAJAR RD BLK 436', 'BUANGKOK CRES BLK 986B', 'TECK WHYE AVE BLK 2', 'COMPASSVALE LINK BLK 265B', 'CHOA CHU KANG CTRL BLK 213', 'CHOA CHU KANG CTRL BLK 221', 'CHOA CHU KANG AVE 4 BLK 414', 'RIVERVALE WALK BLK 105', 'FAJAR RD BLK 442', 'COMPASSVALE LINK BLK 265C', 'CHOA CHU KANG AVE 1 BLK 201', 'PASIR RIS ST 72 BLK 710', 'PASIR RIS ST 72 BLK 719', 'ANG MO KIO AVE 9 BLK 622', 'TECK WHYE AVE BLK 5', 'RIVERVALE DR BLK 116C', 'PASIR RIS ST 72 BLK 712', 'CHOA CHU KANG CTRL BLK 353', 'RIVERVALE DR BLK 116B', 'BUANGKOK LINK BLK 984B', 'CHOA CHU KANG AVE 4 BLK 423', 'CHOA CHU KANG AVE 4 BLK 419', 'BUANGKOK LINK BLK 984A', 'CHOA CHU KANG CTRL BLK 211', 'CHOA CHU KANG CTRL BLK 220', 'COMPASSVALE BOW BLK 265D', 'JELAPANG RD BLK 544', 'CHOA CHU KANG AVE 1 BLK 202', 'COMPASSVALE BOW BLK 265E', 'TECK WHYE AVE BLK 4', 'SENJA RD BLK 601', 'ANG MO KIO AVE 9 BLK 627', 'COMPASSVALE LINK BLK 277A', 'FAJAR RD BLK 406', 'CHOA CHU KANG CTRL BLK 223', 'BUANGKOK CRES BLK 986A', 'COMPASSVALE LINK BLK 277D', 'PASIR RIS ST 72 BLK 711', 'CHOA CHU KANG AVE 4 BLK 445', 'RIVERVALE WALK BLK 102', 'CHOA CHU KANG AVE 3 BLK 412', 'FAJAR RD BLK 408', 'PASIR RIS ST 72 BLK 720', 'CHOA CHU KANG AVE 4 BLK 421', 'PASIR RIS DR 10 BLK 709', 'COMPASSVALE BOW BLK 264E', 'COMPASSVALE BOW BLK 264F', 'BT PANJANG RING RD BLK 545', 'TECK WHYE AVE BLK 6', 'ANG MO KIO AVE 6 BLK 634', 'COMPASSVALE BOW BLK 264D', 'CHOA CHU KANG AVE 4 BLK 444', 'CHOA CHU KANG AVE 1 BLK 203', 'SENJA RD BLK 603', 'COMPASSVALE BOW BLK 264C', 'ANG MO KIO AVE 4 BLK 624', 'TECK WHYE AVE BLK 7', 'CHOA CHU KANG CTRL BLK 208', 'CHOA CHU KANG AVE 1 BLK 130', 'CHOA CHU KANG AVE 1 BLK 131', 'FAJAR RD BLK 407', 'CHOA CHU KANG AVE 4 BLK 424', 'BANGKIT RD BLK 248', 'PASIR RIS ST 72 BLK 721', 'BANGKIT RD BLK 246', 'CHOA CHU KANG AVE 4 BLK 420', 'PASIR RIS DR 10 BLK 708', 'COMPASSVALE BOW BLK 264B', 'CHOA CHU KANG AVE 3 BLK 413', 'SENJA RD BLK 602', 'CHOA CHU KANG AVE 4 BLK 443', 'FAJAR RD BLK 405', 'JLN TECK WHYE BLK 164', 'CHOA CHU KANG CTRL BLK 226', 'CHOA CHU KANG CTRL BLK 225', 'HOUGANG ST 51 BLK 566', 'SENJA RD BLK 606', 'PASIR RIS ST 72 BLK 725', 'CHOA CHU KANG AVE 4 BLK 428', 'ANG MO KIO AVE 6 BLK 633', 'ANG MO KIO AVE 6 BLK 636', 'BUANGKOK CRES BLK 985A', 'CHOA CHU KANG CTRL BLK 227', 'CHOA CHU KANG AVE 4 BLK 425', 'BUANGKOK CRES BLK 985B', 'PASIR RIS ST 72 BLK 724', 'FAJAR RD BLK 403', 'CHOA CHU KANG AVE 3 BLK 409', 'CHOA CHU KANG CTRL BLK 207', 'PASIR RIS DR 10 BLK 707', 'CHOA CHU KANG AVE 1 BLK 132', 'COMPASSVALE BOW BLK 264A', 'BANGKIT RD BLK 249', 'SENJA RD BLK 604', 'CHOA CHU KANG AVE 3 BLK 411', 'CHOA CHU KANG AVE 3 BLK 281', 'JLN TECK WHYE BLK 163', 'CHOA CHU KANG CTRL BLK 228', 'CHOA CHU KANG CTRL BLK 205', 'ANG MO KIO AVE 5 BLK 601', 'CHOA CHU KANG AVE 4 BLK 442', 'HOUGANG ST 51 BLK 562', 'PASIR RIS DR 10 BLK 706', 'FAJAR RD BLK 404', 'BT PANJANG RING RD BLK 244', 'CHOA CHU KANG AVE 4 BLK 427', 'PASIR RIS ST 72 BLK 722', 'JLN TECK WHYE BLK 162', 'CHOA CHU KANG AVE 4 BLK 446', 'SENJA RD BLK 605', 'TECK WHYE LANE BLK 133', 'TECK WHYE LANE BLK 142', 'TECK WHYE LANE BLK 144', 'ANG MO KIO AVE 6 BLK 635', 'JLN TECK WHYE BLK 160', 'CHOA CHU KANG AVE 3 BLK 279', 'CHOA CHU KANG AVE 3 BLK 280', 'PASIR RIS DR 10 BLK 704', 'PASIR RIS ST 72 BLK 723', 'ANG MO KIO AVE 5 BLK 602', 'PASIR RIS DR 10 BLK 705', 'CHOA CHU KANG CTRL BLK 224', 'CHOA CHU KANG CTRL BLK 229', 'CHOA CHU KANG CTRL BLK 206', 'BANGKIT RD BLK 250', 'TECK WHYE AVE BLK 8', 'HOUGANG ST 51 BLK 565', 'CHOA CHU KANG AVE 4 BLK 447', 'CHOA CHU KANG CTRL BLK 232', 'BT PANJANG RING RD BLK 243', 'CHOA CHU KANG AVE 4 BLK 426', 'CHOA CHU KANG AVE 3 BLK 410', 'ANG MO KIO AVE 4 BLK 630', 'FAJAR RD BLK 401', 'CHOA CHU KANG AVE 1 BLK 204', 'BUANGKOK CRES BLK 981D', 'LOMPANG RD BLK 177', 'BT PANJANG RING RD BLK 245', 'HOUGANG ST 51 BLK 558', 'BUANGKOK CRES BLK 981B', 'ANG MO KIO AVE 6 BLK 638', 'BUANGKOK CRES BLK 981A', 'CHOA CHU KANG CTRL BLK 233', 'CHOA CHU KANG AVE 4 BLK 448', 'BUANGKOK CRES BLK 981C', 'BUANGKOK CRES BLK 980D', 'PASIR RIS DR 10 BLK 703', 'CHOA CHU KANG AVE 3 BLK 406', 'CHOA CHU KANG AVE 3 BLK 408', 'CHOA CHU KANG AVE 4 BLK 452', 'CHOA CHU KANG AVE 3 BLK 407', 'TECK WHYE LANE BLK 141', 'TECK WHYE LANE BLK 134', 'ANG MO KIO AVE 4 BLK 607', 'CHOA CHU KANG CTRL BLK 230', 'FAJAR RD BLK 402', 'ANG MO KIO AVE 6 BLK 637', 'CHOA CHU KANG AVE 3 BLK 282', 'HOUGANG ST 51 BLK 561', 'HOUGANG ST 51 BLK 560', 'BANGKIT RD BLK 251', 'LOMPANG RD BLK 178', 'TECK WHYE AVE BLK 10', 'CHOA CHU KANG AVE 4 BLK 451', 'CHOA CHU KANG CTRL BLK 234', 'PASIR RIS DR 10 BLK 700', 'LOMPANG RD BLK 174', 'PASIR RIS DR 10 BLK 702', 'CHOA CHU KANG AVE 3 BLK 278', 'ANG MO KIO AVE 5 BLK 603', 'CHOA CHU KANG AVE 3 BLK 405', 'ANG MO KIO AVE 4 BLK 629', 'BUANGKOK GREEN BLK 988C', 'BUANGKOK CRES BLK 978D', 'JLN TECK WHYE BLK 159', 'BUANGKOK CRES BLK 980C', 'BT PANJANG RING RD BLK 242', 'CHOA CHU KANG CTRL BLK 231', 'CHOA CHU KANG AVE 4 BLK 453', 'CHOA CHU KANG AVE 3 BLK 404', 'ANG MO KIO AVE 5 BLK 604', 'TECK WHYE LANE BLK 124', 'BANGKIT RD BLK 253', 'TECK WHYE LANE BLK 137', 'CHOA CHU KANG AVE 3 BLK 285', 'HOUGANG ST 51 BLK 564', 'CHOA CHU KANG AVE 3 BLK 286', 'BUANGKOK CRES BLK 978C', 'ANG MO KIO AVE 6 BLK 640', 'HOUGANG ST 51 BLK 559', 'CHOA CHU KANG AVE 2 BLK 277', 'GANGSA RD BLK 173', 'BUANGKOK GREEN BLK 987A', 'ANG MO KIO AVE 4 BLK 632', 'HOUGANG ST 51 BLK 563', 'PASIR RIS DR 10 BLK 701', 'BANGKIT RD BLK 252', 'HOUGANG ST 51 BLK 557', 'JELEBU RD BLK 182', 'TECK WHYE LANE BLK 118', 'JELEBU RD BLK 183', 'LOMPANG RD BLK 179', 'LOMPANG RD BLK 175', 'ANG MO KIO AVE 6 BLK 639', 'BT PANJANG RING RD BLK 239', 'JLN TECK WHYE BLK 158', 'CHOA CHU KANG CTRL BLK 236', 'CHOA CHU KANG CTRL BLK 235', 'TECK WHYE LANE BLK 136', 'ANG MO KIO AVE 4 BLK 610', 'PASIR RIS DR 3 BLK 626', 'CHOA CHU KANG AVE 3 BLK 284', 'TECK WHYE LANE BLK 11', 'BUANGKOK GREEN BLK 988B', 'BUANGKOK GREEN BLK 988A', 'BT PANJANG RING RD BLK 241', 'HOUGANG ST 51 BLK 556', 'CHOA CHU KANG AVE 4 BLK 450', 'ANG MO KIO AVE 5 BLK 605', 'JELEBU RD BLK 184', 'CHOA CHU KANG AVE 3 BLK 283', 'JLN TECK WHYE BLK 154', 'BT PANJANG RING RD BLK 238', 'HOUGANG ST 51 BLK 555', 'PASIR RIS DR 10 BLK 737', 'CHOA CHU KANG AVE 3 BLK 401', 'TECK WHYE LANE BLK 117', 'BANGKIT RD BLK 255', 'BANGKIT RD BLK 254', 'BUANGKOK CRES BLK 979A', 'CHOA CHU KANG AVE 2 BLK 276', 'BUANGKOK CRES BLK 980A', 'CHOA CHU KANG AVE 2 BLK 249', 'ANG MO KIO AVE 4 BLK 631', 'PASIR RIS DR 3 BLK 627', 'PASIR RIS DR 10 BLK 736', 'BUANGKOK CRES BLK 980B', 'BUANGKOK CRES BLK 979C', 'HOUGANG ST 51 BLK 548', 'TECK WHYE LANE BLK 12', 'BUANGKOK CRES BLK 979B', 'HOUGANG AVE 8 BLK 443', 'HOUGANG AVE 8 BLK 444', 'CHOA CHU KANG AVE 3 BLK 289', 'CHOA CHU KANG CTRL BLK 239', 'ANG MO KIO AVE 6 BLK 646', 'GANGSA RD BLK 172', 'CHOA CHU KANG CTRL BLK 237', 'CHOA CHU KANG AVE 3 BLK 473', 'BUANGKOK GREEN BLK 987B', 'TECK WHYE LANE BLK 19', 'JLN TECK WHYE BLK 157', 'CHOA CHU KANG AVE 2 BLK 275', 'GANGSA RD BLK 101', 'CHOA CHU KANG AVE 2 BLK 274', 'PASIR RIS DR 3 BLK 628', 'BT PANJANG RING RD BLK 240', 'CHOA CHU KANG AVE 2 BLK 250', 'CHOA CHU KANG AVE 4 BLK 455', 'ANG MO KIO AVE 5 BLK 606', 'JELEBU RD BLK 185', 'TECK WHYE LANE BLK 116', 'LOMPANG RD BLK 176', 'CHOA CHU KANG AVE 2 BLK 287', 'HOUGANG AVE 10 BLK 450', 'CHOA CHU KANG AVE 4 BLK 454', 'HOUGANG AVE 8 BLK 442', 'TECK WHYE LANE BLK 123', 'TECK WHYE LANE BLK 119', 'JELEBU RD BLK 181', 'ANG MO KIO AVE 4 BLK 609', 'CHOA CHU KANG AVE 3 BLK 403', 'TECK WHYE LANE BLK 17', 'GANGSA RD BLK 102', 'PASIR RIS ST 71 BLK 747', 'CHOA CHU KANG AVE 3 BLK 402', 'CHOA CHU KANG AVE 4 BLK 449', 'HOUGANG ST 51 BLK 547', 'PASIR RIS DR 10 BLK 651', 'PASIR RIS DR 10 BLK 738', 'CHOA CHU KANG CTRL BLK 238', 'TECK WHYE LANE BLK 15', 'CHOA CHU KANG AVE 2 BLK 273', 'HOUGANG AVE 8 BLK 440', 'HOUGANG AVE 8 BLK 445', 'HOUGANG AVE 10 BLK 448', 'ANG MO KIO AVE 4 BLK 644', 'HOUGANG ST 51 BLK 553', 'LOMPANG RD BLK 180', 'BUANGKOK GREEN BLK 987C', 'CHOA CHU KANG AVE 3 BLK 472', 'HOUGANG AVE 4 BLK 579', 'GANGSA RD BLK 171', 'CHOA CHU KANG AVE 2 BLK 248', 'BT PANJANG RING RD BLK 236', 'TECK WHYE LANE BLK 115', 'PASIR RIS DR 3 BLK 629', 'ANG MO KIO AVE 4 BLK 612', 'CHOA CHU KANG AVE 3 BLK 288', 'TECK WHYE LANE BLK 13', 'HOUGANG ST 51 BLK 546', 'CHOA CHU KANG AVE 4 BLK 456', 'PASIR RIS DR 3 BLK 631', 'HOUGANG ST 91 BLK 910', 'HOUGANG ST 91 BLK 911', 'HOUGANG AVE 4 BLK 580', 'HOUGANG AVE 4 BLK 578', 'CHOA CHU KANG AVE 3 BLK 290', 'PASIR RIS DR 10 BLK 648', 'JLN TECK WHYE BLK 156', 'JLN TECK WHYE BLK 155', 'HOUGANG AVE 10 BLK 451', 'CHOA CHU KANG AVE 4 BLK 457', 'JLN TECK WHYE BLK 152', 'PASIR RIS DR 10 BLK 650', 'CHOA CHU KANG AVE 3 BLK 471', 'TECK WHYE LANE BLK 120', 'HOUGANG AVE 10 BLK 449', 'TECK WHYE LANE BLK 20', 'HOUGANG AVE 4 BLK 577', 'HOUGANG AVE 8 BLK 446', 'GANGSA RD BLK 104', 'CHOA CHU KANG AVE 2 BLK 272', 'HOUGANG ST 51 BLK 552', 'PASIR RIS ST 71 BLK 746', 'HOUGANG ST 51 BLK 554', 'CHOA CHU KANG AVE 3 BLK 474', 'HOUGANG AVE 9 BLK 968', 'TECK WHYE LANE BLK 16', 'GANGSA RD BLK 103', 'HOUGANG ST 91 BLK 969', 'ANG MO KIO AVE 5 BLK 608', 'PASIR RIS DR 3 BLK 632', 'TECK WHYE LANE BLK 109', 'ANG MO KIO AVE 4 BLK 613', 'HOUGANG AVE 9 BLK 965', 'CHOA CHU KANG AVE 2 BLK 271', 'TECK WHYE LANE BLK 122', 'HOUGANG AVE 10 BLK 452', 'HOUGANG AVE 8 BLK 439', 'HOUGANG ST 51 BLK 567', 'CHOA CHU KANG AVE 2 BLK 294', 'GANGSA RD BLK 170', 'PENDING RD BLK 112', 'BT PANJANG RING RD BLK 234', 'BANGKIT RD BLK 257', 'PASIR RIS DR 10 BLK 647', 'TECK WHYE LANE BLK 114', 'ANG MO KIO AVE 4 BLK 619', 'HOUGANG ST 91 BLK 909', 'CHOA CHU KANG AVE 3 BLK 291', 'HOUGANG ST 51 BLK 571', 'PASIR RIS DR 10 BLK 645', 'PASIR RIS DR 10 BLK 739', 'TECK WHYE LANE BLK 14', 'PASIR RIS DR 10 BLK 649', 'HOUGANG AVE 10 BLK 453', 'BT PANJANG RING RD BLK 237', 'PASIR RIS ST 71 BLK 748', 'HOUGANG ST 91 BLK 912', 'HOUGANG ST 51 BLK 551', 'PASIR RIS ST 71 BLK 749', 'BT PANJANG RING RD BLK 235', 'HOUGANG AVE 8 BLK 441', 'HOUGANG AVE 8 BLK 544', 'HOUGANG AVE 10 BLK 447', 'JLN TECK WHYE BLK 151', 'HOUGANG ST 91 BLK 970', 'TECK WHYE LANE BLK 121', 'PASIR RIS DR 3 BLK 630', 'PASIR RIS ST 71 BLK 745', 'PENDING RD BLK 113', 'ANG MO KIO AVE 5 BLK 611', 'HOUGANG AVE 4 BLK 576', 'TECK WHYE LANE BLK 108', 'CHOA CHU KANG AVE 2 BLK 251', 'TECK WHYE LANE BLK 18', 'HOUGANG AVE 9 BLK 966', 'HOUGANG ST 51 BLK 572', 'CHOA CHU KANG AVE 3 BLK 292', 'HOUGANG ST 91 BLK 972', 'CHOA CHU KANG AVE 4 BLK 459', 'ANG MO KIO AVE 5 BLK 648', 'CHOA CHU KANG AVE 2 BLK 252', 'GANGSA RD BLK 105', 'CHOA CHU KANG AVE 4 BLK 458', 'CHOA CHU KANG AVE 2 BLK 295', 'CHOA CHU KANG AVE 3 BLK 470', 'CHOA CHU KANG AVE 4 BLK 461', 'TECK WHYE LANE BLK 110', 'CHOA CHU KANG AVE 2 BLK 254', 'GANGSA RD BLK 107', 'HOUGANG ST 91 BLK 971', 'HOUGANG AVE 9 BLK 967', 'PASIR RIS ST 71 BLK 750', 'GANGSA RD BLK 111', 'JLN TECK WHYE BLK 150', 'HOUGANG AVE 10 BLK 454', 'HOUGANG ST 51 BLK 550', 'HOUGANG ST 51 BLK 549', 'CHOA CHU KANG AVE 3 BLK 293', 'CHOA CHU KANG AVE 2 BLK 297D', 'PASIR RIS ST 71 BLK 751', 'HOUGANG ST 91 BLK 913', 'ANG MO KIO AVE 4 BLK 618', 'PASIR RIS DR 10 BLK 644', 'ANG MO KIO AVE 4 BLK 614', 'HOUGANG ST 51 BLK 568', 'GANGSA RD BLK 110', 'PASIR RIS DR 10 BLK 646', 'PENDING RD BLK 115', 'HOUGANG AVE 8 BLK 438', 'PASIR RIS ST 71 BLK 740', 'HOUGANG ST 51 BLK 570', 'PASIR RIS DR 3 BLK 633', 'TECK WHYE LANE BLK 25', 'GANGSA RD BLK 106', 'TECK WHYE LANE BLK 113', 'TECK WHYE LANE BLK 106', 'CHOA CHU KANG AVE 3 BLK 469', 'ANG MO KIO AVE 5 BLK 642', 'TECK WHYE LANE BLK 107', 'TECK WHYE LANE BLK 101', 'CHOA CHU KANG AVE 4 BLK 460', 'PENDING RD BLK 114', 'PASIR RIS ST 71 BLK 752', 'HOUGANG ST 51 BLK 575', 'PASIR RIS ST 71 BLK 756', 'TECK WHYE LANE BLK 111', 'HOUGANG ST 52 BLK 538', 'ELIAS RD BLK 601', 'HOUGANG AVE 8 BLK 543', 'HOUGANG AVE 9 BLK 961', 'ANG MO KIO AVE 4 BLK 617', 'HOUGANG AVE 9 BLK 962', 'PASIR RIS DR 1 BLK 634', 'CHOA CHU KANG AVE 2 BLK 297C', 'HOUGANG ST 91 BLK 973', 'ANG MO KIO AVE 5 BLK 649', 'HOUGANG AVE 8 BLK 540', 'PASIR RIS ST 71 BLK 741', 'PENDING RD BLK 122', 'HOUGANG AVE 10 BLK 458', 'PETIR RD BLK 168', 'ANG MO KIO AVE 4 BLK 616', 'PASIR RIS DR 10 BLK 643', 'HOUGANG ST 52 BLK 537', 'PASIR RIS ST 71 BLK 755', 'PASIR RIS ST 71 BLK 743', 'TECK WHYE LANE BLK 105', 'GANGSA RD BLK 108', 'GANGSA RD BLK 166', 'HOUGANG ST 91 BLK 974', 'PASIR RIS ST 71 BLK 744', 'CHOA CHU KANG AVE 4 BLK 462', 'PASIR RIS DR 10 BLK 642', 'BANGKIT RD BLK 272', 'HOUGANG AVE 8 BLK 541', 'BANGKIT RD BLK 273', 'TECK WHYE LANE BLK 26', 'HOUGANG ST 91 BLK 915', 'HOUGANG ST 91 BLK 914', 'HOUGANG ST 52 BLK 539', 'PENDING RD BLK 123', 'HOUGANG AVE 8 BLK 435', 'ANG MO KIO AVE 4 BLK 615', 'TECK WHYE LANE BLK 112', 'ANG MO KIO AVE 5 BLK 643', 'HOUGANG ST 51 BLK 574', 'PASIR RIS ST 71 BLK 754', 'PASIR RIS DR 1 BLK 635', 'ELIAS RD BLK 602', 'HOUGANG AVE 10 BLK 455', 'HOUGANG ST 51 BLK 569', 'GANGSA RD BLK 109', 'PETIR RD BLK 167', 'CHOA CHU KANG AVE 2 BLK 296', 'CHOA CHU KANG AVE 2 BLK 296A', 'CHOA CHU KANG AVE 4 BLK 465', 'CHOA CHU KANG AVE 2 BLK 297B', 'HOUGANG ST 51 BLK 573', 'CHOA CHU KANG AVE 5 BLK 476C', 'PENDING RD BLK 117', 'BT PANJANG RING RD BLK 259', 'CHOA CHU KANG AVE 5 BLK 476D', 'PASIR RIS ST 71 BLK 757', 'PENDING RD BLK 121', 'HOUGANG ST 91 BLK 976', 'PENDING RD BLK 125', 'CHOA CHU KANG AVE 4 BLK 463', 'HOUGANG ST 52 BLK 536', 'HOUGANG AVE 9 BLK 964', 'PETIR RD BLK 151', 'PETIR RD BLK 150', 'HOUGANG AVE 8 BLK 437', 'HOUGANG AVE 8 BLK 545', 'HOUGANG ST 91 BLK 975', 'PENDING RD BLK 116', 'HOUGANG ST 52 BLK 534', 'BANGKIT RD BLK 271', 'CHOA CHU KANG AVE 2 BLK 297A', 'HOUGANG AVE 10 BLK 456', 'PASIR RIS ST 71 BLK 753', 'ANG MO KIO AVE 5 BLK 182', 'BANGKIT RD BLK 274', 'HOUGANG AVE 8 BLK 542', 'PASIR RIS ST 71 BLK 742', 'HOUGANG AVE 9 BLK 963', 'TECK WHYE LANE BLK 103', 'CHOA CHU KANG AVE 2 BLK 297', 'HOUGANG AVE 9 BLK 960', 'HOUGANG AVE 8 BLK 436', 'BANGKIT RD BLK 270', 'TECK WHYE LANE BLK 104', 'PENDING RD BLK 120', 'HOUGANG AVE 10 BLK 457', 'CHOA CHU KANG AVE 5 BLK 476B', 'PASIR RIS ST 52 BLK 506', 'HOUGANG ST 52 BLK 699A', 'TECK WHYE LANE BLK 102', 'CHOA CHU KANG AVE 2 BLK 296E', 'ELIAS RD BLK 603', 'HOUGANG ST 61 BLK 690', 'PASIR RIS DR 1 BLK 636', 'GANGSA RD BLK 165', 'PENDING RD BLK 118', 'PENDING RD BLK 124', 'HOUGANG ST 91 BLK 920', 'CHOA CHU KANG AVE 4 BLK 464', 'HOUGANG ST 52 BLK 699B', 'ANG MO KIO AVE 5 BLK 179', 'BANGKIT RD BLK 275', 'ANG MO KIO AVE 5 BLK 181', 'CHOA CHU KANG AVE 2 BLK 296B', 'ELIAS RD BLK 606', 'PASIR RIS ST 71 BLK 765', 'PASIR RIS ST 71 BLK 758', 'HOUGANG ST 61 BLK 693', 'ANG MO KIO AVE 5 BLK 150', 'HOUGANG ST 91 BLK 956', 'ELIAS RD BLK 605', 'HOUGANG ST 91 BLK 925', 'HOUGANG ST 91 BLK 959', 'PASIR RIS DR 1 BLK 637', 'CHOA CHU KANG AVE 5 BLK 484A', 'HOUGANG ST 91 BLK 928', 'PASIR RIS ST 52 BLK 505', 'PASIR RIS DR 1 BLK 639', 'ANG MO KIO AVE 5 BLK 180', 'ANG MO KIO AVE 5 BLK 152', 'ANG MO KIO AVE 5 BLK 151', 'HOUGANG AVE 9 BLK 954', 'PETIR RD BLK 149', 'PENDING RD BLK 119', 'HOUGANG ST 91 BLK 927', 'HOUGANG ST 61 BLK 691', 'HOUGANG ST 61 BLK 692', 'HOUGANG AVE 9 BLK 953', 'CHOA CHU KANG AVE 2 BLK 296C', 'PASIR RIS ST 52 BLK 507', 'HOUGANG AVE 6 BLK 432', 'PASIR RIS ST 71 BLK 764', 'PENDING RD BLK 233', 'HOUGANG ST 61 BLK 689', 'CHOA CHU KANG AVE 2 BLK 296D', 'PETIR RD BLK 142', 'CHOA CHU KANG AVE 5 BLK 476A', 'HOUGANG AVE 8 BLK 417', 'HOUGANG ST 91 BLK 957', 'HOUGANG ST 91 BLK 958', 'HOUGANG AVE 8 BLK 434', 'PENDING RD BLK 127', 'PASIR RIS ST 71 BLK 760', 'PASIR RIS ST 71 BLK 759', 'GANGSA RD BLK 164', 'ELIAS RD BLK 615', 'HOUGANG ST 52 BLK 535', 'PASIR RIS DR 1 BLK 641', 'ELIAS RD BLK 607', 'PENDING RD BLK 232', 'HOUGANG ST 91 BLK 921', 'PASIR RIS ST 71 BLK 761', 'HOUGANG ST 52 BLK 699C', 'CHOA CHU KANG AVE 5 BLK 484', 'ANG MO KIO AVE 5 BLK 153', 'HOUGANG AVE 9 BLK 924', 'PENDING RD BLK 126', 'HOUGANG ST 91 BLK 922', 'ANG MO KIO AVE 4 BLK 178', 'HOUGANG ST 61 BLK 695', 'ANG MO KIO AVE 5 BLK 154', 'PASIR RIS ST 52 BLK 508', 'ELIAS RD BLK 604', 'GANGSA RD BLK 163', 'CHOA CHU KANG AVE 5 BLK 484B', 'HOUGANG AVE 8 BLK 433', 'HOUGANG AVE 9 BLK 955', 'PETIR RD BLK 143', 'HOUGANG AVE 9 BLK 923', 'HOUGANG AVE 8 BLK 419', 'BANGKIT RD BLK 276', 'PENDING RD BLK 230', 'HOUGANG ST 61 BLK 688', 'PASIR RIS ST 71 BLK 763', 'HOUGANG ST 52 BLK 699', 'GANGSA RD BLK 147', 'HOUGANG ST 61 BLK 687', 'PASIR RIS ST 52 BLK 500', 'PASIR RIS ST 52 BLK 504', 'BANGKIT RD BLK 277', 'PASIR RIS DR 1 BLK 638', 'HOUGANG AVE 8 BLK 418', 'HOUGANG AVE 6 BLK 532', 'PENDING RD BLK 128', 'HOUGANG AVE 4 BLK 919', 'PENDING RD BLK 231', 'HOUGANG ST 91 BLK 929', 'HOUGANG ST 61 BLK 694', 'PASIR RIS ST 71 BLK 766', 'PASIR RIS ST 52 BLK 501', 'HOUGANG ST 91 BLK 926', 'ANG MO KIO AVE 5 BLK 501', 'HOUGANG ST 61 BLK 696', 'PETIR RD BLK 145', 'GANGSA RD BLK 148', 'PASIR RIS ST 52 BLK 509', 'PETIR RD BLK 141', 'ANG MO KIO AVE 4 BLK 155', 'ANG MO KIO AVE 4 BLK 176', 'CHOA CHU KANG AVE 5 BLK 483', 'HOUGANG AVE 6 BLK 533', 'ANG MO KIO AVE 4 BLK 177', 'HOUGANG AVE 10 BLK 420', 'ELIAS RD BLK 614', 'PENDING RD BLK 224', 'ANG MO KIO AVE 5 BLK 502', 'PASIR RIS DR 1 BLK 640', 'HOUGANG AVE 6 BLK 531', 'PASIR RIS ST 52 BLK 510', 'PASIR RIS ST 71 BLK 762', 'PENDING RD BLK 223', 'HOUGANG ST 61 BLK 686', 'PASIR RIS ST 53 BLK 583', 'ANG MO KIO AVE 4 BLK 175', 'HOUGANG AVE 9 BLK 951', 'PETIR RD BLK 144', 'PASIR RIS ST 52 BLK 503', 'ELIAS RD BLK 608', 'PENDING RD BLK 129', 'HOUGANG AVE 6 BLK 431', 'ELIAS RD BLK 609', 'HOUGANG ST 52 BLK 698D', 'CHOA CHU KANG AVE 5 BLK 484C', 'ANG MO KIO AVE 5 BLK 538', 'HOUGANG AVE 9 BLK 918', 'HOUGANG AVE 10 BLK 416', 'PASIR RIS ST 53 BLK 585', 'PASIR RIS ST 71 BLK 767', 'HOUGANG ST 91 BLK 931', 'HOUGANG AVE 6 BLK 529', 'PASIR RIS ST 52 BLK 512', 'GANGSA RD BLK 146', 'PASIR RIS ST 71 BLK 771', 'PENDING RD BLK 225', 'HOUGANG ST 61 BLK 697', 'ANG MO KIO AVE 4 BLK 156', 'HOUGANG AVE 10 BLK 421', 'PENDING RD BLK 228', 'PASIR RIS ST 52 BLK 502', 'ANG MO KIO AVE 5 BLK 503', 'HOUGANG ST 91 BLK 950', 'CHOA CHU KANG AVE 5 BLK 486', 'CHOA CHU KANG AVE 5 BLK 485D', 'HOUGANG AVE 6 BLK 429', 'PETIR RD BLK 140', 'HOUGANG AVE 6 BLK 430', 'ANG MO KIO AVE 10 BLK 539', 'PASIR RIS ST 71 BLK 768', 'HOUGANG ST 91 BLK 930', 'PASIR RIS ST 53 BLK 582', 'ANG MO KIO AVE 4 BLK 173', 'HOUGANG ST 52 BLK 698C', 'GANGSA RD BLK 155', 'ANG MO KIO AVE 10 BLK 540', 'PASIR RIS ST 53 BLK 586', 'PENDING RD BLK 229', 'ELIAS RD BLK 610', 'PASIR RIS ST 71 BLK 772', 'PENDING RD BLK 221', 'HOUGANG ST 61 BLK 698A', 'ANG MO KIO AVE 4 BLK 157', 'HOUGANG AVE 9 BLK 952', 'HOUGANG AVE 6 BLK 530', 'PETIR RD BLK 139', 'PASIR RIS DR 6 BLK 474', 'PENDING RD BLK 226', 'HOUGANG AVE 10 BLK 415', 'PASIR RIS DR 6 BLK 476', 'ANG MO KIO AVE 4 BLK 174', 'GANGSA RD BLK 152', 'PENDING RD BLK 222', 'PASIR RIS ST 71 BLK 770', 'ANG MO KIO AVE 5 BLK 537', 'HOUGANG AVE 6 BLK 528', 'PASIR RIS ST 52 BLK 511', 'PASIR RIS DR 4 BLK 479', 'CHOA CHU KANG AVE 5 BLK 484D', 'HOUGANG ST 61 BLK 698', 'PASIR RIS DR 6 BLK 475', 'ELIAS RD BLK 611', 'PASIR RIS ST 71 BLK 769', 'HOUGANG AVE 6 BLK 428', 'PASIR RIS ST 71 BLK 776', 'PASIR RIS ST 71 BLK 777', 'PASIR RIS ST 53 BLK 584', 'PETIR RD BLK 215', 'GANGSA RD BLK 153', 'PETIR RD BLK 137', 'HOUGANG ST 61 BLK 698B', 'HOUGANG AVE 9 BLK 917', 'HOUGANG AVE 10 BLK 414', 'SERANGOON NTH AVE 3 BLK 545', 'PETIR RD BLK 214', 'ANG MO KIO AVE 4 BLK 171', 'HOUGANG ST 61 BLK 685', 'PASIR RIS ST 53 BLK 581', 'SERANGOON NTH AVE 4 BLK 539', 'PASIR RIS ST 71 BLK 773', 'HOUGANG AVE 9 BLK 916', 'SERANGOON NTH AVE 4 BLK 538', 'SERANGOON NTH AVE 3 BLK 546', 'PENDING RD BLK 227', 'HOUGANG AVE 10 BLK 403', 'GANGSA RD BLK 154', 'ANG MO KIO AVE 8 BLK 505', 'HOUGANG AVE 6 BLK 527', 'HOUGANG AVE 6 BLK 525', 'PETIR RD BLK 138', 'PASIR RIS DR 4 BLK 480', 'HOUGANG AVE 10 BLK 401', 'PASIR RIS DR 6 BLK 477', 'SERANGOON NTH AVE 4 BLK 500', 'SERANGOON NTH AVE 4 BLK 531', 'SERANGOON NTH AVE 4 BLK 532', 'ANG MO KIO AVE 8 BLK 504', 'PASIR RIS ST 52 BLK 513', 'SERANGOON NTH AVE 4 BLK 502', 'ANG MO KIO AVE 4 BLK 159', 'PASIR RIS ST 52 BLK 517', 'HOUGANG ST 92 BLK 937', 'HOUGANG ST 92 BLK 936', 'HOUGANG AVE 6 BLK 422', 'PETIR RD BLK 217', 'PETIR RD BLK 211', 'PASIR RIS DR 4 BLK 478', 'CHOA CHU KANG AVE 5 BLK 485', 'CHOA CHU KANG AVE 5 BLK 485C', 'HOUGANG AVE 10 BLK 412', 'ANG MO KIO AVE 10 BLK 542', 'HOUGANG ST 92 BLK 946', 'ELIAS RD BLK 612', 'PASIR RIS ST 53 BLK 580', 'SERANGOON NTH AVE 4 BLK 540', 'ANG MO KIO AVE 4 BLK 172', 'CHOA CHU KANG AVE 5 BLK 485A', 'CASHEW RD BLK 133A', 'PASIR RIS ST 52 BLK 514', 'CASHEW RD BLK 131', 'PETIR RD BLK 216', 'HOUGANG AVE 10 BLK 413', 'SERANGOON NTH AVE 3 BLK 543', 'PASIR RIS DR 4 BLK 232', 'SERANGOON NTH AVE 4 BLK 533', 'ANG MO KIO AVE 5 BLK 535', 'PASIR RIS DR 6 BLK 473', 'HOUGANG AVE 6 BLK 427', 'HOUGANG AVE 10 BLK 402', 'PETIR RD BLK 220', 'PASIR RIS ST 21 BLK 236', 'ANG MO KIO AVE 10 BLK 536', 'PASIR RIS ST 52 BLK 518', 'PASIR RIS ST 71 BLK 778', 'PETIR RD BLK 212', 'PETIR RD BLK 136', 'HOUGANG AVE 4 BLK 662', 'HOUGANG AVE 6 BLK 423', 'PASIR RIS ST 53 BLK 579', 'ANG MO KIO AVE 8 BLK 507', 'CHOA CHU KANG AVE 5 BLK 485B', 'PASIR RIS DR 4 BLK 233', 'PETIR RD BLK 218', 'PETIR RD BLK 134', 'PASIR RIS DR 4 BLK 487', 'CASHEW RD BLK 132', 'PASIR RIS DR 4 BLK 486', 'PASIR RIS DR 4 BLK 485', 'HOUGANG AVE 6 BLK 526', 'PASIR RIS ST 53 BLK 574', 'ANG MO KIO AVE 8 BLK 506', 'HOUGANG ST 92 BLK 938', 'HOUGANG ST 92 BLK 944', 'ANG MO KIO AVE 10 BLK 543', 'HOUGANG ST 92 BLK 945', 'CASHEW RD BLK 133', 'SERANGOON NTH AVE 4 BLK 501', 'SERANGOON NTH AVE 4 BLK 541', 'PASIR RIS DR 6 BLK 471', 'PETIR RD BLK 213', 'HOUGANG AVE 8 BLK 684', 'PASIR RIS ST 71 BLK 775', 'SERANGOON NTH AVE 4 BLK 534', 'PASIR RIS ST 52 BLK 515', 'PASIR RIS ST 21 BLK 237', 'ANG MO KIO AVE 10 BLK 547', 'SERANGOON NTH AVE 3 BLK 544', 'PASIR RIS ST 71 BLK 774', 'PETIR RD BLK 219', 'PETIR RD BLK 210', 'ANG MO KIO AVE 5 BLK 533', 'PETIR RD BLK 209', 'HOUGANG AVE 10 BLK 411', 'PASIR RIS DR 6 BLK 472', 'HOUGANG AVE 4 BLK 665', 'HOUGANG AVE 6 BLK 524', 'PASIR RIS ST 53 BLK 578', 'ANG MO KIO AVE 10 BLK 534', 'HOUGANG AVE 10 BLK 405', 'PASIR RIS ST 52 BLK 516', 'HOUGANG AVE 4 BLK 661', 'PASIR RIS DR 4 BLK 481', 'CASHEW RD BLK 130', 'HOUGANG AVE 4 BLK 682', 'PASIR RIS DR 4 BLK 483', 'PASIR RIS ST 52 BLK 519', 'CASHEW RD BLK 135', 'ANG MO KIO AVE 10 BLK 544', 'SERANGOON NTH AVE 4 BLK 503', 'PASIR RIS ST 53 BLK 573', 'SERANGOON NTH AVE 4 BLK 542', 'ANG MO KIO AVE 4 BLK 170', 'PETIR RD BLK 208', 'SERANGOON NTH AVE 4 BLK 537', 'PASIR RIS ST 71 BLK 779', 'ANG MO KIO AVE 8 BLK 509', 'HOUGANG ST 92 BLK 939', 'ANG MO KIO AVE 10 BLK 551', 'HOUGANG AVE 10 BLK 410', 'PASIR RIS DR 6 BLK 468', 'HOUGANG ST 92 BLK 943', 'HOUGANG AVE 8 BLK 657', 'ANG MO KIO AVE 6 BLK 729', 'SERANGOON NTH AVE 3 BLK 547', 'PASIR RIS DR 6 BLK 406', 'HOUGANG AVE 10 BLK 404', 'PASIR RIS DR 6 BLK 470', 'HOUGANG AVE 6 BLK 424', 'PASIR RIS DR 6 BLK 405', 'HOUGANG AVE 10 BLK 409', 'PASIR RIS ST 21 BLK 238', 'HOUGANG AVE 4 BLK 667', 'HOUGANG AVE 6 BLK 523', 'PASIR RIS DR 4 BLK 482', 'ANG MO KIO AVE 8 BLK 508', 'HOUGANG AVE 8 BLK 468', 'PASIR RIS ST 52 BLK 521', 'HOUGANG AVE 6 BLK 522', 'ANG MO KIO AVE 10 BLK 532', 'HOUGANG AVE 8 BLK 660', 'HOUGANG AVE 10 BLK 406', 'HOUGANG AVE 8 BLK 503', 'PETIR RD BLK 206', 'HOUGANG AVE 6 BLK 426', 'PASIR RIS ST 71 BLK 780', 'PETIR RD BLK 207', 'HOUGANG AVE 6 BLK 425', 'PASIR RIS DR 6 BLK 407', 'PASIR RIS DR 4 BLK 484', 'SERANGOON NTH AVE 4 BLK 535A', 'HOUGANG AVE 4 BLK 666', 'ANG MO KIO AVE 4 BLK 117', 'SERANGOON NTH AVE 4 BLK 535', 'HOUGANG AVE 6 BLK 520', 'PASIR RIS ST 53 BLK 572', 'ANG MO KIO AVE 10 BLK 550', 'HOUGANG ST 92 BLK 941', 'HOUGANG AVE 8 BLK 683', 'PASIR RIS DR 6 BLK 469', 'ANG MO KIO AVE 8 BLK 511', 'ANG MO KIO AVE 10 BLK 546', 'SERANGOON NTH AVE 4 BLK 504', 'SERANGOON NTH AVE 4 BLK 536', 'PASIR RIS DR 6 BLK 467', 'ANG MO KIO AVE 4 BLK 163', 'ANG MO KIO AVE 5 BLK 521', 'PASIR RIS ST 41 BLK 465', 'HOUGANG ST 92 BLK 940', 'PASIR RIS DR 4 BLK 231', 'ANG MO KIO AVE 5 BLK 524', 'PASIR RIS ST 21 BLK 240', 'PASIR RIS ST 41 BLK 466', 'HOUGANG AVE 6 BLK 521', 'PASIR RIS ST 52 BLK 520', 'HOUGANG AVE 8 BLK 504', 'PASIR RIS ST 71 BLK 781', 'HOUGANG AVE 8 BLK 659', 'PASIR RIS DR 6 BLK 412', 'SERANGOON NTH AVE 4 BLK 521', 'HOUGANG AVE 8 BLK 656', 'HOUGANG AVE 8 BLK 669', 'ANG MO KIO AVE 4 BLK 116', 'HOUGANG AVE 8 BLK 658', 'ANG MO KIO AVE 8 BLK 510', 'PASIR RIS DR 4 BLK 234', 'SERANGOON NTH AVE 4 BLK 505', 'ANG MO KIO AVE 5 BLK 520', 'HOUGANG AVE 8 BLK 668', 'PASIR RIS ST 71 BLK 782', 'HOUGANG AVE 8 BLK 467', 'PETIR RD BLK 205', 'SERANGOON NTH AVE 4 BLK 530', 'PASIR RIS ST 21 BLK 235', 'HOUGANG AVE 10 BLK 408', 'HOUGANG ST 92 BLK 942', 'HOUGANG AVE 10 BLK 460', 'ANG MO KIO AVE 10 BLK 541', 'ANG MO KIO AVE 4 BLK 118', 'PASIR RIS ST 21 BLK 239', 'PASIR RIS DR 6 BLK 408', 'ANG MO KIO AVE 10 BLK 545', 'ANG MO KIO AVE 10 BLK 549', 'HOUGANG AVE 8 BLK 505', 'PASIR RIS ST 53 BLK 577', 'SERANGOON NTH AVE 4 BLK 506A', 'SERANGOON NTH AVE 3 BLK 548', 'PASIR RIS ST 53 BLK 576', 'HOUGANG AVE 8 BLK 671', 'SERANGOON NTH AVE 4 BLK 523', 'PASIR RIS ST 53 BLK 571', 'PASIR RIS ST 21 BLK 241', 'ANG MO KIO AVE 5 BLK 523', 'HOUGANG AVE 8 BLK 655', 'PASIR RIS ST 53 BLK 575', 'ANG MO KIO AVE 5 BLK 522', 'PETIR RD BLK 204', 'HOUGANG AVE 10 BLK 407', 'HOUGANG AVE 8 BLK 670', 'HOUGANG AVE 8 BLK 681', 'HOUGANG AVE 7 BLK 357', 'PASIR RIS DR 6 BLK 410', 'PASIR RIS DR 6 BLK 409', 'HOUGANG AVE 8 BLK 653', 'PASIR RIS DR 6 BLK 413', 'ANG MO KIO AVE 10 BLK 548', 'PASIR RIS ST 53 BLK 570', 'PETIR RD BLK 203', 'HOUGANG AVE 8 BLK 506', 'SERANGOON NTH AVE 4 BLK 529', 'HOUGANG AVE 8 BLK 654', 'SERANGOON NTH AVE 4 BLK 506', 'ANG MO KIO AVE 10 BLK 554', 'ANG MO KIO AVE 6 BLK 725', 'HOUGANG AVE 8 BLK 466', 'PASIR RIS ST 21 BLK 230', 'ANG MO KIO AVE 8 BLK 513', 'PASIR RIS ST 21 BLK 229', 'HOUGANG AVE 8 BLK 502', 'SERANGOON NTH AVE 4 BLK 524', 'SERANGOON NTH AVE 3 BLK 550', 'HOUGANG AVE 10 BLK 461', 'ANG MO KIO AVE 6 BLK 728', 'SERANGOON NTH AVE 3 BLK 549', 'HOUGANG AVE 8 BLK 673', 'ANG MO KIO AVE 4 BLK 114', 'PASIR RIS ST 41 BLK 464', 'ANG MO KIO AVE 6 BLK 727', 'ANG MO KIO AVE 8 BLK 512', 'HOUGANG AVE 7 BLK 356', 'PASIR RIS ST 41 BLK 463', 'HOUGANG AVE 10 BLK 463', 'SERANGOON NTH AVE 4 BLK 522', 'HOUGANG AVE 8 BLK 651', 'SERANGOON NTH AVE 4 BLK 506B', 'ANG MO KIO AVE 10 BLK 553', 'PASIR RIS DR 6 BLK 411', 'ANG MO KIO ST 52 BLK 596A', 'HOUGANG AVE 8 BLK 507', 'HOUGANG AVE 7 BLK 354', 'HOUGANG AVE 8 BLK 649', 'HOUGANG AVE 8 BLK 652', 'PETIR RD BLK 202', 'HOUGANG AVE 8 BLK 672', 'ANG MO KIO AVE 4 BLK 105', 'ANG MO KIO AVE 10 BLK 552', 'SERANGOON NTH AVE 3 BLK 551', 'HOUGANG AVE 10 BLK 509', 'HOUGANG AVE 10 BLK 462', 'PASIR RIS DR 6 BLK 414', 'SERANGOON NTH AVE 4 BLK 525', 'HOUGANG AVE 10 BLK 515', 'HOUGANG AVE 10 BLK 517', 'SERANGOON NTH AVE 3 BLK 552', 'UPP SERANGOON RD BLK 464', 'HOUGANG AVE 7 BLK 353', 'HOUGANG AVE 8 BLK 501', 'ANG MO KIO ST 52 BLK 596C', 'SERANGOON NTH AVE 4 BLK 520', 'PASIR RIS ST 21 BLK 228', 'HOUGANG AVE 10 BLK 514', 'HOUGANG AVE 10 BLK 516', 'HOUGANG AVE 10 BLK 513', 'HOUGANG AVE 8 BLK 648', 'HOUGANG AVE 8 BLK 650', 'PASIR RIS DR 4 BLK 456', 'HOUGANG AVE 7 BLK 352', 'HOUGANG AVE 8 BLK 674', 'ANG MO KIO ST 52 BLK 596B', 'HOUGANG AVE 10 BLK 511', 'ANG MO KIO ST 52 BLK 588A', 'ANG MO KIO AVE 3 BLK 134', 'HOUGANG AVE 7 BLK 355', 'ANG MO KIO AVE 10 BLK 556', 'PASIR RIS DR 6 BLK 454', 'UPP SERANGOON RD BLK 465', 'HOUGANG AVE 8 BLK 680', 'ANG MO KIO ST 52 BLK 588B', 'ANG MO KIO AVE 4 BLK 106', 'SERANGOON NTH AVE 4 BLK 507', 'PASIR RIS DR 6 BLK 417', 'HOUGANG AVE 8 BLK 675', 'PASIR RIS DR 4 BLK 457', 'PASIR RIS DR 6 BLK 453', 'SERANGOON NTH AVE 3 BLK 554', 'HOUGANG AVE 8 BLK 646', 'ANG MO KIO ST 52 BLK 596D', 'HOUGANG AVE 10 BLK 510', 'PETIR RD BLK 201', 'ANG MO KIO ST 52 BLK 588C', 'SERANGOON NTH AVE 4 BLK 519', 'SERANGOON NTH AVE 4 BLK 508', 'HOUGANG CTRL BLK 811', 'PASIR RIS DR 6 BLK 415', 'PASIR RIS DR 6 BLK 418', 'HOUGANG AVE 8 BLK 645', 'SERANGOON NTH AVE 4 BLK 509', 'PASIR RIS DR 6 BLK 455', 'ANG MO KIO AVE 10 BLK 578', 'ANG MO KIO AVE 4 BLK 113', 'HOUGANG AVE 7 BLK 351', 'ANG MO KIO AVE 10 BLK 577', 'ANG MO KIO ST 11 BLK 104A', 'SERANGOON NTH AVE 4 BLK 526', 'PASIR RIS ST 21 BLK 227', 'ANG MO KIO ST 52 BLK 588D', 'HOUGANG AVE 8 BLK 642', 'PASIR RIS DR 6 BLK 416', 'HOUGANG AVE 8 BLK 676', 'SERANGOON NTH AVE 3 BLK 553', 'HOUGANG AVE 10 BLK 508', 'SERANGOON NTH AVE 4 BLK 512', 'ANG MO KIO ST 11 BLK 104B', 'PASIR RIS DR 6 BLK 420', 'ANG MO KIO AVE 3 BLK 126', 'ANG MO KIO AVE 10 BLK 557', 'SERANGOON NTH AVE 4 BLK 518', 'PASIR RIS ST 21 BLK 242', 'PASIR RIS ST 21 BLK 243', 'PASIR RIS ST 21 BLK 244', 'HOUGANG AVE 8 BLK 643', 'SERANGOON NTH AVE 4 BLK 527', 'HOUGANG AVE 8 BLK 679', 'PASIR RIS DR 6 BLK 451', 'PASIR RIS DR 6 BLK 452', 'HOUGANG AVE 4 BLK 603', 'HOUGANG CTRL BLK 831', 'PASIR RIS DR 6 BLK 419', 'ANG MO KIO AVE 6 BLK 713', 'ANG MO KIO AVE 6 BLK 716', 'ANG MO KIO AVE 4 BLK 107', 'ANG MO KIO AVE 10 BLK 575', 'ANG MO KIO AVE 3 BLK 132', 'HOUGANG AVE 8 BLK 644', 'ANG MO KIO AVE 10 BLK 576', 'ANG MO KIO AVE 6 BLK 720', 'SERANGOON NTH AVE 4 BLK 528', 'PASIR RIS DR 4 BLK 458', 'PASIR RIS DR 1 BLK 532', 'HOUGANG AVE 10 BLK 512', 'ANG MO KIO AVE 4 BLK 112', 'HOUGANG AVE 8 BLK 641', 'HOUGANG AVE 8 BLK 640', 'HOUGANG AVE 8 BLK 677', 'SERANGOON NTH AVE 4 BLK 517', 'PASIR RIS DR 1 BLK 531', 'SERANGOON NTH AVE 4 BLK 511', 'ANG MO KIO AVE 10 BLK 558', 'PASIR RIS ST 21 BLK 225', 'PASIR RIS DR 4 BLK 460', 'ANG MO KIO AVE 3 BLK 127', 'SERANGOON NTH AVE 4 BLK 516', 'PASIR RIS DR 6 BLK 450', 'HOUGANG AVE 4 BLK 601', 'PASIR RIS DR 4 BLK 461', 'ANG MO KIO AVE 8 BLK 709', 'HOUGANG AVE 4 BLK 602', 'PASIR RIS ST 21 BLK 226', 'PASIR RIS ST 21 BLK 246', 'ANG MO KIO AVE 6 BLK 714', 'ANG MO KIO AVE 3 BLK 133', 'PASIR RIS DR 6 BLK 421', 'HOUGANG CTRL BLK 806', 'ANG MO KIO AVE 8 BLK 710', 'SERANGOON NTH AVE 4 BLK 515', 'PASIR RIS ST 21 BLK 245', 'ANG MO KIO AVE 3 BLK 131', 'HOUGANG AVE 8 BLK 637', 'SERANGOON NTH AVE 4 BLK 514', 'SERANGOON NTH AVE 1 BLK 101', 'ANG MO KIO AVE 10 BLK 559', 'HOUGANG AVE 4 BLK 604', 'PASIR RIS DR 4 BLK 459', 'ANG MO KIO AVE 3 BLK 103', 'HOUGANG CTRL BLK 830', 'HOUGANG AVE 4 BLK 608', 'HOUGANG AVE 4 BLK 605', 'ANG MO KIO AVE 4 BLK 111', 'PASIR RIS ST 21 BLK 224', 'ANG MO KIO AVE 4 BLK 108', 'PASIR RIS DR 1 BLK 533', 'ANG MO KIO AVE 6 BLK 124', 'PASIR RIS DR 6 BLK 449', 'SERANGOON NTH AVE 1 BLK 102', 'PASIR RIS DR 6 BLK 447', 'HOUGANG AVE 8 BLK 638', 'ANG MO KIO AVE 3 BLK 128', 'HOUGANG AVE 8 BLK 632', 'ANG MO KIO AVE 10 BLK 560', 'HOUGANG AVE 8 BLK 678', 'HOUGANG AVE 4 BLK 606', 'SERANGOON NTH AVE 4 BLK 510', 'HOUGANG AVE 8 BLK 631', 'HOUGANG AVE 8 BLK 639', 'ANG MO KIO AVE 3 BLK 584', 'ANG MO KIO AVE 4 BLK 255', 'PASIR RIS DR 1 BLK 536', 'PASIR RIS ST 21 BLK 247', 'PASIR RIS ST 21 BLK 248', 'ANG MO KIO AVE 3 BLK 585', 'PASIR RIS ST 21 BLK 222', 'PASIR RIS DR 6 BLK 448', 'HOUGANG AVE 8 BLK 636', 'PASIR RIS DR 1 BLK 535', 'ANG MO KIO AVE 3 BLK 102', 'HOUGANG CTRL BLK 832', 'ANG MO KIO AVE 4 BLK 256', 'HOUGANG AVE 8 BLK 623', 'ANG MO KIO AVE 10 BLK 561', 'ANG MO KIO AVE 3 BLK 573', 'SERANGOON NTH AVE 1 BLK 104', 'PASIR RIS ST 21 BLK 223', 'ANG MO KIO AVE 4 BLK 110', 'HOUGANG AVE 7 BLK 341', 'ANG MO KIO AVE 8 BLK 705', 'HOUGANG AVE 8 BLK 622', 'PASIR RIS DR 6 BLK 446', 'PASIR RIS DR 6 BLK 422', 'HOUGANG CTRL BLK 833', 'HOUGANG AVE 8 BLK 630', 'ANG MO KIO AVE 8 BLK 704', 'HOUGANG CTRL BLK 838', 'ANG MO KIO AVE 3 BLK 130', 'ANG MO KIO AVE 4 BLK 254', 'HOUGANG AVE 8 BLK 610', 'HOUGANG AVE 7 BLK 340', 'PASIR RIS DR 1 BLK 534', 'HOUGANG CTRL BLK 835', 'PASIR RIS DR 6 BLK 427', 'ANG MO KIO AVE 3 BLK 572', 'ANG MO KIO AVE 3 BLK 586', 'HOUGANG AVE 8 BLK 625', 'PASIR RIS ST 21 BLK 221', 'PASIR RIS ST 21 BLK 251', 'PASIR RIS ST 21 BLK 250', 'ANG MO KIO AVE 3 BLK 101', 'HOUGANG AVE 8 BLK 635', 'SERANGOON NTH AVE 1 BLK 153', 'ANG MO KIO AVE 3 BLK 122', 'ANG MO KIO AVE 3 BLK 587', 'HOUGANG AVE 8 BLK 624', 'SERANGOON NTH AVE 1 BLK 105', 'HOUGANG AVE 8 BLK 621', 'HOUGANG AVE 4 BLK 607', 'ANG MO KIO AVE 3 BLK 562', 'PASIR RIS ST 21 BLK 249', 'ANG MO KIO AVE 3 BLK 120', 'ANG MO KIO AVE 4 BLK 109', 'HOUGANG AVE 5 BLK 362', 'HOUGANG AVE 8 BLK 620', 'HOUGANG AVE 5 BLK 363', 'ANG MO KIO AVE 3 BLK 571', 'HOUGANG CTRL BLK 851', 'HOUGANG AVE 7 BLK 339', 'PASIR RIS DR 6 BLK 429', 'HOUGANG CTRL BLK 850', 'HOUGANG AVE 8 BLK 609', 'PASIR RIS DR 6 BLK 424', 'ANG MO KIO ST 21 BLK 253A', 'HOUGANG AVE 8 BLK 611', 'HOUGANG AVE 8 BLK 634', 'PASIR RIS DR 6 BLK 426', 'ANG MO KIO AVE 4 BLK 258', 'ANG MO KIO AVE 6 BLK 700A', 'HOUGANG CTRL BLK 834', 'HOUGANG CTRL BLK 836', 'PASIR RIS DR 6 BLK 423', 'PASIR RIS ST 51 BLK 537', 'ANG MO KIO AVE 3 BLK 129', 'HOUGANG AVE 8 BLK 629', 'HOUGANG AVE 8 BLK 626', 'SERANGOON NTH AVE 1 BLK 107', 'ANG MO KIO AVE 3 BLK 563', 'SERANGOON NTH AVE 1 BLK 108', 'HOUGANG AVE 8 BLK 619', 'ANG MO KIO AVE 3 BLK 570', 'SERANGOON NTH AVE 1 BLK 154', 'PASIR RIS ST 21 BLK 220', 'HOUGANG AVE 8 BLK 633', 'ANG MO KIO AVE 3 BLK 564', 'ANG MO KIO ST 21 BLK 253', 'HOUGANG AVE 7 BLK 337', 'SERANGOON NTH AVE 1 BLK 152', 'PASIR RIS ST 51 BLK 569', 'ANG MO KIO AVE 3 BLK 121', 'HOUGANG CTRL BLK 852', 'HOUGANG AVE 8 BLK 618', 'PASIR RIS ST 51 BLK 538', 'PASIR RIS ST 51 BLK 539', 'ANG MO KIO AVE 6 BLK 700C', 'HOUGANG AVE 8 BLK 612', 'SERANGOON NTH AVE 2 BLK 151', 'PASIR RIS DR 4 BLK 440', 'PASIR RIS DR 6 BLK 425', 'ANG MO KIO AVE 3 BLK 119', 'HOUGANG AVE 5 BLK 360', 'ANG MO KIO AVE 3 BLK 565', 'SERANGOON NTH AVE 1 BLK 110', 'PASIR RIS ST 21 BLK 218', 'ANG MO KIO AVE 3 BLK 426', 'ANG MO KIO AVE 6 BLK 700B', 'PASIR RIS ST 21 BLK 217', 'PASIR RIS DR 6 BLK 428', 'PASIR RIS ST 51 BLK 566', 'PASIR RIS ST 51 BLK 540', 'HOUGANG AVE 8 BLK 628', 'HOUGANG AVE 5 BLK 361', 'HOUGANG CTRL BLK 837', 'PASIR RIS ST 21 BLK 219', 'ANG MO KIO AVE 3 BLK 427', 'HOUGANG AVE 7 BLK 336', 'HOUGANG AVE 8 BLK 613', 'PASIR RIS ST 51 BLK 541', 'PASIR RIS ST 51 BLK 542', 'HOUGANG CTRL BLK 853', 'HOUGANG AVE 8 BLK 627', 'HOUGANG AVE 5 BLK 359', 'PASIR RIS ST 51 BLK 567', 'PASIR RIS ST 51 BLK 543', 'ANG MO KIO AVE 3 BLK 211', 'SERANGOON NTH AVE 1 BLK 112', 'SERANGOON NTH AVE 1 BLK 111', 'ANG MO KIO AVE 3 BLK 429', 'HOUGANG AVE 8 BLK 617', 'PASIR RIS ST 21 BLK 216', 'PASIR RIS ST 51 BLK 545', 'ANG MO KIO AVE 3 BLK 229', 'PASIR RIS DR 6 BLK 442', 'HOUGANG AVE 8 BLK 614', 'ANG MO KIO AVE 3 BLK 425', 'PASIR RIS ST 51 BLK 547', 'ANG MO KIO AVE 3 BLK 430', 'PASIR RIS ST 51 BLK 544', 'ANG MO KIO AVE 3 BLK 428', 'ANG MO KIO AVE 3 BLK 209', 'ANG MO KIO AVE 10 BLK 452', 'PASIR RIS ST 51 BLK 565', 'HOUGANG AVE 7 BLK 335', 'PASIR RIS ST 51 BLK 568', 'PASIR RIS ST 51 BLK 546', 'HOUGANG AVE 5 BLK 334', 'PASIR RIS ST 11 BLK 115', 'HOUGANG AVE 5 BLK 358', 'SERANGOON NTH AVE 1 BLK 114', 'ANG MO KIO AVE 3 BLK 230', 'HOUGANG AVE 8 BLK 616', 'ANG MO KIO AVE 3 BLK 212', 'ANG MO KIO AVE 10 BLK 451', 'ANG MO KIO AVE 3 BLK 231', 'ANG MO KIO AVE 3 BLK 201', 'SERANGOON NTH AVE 2 BLK 139', 'SERANGOON NTH AVE 1 BLK 113', 'PASIR RIS ST 11 BLK 110', 'HOUGANG AVE 5 BLK 328', 'ANG MO KIO AVE 3 BLK 423', 'PASIR RIS ST 11 BLK 116', 'ANG MO KIO AVE 3 BLK 424', 'ANG MO KIO AVE 10 BLK 453', 'ANG MO KIO AVE 3 BLK 210', 'HOUGANG AVE 5 BLK 302', 'HOUGANG AVE 8 BLK 615', 'SERANGOON NTH AVE 1 BLK 148', 'SERANGOON NTH AVE 2 BLK 141', 'PASIR RIS ST 21 BLK 255', 'ANG MO KIO AVE 2 BLK 259', 'PASIR RIS ST 12 BLK 105', 'SERANGOON NTH AVE 1 BLK 116', 'SERANGOON NTH AVE 1 BLK 147', 'PASIR RIS ST 21 BLK 215', 'HOUGANG AVE 5 BLK 332', 'PASIR RIS ST 51 BLK 548', 'ANG MO KIO AVE 10 BLK 450', 'PASIR RIS ST 11 BLK 114', 'ANG MO KIO AVE 3 BLK 202', 'PASIR RIS ST 21 BLK 213', 'PASIR RIS ST 21 BLK 252', 'SERANGOON NTH AVE 2 BLK 140', 'PASIR RIS ST 51 BLK 554', 'PASIR RIS ST 11 BLK 109', 'PASIR RIS ST 51 BLK 564', 'ANG MO KIO AVE 3 BLK 343', 'ANG MO KIO AVE 3 BLK 322', 'ANG MO KIO AVE 10 BLK 432', 'ANG MO KIO AVE 3 BLK 324', 'HOUGANG AVE 5 BLK 327', 'SERANGOON NTH AVE 2 BLK 138', 'ANG MO KIO AVE 10 BLK 431', 'SERANGOON NTH AVE 1 BLK 146', 'ANG MO KIO AVE 3 BLK 232', 'SERANGOON NTH AVE 1 BLK 115', 'SERANGOON NTH AVE 2 BLK 136', 'PASIR RIS ST 21 BLK 253', 'PASIR RIS ST 21 BLK 254', 'PASIR RIS ST 51 BLK 555', 'PASIR RIS ST 11 BLK 113', 'HOUGANG AVE 5 BLK 303', 'HOUGANG AVE 7 BLK 326', 'PASIR RIS ST 51 BLK 553', 'PASIR RIS ST 11 BLK 111', 'ANG MO KIO AVE 10 BLK 433', 'ANG MO KIO AVE 3 BLK 344', 'ANG MO KIO AVE 10 BLK 434', 'PASIR RIS ST 51 BLK 549', 'PASIR RIS ST 12 BLK 106', 'ANG MO KIO AVE 3 BLK 325', 'ANG MO KIO AVE 3 BLK 323', 'SERANGOON NTH AVE 1 BLK 145', 'ANG MO KIO AVE 3 BLK 422', 'PASIR RIS ST 11 BLK 117', 'ANG MO KIO AVE 10 BLK 449', 'HOUGANG AVE 5 BLK 304', 'PASIR RIS ST 12 BLK 104', 'ANG MO KIO AVE 3 BLK 213', 'SERANGOON NTH AVE 2 BLK 137', 'PASIR RIS ST 21 BLK 212', 'ANG MO KIO AVE 10 BLK 446', 'HOUGANG AVE 5 BLK 301', 'PASIR RIS ST 21 BLK 214', 'HOUGANG AVE 5 BLK 333', 'SERANGOON NTH AVE 1 BLK 144', 'ANG MO KIO AVE 1 BLK 226', 'ANG MO KIO AVE 10 BLK 435', 'PASIR RIS ST 12 BLK 103', 'PASIR RIS ST 12 BLK 107', 'PASIR RIS ST 11 BLK 112', 'SERANGOON NTH AVE 1 BLK 119', 'PASIR RIS ST 21 BLK 256', 'ANG MO KIO AVE 10 BLK 461', 'PASIR RIS ST 51 BLK 562', 'ANG MO KIO AVE 3 BLK 233', 'HOUGANG AVE 7 BLK 325', 'PASIR RIS ST 51 BLK 556', 'PASIR RIS ST 11 BLK 119', 'ANG MO KIO AVE 3 BLK 345', 'ANG MO KIO AVE 10 BLK 447', 'HOUGANG AVE 5 BLK 324', 'ANG MO KIO AVE 1 BLK 225', 'PASIR RIS ST 12 BLK 102', 'ANG MO KIO AVE 10 BLK 448', 'SERANGOON NTH AVE 1 BLK 142', 'ANG MO KIO AVE 3 BLK 214', 'PASIR RIS ST 12 BLK 108', 'ANG MO KIO AVE 3 BLK 301', 'PASIR RIS ST 51 BLK 552', 'PASIR RIS ST 21 BLK 204', 'SERANGOON NTH AVE 1 BLK 143', 'PASIR RIS ST 51 BLK 551', 'ANG MO KIO AVE 10 BLK 436', 'ANG MO KIO AVE 3 BLK 204', 'ANG MO KIO AVE 1 BLK 226B', 'SERANGOON NTH AVE 2 BLK 135', 'SERANGOON NTH AVE 1 BLK 120', 'ANG MO KIO AVE 10 BLK 437', 'PASIR RIS ST 51 BLK 550', 'PASIR RIS ST 12 BLK 199', 'PASIR RIS ST 21 BLK 211', 'PASIR RIS ST 11 BLK 120', 'HOUGANG AVE 5 BLK 306', 'ANG MO KIO AVE 10 BLK 456', 'HOUGANG AVE 5 BLK 323', 'ANG MO KIO AVE 3 BLK 234', 'ANG MO KIO AVE 3 BLK 346', 'HOUGANG AVE 5 BLK 321', 'HOUGANG AVE 2 BLK 709', 'PASIR RIS ST 21 BLK 257', 'ANG MO KIO AVE 10 BLK 459', 'HOUGANG AVE 5 BLK 308', 'PASIR RIS ST 11 BLK 118', 'PASIR RIS ST 12 BLK 101', 'ANG MO KIO AVE 3 BLK 327', 'HOUGANG AVE 5 BLK 305', 'HOUGANG AVE 5 BLK 322', 'ANG MO KIO AVE 3 BLK 326', 'ANG MO KIO AVE 3 BLK 302', 'PASIR RIS ST 21 BLK 203', 'PASIR RIS ST 51 BLK 561', 'ANG MO KIO AVE 10 BLK 438', 'ANG MO KIO AVE 10 BLK 445', 'PASIR RIS ST 21 BLK 205', 'PASIR RIS ST 21 BLK 210', 'PASIR RIS ST 51 BLK 557', 'ANG MO KIO AVE 3 BLK 235', 'ANG MO KIO AVE 1 BLK 205', 'ANG MO KIO AVE 10 BLK 463', 'ANG MO KIO AVE 10 BLK 462', 'SERANGOON NTH AVE 1 BLK 121', 'SERANGOON NTH AVE 1 BLK 123', 'PASIR RIS ST 11 BLK 121', 'ANG MO KIO AVE 10 BLK 464', 'ANG MO KIO AVE 1 BLK 303', 'PASIR RIS ST 51 BLK 560', 'HOUGANG AVE 2 BLK 708', 'PASIR RIS ST 51 BLK 558', 'HOUGANG AVE 5 BLK 307', 'ANG MO KIO AVE 3 BLK 328', 'PASIR RIS ST 12 BLK 198', 'ANG MO KIO AVE 3 BLK 313', 'SERANGOON NTH AVE 1 BLK 122', 'HOUGANG AVE 2 BLK 710', 'ANG MO KIO AVE 10 BLK 458', 'ANG MO KIO AVE 10 BLK 444', 'ANG MO KIO AVE 3 BLK 311', 'ANG MO KIO AVE 3 BLK 329', 'PASIR RIS ST 21 BLK 209', 'PASIR RIS ST 11 BLK 122', 'ANG MO KIO AVE 1 BLK 226E', 'BT BATOK WEST AVE 5 BLK 393', 'SERANGOON NTH AVE 1 BLK 125', 'PASIR RIS ST 21 BLK 207', 'ANG MO KIO AVE 1 BLK 215', 'ANG MO KIO AVE 10 BLK 440', 'PASIR RIS ST 11 BLK 129', 'BT BATOK WEST AVE 5 BLK 395', 'ANG MO KIO AVE 1 BLK 221', 'PASIR RIS ST 51 BLK 559', 'BT BATOK WEST AVE 5 BLK 394', 'ANG MO KIO AVE 1 BLK 304', 'PASIR RIS ST 12 BLK 197', 'HOUGANG AVE 5 BLK 320', 'HOUGANG AVE 2 BLK 711', 'ANG MO KIO AVE 10 BLK 460', 'ANG MO KIO AVE 10 BLK 439', 'PASIR RIS ST 12 BLK 192', 'HOUGANG AVE 5 BLK 310', 'PASIR RIS ST 21 BLK 206', 'HOUGANG AVE 2 BLK 707', 'ANG MO KIO AVE 10 BLK 465', 'SERANGOON NTH AVE 1 BLK 124', 'ANG MO KIO AVE 3 BLK 314', 'ANG MO KIO AVE 3 BLK 312', 'PASIR RIS ST 12 BLK 196', 'PASIR RIS ST 21 BLK 208', 'ANG MO KIO AVE 1 BLK 216', 'PASIR RIS ST 11 BLK 128', 'HOUGANG AVE 5 BLK 309', 'PASIR RIS ST 11 BLK 123', 'ANG MO KIO AVE 3 BLK 348', 'PASIR RIS ST 21 BLK 266', 'ANG MO KIO AVE 1 BLK 305', 'PASIR RIS ST 12 BLK 195', 'ANG MO KIO AVE 1 BLK 223', 'PASIR RIS ST 11 BLK 132', 'ANG MO KIO AVE 1 BLK 222', 'ANG MO KIO AVE 10 BLK 441', 'ANG MO KIO AVE 10 BLK 443', 'SERANGOON NTH AVE 1 BLK 126', 'HOUGANG AVE 2 BLK 701', 'ANG MO KIO AVE 1 BLK 219', 'ANG MO KIO AVE 1 BLK 307A', 'PASIR RIS ST 12 BLK 193', 'PASIR RIS ST 12 BLK 191', 'ANG MO KIO AVE 1 BLK 207', 'HOUGANG AVE 2 BLK 706', 'BT BATOK WEST AVE 5 BLK 391', 'ANG MO KIO AVE 10 BLK 466', 'BT BATOK WEST AVE 5 BLK 392', 'PASIR RIS ST 11 BLK 124', 'HOUGANG AVE 2 BLK 712', 'PASIR RIS ST 21 BLK 271', 'ANG MO KIO AVE 1 BLK 306', 'PASIR RIS ST 12 BLK 194', 'HOUGANG AVE 5 BLK 318', 'PASIR RIS ST 21 BLK 267', 'ANG MO KIO AVE 1 BLK 307B', 'HOUGANG AVE 2 BLK 702', 'PASIR RIS ST 11 BLK 125', 'ANG MO KIO AVE 10 BLK 457', 'HOUGANG AVE 5 BLK 319', 'BT BATOK WEST AVE 7 BLK 405', 'ANG MO KIO AVE 10 BLK 442', 'HOUGANG AVE 5 BLK 311', 'PASIR RIS ST 11 BLK 131', 'PASIR RIS ST 12 BLK 189', 'ANG MO KIO ST 31 BLK 317', 'SERANGOON NTH AVE 1 BLK 127', 'PASIR RIS ST 11 BLK 185', 'HOUGANG AVE 2 BLK 705', 'ANG MO KIO AVE 1 BLK 220', 'ANG MO KIO AVE 1 BLK 307C', 'ANG MO KIO AVE 1 BLK 320', 'HOUGANG AVE 2 BLK 703', 'PASIR RIS ST 11 BLK 126', 'HOUGANG AVE 3 BLK 24', 'BT BATOK WEST AVE 7 BLK 404', 'HOUGANG AVE 5 BLK 312', 'ANG MO KIO AVE 1 BLK 308A', 'PASIR RIS ST 21 BLK 270', 'ANG MO KIO AVE 1 BLK 208', 'PASIR RIS ST 11 BLK 127', 'ANG MO KIO AVE 10 BLK 467', 'PASIR RIS ST 12 BLK 188', 'PASIR RIS ST 11 BLK 133', 'PASIR RIS ST 11 BLK 130', 'ANG MO KIO AVE 10 BLK 419', 'BT BATOK WEST AVE 5 BLK 389', 'ANG MO KIO AVE 10 BLK 421', 'BT BATOK WEST AVE 5 BLK 390', 'HOUGANG AVE 7 BLK 317', 'PASIR RIS ST 12 BLK 190', 'ANG MO KIO AVE 1 BLK 308B', 'PASIR RIS ST 21 BLK 269', 'BT BATOK WEST AVE 7 BLK 406', 'PASIR RIS ST 21 BLK 268', 'PASIR RIS ST 11 BLK 184', 'ANG MO KIO AVE 1 BLK 218', 'PASIR RIS ST 11 BLK 137', 'BT BATOK WEST AVE 7 BLK 403', 'ANG MO KIO AVE 1 BLK 321', 'PASIR RIS ST 11 BLK 134', 'ANG MO KIO AVE 1 BLK 319', 'ANG MO KIO AVE 10 BLK 418', 'ANG MO KIO AVE 10 BLK 417', 'PASIR RIS ST 21 BLK 272', 'ANG MO KIO ST 31 BLK 309A', 'PASIR RIS ST 11 BLK 186', 'PASIR RIS ST 11 BLK 183', 'HOUGANG AVE 2 BLK 704', 'BT BATOK ST 32 BLK 336', 'BT BATOK WEST AVE 5 BLK 387', 'HOUGANG AVE 3 BLK 23', 'ANG MO KIO AVE 10 BLK 468', 'BT BATOK WEST AVE 5 BLK 388', 'ANG MO KIO AVE 1 BLK 310A', 'BT BATOK WEST AVE 4 BLK 408', 'BT BATOK WEST AVE 4 BLK 407', 'ANG MO KIO ST 31 BLK 316A', 'HOUGANG AVE 5 BLK 314', 'PASIR RIS ST 21 BLK 273', 'ANG MO KIO AVE 1 BLK 310B', 'PASIR RIS ST 13 BLK 158', 'PASIR RIS ST 11 BLK 187', 'BT BATOK WEST AVE 7 BLK 402', 'PASIR RIS ST 11 BLK 182', 'ANG MO KIO ST 32 BLK 352', 'BT BATOK ST 32 BLK 334', 'ANG MO KIO AVE 1 BLK 310C', 'PASIR RIS ST 11 BLK 135', 'PASIR RIS ST 11 BLK 136', 'BT BATOK ST 32 BLK 335', 'ANG MO KIO AVE 10 BLK 415', 'BT BATOK WEST AVE 4 BLK 409', 'PASIR RIS ST 11 BLK 181', 'TAMPINES ST 43 BLK 495F', 'PASIR RIS ST 13 BLK 157', 'ANG MO KIO AVE 10 BLK 416', 'SERANGOON NTH AVE 1 BLK 109', 'SERANGOON NTH AVE 1 BLK 117', 'SERANGOON NTH AVE 1 BLK 106', 'SERANGOON NTH AVE 1 BLK 118', 'SERANGOON NTH AVE 1 BLK 103', 'BT BATOK WEST AVE 4 BLK 410', 'ANG MO KIO ST 32 BLK 351', 'HOUGANG AVE 3 BLK 22', 'HOUGANG AVE 3 BLK 21', 'PASIR RIS ST 21 BLK 275', 'ANG MO KIO ST 31 BLK 315A', 'PASIR RIS ST 13 BLK 160', 'PASIR RIS ST 11 BLK 141', 'PASIR RIS ST 21 BLK 274', 'HOUGANG AVE 3 BLK 1', 'ANG MO KIO ST 31 BLK 315B', 'TAMPINES ST 43 BLK 495E', 'ANG MO KIO AVE 10 BLK 470', 'BT BATOK WEST AVE 4 BLK 411', 'BT BATOK ST 32 BLK 333', 'ANG MO KIO AVE 10 BLK 414', 'ANG MO KIO ST 32 BLK 353', 'PASIR RIS ST 13 BLK 156', 'PASIR RIS ST 11 BLK 180', 'ANG MO KIO AVE 10 BLK 412', 'ANG MO KIO ST 32 BLK 354', 'BT BATOK WEST AVE 5 BLK 386', 'HOUGANG AVE 3 BLK 20', 'HOUGANG AVE 3 BLK 19', 'PASIR RIS ST 11 BLK 140', 'ANG MO KIO AVE 1 BLK 334', 'PASIR RIS ST 11 BLK 139', 'BT BATOK ST 32 BLK 332', 'HOUGANG ST 31 BLK 370', 'PASIR RIS ST 13 BLK 159', 'PASIR RIS ST 13 BLK 153', 'TAMPINES ST 43 BLK 495D', 'PASIR RIS ST 13 BLK 152', 'PASIR RIS ST 13 BLK 161', 'TAMPINES ST 45 BLK 492D', 'ANG MO KIO ST 32 BLK 350', 'ANG MO KIO AVE 1 BLK 338', 'TAMPINES ST 43 BLK 494C', 'BT BATOK ST 33 BLK 331', 'ANG MO KIO AVE 10 BLK 413', 'BT BATOK WEST AVE 4 BLK 414', 'PASIR RIS ST 11 BLK 142', 'BT BATOK WEST AVE 4 BLK 413', 'BT BATOK ST 34 BLK 338', 'ANG MO KIO AVE 1 BLK 336', 'HOUGANG ST 31 BLK 371', 'ANG MO KIO AVE 10 BLK 411', 'HOUGANG AVE 3 BLK 17', 'ANG MO KIO AVE 10 BLK 471', 'BT BATOK WEST AVE 5 BLK 385', 'SIN MING AVE BLK 407', 'TAMPINES ST 45 BLK 492C', 'TAMPINES ST 45 BLK 491G', 'PASIR RIS ST 11 BLK 138', 'BT BATOK ST 33 BLK 330', 'PASIR RIS ST 13 BLK 154', 'SIN MING AVE BLK 408', 'BT BATOK ST 33 BLK 329', 'TAMPINES ST 45 BLK 498J', 'PASIR RIS ST 11 BLK 146', 'PASIR RIS ST 11 BLK 145', 'HOUGANG ST 31 BLK 372', 'PASIR RIS ST 13 BLK 155', 'HOUGANG ST 31 BLK 375', 'TAMPINES ST 43 BLK 495C', 'HOUGANG AVE 3 BLK 18', 'TAMPINES AVE 9 BLK 494B', 'HOUGANG AVE 3 BLK 2', 'ANG MO KIO AVE 1 BLK 337', 'ANG MO KIO AVE 10 BLK 472', 'BT BATOK WEST AVE 4 BLK 416', 'BT BATOK WEST AVE 4 BLK 415', 'BT BATOK ST 34 BLK 337', 'BT BATOK ST 34 BLK 340', 'PASIR RIS ST 13 BLK 147', 'BT BATOK ST 34 BLK 339', 'ANG MO KIO AVE 1 BLK 335', 'ANG MO KIO AVE 10 BLK 473', 'TAMPINES ST 45 BLK 491F', 'SIN MING AVE BLK 406', 'SIN MING AVE BLK 405', 'PASIR RIS ST 13 BLK 151', 'TAMPINES AVE 9 BLK 492B', 'TAMPINES ST 45 BLK 498H', 'PASIR RIS ST 13 BLK 150', 'HOUGANG ST 31 BLK 374', 'HOUGANG AVE 3 BLK 16', 'BT BATOK ST 33 BLK 328', 'ANG MO KIO AVE 10 BLK 475', 'BT BATOK WEST AVE 5 BLK 384', 'BT BATOK WEST AVE 4 BLK 417', 'BT BATOK ST 34 BLK 345', 'TAMPINES ST 45 BLK 491H', 'SIN MING AVE BLK 403', 'TAMPINES ST 43 BLK 495B', 'ANG MO KIO AVE 10 BLK 474', 'BT BATOK ST 33 BLK 327', 'BT BATOK ST 34 BLK 341', 'BT BATOK ST 34 BLK 344', 'HOUGANG AVE 3 BLK 6', 'SIN MING AVE BLK 402', 'HOUGANG ST 31 BLK 373', 'HOUGANG AVE 3 BLK 15', 'TAMPINES AVE 9 BLK 493A', 'TAMPINES ST 43 BLK 493E', 'TAMPINES ST 43 BLK 495A', 'SIN MING AVE BLK 404', 'TAMPINES AVE 9 BLK 491A', 'SIN MING AVE BLK 401', 'BT BATOK ST 33 BLK 325', 'BT BATOK ST 34 BLK 342', 'TAMPINES ST 45 BLK 490B', 'ANG MO KIO AVE 10 BLK 408', 'BT BATOK WEST AVE 2 BLK 420', 'BT BATOK ST 34 BLK 346', 'TAMPINES ST 45 BLK 491D', 'BT BATOK WEST AVE 2 BLK 421', 'TAMPINES ST 45 BLK 491E', 'BT BATOK ST 34 BLK 343', 'TAMPINES AVE 9 BLK 493B', 'TAMPINES ST 45 BLK 498L', 'TAMPINES ST 43 BLK 493D', 'ANG MO KIO AVE 10 BLK 476', 'TAMPINES ST 45 BLK 498G', 'PASIR RIS ST 11 BLK 144', 'ANG MO KIO AVE 1 BLK 330', 'HOUGANG AVE 3 BLK 7', 'BT BATOK WEST AVE 5 BLK 383', 'BT BATOK ST 33 BLK 326', 'TAMPINES AVE 9 BLK 491B', 'BISHAN ST 22 BLK 253', 'BT BATOK ST 33 BLK 324', 'BT BATOK ST 34 BLK 347', 'BT BATOK WEST AVE 2 BLK 422', 'BT BATOK ST 34 BLK 349', 'BT BATOK ST 34 BLK 348', 'TAMPINES ST 43 BLK 496C', 'BISHAN ST 22 BLK 252', 'BT BATOK WEST AVE 2 BLK 426', 'BT BATOK WEST AVE 2 BLK 423', 'BT BATOK WEST AVE 2 BLK 419', 'PASIR RIS ST 13 BLK 148', 'PASIR RIS ST 11 BLK 143', 'ANG MO KIO AVE 10 BLK 406', 'TAMPINES ST 45 BLK 490A', 'ANG MO KIO AVE 1 BLK 331', 'TAMPINES ST 43 BLK 493C', 'TAMPINES ST 45 BLK 498F', 'BT BATOK ST 31 BLK 356', 'TAMPINES ST 45 BLK 491C', 'BISHAN ST 22 BLK 254', 'TAMPINES ST 44 BLK 480', 'BT BATOK ST 34 BLK 351', 'TAMPINES ST 45 BLK 489C', 'BT BATOK WEST AVE 2 BLK 425', 'BT BATOK WEST AVE 2 BLK 424', 'BISHAN ST 22 BLK 251', 'BT BATOK ST 31 BLK 355', 'PASIR RIS ST 13 BLK 149', 'ANG MO KIO AVE 10 BLK 404', 'ANG MO KIO AVE 10 BLK 405', 'BT BATOK ST 33 BLK 322', 'BT BATOK ST 34 BLK 350', 'TAMPINES ST 45 BLK 498A', 'TAMPINES ST 45 BLK 498M', 'BT BATOK ST 34 BLK 353', 'BT BATOK ST 31 BLK 357', 'BISHAN ST 22 BLK 255', 'BISHAN ST 22 BLK 250', 'TAMPINES AVE 9 BLK 496D', 'ANG MO KIO AVE 1 BLK 332', 'TAMPINES ST 45 BLK 498E', 'TAMPINES ST 43 BLK 496B', 'ANG MO KIO AVE 10 BLK 402', 'BISHAN ST 22 BLK 248', 'TAMPINES ST 44 BLK 479', 'BT BATOK ST 31 BLK 358', 'BT BATOK ST 31 BLK 354', 'ANG MO KIO AVE 10 BLK 403', 'TAMPINES ST 44 BLK 481', 'BT BATOK ST 33 BLK 321', 'TAMPINES ST 45 BLK 489B', 'ANG MO KIO AVE 1 BLK 333', 'BT BATOK ST 31 BLK 359', 'TAMPINES ST 43 BLK 484', 'TAMPINES ST 43 BLK 483', 'BISHAN ST 22 BLK 256', 'BISHAN ST 22 BLK 249', 'BISHAN ST 22 BLK 242', 'BT BATOK ST 33 BLK 319', 'BT BATOK ST 33 BLK 323', 'BT BATOK ST 33 BLK 320', 'TAMPINES AVE 9 BLK 496E', 'TAMPINES ST 45 BLK 498D', 'BT BATOK ST 31 BLK 360', 'ANG MO KIO AVE 10 BLK 401', 'TAMPINES ST 45 BLK 498B', 'TAMPINES ST 43 BLK 477', 'BISHAN ST 22 BLK 243', 'BISHAN ST 22 BLK 247', 'BISHAN ST 22 BLK 240', 'BT BATOK ST 32 BLK 318', 'BT BATOK ST 31 BLK 363', 'TAMPINES ST 44 BLK 476', 'TAMPINES ST 44 BLK 470', 'BT BATOK ST 31 BLK 365', 'TAMPINES ST 45 BLK 487C', 'TAMPINES ST 43 BLK 440', 'BT BATOK ST 31 BLK 361', 'TAMPINES AVE 9 BLK 496G', 'BISHAN ST 22 BLK 246', 'BISHAN ST 22 BLK 241', 'BT BATOK ST 31 BLK 364', 'BT BATOK ST 31 BLK 362', 'TAMPINES ST 45 BLK 489A', 'BT BATOK ST 32 BLK 316', 'TAMPINES AVE 9 BLK 496F', 'BISHAN ST 22 BLK 245', 'TAMPINES ST 45 BLK 488B', 'BT BATOK ST 31 BLK 366', 'BISHAN ST 22 BLK 244', 'HOUGANG AVE 3 BLK 253', 'BISHAN ST 22 BLK 239', 'TAMPINES ST 44 BLK 468', 'BT BATOK ST 32 BLK 317', 'TAMPINES ST 43 BLK 438', 'TAMPINES ST 43 BLK 439', 'BT BATOK ST 31 BLK 367', 'BT BATOK ST 31 BLK 368', 'HOUGANG AVE 3 BLK 254', 'TAMPINES ST 44 BLK 469', 'TAMPINES ST 45 BLK 497G', 'BT BATOK ST 32 BLK 314', 'BT BATOK ST 32 BLK 313', 'BT BATOK ST 32 BLK 311', 'HOUGANG AVE 3 BLK 252', 'TAMPINES ST 71 BLK 721', 'TAMPINES ST 71 BLK 714', 'TAMPINES AVE 9 BLK 485A', 'HOUGANG AVE 3 BLK 251', 'BISHAN ST 22 BLK 257', 'TAMPINES ST 72 BLK 723', 'BT BATOK ST 31 BLK 370', 'BT BATOK ST 31 BLK 369', 'TAMPINES ST 43 BLK 437', 'TAMPINES ST 45 BLK 487B', 'BISHAN ST 22 BLK 259', 'TAMPINES ST 44 BLK 467', 'TAMPINES ST 72 BLK 741', 'TAMPINES AVE 9 BLK 488A', 'BT BATOK ST 32 BLK 315', 'TAMPINES ST 72 BLK 722', 'BT BATOK ST 32 BLK 312', 'BISHAN ST 22 BLK 238', 'TAMPINES ST 43 BLK 474', 'TAMPINES ST 44 BLK 472', 'BISHAN ST 22 BLK 258', 'TAMPINES AVE 9 BLK 485B', 'TAMPINES ST 41 BLK 414', 'TAMPINES ST 45 BLK 497H', 'TAMPINES ST 43 BLK 435', 'TAMPINES ST 44 BLK 464', 'TAMPINES ST 45 BLK 497F', 'HOUGANG AVE 3 BLK 250', 'TAMPINES ST 72 BLK 742', 'HOUGANG AVE 3 BLK 249', 'TAMPINES AVE 9 BLK 486A', 'TAMPINES ST 71 BLK 715', 'HOUGANG ST 21 BLK 211', 'TAMPINES ST 43 BLK 436', 'BISHAN ST 22 BLK 260', 'TAMPINES ST 44 BLK 465', 'TAMPINES AVE 9 BLK 487A', 'BT BATOK ST 32 BLK 310', 'TAMPINES ST 72 BLK 735', 'TAMPINES ST 41 BLK 426', 'TAMPINES ST 41 BLK 427', 'HOUGANG ST 21 BLK 210', 'TAMPINES ST 41 BLK 431', 'TAMPINES ST 41 BLK 413', 'TAMPINES ST 41 BLK 412', 'TAMPINES ST 72 BLK 720', 'TAMPINES ST 71 BLK 716', 'BT BATOK ST 31 BLK 371', 'TAMPINES ST 72 BLK 740', 'TAMPINES ST 45 BLK 497A', 'TAMPINES ST 41 BLK 415', 'HOUGANG AVE 3 BLK 248', 'TAMPINES ST 72 BLK 739', 'BISHAN ST 22 BLK 262', 'BISHAN ST 22 BLK 237', 'SIN MING AVE BLK 442', 'TAMPINES ST 43 BLK 434', 'TAMPINES ST 41 BLK 429', 'TAMPINES ST 44 BLK 463', 'TAMPINES AVE 9 BLK 486B', 'TAMPINES ST 45 BLK 497J', 'TAMPINES AVE 9 BLK 499A', 'TAMPINES ST 71 BLK 713', 'SIN MING AVE BLK 453', 'SIN MING AVE BLK 454', 'TAMPINES ST 41 BLK 409', 'TAMPINES ST 72 BLK 738', 'TAMPINES ST 41 BLK 411', 'TAMPINES ST 41 BLK 416', 'SERANGOON AVE 4 BLK 221', 'TAMPINES ST 72 BLK 718', 'HOUGANG AVE 3 BLK 247', 'TAMPINES ST 44 BLK 462', 'TAMPINES ST 72 BLK 736', 'BISHAN ST 22 BLK 236', 'TAMPINES ST 43 BLK 433', 'TAMPINES ST 41 BLK 425', 'TAMPINES ST 41 BLK 428', 'TAMPINES ST 71 BLK 712', 'SIN MING AVE BLK 441', 'BT BATOK ST 31 BLK 372', 'TAMPINES AVE 9 BLK 486C', 'BISHAN ST 23 BLK 224', 'HOUGANG AVE 1 BLK 230', 'BISHAN ST 22 BLK 261', 'BISHAN ST 22 BLK 263', 'TAMPINES ST 72 BLK 737', 'TAMPINES ST 43 BLK 443', 'TAMPINES ST 44 BLK 461', 'SIN MING AVE BLK 444', 'TAMPINES AVE 9 BLK 499B', 'BISHAN ST 22 BLK 285', 'TAMPINES ST 45 BLK 497D', 'TAMPINES ST 72 BLK 717', 'TAMPINES ST 72 BLK 719', 'TAMPINES ST 41 BLK 432', 'TAMPINES ST 41 BLK 417', 'TAMPINES ST 41 BLK 408', 'TAMPINES ST 34 BLK 368', 'TAMPINES ST 41 BLK 410', 'SIN MING AVE BLK 455', 'TAMPINES ST 71 BLK 710', 'SIN MING AVE BLK 445', 'SIN MING AVE BLK 443', 'BISHAN ST 23 BLK 225', 'SERANGOON AVE 4 BLK 220', 'SIN MING AVE BLK 451', 'TAMPINES ST 41 BLK 430', 'BISHAN ST 22 BLK 235', 'BISHAN ST 23 BLK 223', 'TAMPINES ST 45 BLK 497B', 'BISHAN ST 22 BLK 233', 'SERANGOON AVE 4 BLK 222', 'TAMPINES ST 71 BLK 711', 'HOUGANG AVE 1 BLK 232', 'BT BATOK ST 31 BLK 308', 'SIN MING AVE BLK 452', 'BISHAN ST 23 BLK 226', 'BISHAN ST 22 BLK 234', 'TAMPINES ST 34 BLK 369', 'BISHAN ST 24 BLK 286', 'BT BATOK ST 31 BLK 375', 'HOUGANG ST 22 BLK 245', 'BRIGHT HILL DR BLK 448', 'SIN MING AVE BLK 450', 'TAMPINES ST 42 BLK 450A', 'BISHAN ST 24 BLK 265', 'TAMPINES ST 42 BLK 459', 'BISHAN ST 24 BLK 264', 'TAMPINES ST 42 BLK 460', 'SERANGOON AVE 4 BLK 219', 'HOUGANG ST 21 BLK 231', 'TAMPINES ST 41 BLK 418', 'TAMPINES ST 42 BLK 450G', 'TAMPINES ST 42 BLK 444', 'BISHAN ST 22 BLK 232', 'TAMPINES ST 45 BLK 497C', 'BT BATOK ST 31 BLK 309', 'SIN MING AVE BLK 449', 'TAMPINES ST 41 BLK 419', 'BT BATOK ST 31 BLK 306', 'TAMPINES ST 41 BLK 404', 'TAMPINES ST 41 BLK 407', 'BRIGHT HILL DR BLK 447', 'BT BATOK ST 31 BLK 307', 'TAMPINES ST 42 BLK 445', 'HOUGANG AVE 1 BLK 234', 'BT BATOK ST 31 BLK 374', 'HOUGANG ST 22 BLK 244', 'TAMPINES ST 34 BLK 367', 'TAMPINES ST 41 BLK 406', 'BISHAN ST 24 BLK 266', 'BISHAN ST 23 BLK 228', 'BRIGHT HILL DR BLK 446', 'BISHAN ST 23 BLK 222', 'TAMPINES ST 71 BLK 734', 'BISHAN ST 23 BLK 227', 'SERANGOON AVE 4 BLK 215', 'TAMPINES ST 71 BLK 709', 'TAMPINES ST 71 BLK 708', 'TAMPINES ST 42 BLK 458', 'TAMPINES ST 34 BLK 370', 'SERANGOON AVE 4 BLK 218', 'HOUGANG ST 21 BLK 233', 'TAMPINES ST 42 BLK 446', 'BISHAN ST 24 BLK 287', 'TAMPINES ST 42 BLK 450F', 'BISHAN ST 23 BLK 230', 'TAMPINES ST 41 BLK 420', 'TAMPINES ST 42 BLK 457', 'TAMPINES ST 71 BLK 733', 'BT BATOK ST 31 BLK 305', 'BISHAN ST 23 BLK 221', 'HOUGANG AVE 1 BLK 236', 'TAMPINES ST 41 BLK 405', 'HOUGANG ST 21 BLK 201', 'TAMPINES ST 34 BLK 367A', 'BISHAN ST 24 BLK 268', 'TAMPINES ST 71 BLK 707', 'TAMPINES ST 71 BLK 732', 'HOUGANG ST 22 BLK 243', 'TAMPINES ST 42 BLK 456', 'BISHAN ST 23 BLK 203', 'BISHAN ST 23 BLK 204', 'TAMPINES ST 34 BLK 365', 'SERANGOON AVE 4 BLK 223', 'BISHAN ST 24 BLK 267', 'BISHAN ST 23 BLK 229', 'SERANGOON AVE 4 BLK 217', 'TAMPINES ST 34 BLK 366', 'TAMPINES ST 71 BLK 706', 'TAMPINES ST 42 BLK 450E', 'TAMPINES ST 41 BLK 421', 'BISHAN ST 23 BLK 214', 'BISHAN ST 23 BLK 220', 'SERANGOON AVE 4 BLK 216', 'TAMPINES ST 41 BLK 403', 'BT BATOK ST 31 BLK 304', 'BISHAN ST 23 BLK 219', 'HOUGANG ST 21 BLK 235', 'TAMPINES ST 42 BLK 448', 'TAMPINES ST 41 BLK 424', 'TAMPINES ST 42 BLK 454', 'TAMPINES ST 42 BLK 450', 'TAMPINES ST 42 BLK 455', 'BISHAN ST 24 BLK 278', 'TAMPINES ST 41 BLK 402', 'TAMPINES ST 71 BLK 705', 'HOUGANG ST 22 BLK 242', 'BISHAN ST 23 BLK 231', 'BISHAN ST 24 BLK 281', 'SERANGOON AVE 4 BLK 224', 'TAMPINES ST 71 BLK 725', 'TAMPINES ST 42 BLK 447', 'SIN MING RD BLK 22', 'TAMPINES ST 41 BLK 423', 'BISHAN ST 23 BLK 213', 'BISHAN ST 23 BLK 215', 'SERANGOON AVE 4 BLK 213', 'BT BATOK ST 51 BLK 526', 'TAMPINES ST 42 BLK 450C', 'TAMPINES ST 42 BLK 450D', 'HOUGANG AVE 1 BLK 238', 'TAMPINES ST 41 BLK 401', 'BT BATOK ST 51 BLK 527', 'BT BATOK ST 31 BLK 302', 'SERANGOON AVE 4 BLK 214', 'TAMPINES ST 42 BLK 449', 'TAMPINES ST 71 BLK 726', 'BT BATOK ST 52 BLK 525', 'TAMPINES ST 34 BLK 371', 'TAMPINES ST 71 BLK 731', 'HOUGANG ST 21 BLK 221', 'TAMPINES ST 34 BLK 364', 'TAMPINES ST 42 BLK 453', 'HOUGANG ST 21 BLK 237', 'TAMPINES CTRL 7 BLK 515B', 'HOUGANG ST 21 BLK 220', 'BISHAN ST 24 BLK 270', 'BISHAN ST 24 BLK 269', 'TAMPINES CTRL 7 BLK 515D', 'BISHAN ST 24 BLK 288', 'BT BATOK ST 31 BLK 303', 'TAMPINES CTRL 7 BLK 515A', 'TAMPINES CTRL 7 BLK 515C', 'BT BATOK ST 52 BLK 524', 'SERANGOON AVE 4 BLK 225', 'SERANGOON AVE 4 BLK 226', 'TAMPINES ST 71 BLK 703', 'BISHAN ST 23 BLK 218', 'TAMPINES ST 42 BLK 452', 'SERANGOON AVE 4 BLK 212', 'TAMPINES ST 71 BLK 724', 'HOUGANG ST 22 BLK 241', 'TAMPINES ST 71 BLK 730', 'BT BATOK ST 31 BLK 301', 'BT BATOK ST 51 BLK 528', 'BISHAN ST 23 BLK 217', 'BT BATOK ST 52 BLK 523', 'BISHAN ST 24 BLK 275A', 'BISHAN ST 24 BLK 289', 'TAMPINES ST 71 BLK 704', 'BISHAN ST 23 BLK 212', 'BISHAN ST 24 BLK 272', 'TAMPINES ST 42 BLK 451', 'TAMPINES CTRL 1 BLK 503', 'TAMPINES ST 34 BLK 374', 'TAMPINES ST 71 BLK 729', 'TAMPINES ST 21 BLK 233', 'TAMPINES ST 21 BLK 232', 'BISHAN ST 23 BLK 216', 'HOUGANG ST 22 BLK 240', 'TAMPINES CTRL 7 BLK 518B', 'TAMPINES ST 34 BLK 372', 'TAMPINES CTRL 1 BLK 502', 'SERANGOON AVE 4 BLK 228', 'TAMPINES CTRL 7 BLK 518C', 'TAMPINES CTRL 7 BLK 518A', 'SERANGOON AVE 4 BLK 211', 'TAMPINES ST 24 BLK 230F', 'BT BATOK ST 51 BLK 531', 'HOUGANG ST 21 BLK 222', 'BISHAN ST 22 BLK 293', 'TAMPINES ST 21 BLK 230H', 'TAMPINES CTRL 7 BLK 518D', 'BISHAN ST 24 BLK 273A', 'SERANGOON AVE 4 BLK 227', 'TAMPINES ST 34 BLK 362', 'BT BATOK ST 51 BLK 532', 'TAMPINES ST 71 BLK 728', 'TAMPINES ST 71 BLK 727', 'BISHAN ST 24 BLK 271', 'TAMPINES ST 21 BLK 230J', 'TAMPINES ST 34 BLK 361', 'BISHAN ST 24 BLK 290', 'BT BATOK ST 51 BLK 530', 'TAMPINES ST 71 BLK 701', 'SERANGOON AVE 4 BLK 230', 'TAMPINES AVE 7 BLK 390', 'TAMPINES ST 21 BLK 230G', 'TAMPINES ST 71 BLK 702', 'TAMPINES ST 24 BLK 230E', 'TAMPINES ST 24 BLK 230D', 'BISHAN ST 23 BLK 211', 'BISHAN ST 24 BLK 273B', 'HOUGANG ST 22 BLK 239', 'BISHAN ST 24 BLK 291', 'BISHAN ST 22 BLK 292', 'SERANGOON AVE 4 BLK 229', 'BT BATOK ST 51 BLK 534', 'TAMPINES ST 21 BLK 231', 'TAMPINES ST 24 BLK 230', 'TAMPINES ST 23 BLK 229', 'TAMPINES ST 34 BLK 373', 'TAMPINES ST 21 BLK 236', 'TAMPINES ST 21 BLK 234', 'TAMPINES ST 34 BLK 359', 'BT BATOK ST 51 BLK 533', 'BISHAN ST 23 BLK 210', 'TAMPINES AVE 7 BLK 395', 'TAMPINES AVE 7 BLK 396', 'TAMPINES ST 21 BLK 238', 'BISHAN ST 23 BLK 206', 'TAMPINES ST 24 BLK 230C', 'TAMPINES ST 24 BLK 220', 'TAMPINES CTRL 1 BLK 501', 'TAMPINES ST 83 BLK 867A', 'TAMPINES ST 23 BLK 226', 'TAMPINES ST 23 BLK 228', 'TAMPINES AVE 7 BLK 391', 'TAMPINES ST 21 BLK 237', 'TAMPINES ST 21 BLK 235', 'TAMPINES ST 24 BLK 230B', 'BT BATOK ST 52 BLK 536', 'TAMPINES ST 24 BLK 222', 'TAMPINES CTRL 1 BLK 505', 'TAMPINES ST 83 BLK 863', 'TAMPINES AVE 5 BLK 860', 'BISHAN ST 23 BLK 209', 'TAMPINES ST 83 BLK 863A', 'TAMPINES ST 83 BLK 863B', 'TAMPINES AVE 5 BLK 860B', 'TAMPINES ST 34 BLK 363', 'TAMPINES ST 32 BLK 388', 'TAMPINES ST 34 BLK 360', 'TAMPINES ST 24 BLK 223', 'BISHAN ST 23 BLK 205', 'HOUGANG AVE 1 BLK 103', 'TAMPINES ST 23 BLK 224', 'BISHAN ST 23 BLK 201', 'HOUGANG AVE 1 BLK 101', 'TAMPINES ST 32 BLK 387', 'TAMPINES AVE 7 BLK 393', 'SERANGOON CTRL DR BLK 257', 'HOUGANG AVE 1 BLK 109', 'SERANGOON AVE 3 BLK 235', 'SERANGOON CTRL DR BLK 256', 'BT BATOK ST 52 BLK 537', 'TAMPINES ST 24 BLK 221', 'TAMPINES ST 23 BLK 225', 'TAMPINES AVE 5 BLK 860A', 'TAMPINES AVE 7 BLK 394', 'TAMPINES AVE 7 BLK 392', 'SERANGOON AVE 3 BLK 233', 'SERANGOON CTRL DR BLK 255', 'TAMPINES ST 83 BLK 867', 'TAMPINES ST 33 BLK 355', 'TAMPINES AVE 5 BLK 861', 'TAMPINES ST 21 BLK 259', 'TAMPINES AVE 5 BLK 859A', 'TAMPINES ST 83 BLK 862A', 'TAMPINES ST 83 BLK 864', 'SERANGOON CTRL DR BLK 258', 'BT BATOK ST 52 BLK 535', 'SIN MING RD BLK 24', 'TAMPINES ST 32 BLK 385', 'TAMPINES ST 21 BLK 240', 'SERANGOON AVE 3 BLK 231', 'BISHAN ST 23 BLK 208', 'TAMPINES ST 33 BLK 354', 'JURONG WEST ST 42 BLK 407', 'TAMPINES ST 33 BLK 353', 'HOUGANG AVE 1 BLK 111', 'HOUGANG AVE 1 BLK 102', 'TAMPINES ST 32 BLK 386', 'SIN MING RD BLK 25', 'JURONG WEST ST 42 BLK 408', 'SERANGOON AVE 3 BLK 234', 'BT BATOK ST 52 BLK 539', 'HOUGANG AVE 1 BLK 104', 'TAMPINES ST 24 BLK 219', 'TAMPINES ST 23 BLK 213', 'TAMPINES ST 32 BLK 389', 'SERANGOON AVE 3 BLK 232', 'SERANGOON CTRL BLK 210', 'HOUGANG AVE 1 BLK 110', 'TAMPINES AVE 5 BLK 861A', 'TAMPINES ST 23 BLK 227', 'TAMPINES ST 23 BLK 214', 'TAMPINES ST 83 BLK 869', 'TAMPINES AVE 5 BLK 859', 'TAMPINES ST 21 BLK 243', 'TAMPINES ST 21 BLK 239', 'TAMPINES ST 83 BLK 864A', 'TAMPINES ST 83 BLK 862', 'TAMPINES ST 21 BLK 260', 'BISHAN ST 23 BLK 207', 'TAMPINES ST 23 BLK 215', 'TAMPINES CTRL 1 BLK 508', 'TAMPINES ST 83 BLK 868', 'TAMPINES ST 21 BLK 241', 'SERANGOON AVE 2 BLK 307', 'JURONG WEST ST 42 BLK 559', 'BT BATOK ST 52 BLK 514', 'TAMPINES ST 84 BLK 871', 'TAMPINES ST 32 BLK 381', 'TAMPINES ST 84 BLK 871A', 'TAMPINES ST 33 BLK 356', 'JURONG WEST ST 42 BLK 405', 'HOUGANG AVE 1 BLK 120', 'HOUGANG AVE 1 BLK 112', 'BT BATOK ST 52 BLK 540', 'TAMPINES ST 24 BLK 218', 'TAMPINES ST 23 BLK 212', 'SERANGOON AVE 2 BLK 234A', 'TAMPINES ST 33 BLK 358', 'TAMPINES ST 21 BLK 258', 'SERANGOON AVE 2 BLK 232A', 'JURONG WEST ST 42 BLK 558', 'TAMPINES ST 83 BLK 870', 'TAMPINES ST 83 BLK 866', 'TAMPINES AVE 5 BLK 858A', 'TAMPINES ST 83 BLK 857B', 'TAMPINES ST 83 BLK 857A', 'TAMPINES ST 83 BLK 857', 'TAMPINES AVE 5 BLK 858B', 'SERANGOON CTRL BLK 209', 'TAMPINES AVE 5 BLK 858', 'TAMPINES ST 21 BLK 261', 'TAMPINES ST 23 BLK 217', 'SIN MING RD BLK 23', 'SERANGOON AVE 3 BLK 236', 'TAMPINES ST 84 BLK 872', 'TAMPINES ST 32 BLK 383', 'JURONG WEST ST 42 BLK 406', 'TAMPINES ST 33 BLK 352', 'TAMPINES ST 32 BLK 382', 'BT BATOK ST 52 BLK 513', 'SERANGOON AVE 2 BLK 308', 'BT BATOK ST 52 BLK 512', 'TAMPINES ST 23 BLK 211', 'SERANGOON CTRL BLK 208', 'TAMPINES ST 33 BLK 357', 'JURONG WEST ST 42 BLK 409', 'TAMPINES ST 23 BLK 216', 'TAMPINES ST 23 BLK 210', 'SERANGOON AVE 2 BLK 306', 'SERANGOON CTRL DR BLK 254', 'TAMPINES ST 21 BLK 242', 'JURONG WEST ST 42 BLK 557', 'TAMPINES ST 32 BLK 384', 'HOUGANG AVE 1 BLK 119', 'SERANGOON AVE 2 BLK 236A', 'SERANGOON CTRL DR BLK 253', 'HOUGANG AVE 1 BLK 106', 'TAMPINES ST 84 BLK 873', 'SERANGOON CTRL DR BLK 261', 'SERANGOON AVE 2 BLK 309', 'SERANGOON AVE 2 BLK 304', 'JURONG WEST ST 42 BLK 404', 'HOUGANG AVE 1 BLK 121', 'TAMPINES ST 83 BLK 865', 'TAMPINES ST 33 BLK 350', 'SERANGOON AVE 2 BLK 305', 'JURONG WEST ST 42 BLK 403', 'SERANGOON CTRL BLK 207', 'TAMPINES ST 21 BLK 257', 'TAMPINES ST 21 BLK 262', 'TAMPINES ST 21 BLK 244', 'SERANGOON AVE 2 BLK 311', 'SERANGOON CTRL DR BLK 263', 'JURONG WEST ST 42 BLK 411', 'TAMPINES ST 84 BLK 874', 'HOUGANG AVE 1 BLK 122', 'SERANGOON AVE 2 BLK 310', 'TAMPINES ST 32 BLK 331', 'BT BATOK ST 52 BLK 542', 'JURONG WEST ST 42 BLK 410', 'SERANGOON AVE 3 BLK 237', 'JURONG WEST ST 42 BLK 555', 'JURONG WEST ST 25 BLK 276D', 'HOUGANG AVE 1 BLK 117', 'JURONG WEST ST 42 BLK 556', 'HOUGANG AVE 1 BLK 113', 'TAMPINES ST 32 BLK 310', 'JURONG WEST ST 25 BLK 275D', 'SERANGOON AVE 2 BLK 238', 'TAMPINES ST 32 BLK 328', 'TAMPINES ST 32 BLK 330', 'TAMPINES ST 83 BLK 855', 'TAMPINES ST 32 BLK 332', 'SERANGOON CTRL BLK 206', 'TAMPINES ST 32 BLK 333', 'TAMPINES ST 82 BLK 856', 'JURONG WEST ST 42 BLK 401', 'SERANGOON AVE 2 BLK 303', 'TAMPINES ST 33 BLK 311', 'TAMPINES ST 21 BLK 245', 'SERANGOON CTRL DR BLK 262', 'TAMPINES ST 32 BLK 309', 'HOUGANG AVE 1 BLK 118', 'SERANGOON AVE 2 BLK 313', 'TAMPINES ST 32 BLK 301', 'HOUGANG AVE 1 BLK 123', 'JURONG WEST ST 42 BLK 402', 'TAMPINES ST 21 BLK 256', 'TAMPINES ST 32 BLK 329', 'JURONG WEST ST 42 BLK 413', 'JURONG WEST ST 42 BLK 412', 'TAMPINES ST 33 BLK 349', 'SERANGOON AVE 2 BLK 239', 'SERANGOON AVE 3 BLK 241', 'TAMPINES ST 83 BLK 853', 'JURONG WEST ST 42 BLK 554', 'TAMPINES ST 21 BLK 263', 'SERANGOON AVE 2 BLK 312', 'SERANGOON AVE 2 BLK 301', 'JURONG WEST ST 25 BLK 276A', 'SERANGOON AVE 2 BLK 240', 'TAMPINES ST 21 BLK 201A', 'JURONG WEST ST 42 BLK 553', 'JURONG WEST ST 25 BLK 276C', 'TAMPINES ST 23 BLK 201E', 'SERANGOON AVE 2 BLK 302', 'TAMPINES ST 32 BLK 306', 'JURONG WEST ST 42 BLK 548', 'TAMPINES ST 84 BLK 876', 'LOR AH SOO BLK 141', 'TAMPINES ST 82 BLK 856B', 'HOUGANG AVE 1 BLK 116', 'HOUGANG AVE 1 BLK 114', 'JURONG WEST ST 25 BLK 275C', 'TAMPINES ST 21 BLK 201B', 'TAMPINES ST 21 BLK 246', 'TAMPINES ST 84 BLK 874A', 'HOUGANG ST 11 BLK 157', 'TAMPINES ST 21 BLK 253', 'TAMPINES ST 82 BLK 850', 'TAMPINES ST 21 BLK 254', 'TAMPINES ST 82 BLK 856E', 'SERANGOON AVE 2 BLK 314', 'SERANGOON AVE 2 BLK 316', 'BT BATOK ST 52 BLK 511', 'TAMPINES ST 82 BLK 856F', 'LOR AH SOO BLK 142', 'SERANGOON AVE 2 BLK 315', 'TAMPINES ST 82 BLK 854', 'TAMPINES ST 33 BLK 351', 'TAMPINES ST 21 BLK 202', 'JURONG WEST ST 42 BLK 547', 'SERANGOON AVE 2 BLK 243', 'TAMPINES ST 32 BLK 307', 'TAMPINES ST 32 BLK 308', 'TAMPINES ST 83 BLK 851', 'HOUGANG AVE 1 BLK 127', 'HOUGANG AVE 1 BLK 124', 'SERANGOON CTRL BLK 205', 'TAMPINES ST 82 BLK 856C', 'TAMPINES ST 83 BLK 849', 'JURONG WEST ST 42 BLK 549', 'JURONG WEST ST 42 BLK 415', 'JURONG WEST ST 25 BLK 274C', 'TAMPINES ST 21 BLK 251', 'TAMPINES ST 21 BLK 264', 'JURONG WEST ST 25 BLK 274B', 'HOUGANG AVE 1 BLK 108', 'JURONG WEST ST 42 BLK 414', 'SERANGOON AVE 2 BLK 318', 'JURONG WEST AVE 3 BLK 276B', 'TAMPINES ST 33 BLK 312', 'JURONG WEST ST 42 BLK 552', 'HOUGANG AVE 1 BLK 115', 'JURONG WEST ST 42 BLK 433', 'TAMPINES ST 21 BLK 255', 'JURONG WEST ST 42 BLK 550', 'HOUGANG ST 11 BLK 156', 'JURONG WEST ST 25 BLK 275B', 'TAMPINES ST 84 BLK 875', 'JURONG WEST ST 42 BLK 448', 'TAMPINES ST 32 BLK 337', 'TAMPINES ST 82 BLK 852', 'TAMPINES ST 33 BLK 348', 'SERANGOON AVE 3 BLK 242', 'JURONG WEST ST 42 BLK 546', 'HOUGANG ST 11 BLK 155', 'TAMPINES ST 32 BLK 336', 'SERANGOON AVE 2 BLK 317', 'TAMPINES ST 21 BLK 201D', 'HOUGANG ST 11 BLK 161', 'JURONG WEST ST 42 BLK 447', 'TAMPINES ST 84 BLK 877', 'LOR AH SOO BLK 140', 'BT BATOK ST 52 BLK 509', 'BT BATOK ST 52 BLK 508', 'SERANGOON AVE 2 BLK 244', 'TAMPINES ST 32 BLK 334', 'TAMPINES ST 21 BLK 252', 'JURONG WEST ST 42 BLK 432', 'TAMPINES ST 32 BLK 325', 'TAMPINES ST 32 BLK 326', 'TAMPINES ST 32 BLK 302', 'JURONG WEST ST 42 BLK 416', 'TAMPINES ST 83 BLK 847', 'TAMPINES ST 82 BLK 848', 'SERANGOON CTRL BLK 204', 'TAMPINES ST 21 BLK 265', 'JURONG WEST ST 25 BLK 275A', 'TAMPINES ST 32 BLK 305', 'BT BATOK ST 52 BLK 510', 'JURONG WEST ST 42 BLK 544', 'TAMPINES ST 32 BLK 327', 'TAMPINES ST 32 BLK 324', 'SERANGOON AVE 2 BLK 245', 'TAMPINES ST 32 BLK 335', 'HOUGANG AVE 1 BLK 125', 'JURONG WEST ST 42 BLK 434', 'JURONG WEST AVE 1 BLK 431', 'JURONG WEST AVE 3 BLK 274A', 'JURONG WEST ST 42 BLK 545', 'JURONG WEST ST 42 BLK 551', 'JURONG WEST ST 42 BLK 449', 'HOUGANG AVE 1 BLK 126', 'TAMPINES ST 21 BLK 250', 'TAMPINES ST 21 BLK 247', 'LOR AH SOO BLK 143', 'JURONG WEST AVE 3 BLK 273D', 'LOR AH SOO BLK 139', 'SERANGOON AVE 2 BLK 319', 'TAMPINES ST 82 BLK 856D', 'TAMPINES ST 21 BLK 203', 'JURONG WEST AVE 3 BLK 274D', 'TAMPINES ST 21 BLK 204', 'BT BATOK ST 52 BLK 507', 'HOUGANG ST 11 BLK 154', 'TAMPINES ST 33 BLK 314', 'TAMPINES ST 33 BLK 315', 'TAMPINES ST 84 BLK 881', 'TAMPINES ST 82 BLK 842G', 'JURONG WEST ST 42 BLK 450', 'JURONG WEST ST 42 BLK 446', 'BT BATOK ST 52 BLK 506', 'TAMPINES ST 83 BLK 845', 'TAMPINES ST 82 BLK 846', 'TAMPINES AVE 8 BLK 878', 'JURONG WEST ST 42 BLK 435', 'TAMPINES ST 32 BLK 304', 'JURONG WEST ST 42 BLK 445', 'JURONG WEST AVE 1 BLK 436', 'TAMPINES AVE 8 BLK 879', 'TAMPINES ST 33 BLK 313', 'JURONG WEST AVE 3 BLK 273C', 'HOUGANG AVE 1 BLK 168', 'JURONG WEST AVE 1 BLK 444', 'TAMPINES AVE 8 BLK 880A', 'HOUGANG ST 11 BLK 160', 'TAMPINES ST 32 BLK 303', 'SERANGOON AVE 3 BLK 246', 'TAMPINES ST 82 BLK 842F', 'LOR AH SOO BLK 144', 'BT BATOK ST 52 BLK 504', 'TAMPINES ST 84 BLK 882', 'SERANGOON CTRL BLK 203', 'TAMPINES ST 82 BLK 844', 'TAMPINES ST 82 BLK 842C', 'BT BATOK CTRL BLK 122', 'TAMPINES ST 21 BLK 266', 'TAMPINES ST 21 BLK 248', 'JURONG WEST AVE 1 BLK 429', 'JURONG WEST AVE 1 BLK 430', 'BT BATOK ST 52 BLK 505', 'JURONG WEST ST 42 BLK 543', 'TAMPINES ST 33 BLK 323', 'BT BATOK CTRL BLK 126', 'JURONG WEST ST 42 BLK 451', 'TAMPINES ST 33 BLK 338', 'JURONG WEST AVE 1 BLK 443', 'BT BATOK WEST AVE 6 BLK 127', 'TAMPINES ST 21 BLK 249', 'TAMPINES ST 33 BLK 343', 'TAMPINES ST 83 BLK 886A', 'BT BATOK CTRL BLK 627', 'TAMPINES ST 33 BLK 347', 'JURONG WEST AVE 1 BLK 437', 'TAMPINES ST 84 BLK 883', 'TAMPINES ST 21 BLK 209', 'TAMPINES ST 33 BLK 345', 'SERANGOON AVE 3 BLK 322', 'TAMPINES ST 82 BLK 842E', 'TAMPINES ST 82 BLK 842', 'TAMPINES ST 22 BLK 298', 'TAMPINES ST 33 BLK 317', 'HOUGANG AVE 1 BLK 167', 'TAMPINES ST 83 BLK 843', 'LOR AH SOO BLK 128', 'BT BATOK CTRL BLK 626', 'TAMPINES ST 21 BLK 205', 'HOUGANG ST 11 BLK 158', 'JURONG EAST AVE 1 BLK 332', 'TAMPINES ST 33 BLK 316', 'BT BATOK WEST AVE 6 BLK 128', 'JURONG WEST AVE 1 BLK 439', 'JURONG WEST AVE 1 BLK 426', 'JURONG WEST AVE 1 BLK 428', 'TAMPINES ST 33 BLK 318', 'JURONG WEST ST 42 BLK 452', 'TAMPINES ST 12 BLK 156', 'BT BATOK WEST AVE 6 BLK 134', 'BT BATOK WEST AVE 6 BLK 133', 'LOR AH SOO BLK 138', 'BT BATOK CTRL BLK 121', 'TAMPINES ST 83 BLK 884', 'BT BATOK ST 52 BLK 503', 'JURONG WEST AVE 3 BLK 273B', 'SERANGOON AVE 3 BLK 323', 'LOR AH SOO BLK 145', 'JURONG WEST AVE 1 BLK 442', 'TAMPINES ST 83 BLK 841', 'BT BATOK CTRL BLK 125', 'SHUNFU RD BLK 308', 'LOR AH SOO BLK 129', 'LOR AH SOO BLK 131', 'JURONG WEST AVE 3 BLK 273A', 'HOUGANG ST 11 BLK 159', 'HOUGANG AVE 1 BLK 170', 'BT BATOK ST 52 BLK 501', 'HOUGANG AVE 1 BLK 169', 'TAMPINES ST 12 BLK 158', 'BT BATOK WEST AVE 6 BLK 129', 'BT BATOK CTRL BLK 123', 'SERANGOON CTRL BLK 202', 'TAMPINES ST 21 BLK 268', 'BT BATOK CTRL BLK 628', 'JURONG WEST AVE 1 BLK 427', 'TAMPINES ST 12 BLK 149', 'TAMPINES ST 12 BLK 151', 'TAMPINES AVE 4 BLK 946', 'JURONG WEST AVE 1 BLK 438', 'JURONG WEST AVE 1 BLK 441', 'JURONG EAST AVE 1 BLK 333', 'TAMPINES ST 82 BLK 842B', 'SHUNFU RD BLK 312', 'TAMPINES ST 21 BLK 207', 'JURONG WEST ST 42 BLK 417', 'TAMPINES AVE 8 BLK 880', 'JURONG WEST AVE 1 BLK 542', 'JURONG WEST ST 42 BLK 453', 'SHUNFU RD BLK 313', 'BT BATOK EAST AVE 4 BLK 258', 'TAMPINES ST 33 BLK 341', 'JURONG WEST AVE 1 BLK 440', 'LOR AH SOO BLK 130', 'BT BATOK CTRL BLK 624', 'HOUGANG AVE 1 BLK 166', 'TAMPINES AVE 4 BLK 902', 'SERANGOON AVE 3 BLK 324', 'BT BATOK WEST AVE 6 BLK 139', 'BT BATOK WEST AVE 6 BLK 135', 'BT BATOK CTRL BLK 625', 'JURONG WEST ST 42 BLK 418', 'TAMPINES ST 21 BLK 208', 'JURONG WEST AVE 1 BLK 541', 'TAMPINES ST 22 BLK 297', 'TAMPINES ST 83 BLK 839', 'TAMPINES ST 33 BLK 319', 'TAMPINES ST 33 BLK 340', 'BT BATOK EAST AVE 4 BLK 257', 'BT BATOK WEST AVE 6 BLK 130', 'BT BATOK CTRL BLK 124', 'TAMPINES ST 83 BLK 835', 'JURONG WEST AVE 1 BLK 425', 'TAMPINES ST 83 BLK 885', 'HOUGANG AVE 1 BLK 171', 'SERANGOON AVE 2 BLK 321', 'JURONG WEST ST 24 BLK 272D', 'JURONG WEST ST 42 BLK 455', 'TAMPINES ST 12 BLK 157', 'TAMPINES ST 33 BLK 339', 'BT BATOK EAST AVE 4 BLK 259', 'TAMPINES ST 82 BLK 840', 'TAMPINES ST 33 BLK 342', 'TAMPINES ST 33 BLK 346', 'JURONG WEST AVE 1 BLK 424', 'TAMPINES ST 83 BLK 886', 'SERANGOON AVE 3 BLK 332', 'TAMPINES ST 12 BLK 159', 'BT BATOK EAST AVE 5 BLK 250', 'BT BATOK CTRL BLK 120', 'SERANGOON CTRL BLK 201', 'JURONG WEST ST 42 BLK 419', 'TAMPINES AVE 4 BLK 903', 'TAMPINES AVE 4 BLK 945', 'JURONG WEST AVE 1 BLK 539', 'BT BATOK EAST AVE 5 BLK 241', 'TAMPINES ST 12 BLK 150', 'JURONG WEST ST 42 BLK 454', 'JURONG EAST AVE 1 BLK 331', 'SHUNFU RD BLK 311', 'BT BATOK EAST AVE 4 BLK 260', 'SERANGOON AVE 3 BLK 325', 'LOR AH SOO BLK 132', 'TAMPINES ST 82 BLK 842H', 'SHUNFU RD BLK 309', 'JURONG WEST AVE 1 BLK 423', 'SHUNFU RD BLK 310', 'TAMPINES ST 22 BLK 296', 'BT BATOK WEST AVE 6 BLK 136', 'TAMPINES ST 81 BLK 888', 'BT BATOK CTRL BLK 623', 'TAMPINES ST 83 BLK 837', 'JURONG EAST AVE 1 BLK 334', 'BT BATOK EAST AVE 5 BLK 251', 'TAMPINES ST 33 BLK 322', 'TAMPINES ST 21 BLK 206', 'TAMPINES ST 22 BLK 295', 'JURONG WEST ST 24 BLK 271A', 'JURONG WEST ST 24 BLK 272C', 'BT BATOK EAST AVE 4 BLK 256', 'BT BATOK WEST AVE 6 BLK 131', 'JURONG WEST ST 41 BLK 457', 'TAMPINES ST 82 BLK 838', 'TAMPINES ST 21 BLK 267', 'LOR LEW LIAN BLK 1', 'TAMPINES ST 22 BLK 294', 'BT BATOK EAST AVE 5 BLK 242', 'BT BATOK ST 11 BLK 140', 'TAMPINES ST 12 BLK 160', 'JURONG WEST ST 41 BLK 456', 'TAMPINES ST 33 BLK 321', 'JURONG WEST ST 41 BLK 462', 'LOR AH SOO BLK 133', 'JURONG WEST ST 42 BLK 422', 'JURONG WEST AVE 1 BLK 540', 'BT BATOK EAST AVE 5 BLK 249', 'BT BATOK EAST AVE 5 BLK 252', 'TAMPINES ST 33 BLK 320', 'TAMPINES AVE 4 BLK 907', 'TAMPINES ST 83 BLK 833', 'JURONG WEST ST 41 BLK 463', 'TAMPINES ST 82 BLK 842D', 'BT BATOK EAST AVE 4 BLK 262', 'JURONG WEST ST 42 BLK 420', 'SERANGOON AVE 3 BLK 327', 'TAMPINES AVE 5 BLK 148', 'JURONG WEST AVE 1 BLK 537', 'BT BATOK CTRL BLK 622', 'JURONG EAST AVE 1 BLK 330', 'BT BATOK EAST AVE 4 BLK 261', 'JURONG WEST ST 24 BLK 272B', 'JURONG EAST AVE 1 BLK 336', 'TAMPINES ST 82 BLK 836', 'BT BATOK WEST AVE 6 BLK 132', 'SHUNFU RD BLK 307', 'HOUGANG AVE 1 BLK 172', 'TAMPINES AVE 4 BLK 906', 'BISHAN ST 13 BLK 190', 'JURONG WEST ST 24 BLK 271B', 'TAMPINES ST 81 BLK 888A', 'HOUGANG AVE 1 BLK 165', 'BT BATOK EAST AVE 5 BLK 240', 'BT BATOK WEST AVE 6 BLK 137', 'SERANGOON AVE 3 BLK 333', 'TAMPINES ST 21 BLK 269', 'LOR AH SOO BLK 134', 'LOR LEW LIAN BLK 2', 'LOR LEW LIAN BLK 3', 'BISHAN ST 13 BLK 183', 'TAMPINES AVE 4 BLK 908', 'TAMPINES ST 22 BLK 293', 'JURONG WEST ST 24 BLK 272A', 'JURONG WEST AVE 1 BLK 502', 'JURONG WEST ST 41 BLK 459', 'BT BATOK WEST AVE 6 BLK 119', 'BISHAN ST 13 BLK 191', 'TAMPINES AVE 5 BLK 944', 'JURONG EAST AVE 1 BLK 338', 'TAMPINES ST 81 BLK 887', 'SERANGOON AVE 3 BLK 326', 'JURONG WEST ST 41 BLK 464', 'JURONG WEST ST 74 BLK 765', 'SHUNFU RD BLK 306', 'JURONG WEST ST 74 BLK 759', 'SERANGOON AVE 3 BLK 328', 'BT BATOK EAST AVE 5 BLK 239', 'BT BATOK ST 11 BLK 141', 'JURONG EAST AVE 1 BLK 340', 'BT BATOK EAST AVE 5 BLK 248', 'TAMPINES AVE 5 BLK 943', 'JURONG WEST ST 41 BLK 458', 'BT BATOK WEST AVE 6 BLK 118', 'JURONG EAST AVE 1 BLK 335', 'SHUNFU RD BLK 305', 'TAMPINES ST 21 BLK 271', 'JURONG WEST ST 42 BLK 421', 'BT BATOK ST 11 BLK 143', 'HOUGANG AVE 1 BLK 173', 'TAMPINES AVE 4 BLK 909', 'JURONG WEST ST 74 BLK 758', 'BISHAN ST 13 BLK 189', 'TAMPINES ST 82 BLK 834', 'TAMPINES ST 81 BLK 887A', 'BT BATOK WEST AVE 6 BLK 138', 'JURONG WEST ST 24 BLK 271C', 'BT BATOK EAST AVE 4 BLK 263', 'JURONG WEST ST 81 BLK 862', 'BT BATOK EAST AVE 5 BLK 253', 'TAMPINES ST 22 BLK 299A', 'JURONG WEST ST 41 BLK 465', 'SHUNFU RD BLK 304', 'LOR LEW LIAN BLK 4', 'BT BATOK CTRL BLK 621', 'JURONG EAST AVE 1 BLK 329', 'SERANGOON AVE 3 BLK 334', 'TAMPINES ST 22 BLK 292', 'BT BATOK EAST AVE 4 BLK 255', 'JURONG WEST ST 24 BLK 271D', 'TAMPINES ST 22 BLK 285', 'TAMPINES ST 83 BLK 831', 'LOR AH SOO BLK 135', 'SERANGOON CTRL BLK 416', 'JURONG WEST ST 41 BLK 492', 'BISHAN ST 13 BLK 184', 'TAMPINES ST 82 BLK 832', 'TAMPINES ST 22 BLK 291', 'JURONG WEST ST 51 BLK 501', 'BT BATOK WEST AVE 6 BLK 144', 'LOR LEW LIAN BLK 5', 'JURONG WEST ST 74 BLK 766', 'BISHAN ST 13 BLK 182', 'JURONG WEST AVE 1 BLK 538', 'JURONG WEST AVE 1 BLK 503', 'BT BATOK ST 11 BLK 145', 'SERANGOON AVE 3 BLK 331', 'TAMPINES ST 12 BLK 161', 'JURONG WEST ST 81 BLK 866', 'JURONG WEST ST 41 BLK 460', 'JURONG WEST ST 41 BLK 466', 'TAMPINES ST 21 BLK 270', 'SERANGOON CTRL BLK 415', 'JURONG WEST ST 74 BLK 757', 'TAMPINES ST 81 BLK 889', 'SERANGOON AVE 3 BLK 330', 'BT BATOK EAST AVE 5 BLK 238', 'TAMPINES ST 12 BLK 162', 'SERANGOON CTRL BLK 417', 'TAMPINES ST 82 BLK 830', 'BT BATOK EAST AVE 4 BLK 265', 'SHUNFU RD BLK 303', 'BISHAN ST 13 BLK 188', 'BT BATOK EAST AVE 5 BLK 247', 'BT BATOK WEST AVE 6 BLK 117', 'TAMPINES ST 22 BLK 290', 'JURONG WEST ST 52 BLK 536', 'BT BATOK ST 11 BLK 142', 'JURONG EAST AVE 1 BLK 337', 'BT BATOK EAST AVE 4 BLK 264', 'JURONG WEST ST 41 BLK 495', 'TAMPINES ST 91 BLK 910', 'TAMPINES ST 91 BLK 911', 'TAMPINES AVE 5 BLK 942', 'BT BATOK EAST AVE 5 BLK 245', 'JURONG WEST ST 81 BLK 865', 'LOR AH SOO BLK 136', 'JURONG WEST ST 81 BLK 864', 'SERANGOON CTRL BLK 418', 'BISHAN ST 13 BLK 185', 'JURONG WEST AVE 1 BLK 490', 'BT BATOK EAST AVE 5 BLK 243', 'BT BATOK EAST AVE 4 BLK 254', 'TAMPINES ST 81 BLK 827', 'BT BATOK CTRL BLK 620', 'JURONG WEST ST 74 BLK 764', 'JURONG WEST ST 41 BLK 494', 'BT BATOK EAST AVE 5 BLK 236', 'SERANGOON AVE 3 BLK 329', 'BT BATOK WEST AVE 6 BLK 146', 'JURONG WEST ST 81 BLK 861', 'BT BATOK WEST AVE 6 BLK 116', 'JURONG WEST ST 41 BLK 461', 'SHUNFU RD BLK 302', 'JURONG WEST ST 74 BLK 760', 'BT BATOK EAST AVE 5 BLK 237', 'JURONG WEST AVE 1 BLK 491', 'JURONG WEST ST 51 BLK 504', 'TAMPINES ST 22 BLK 289', 'TAMPINES ST 12 BLK 164', 'BT BATOK WEST AVE 6 BLK 147', 'JURONG WEST ST 41 BLK 467', 'BOON LAY PL BLK 213', 'BISHAN ST 13 BLK 187', 'TAMPINES ST 22 BLK 286', 'JURONG EAST ST 31 BLK 328', 'TAMPINES ST 81 BLK 825', 'TAMPINES ST 12 BLK 163', 'JURONG EAST AVE 1 BLK 339', 'TAMPINES ST 91 BLK 912', 'LOR LEW LIAN BLK 6', 'TAMPINES AVE 5 BLK 941', 'BT BATOK EAST AVE 5 BLK 232', 'JURONG WEST ST 52 BLK 535', 'TAMPINES ST 81 BLK 889A', 'SERANGOON AVE 3 BLK 335', 'SHUNFU RD BLK 301', 'BISHAN ST 13 BLK 186', 'TAMPINES AVE 5 BLK 147', 'JURONG WEST ST 74 BLK 756', 'TAMPINES ST 81 BLK 826', 'BT BATOK CTRL BLK 639', 'BT BATOK EAST AVE 4 BLK 268', 'BT BATOK EAST AVE 4 BLK 266', 'LOR AH SOO BLK 137', 'JURONG WEST ST 81 BLK 859', 'JURONG WEST AVE 1 BLK 489', 'JURONG EAST ST 31 BLK 327', 'BT BATOK EAST AVE 5 BLK 234', 'BT BATOK WEST AVE 6 BLK 148', 'BT BATOK WEST AVE 6 BLK 149', 'TAMPINES ST 12 BLK 165', 'JURONG WEST ST 81 BLK 863', 'TAMPINES ST 81 BLK 829', 'TAMPINES AVE 8 BLK 892', 'LOR LEW LIAN BLK 7', 'TAMPINES ST 22 BLK 287', 'JURONG WEST ST 52 BLK 531', 'JURONG WEST ST 52 BLK 532', 'JURONG WEST ST 52 BLK 507', 'JURONG EAST AVE 1 BLK 341', 'JURONG WEST ST 52 BLK 506', 'BT BATOK EAST AVE 5 BLK 231', 'JURONG WEST ST 74 BLK 761', 'JURONG WEST AVE 1 BLK 488', 'SERANGOON CTRL BLK 413', 'BISHAN ST 11 BLK 506', 'BOON LAY PL BLK 212', 'TAMPINES ST 91 BLK 916', 'BT BATOK WEST AVE 6 BLK 115', 'TAMPINES AVE 8 BLK 891', 'SERANGOON CTRL BLK 420', 'BT BATOK EAST AVE 5 BLK 244', 'TAMPINES ST 22 BLK 284', 'TAMPINES ST 22 BLK 272', 'BOON LAY PL BLK 214', 'TAMPINES AVE 5 BLK 940', 'SERANGOON CTRL BLK 419', 'TAMPINES ST 81 BLK 824', 'JURONG WEST ST 81 BLK 860', 'BISHAN ST 13 BLK 197', 'TAMPINES ST 91 BLK 914', 'BT BATOK CTRL BLK 104', 'BISHAN ST 13 BLK 192', 'JURONG WEST ST 52 BLK 534', 'BISHAN ST 11 BLK 503', 'BISHAN ST 13 BLK 165', 'BISHAN ST 13 BLK 181', 'JURONG WEST ST 52 BLK 533', 'BT BATOK ST 11 BLK 160', 'SERANGOON CTRL BLK 422', 'TAMPINES AVE 8 BLK 892A', 'LOR LEW LIAN BLK 8', 'BISHAN ST 13 BLK 175', 'BOON LAY DR BLK 181B', 'JURONG EAST ST 31 BLK 325', 'BISHAN ST 13 BLK 166', 'TAMPINES ST 81 BLK 894', 'BT BATOK EAST AVE 4 BLK 272', 'BT BATOK WEST AVE 6 BLK 113', 'TAMPINES ST 12 BLK 166', 'BT BATOK WEST AVE 6 BLK 114', 'SERANGOON CTRL BLK 411', 'TAMPINES ST 91 BLK 913', 'TAMPINES AVE 8 BLK 893', 'JURONG WEST ST 74 BLK 754', 'TAMPINES ST 12 BLK 145', 'JURONG WEST ST 52 BLK 508', 'BT BATOK ST 11 BLK 152', 'BT BATOK EAST AVE 5 BLK 233', 'BT BATOK CTRL BLK 226', 'TAMPINES ST 22 BLK 288', 'TAMPINES ST 81 BLK 828', 'JURONG WEST ST 74 BLK 752', 'TAMPINES AVE 8 BLK 891A', 'BISHAN ST 13 BLK 193', 'SERANGOON CTRL BLK 414', 'SERANGOON CTRL BLK 421', 'TAMPINES ST 22 BLK 273', 'JURONG WEST ST 41 BLK 498', 'BOON LAY PL BLK 215', 'JURONG WEST AVE 1 BLK 486', 'TAMPINES ST 22 BLK 283', 'TAMPINES ST 12 BLK 142', 'JURONG WEST AVE 1 BLK 487', 'BT BATOK CTRL BLK 642', 'BT BATOK CTRL BLK 228', 'TAMPINES ST 81 BLK 821', 'JURONG WEST ST 41 BLK 473', 'JURONG EAST ST 32 BLK 372', 'JURONG EAST ST 31 BLK 324', 'TAMPINES ST 91 BLK 915', 'JURONG WEST ST 41 BLK 468', 'BISHAN ST 11 BLK 502', 'BT BATOK EAST AVE 4 BLK 269', 'BT BATOK CTRL BLK 105', 'BT BATOK EAST AVE 4 BLK 267', 'JURONG WEST ST 41 BLK 471', 'BOON LAY DR BLK 181A', 'BT BATOK EAST AVE 5 BLK 235', 'JURONG WEST ST 52 BLK 530', 'TAMPINES ST 81 BLK 896A', 'BISHAN ST 13 BLK 179', 'JURONG WEST ST 41 BLK 469', 'SERANGOON CTRL BLK 423', 'BISHAN ST 13 BLK 180', 'JURONG EAST ST 31 BLK 323', 'BT BATOK ST 11 BLK 161', 'BT BATOK CTRL BLK 227', 'JURONG EAST ST 31 BLK 321', 'BISHAN ST 13 BLK 164', 'JURONG WEST ST 74 BLK 753', 'BT BATOK CTRL BLK 225', 'JURONG WEST ST 52 BLK 529', 'TAMPINES ST 12 BLK 144', 'BOON LAY DR BLK 180C', 'BISHAN ST 11 BLK 501', 'BT BATOK WEST AVE 6 BLK 111', 'JURONG EAST ST 32 BLK 371', 'TAMPINES ST 11 BLK 107', 'BT BATOK ST 11 BLK 157', 'TAMPINES ST 81 BLK 819', 'SERANGOON CTRL BLK 412', 'JURONG WEST ST 74 BLK 755', 'JURONG WEST ST 81 BLK 858', 'JURONG WEST AVE 1 BLK 485', 'TAMPINES AVE 5 BLK 939', 'BISHAN ST 13 BLK 195', 'BT BATOK EAST AVE 3 BLK 229', 'JURONG WEST ST 52 BLK 528', 'TAMPINES ST 12 BLK 141', 'BT BATOK WEST AVE 6 BLK 112', 'TAMPINES ST 81 BLK 822', 'TAMPINES ST 81 BLK 896', 'JURONG WEST ST 81 BLK 857', 'TAMPINES ST 22 BLK 274', 'BISHAN ST 13 BLK 194', 'BOON LAY PL BLK 211', 'BT BATOK EAST AVE 4 BLK 271', 'JURONG EAST ST 31 BLK 320', 'TAMPINES AVE 8 BLK 893A', 'JURONG WEST ST 41 BLK 470', 'JURONG EAST ST 32 BLK 310', 'JURONG WEST ST 41 BLK 472', 'BT BATOK CTRL BLK 103', 'BISHAN ST 13 BLK 176', 'BT BATOK EAST AVE 3 BLK 223', 'BT BATOK EAST AVE 4 BLK 275', 'BOON LAY PL BLK 210', 'BT BATOK CTRL BLK 106', 'JURONG WEST AVE 1 BLK 484', 'TAMPINES ST 91 BLK 921', 'SERANGOON CTRL BLK 424', 'TAMPINES AVE 5 BLK 146', 'JURONG EAST ST 31 BLK 322', 'SIMEI ST 1 BLK 134', 'BISHAN ST 13 BLK 178', 'BT BATOK ST 11 BLK 163', 'JURONG WEST ST 73 BLK 749', 'BOON LAY DR BLK 268A', 'JURONG WEST ST 41 BLK 474', 'JURONG WEST ST 41 BLK 475', 'BISHAN ST 13 BLK 196', 'BISHAN ST 13 BLK 174', 'TAMPINES ST 12 BLK 143', 'TAMPINES ST 81 BLK 894A', 'TAMPINES ST 11 BLK 105', 'SIMEI ST 1 BLK 135', 'BISHAN ST 12 BLK 115', 'JURONG WEST ST 73 BLK 750', 'JURONG WEST ST 52 BLK 511', 'TAMPINES AVE 5 BLK 938', 'BT BATOK ST 11 BLK 162', 'BISHAN ST 13 BLK 167', 'SIMEI ST 1 BLK 136', 'JURONG EAST ST 31 BLK 319', 'BOON LAY DR BLK 180B', 'SERANGOON AVE 1 BLK 425', 'TAMPINES ST 81 BLK 820', 'TAMPINES ST 81 BLK 818', 'BISHAN ST 13 BLK 163', 'BT BATOK EAST AVE 4 BLK 274', 'BT BATOK ST 21 BLK 224', 'JURONG WEST ST 52 BLK 527', 'BT BATOK EAST AVE 3 BLK 280', 'JURONG WEST ST 52 BLK 510', 'TAMPINES ST 11 BLK 108', 'SERANGOON CTRL BLK 427', 'TAMPINES ST 22 BLK 275', 'BT BATOK EAST AVE 3 BLK 222', 'BT BATOK EAST AVE 3 BLK 230', 'BT BATOK EAST AVE 3 BLK 278', 'BT BATOK WEST AVE 6 BLK 107', 'BISHAN ST 13 BLK 177', 'SERANGOON CTRL BLK 410', 'JURONG WEST ST 73 BLK 748', 'BISHAN ST 12 BLK 116', 'SERANGOON AVE 1 BLK 426', 'TAMPINES ST 22 BLK 282', 'JURONG EAST ST 31 BLK 322A', 'BT BATOK ST 11 BLK 164', 'BOON LAY DR BLK 268B', 'TAMPINES ST 81 BLK 895', 'JURONG EAST ST 32 BLK 311', 'JURONG WEST ST 52 BLK 526', 'BOON LAY DR BLK 180A', 'BT BATOK WEST AVE 6 BLK 102', 'SERANGOON CTRL BLK 409', 'BT BATOK ST 21 BLK 203', 'JURONG WEST ST 41 BLK 477', 'BT BATOK ST 11 BLK 154', 'BISHAN ST 13 BLK 173', 'JURONG WEST ST 73 BLK 747', 'SIMEI ST 1 BLK 137', 'BISHAN ST 13 BLK 162', 'JURONG WEST ST 41 BLK 476', 'TAMPINES ST 81 BLK 895A', 'TAMPINES ST 11 BLK 103', 'TAMPINES ST 81 BLK 897', 'JURONG EAST ST 32 BLK 309', 'BISHAN ST 12 BLK 114', 'TAMPINES ST 81 BLK 817', 'JURONG WEST ST 73 BLK 751', 'SERANGOON AVE 1 BLK 405', 'SERANGOON AVE 1 BLK 406', 'TAMPINES AVE 4 BLK 816', 'TAMPINES ST 12 BLK 140', 'BT BATOK WEST AVE 6 BLK 110', 'BT BATOK ST 21 BLK 204', 'TAMPINES ST 11 BLK 106', 'TAMPINES ST 22 BLK 280', 'BT BATOK EAST AVE 3 BLK 281', 'BISHAN ST 13 BLK 161', 'BT BATOK EAST AVE 3 BLK 220', 'JURONG WEST ST 52 BLK 513', 'TAMPINES ST 81 BLK 897A', 'JURONG WEST ST 81 BLK 852', 'ELIAS RD BLK 613', 'BISHAN ST 12 BLK 110', 'TAMPINES ST 22 BLK 276', 'TAMPINES ST 91 BLK 922', 'BT BATOK EAST AVE 3 BLK 221', 'TAMPINES ST 11 BLK 101', 'BT BATOK WEST AVE 6 BLK 108', 'JURONG WEST ST 52 BLK 525', 'JURONG EAST ST 32 BLK 308', 'TAMPINES ST 11 BLK 109', 'JURONG WEST ST 73 BLK 746', 'TAMPINES ST 22 BLK 277', 'BT BATOK ST 21 BLK 214', 'BISHAN ST 13 BLK 172', 'BT BATOK WEST AVE 8 BLK 165', 'JURONG EAST ST 31 BLK 318', 'JURONG WEST ST 73 BLK 743', 'BOON LAY DR BLK 176', 'TAMPINES AVE 4 BLK 815', 'JURONG WEST ST 41 BLK 478', 'BOON LAY PL BLK 208', 'JURONG WEST ST 41 BLK 483', 'JURONG WEST ST 81 BLK 854', 'BISHAN ST 13 BLK 168', 'BT BATOK WEST AVE 8 BLK 166', 'BT BATOK ST 11 BLK 150', 'BT BATOK EAST AVE 3 BLK 283', 'TAMPINES ST 81 BLK 898', 'BOON LAY DR BLK 268C', 'SIMEI ST 1 BLK 138', 'TAMPINES ST 81 BLK 814', 'BISHAN ST 12 BLK 113', 'BISHAN ST 12 BLK 119', 'TAMPINES ST 11 BLK 104', 'TAMPINES AVE 5 BLK 937', 'JURONG WEST ST 81 BLK 856', 'JURONG WEST ST 81 BLK 853', 'BT BATOK ST 21 BLK 218', 'SIMEI ST 1 BLK 133', 'BT BATOK ST 21 BLK 219', 'JURONG WEST ST 52 BLK 524', 'BISHAN ST 13 BLK 160', 'JURONG EAST ST 32 BLK 313', 'SERANGOON AVE 1 BLK 407', 'TAMPINES AVE 4 BLK 801', 'SERANGOON AVE 1 BLK 408', 'JURONG EAST ST 31 BLK 317', 'JURONG WEST ST 41 BLK 479', 'BISHAN ST 12 BLK 120', 'TAMPINES ST 22 BLK 281', 'BT BATOK ST 21 BLK 212', 'BT BATOK ST 21 BLK 216', 'BT BATOK WEST AVE 8 BLK 168', 'BT BATOK EAST AVE 3 BLK 287', 'BT BATOK ST 21 BLK 205', 'BISHAN ST 12 BLK 121', 'JURONG WEST ST 41 BLK 482', 'JURONG WEST ST 73 BLK 745', 'JURONG WEST ST 81 BLK 821', 'SIMEI ST 1 BLK 126', 'BISHAN ST 12 BLK 111', 'BT BATOK WEST AVE 6 BLK 185', 'BISHAN ST 13 BLK 169', 'JURONG EAST ST 32 BLK 312', 'JURONG WEST ST 52 BLK 514', 'BT BATOK WEST AVE 6 BLK 109', 'JURONG WEST ST 81 BLK 810', 'TAMPINES ST 81 BLK 813', 'TAMPINES ST 11 BLK 110', 'TAMPINES AVE 4 BLK 812', 'BISHAN ST 12 BLK 117', 'JURONG WEST ST 81 BLK 855', 'BISHAN ST 12 BLK 125', 'SIMEI ST 1 BLK 132', 'SIMEI ST 1 BLK 139', 'BT BATOK WEST AVE 8 BLK 167', 'TAMPINES ST 11 BLK 111', 'SERANGOON AVE 1 BLK 404', 'BISHAN ST 12 BLK 108', 'TAMPINES ST 11 BLK 139', 'JURONG WEST ST 81 BLK 822', 'JURONG WEST ST 52 BLK 523', 'BISHAN ST 12 BLK 112', 'JURONG WEST ST 41 BLK 480', 'BISHAN ST 12 BLK 122', 'JURONG WEST ST 73 BLK 744', 'TAMPINES ST 22 BLK 278', 'JURONG WEST ST 75 BLK 737', 'BT BATOK ST 21 BLK 213', 'BISHAN ST 13 BLK 171', 'BT BATOK ST 21 BLK 215', 'BT BATOK ST 21 BLK 217', 'TAMPINES ST 11 BLK 102', 'BISHAN ST 12 BLK 109', 'SIMEI ST 1 BLK 129', 'JURONG WEST ST 41 BLK 481', 'BOON LAY DR BLK 175', 'BOON LAY PL BLK 207', 'BOON LAY DR BLK 267', 'BISHAN ST 13 BLK 159', 'JURONG WEST ST 81 BLK 851', 'JURONG WEST ST 81 BLK 823', 'JURONG EAST ST 32 BLK 314', 'JURONG WEST ST 81 BLK 811', 'JURONG EAST ST 32 BLK 307', 'BT BATOK ST 21 BLK 206', 'TAMPINES ST 91 BLK 924', 'TAMPINES ST 81 BLK 898A', 'BISHAN ST 12 BLK 118', 'BT BATOK WEST AVE 6 BLK 186', 'JURONG WEST ST 52 BLK 521', 'BT BATOK WEST AVE 6 BLK 101', 'SERANGOON AVE 1 BLK 402', 'JURONG EAST ST 32 BLK 316', 'BT BATOK WEST AVE 8 BLK 169', 'BISHAN ST 13 BLK 154', 'BT BATOK WEST AVE 6 BLK 187', 'TAMPINES ST 11 BLK 113', 'TAMPINES ST 81 BLK 899', 'TAMPINES AVE 4 BLK 811', 'BISHAN ST 12 BLK 123', 'SIMEI ST 1 BLK 127', 'JURONG WEST ST 81 BLK 824', 'BOON LAY AVE BLK 185', 'BT BATOK WEST AVE 8 BLK 170', 'JURONG WEST ST 52 BLK 522', 'JURONG WEST AVE 5 BLK 729', 'BISHAN ST 13 BLK 158', 'BT BATOK EAST AVE 3 BLK 286', 'SERANGOON AVE 1 BLK 403', 'TAMPINES AVE 4 BLK 808', 'TAMPINES AVE 4 BLK 810', 'BISHAN ST 13 BLK 170', 'BT BATOK EAST AVE 3 BLK 285', 'BISHAN ST 12 BLK 107', 'SERANGOON AVE 1 BLK 401', 'BT BATOK ST 21 BLK 202', 'BT BATOK ST 21 BLK 211', 'BISHAN ST 12 BLK 124', 'JURONG WEST ST 75 BLK 738', 'TAMPINES ST 91 BLK 925', 'JURONG WEST ST 81 BLK 850', 'TAMPINES AVE 5 BLK 936', 'BOON LAY PL BLK 209', 'JURONG WEST ST 73 BLK 739', 'BT BATOK WEST AVE 8 BLK 177', 'SIMEI ST 1 BLK 148', 'JURONG WEST ST 81 BLK 820', 'TAMPINES ST 91 BLK 927', 'BT BATOK WEST AVE 8 BLK 184', 'TAMPINES ST 22 BLK 279', 'BOON LAY DR BLK 266', 'JURONG EAST ST 32 BLK 315', 'JURONG WEST ST 52 BLK 515', 'BT BATOK WEST AVE 8 BLK 183', 'BOON LAY DR BLK 174', 'TAMPINES ST 91 BLK 929', 'TAMPINES ST 11 BLK 125', 'SIMEI ST 1 BLK 130', 'JURONG WEST ST 72 BLK 730', 'BISHAN ST 13 BLK 155', 'JURONG WEST ST 81 BLK 812', 'BOON LAY DR BLK 258', 'TAMPINES ST 81 BLK 899A', 'JURONG EAST ST 32 BLK 306', 'BT BATOK WEST AVE 6 BLK 188', 'BT BATOK ST 21 BLK 207', 'TAMPINES ST 11 BLK 112', 'JURONG WEST ST 52 BLK 520', 'SIMEI ST 1 BLK 150', 'BOON LAY PL BLK 221', 'JURONG WEST ST 81 BLK 825', 'BOON LAY DR BLK 264', 'BT BATOK ST 25 BLK 288B', 'BISHAN ST 12 BLK 126', 'JURONG WEST AVE 5 BLK 728', 'JURONG WEST ST 75 BLK 736', 'BT BATOK WEST AVE 8 BLK 171', 'BISHAN ST 13 BLK 153', 'BT BATOK WEST AVE 8 BLK 173', 'BT BATOK ST 25 BLK 288C', 'BISHAN ST 12 BLK 106', 'TAMPINES AVE 4 BLK 809', 'TAMPINES AVE 4 BLK 805', 'TAMPINES AVE 4 BLK 802', 'BISHAN ST 12 BLK 127', 'JURONG WEST ST 81 BLK 848', 'JURONG WEST ST 81 BLK 826', 'BT BATOK WEST AVE 8 BLK 178', 'SIMEI RD BLK 163', 'SIMEI RD BLK 164', 'BT BATOK WEST AVE 6 BLK 193', 'JURONG WEST ST 64 BLK 676B', 'JURONG WEST ST 75 BLK 735', 'TAMPINES ST 11 BLK 124', 'TAMPINES ST 91 BLK 928', 'BT BATOK WEST AVE 8 BLK 176', 'SIMEI ST 1 BLK 124', 'JURONG WEST ST 64 BLK 676A', 'TAMPINES ST 11 BLK 114', 'JURONG WEST ST 81 BLK 813', 'JURONG WEST ST 73 BLK 732', 'JURONG WEST AVE 5 BLK 726', 'BOON LAY DR BLK 257', 'BISHAN ST 12 BLK 128', 'BISHAN ST 12 BLK 130', 'TAMPINES ST 91 BLK 930', 'BISHAN ST 12 BLK 144', 'SIMEI ST 1 BLK 149', 'BISHAN ST 13 BLK 157', 'JURONG EAST ST 31 BLK 343', 'BT BATOK ST 21 BLK 208', 'JURONG WEST ST 81 BLK 819', 'TAMPINES AVE 4 BLK 807', 'JURONG WEST ST 81 BLK 849', 'JURONG WEST AVE 5 BLK 727', 'TAMPINES ST 11 BLK 126', 'TAMPINES ST 91 BLK 931', 'TAMPINES ST 91 BLK 926', 'JURONG WEST ST 64 BLK 675B', 'BT BATOK ST 25 BLK 288D', 'BT BATOK WEST AVE 6 BLK 189', 'BISHAN ST 12 BLK 105', 'JURONG WEST ST 72 BLK 731', 'SIMEI ST 2 BLK 141', 'BT BATOK WEST AVE 8 BLK 179', 'SIMEI ST 1 BLK 151', 'SIMEI RD BLK 162', 'BOON LAY AVE BLK 186', 'JURONG WEST ST 81 BLK 814', 'BT BATOK ST 21 BLK 201', 'TAMPINES AVE 4 BLK 804', 'BT BATOK WEST AVE 8 BLK 172', 'BT BATOK WEST AVE 8 BLK 174', 'BT BATOK WEST AVE 6 BLK 192', 'BT BATOK WEST AVE 8 BLK 175', 'JURONG WEST ST 52 BLK 519', 'JURONG WEST ST 64 BLK 677A', 'BT BATOK WEST AVE 8 BLK 181', 'BOON LAY DR BLK 265', 'JURONG WEST ST 52 BLK 517', 'BISHAN ST 12 BLK 104', 'BOON LAY DR BLK 261', 'JURONG WEST ST 81 BLK 816', 'BISHAN ST 12 BLK 143', 'SIMEI ST 1 BLK 123', 'BT BATOK WEST AVE 8 BLK 182', 'JURONG WEST ST 73 BLK 734', 'BT BATOK WEST AVE 6 BLK 191', 'TAMPINES ST 91 BLK 935', 'BT BATOK WEST AVE 8 BLK 180', 'JURONG EAST ST 31 BLK 345', 'JURONG WEST ST 81 BLK 827', 'SIMEI RD BLK 165', 'TAMPINES AVE 4 BLK 806', 'BISHAN ST 12 BLK 131', 'BISHAN ST 12 BLK 132', 'TAMPINES ST 91 BLK 932', 'SIMEI ST 2 BLK 147', 'BT BATOK WEST AVE 6 BLK 190', 'BOON LAY DR BLK 259', 'BISHAN ST 12 BLK 103', 'JURONG WEST AVE 5 BLK 725', 'BT BATOK ST 21 BLK 210', 'SIMEI ST 1 BLK 131', 'JURONG WEST ST 73 BLK 733', 'BISHAN ST 12 BLK 133', 'BISHAN ST 12 BLK 142', 'SIMEI ST 1 BLK 122', 'BT BATOK ST 21 BLK 209', 'JURONG WEST ST 81 BLK 846', 'JURONG WEST ST 64 BLK 677B', 'TAMPINES ST 11 BLK 138', 'JURONG EAST ST 32 BLK 305', 'BT BATOK ST 25 BLK 288E', 'JURONG WEST ST 52 BLK 516', 'JURONG WEST ST 64 BLK 675A', 'BISHAN ST 12 BLK 134', 'BT BATOK ST 25 BLK 288F', 'SIMEI ST 2 BLK 142', 'JURONG WEST ST 64 BLK 677C', 'JURONG WEST ST 81 BLK 847', 'BISHAN ST 13 BLK 156', 'JURONG WEST ST 81 BLK 844', 'SIMEI ST 2 BLK 144', 'SIMEI RD BLK 161', 'JURONG WEST ST 81 BLK 830', 'JURONG WEST ST 81 BLK 815', 'JURONG WEST ST 72 BLK 724', 'JURONG WEST ST 81 BLK 818', 'JURONG EAST ST 32 BLK 304', 'BOON LAY DR BLK 263', 'TAMPINES ST 11 BLK 127', 'TAMPINES ST 91 BLK 933', 'TAMPINES ST 91 BLK 934', 'BOON LAY AVE BLK 187', 'SIMEI ST 1 BLK 153', 'JURONG WEST ST 81 BLK 830A', 'SIMEI RD BLK 160', 'BT BATOK ST 25 BLK 288A', 'JURONG WEST ST 52 BLK 517A', 'BT BATOK ST 22 BLK 297', 'JURONG WEST ST 52 BLK 518', 'JURONG WEST CTRL 1 BLK 680C', 'JURONG WEST ST 81 BLK 828', 'SIMEI RD BLK 156', 'BOON LAY DR BLK 260', 'BISHAN ST 12 BLK 102', 'BISHAN ST 11 BLK 151', 'TAMPINES AVE 4 BLK 803', 'TAMPINES ST 41 BLK 422', 'BISHAN ST 12 BLK 141', 'JURONG WEST ST 65 BLK 674B', 'BT BATOK ST 25 BLK 288G', 'JURONG WEST ST 64 BLK 678B', 'JURONG WEST ST 64 BLK 678A', 'BOON LAY DR BLK 206', 'JURONG WEST ST 52 BLK 517D', 'JURONG EAST ST 31 BLK 352', 'SIMEI ST 5 BLK 246', 'JURONG WEST CTRL 1 BLK 680B', 'JURONG WEST ST 81 BLK 828A', 'JURONG WEST ST 52 BLK 517C', 'BT BATOK ST 25 BLK 289G', 'JURONG WEST ST 64 BLK 678D', 'JURONG WEST ST 81 BLK 829', 'JURONG WEST ST 81 BLK 831', 'BOON LAY DR BLK 205', 'BISHAN ST 12 BLK 101', 'SIMEI ST 1 BLK 154', 'SIMEI RD BLK 159', 'JURONG EAST ST 31 BLK 351', 'JURONG WEST ST 65 BLK 673C', 'BISHAN ST 12 BLK 140', 'BISHAN ST 11 BLK 145', 'JURONG WEST ST 64 BLK 678C', 'JURONG EAST ST 32 BLK 302', 'JURONG EAST ST 32 BLK 303', 'JURONG WEST CTRL 1 BLK 681B', 'SIMEI ST 2 BLK 145', 'SIMEI RD BLK 155', 'BT BATOK ST 22 BLK 298', 'BISHAN ST 11 BLK 150A', 'JURONG WEST AVE 5 BLK 719', 'JURONG WEST ST 81 BLK 845', 'JURONG WEST CTRL 1 BLK 681C', 'BT BATOK ST 25 BLK 289F', 'JURONG WEST ST 91 BLK 944', 'JURONG WEST ST 81 BLK 841', 'SIMEI RD BLK 157', 'BOON LAY DR BLK 262', 'SIMEI ST 1 BLK 120', 'BT BATOK ST 25 BLK 289A', 'JURONG EAST ST 24 BLK 257', 'SIMEI ST 1 BLK 117', 'JURONG WEST ST 65 BLK 674A', 'JURONG WEST CTRL 1 BLK 680A', 'SIMEI ST 2 BLK 146', 'BISHAN ST 12 BLK 135', 'JURONG WEST ST 81 BLK 842', 'BOON LAY DR BLK 198', 'JURONG WEST ST 81 BLK 817', 'JURONG WEST ST 52 BLK 517E', 'JURONG EAST ST 24 BLK 261', 'BISHAN ST 11 BLK 150', 'BT BATOK EAST AVE 3 BLK 290D', 'JURONG WEST ST 91 BLK 948', 'BISHAN ST 12 BLK 137', 'JURONG WEST ST 65 BLK 673B', 'JURONG EAST AVE 1 BLK 349', 'SIMEI ST 5 BLK 245', 'JURONG WEST ST 81 BLK 843', 'JURONG WEST AVE 5 BLK 720', 'JURONG WEST CTRL 1 BLK 681A', 'BOON LAY DR BLK 204', 'JURONG EAST ST 24 BLK 263', 'JURONG WEST AVE 5 BLK 723', 'JURONG WEST ST 91 BLK 946', 'JURONG WEST ST 81 BLK 832', 'JURONG WEST CTRL 1 BLK 679A', 'SIMEI RD BLK 158', 'BT BATOK ST 22 BLK 299', 'BISHAN ST 12 BLK 138', 'JURONG WEST ST 65 BLK 673A', 'JURONG WEST ST 91 BLK 945', 'BISHAN ST 11 BLK 148', 'SIMEI ST 4 BLK 232', 'JURONG WEST ST 81 BLK 840', 'BOON LAY DR BLK 203', 'BOON LAY DR BLK 191', 'JURONG EAST ST 32 BLK 301', 'JURONG EAST ST 24 BLK 259', 'JURONG WEST ST 65 BLK 671A', 'BISHAN ST 11 BLK 149', 'BT BATOK ST 25 BLK 289E', 'JURONG WEST ST 65 BLK 671B', 'JURONG WEST ST 71 BLK 716', 'JURONG WEST AVE 5 BLK 721', 'JURONG EAST ST 24 BLK 256', 'BISHAN ST 12 BLK 136', 'JURONG WEST ST 65 BLK 670A', 'SIMEI ST 5 BLK 247', 'JURONG WEST ST 65 BLK 671C', 'JURONG WEST CTRL 1 BLK 679C', 'JURONG EAST ST 24 BLK 262', 'SIMEI ST 4 BLK 233', 'JURONG WEST ST 64 BLK 684A', 'JURONG WEST CTRL 1 BLK 682A', 'BT BATOK EAST AVE 3 BLK 290C', 'BT BATOK ST 24 BLK 290E', 'BT BATOK ST 25 BLK 289B', 'BOON LAY DR BLK 188', 'JURONG WEST ST 91 BLK 941', 'BOON LAY DR BLK 202', 'SIMEI ST 4 BLK 231', 'JURONG WEST ST 71 BLK 715', 'JURONG WEST CTRL 1 BLK 679B', 'JURONG WEST ST 81 BLK 838', 'JURONG WEST ST 81 BLK 833', 'JURONG WEST ST 65 BLK 632', 'JURONG WEST ST 65 BLK 672A', 'BISHAN ST 11 BLK 147', 'JURONG WEST ST 64 BLK 684B', 'BOON LAY DR BLK 199', 'SIMEI ST 5 BLK 244', 'SIMEI ST 5 BLK 243', 'BISHAN ST 11 BLK 146', 'JURONG WEST ST 91 BLK 943', 'SIMEI ST 1 BLK 114', 'JURONG WEST AVE 5 BLK 722', 'JURONG WEST ST 71 BLK 718', 'JURONG EAST ST 24 BLK 258', 'JURONG EAST ST 24 BLK 260', 'SIMEI ST 1 BLK 119', 'JURONG EAST ST 24 BLK 264', 'SIMEI ST 1 BLK 116', 'JURONG WEST ST 91 BLK 947', 'JURONG WEST ST 81 BLK 839', 'JURONG WEST ST 71 BLK 713', 'JURONG WEST ST 64 BLK 684C', 'JURONG WEST CTRL 1 BLK 682B', 'JURONG WEST ST 81 BLK 835', 'BT BATOK ST 25 BLK 289C', 'JURONG WEST ST 65 BLK 631', 'BT BATOK ST 24 BLK 290B', 'JURONG WEST ST 91 BLK 942', 'SIMEI LANE BLK 167A', 'JURONG WEST ST 91 BLK 949', 'JURONG WEST ST 71 BLK 717', 'JURONG WEST ST 65 BLK 633', 'BT BATOK ST 24 BLK 291D', 'BT BATOK ST 25 BLK 289D', 'SIMEI ST 5 BLK 242', 'JURONG EAST ST 24 BLK 253', 'BT BATOK ST 24 BLK 291E', 'SIMEI ST 4 BLK 234', 'JURONG WEST ST 64 BLK 669D', 'BT BATOK ST 24 BLK 291A', 'JURONG WEST ST 81 BLK 837', 'JURONG WEST CTRL 1 BLK 694', 'BOON LAY DR BLK 201', 'JURONG WEST ST 91 BLK 940', 'JURONG WEST ST 64 BLK 669C', 'JURONG WEST ST 91 BLK 950', 'JURONG WEST ST 64 BLK 683C', 'BT BATOK ST 24 BLK 290G', 'BT BATOK ST 24 BLK 290F', 'SIMEI ST 4 BLK 230', 'JURONG WEST ST 71 BLK 714', 'JURONG WEST ST 64 BLK 685A', 'JURONG WEST CTRL 1 BLK 682C', 'SIMEI LANE BLK 167B', 'SIMEI ST 4 BLK 224', 'BOON LAY DR BLK 200', 'JURONG EAST ST 24 BLK 251', 'JURONG WEST ST 91 BLK 939', 'JURONG WEST ST 71 BLK 711', 'SIMEI ST 4 BLK 229', 'JURONG WEST ST 81 BLK 834', 'JURONG WEST ST 65 BLK 634', 'JURONG EAST ST 24 BLK 252', 'BT BATOK ST 24 BLK 291B', 'BT BATOK ST 24 BLK 290A', 'SIMEI ST 1 BLK 108', 'JURONG WEST ST 91 BLK 938', 'JURONG WEST ST 64 BLK 669A', 'SIMEI ST 4 BLK 235', 'JURONG WEST CTRL 1 BLK 683B', 'SIMEI ST 1 BLK 112', 'SIMEI LANE BLK 168D', 'SIMEI LANE BLK 167D', 'SIMEI ST 1 BLK 256', 'JURONG WEST ST 64 BLK 669B', 'BT BATOK ST 24 BLK 291C', 'JURONG WEST ST 64 BLK 685B', 'SIMEI LANE BLK 167C', 'JURONG WEST ST 71 BLK 710', 'SIMEI ST 1 BLK 113', 'JURONG WEST ST 91 BLK 902', 'LOR 8 TOA PAYOH BLK 219', 'LOR 8 TOA PAYOH BLK 218', 'SIMEI ST 4 BLK 226', 'SIMEI ST 1 BLK 110', 'JURONG WEST ST 65 BLK 635', 'JURONG WEST ST 65 BLK 630', 'LOR 8 TOA PAYOH BLK 217', 'JURONG WEST ST 91 BLK 936', 'SIMEI LANE BLK 168A', 'JURONG WEST ST 91 BLK 952', 'JURONG WEST CTRL 1 BLK 683A', 'JURONG WEST CTRL 1 BLK 693', 'SIMEI LANE BLK 168B', 'JURONG EAST ST 24 BLK 250', 'LOR 8 TOA PAYOH BLK 220', 'LOR 8 TOA PAYOH BLK 221', 'JURONG EAST ST 24 BLK 244', 'JURONG WEST ST 71 BLK 709', 'JURONG WEST CTRL 1 BLK 685C', 'JURONG WEST ST 81 BLK 836', 'JURONG WEST CTRL 1 BLK 695', 'JURONG EAST ST 21 BLK 228', 'JURONG WEST ST 65 BLK 629', 'TOH GUAN RD BLK 273', 'JURONG EAST ST 24 BLK 249', 'SIMEI LANE BLK 168C', 'JURONG WEST ST 71 BLK 701', 'SIMEI ST 4 BLK 228', 'LOR 8 TOA PAYOH BLK 216', 'JURONG WEST ST 91 BLK 934', 'TOA PAYOH NTH BLK 207', 'SIMEI ST 4 BLK 225', 'JURONG WEST ST 91 BLK 953', 'SIMEI ST 1 BLK 107', 'SIMEI ST 1 BLK 111', 'SIMEI ST 1 BLK 255', 'JURONG EAST ST 24 BLK 248', 'SIMEI ST 1 BLK 109', 'JURONG WEST ST 91 BLK 933', 'TOA PAYOH NTH BLK 206', 'SIMEI ST 4 BLK 223', 'JURONG WEST CTRL 1 BLK 686C', 'JURONG WEST ST 71 BLK 712', 'JURONG WEST CTRL 1 BLK 696', 'JURONG WEST ST 65 BLK 628', 'SIMEI ST 4 BLK 227', 'JURONG WEST ST 65 BLK 636', 'TOA PAYOH NTH BLK 205', 'TOH GUAN RD BLK 272', 'JURONG EAST ST 21 BLK 225', 'JURONG WEST ST 64 BLK 668B', 'JURONG WEST ST 71 BLK 708', 'JURONG WEST CTRL 1 BLK 692', 'TOA PAYOH NTH BLK 203', 'JURONG EAST ST 21 BLK 225A', 'JURONG WEST ST 71 BLK 702', 'JURONG WEST ST 64 BLK 668A', 'TOH GUAN RD BLK 274', 'TOA PAYOH NTH BLK 199', 'SIMEI ST 1 BLK 254', 'JURONG EAST ST 24 BLK 243', 'JURONG WEST ST 65 BLK 627', 'JURONG WEST ST 91 BLK 913', 'TOA PAYOH NTH BLK 208', 'JURONG WEST ST 91 BLK 911', 'JURONG EAST ST 24 BLK 247', 'TOH GUAN RD BLK 268', 'JURONG WEST CTRL 1 BLK 691', 'SIMEI ST 1 BLK 106', 'SIMEI ST 1 BLK 253', 'JURONG EAST ST 21 BLK 229', 'JURONG EAST ST 21 BLK 227', 'LOR 8 TOA PAYOH BLK 214', 'JURONG WEST ST 65 BLK 626', 'JURONG WEST ST 91 BLK 910', 'JURONG WEST ST 71 BLK 703', 'LOR 8 TOA PAYOH BLK 215', 'JURONG WEST ST 92 BLK 932', 'JURONG EAST ST 24 BLK 246', 'JURONG WEST CTRL 1 BLK 686B', 'JURONG WEST ST 71 BLK 707', 'LOR 8 TOA PAYOH BLK 222', 'JURONG EAST ST 24 BLK 242', 'JURONG WEST ST 65 BLK 667D', 'JURONG WEST CTRL 1 BLK 686A', 'TOA PAYOH NTH BLK 209', 'SIMEI ST 4 BLK 221', 'JURONG WEST ST 93 BLK 966', 'JURONG EAST ST 21 BLK 224', 'JURONG WEST ST 92 BLK 931', 'JURONG EAST ST 24 BLK 245', 'JURONG WEST ST 93 BLK 965', 'JURONG WEST CTRL 1 BLK 687', 'JURONG WEST ST 65 BLK 667A', 'SIMEI ST 4 BLK 222', 'LOR 1 TOA PAYOH BLK 108', 'TOH GUAN RD BLK 271', 'JURONG WEST ST 91 BLK 906', 'JURONG EAST ST 21 BLK 230', 'JURONG EAST ST 24 BLK 241', 'LOR 1 TOA PAYOH BLK 112', 'LOR 1 TOA PAYOH BLK 110', 'TOA PAYOH NTH BLK 202', 'TOA PAYOH NTH BLK 204', 'TOH GUAN RD BLK 269', 'JURONG WEST ST 61 BLK 637', 'JURONG WEST ST 65 BLK 618', 'JURONG WEST ST 91 BLK 914', 'JURONG WEST ST 92 BLK 961', 'JURONG WEST ST 71 BLK 706', 'JURONG WEST ST 64 BLK 668C', 'JURONG WEST ST 61 BLK 625', 'JURONG EAST ST 21 BLK 226', 'TOA PAYOH NTH BLK 200', 'JURONG EAST ST 21 BLK 223A', 'JURONG WEST ST 65 BLK 619', 'JURONG WEST ST 65 BLK 620', 'JURONG WEST ST 71 BLK 705', 'JURONG WEST ST 91 BLK 912', 'JURONG WEST CTRL 1 BLK 690', 'LOR 8 TOA PAYOH BLK 223', 'JURONG WEST ST 92 BLK 929', 'LOR 1 TOA PAYOH BLK 113', 'SIMEI ST 1 BLK 102', 'LOR 1 TOA PAYOH BLK 107', 'TOH GUAN RD BLK 277', 'LOR 8 TOA PAYOH BLK 224', 'LOR 1 TOA PAYOH BLK 111', 'JURONG WEST ST 91 BLK 909', 'TOH GUAN RD BLK 270', 'SIMEI ST 1 BLK 105', 'JURONG EAST ST 21 BLK 231', 'SIMEI ST 1 BLK 101', 'JURONG WEST ST 64 BLK 668D', 'JURONG WEST ST 91 BLK 915', 'JURONG WEST ST 65 BLK 667C', 'TOH GUAN RD BLK 266', 'JURONG EAST ST 21 BLK 220', 'TOA PAYOH NTH BLK 201', 'JURONG WEST ST 91 BLK 907', 'TOH GUAN RD BLK 267', 'JURONG EAST ST 21 BLK 223', 'JURONG WEST ST 61 BLK 624', 'TOH GUAN RD BLK 276', 'JURONG WEST CTRL 1 BLK 688', 'JURONG WEST CTRL 1 BLK 689', 'JURONG EAST ST 21 BLK 240', 'JURONG EAST ST 21 BLK 222', 'LOR 8 TOA PAYOH BLK 213', 'JURONG WEST ST 92 BLK 928', 'JURONG WEST ST 71 BLK 704', 'JURONG WEST ST 65 BLK 667B', 'JURONG EAST ST 21 BLK 239', 'LOR 1 TOA PAYOH BLK 114', 'TOH GUAN RD BLK 275', 'LOR 1 TOA PAYOH BLK 109', 'LOR 1 TOA PAYOH BLK 240', 'TOH GUAN RD BLK 278', 'JURONG WEST ST 65 BLK 621', 'JURONG EAST ST 21 BLK 221', 'JURONG WEST ST 65 BLK 617', 'JURONG WEST ST 61 BLK 641', 'JURONG EAST ST 21 BLK 221A', 'JURONG WEST ST 92 BLK 930', 'TOH GUAN RD BLK 279', 'JURONG WEST ST 61 BLK 639', 'JURONG WEST ST 61 BLK 622', 'JURONG EAST ST 21 BLK 219', 'JURONG EAST ST 21 BLK 238', 'JURONG EAST ST 21 BLK 237', 'LOR 1 TOA PAYOH BLK 115', 'JURONG WEST ST 91 BLK 916', 'JURONG EAST ST 21 BLK 219A', 'TOH GUAN RD BLK 265', 'JURONG WEST ST 91 BLK 918', 'JURONG WEST ST 93 BLK 978', 'JURONG EAST ST 21 BLK 217A', 'JURONG WEST ST 91 BLK 905', 'LOR 1 TOA PAYOH BLK 236', 'JURONG WEST ST 91 BLK 908', 'JURONG WEST ST 92 BLK 926', 'JURONG WEST ST 92 BLK 924', 'LOR 2 TOA PAYOH BLK 116', 'KANG CHING RD BLK 347', 'JURONG WEST ST 61 BLK 642', 'LOR 1 TOA PAYOH BLK 239', 'JURONG WEST ST 91 BLK 917', 'JURONG EAST ST 21 BLK 236', 'JURONG WEST ST 61 BLK 623', 'TOH GUAN RD BLK 280', 'JURONG EAST ST 21 BLK 218', 'JURONG EAST ST 21 BLK 288E', 'JURONG EAST ST 21 BLK 233', 'JURONG WEST ST 93 BLK 975', 'LOR 1 TOA PAYOH BLK 238', 'JURONG WEST ST 92 BLK 925', 'JURONG WEST ST 61 BLK 640', 'JURONG WEST ST 61 BLK 647', 'KANG CHING RD BLK 346', 'JURONG EAST ST 21 BLK 215', 'LOR 1 TOA PAYOH BLK 117', 'TOH YI DR BLK 18', 'JURONG EAST ST 21 BLK 217', 'JURONG EAST ST 21 BLK 235', 'TOH GUAN RD BLK 281', 'KANG CHING RD BLK 348', 'TOH YI DR BLK 19', 'JURONG EAST ST 21 BLK 234', 'JURONG WEST ST 91 BLK 903', 'JURONG WEST ST 91 BLK 919', 'JURONG WEST ST 92 BLK 920', 'JURONG WEST ST 64 BLK 665A', 'JURONG WEST ST 93 BLK 977', 'LOR 1 TOA PAYOH BLK 237', 'JURONG EAST ST 21 BLK 232', 'JURONG EAST ST 21 BLK 288D', 'LOR 2 TOA PAYOH BLK 122', 'JURONG WEST ST 93 BLK 976', 'LOR 2 TOA PAYOH BLK 101A', 'TOH YI DR BLK 17', 'JURONG EAST ST 13 BLK 116', 'JURONG EAST ST 13 BLK 115', 'JURONG WEST ST 62 BLK 613', 'JURONG WEST ST 64 BLK 665B', 'JURONG WEST ST 93 BLK 974', 'JURONG EAST ST 21 BLK 216', 'JURONG WEST ST 62 BLK 601', 'TOH GUAN RD BLK 286D', 'JURONG WEST ST 91 BLK 904', 'JURONG WEST ST 92 BLK 923', 'TOH GUAN RD BLK 282', 'JURONG WEST ST 65 BLK 666A', 'JURONG WEST ST 92 BLK 921', 'JURONG EAST ST 21 BLK 215A', 'JURONG WEST ST 93 BLK 979', 'LOR 1 TOA PAYOH BLK 100', 'TOH YI DR BLK 1', 'JURONG EAST ST 21 BLK 288C', 'JURONG WEST ST 65 BLK 666B', 'LOR 1 TOA PAYOH BLK 118', 'KANG CHING RD BLK 345', 'KANG CHING RD BLK 333', 'KANG CHING RD BLK 354', 'JURONG WEST ST 61 BLK 646', 'LOR 8 TOA PAYOH BLK 226', 'LOR 8 TOA PAYOH BLK 227', 'TOH GUAN RD BLK 284', 'TOH YI DR BLK 16', 'CORPORATION DR BLK 349', 'JURONG WEST ST 61 BLK 648D', 'JURONG WEST ST 65 BLK 612', 'LOR 8 TOA PAYOH BLK 225', 'KANG CHING RD BLK 352', 'LOR 2 TOA PAYOH BLK 101B', 'KANG CHING RD BLK 334', 'LOR 7 TOA PAYOH BLK 1', 'JURONG WEST ST 62 BLK 602', 'TOH YI DR BLK 15', 'JURONG WEST ST 61 BLK 643', 'JURONG WEST ST 61 BLK 644', 'JURONG WEST ST 61 BLK 645', 'JURONG EAST ST 13 BLK 112', 'LOR 7 TOA PAYOH BLK 3', 'JURONG EAST ST 21 BLK 214', 'CORPORATION DR BLK 365', 'JURONG EAST ST 13 BLK 114', 'TOH YI DR BLK 2', 'TOH GUAN RD BLK 283', 'LOR 2 TOA PAYOH BLK 121', 'JURONG WEST ST 92 BLK 922', 'LOR 1 TOA PAYOH BLK 98', 'LOR 2 TOA PAYOH BLK 120', 'JURONG WEST ST 93 BLK 980', 'KANG CHING RD BLK 335', 'JURONG EAST ST 21 BLK 288B', 'KANG CHING RD BLK 355', 'JURONG EAST ST 13 BLK 110', 'LOR 7 TOA PAYOH BLK 4', 'JURONG WEST ST 61 BLK 648C', 'JURONG EAST ST 21 BLK 212', 'JURONG WEST ST 64 BLK 664A', 'LOR 1 TOA PAYOH BLK 119', 'LOR 8 TOA PAYOH BLK 228', 'TOH GUAN RD BLK 286C', 'TOH YI DR BLK 14', 'LOR 2 TOA PAYOH BLK 99C', 'JURONG EAST ST 21 BLK 213', 'CORPORATION DR BLK 351', 'JURONG WEST ST 62 BLK 603', 'JURONG WEST ST 65 BLK 611', 'KANG CHING RD BLK 339D', 'CORPORATION DR BLK 350', 'JURONG EAST ST 13 BLK 113', 'LOR 8 TOA PAYOH BLK 235', 'JURONG WEST ST 65 BLK 663D', 'JURONG WEST ST 64 BLK 664D', 'JURONG WEST ST 62 BLK 604', 'KANG CHING RD BLK 353', 'JURONG EAST ST 21 BLK 288A', 'LOR 4 TOA PAYOH BLK 95', 'JURONG EAST ST 21 BLK 210', 'JURONG WEST ST 65 BLK 663A', 'TOH GUAN RD BLK 286A', 'JURONG EAST ST 13 BLK 111', 'TOH YI DR BLK 3', 'LOR 8 TOA PAYOH BLK 229', 'LOR 2 TOA PAYOH BLK 99A', 'LOR 2 TOA PAYOH BLK 99B', 'TOH YI DR BLK 13', 'JURONG EAST ST 21 BLK 211', 'LOR 1 TOA PAYOH BLK 123', 'LOR 1 TOA PAYOH BLK 124', 'LOR 3 TOA PAYOH BLK 97', 'TAH CHING RD BLK 332', 'LOR 3 TOA PAYOH BLK 96', 'TOH GUAN RD BLK 286B', 'TAH CHING RD BLK 336', 'LOR 7 TOA PAYOH BLK 6', 'JURONG WEST ST 64 BLK 664B', 'LOR 8 TOA PAYOH BLK 234', 'KANG CHING RD BLK 339C', 'JURONG WEST ST 61 BLK 650C', 'JURONG WEST ST 61 BLK 648B', 'JURONG WEST ST 62 BLK 605', 'LOR 7 TOA PAYOH BLK 2', 'JURONG WEST ST 61 BLK 648A', 'JURONG WEST ST 61 BLK 650B', 'TOH YI DR BLK 4', 'JURONG EAST ST 21 BLK 208', 'JURONG EAST ST 21 BLK 287A', 'JURONG EAST ST 21 BLK 287B', 'TOH YI DR BLK 12', 'TOH GUAN RD BLK 285A', 'TOH GUAN RD BLK 285B', 'TOH YI DR BLK 9', 'JURONG EAST ST 13 BLK 109', 'LOR 1 TOA PAYOH BLK 125', 'BEDOK RESERVOIR RD BLK 740', 'JURONG EAST ST 13 BLK 108', 'LOR 8 TOA PAYOH BLK 230', 'LOR 3 TOA PAYOH BLK 91', 'KANG CHING RD BLK 338B', 'LOR 4 TOA PAYOH BLK 94', 'LOR 6 TOA PAYOH BLK 52', 'JURONG WEST ST 65 BLK 608', 'JURONG WEST ST 65 BLK 663B', 'LOR 8 TOA PAYOH BLK 233', 'KANG CHING RD BLK 339B', 'TOH YI DR BLK 5', 'JURONG WEST ST 65 BLK 663C', 'CORPORATION DR BLK 366', 'JURONG WEST ST 64 BLK 664C', 'JURONG WEST ST 65 BLK 607', 'TAH CHING RD BLK 331', 'JURONG WEST ST 65 BLK 610', 'LOR 4 TOA PAYOH BLK 92', 'JURONG EAST ST 21 BLK 287C', 'BEDOK RESERVOIR RD BLK 742', 'TOH YI DR BLK 11', 'JURONG WEST ST 65 BLK 606', 'TOH GUAN RD BLK 285D', 'JURONG WEST ST 61 BLK 649B', 'JURONG WEST ST 65 BLK 609', 'TOH YI DR BLK 8', 'LOR 1 TOA PAYOH BLK 126', 'LOR 7 TOA PAYOH BLK 7', 'LOR 1 TOA PAYOH BLK 128', 'JURONG WEST ST 61 BLK 650A', 'JURONG WEST ST 61 BLK 649A', 'JURONG EAST ST 21 BLK 207', 'LOR 7 TOA PAYOH BLK 8', 'JURONG EAST ST 21 BLK 287D', 'CORPORATION DR BLK 367', 'TAH CHING RD BLK 338A', 'TOH GUAN RD BLK 285C', 'TAH CHING RD BLK 330', 'TAH CHING RD BLK 337A', 'BEDOK RESERVOIR RD BLK 716', 'TOH YI DR BLK 6', 'JURONG EAST ST 21 BLK 209', 'JURONG EAST ST 21 BLK 206', 'KANG CHING RD BLK 339A', 'BEDOK RESERVOIR RD BLK 744', 'LOR 6 TOA PAYOH BLK 51', 'LOR 5 TOA PAYOH BLK 53', 'JURONG EAST ST 13 BLK 107', 'TOH YI DR BLK 10', 'JURONG EAST ST 21 BLK 205', 'BEDOK RESERVOIR RD BLK 725', 'BEDOK RESERVOIR RD BLK 701', 'TAH CHING RD BLK 329', 'LOR 5 TOA PAYOH BLK 49', 'BEDOK RESERVOIR RD BLK 717', 'LOR 7 TOA PAYOH BLK 9', 'TAH CHING RD BLK 337B', 'LOR 8 TOA PAYOH BLK 232', 'TAH CHING RD BLK 337D', 'JURONG WEST ST 64 BLK 662C', 'BEDOK RESERVOIR RD BLK 715', 'LOR 8 TOA PAYOH BLK 231', 'LOR 5 TOA PAYOH BLK 54', 'TOH YI DR BLK 7', 'HOUGANG ST 22 BLK 246', 'TAH CHING RD BLK 321', 'LOR 5 TOA PAYOH BLK 55', 'LOR 5 TOA PAYOH BLK 48', 'BEDOK RESERVOIR RD BLK 702', 'CORPORATION DR BLK 368', 'POTONG PASIR AVE 1 BLK 115', 'JURONG EAST ST 13 BLK 106', 'JURONG EAST ST 13 BLK 105', 'JURONG WEST ST 93 BLK 986A', 'JURONG WEST ST 64 BLK 662B', 'JURONG WEST ST 65 BLK 658D', 'LOR 7 TOA PAYOH BLK 10B', 'TAH CHING RD BLK 337C', 'BEDOK RESERVOIR RD BLK 703', 'JURONG EAST ST 21 BLK 204', 'JURONG WEST ST 93 BLK 986B', 'BEDOK RESERVOIR RD BLK 718', 'BEDOK RESERVOIR RD BLK 724', 'LOR 7 TOA PAYOH BLK 10', 'JURONG WEST ST 61 BLK 651A', 'JURONG WEST ST 61 BLK 651B', 'JURONG WEST ST 93 BLK 986C', 'BEDOK RESERVOIR RD BLK 714', 'LOR 8 TOA PAYOH BLK 11', 'LOR 5 TOA PAYOH BLK 57', 'LOR 5 TOA PAYOH BLK 50', 'JURONG EAST ST 13 BLK 101', 'LOR 4 TOA PAYOH BLK 56', 'YUNG AN RD BLK 369', 'TAH CHING RD BLK 322', 'JURONG WEST ST 64 BLK 662A', 'JURONG WEST ST 64 BLK 662D', 'TAH CHING RD BLK 328', 'JURONG WEST ST 65 BLK 659A', 'JURONG WEST ST 61 BLK 653A', 'TAH CHING RD BLK 323', 'LOR 6 TOA PAYOH BLK 47', 'JURONG WEST ST 65 BLK 659B', 'YUNG AN RD BLK 358', 'JURONG WEST ST 65 BLK 658C', 'BEDOK RESERVOIR RD BLK 723', 'JURONG WEST ST 65 BLK 658A', 'JURONG EAST ST 21 BLK 203', 'JOO SENG RD BLK 18', 'BEDOK RESERVOIR RD BLK 713', 'POTONG PASIR AVE 1 BLK 116', 'LOR 1A TOA PAYOH BLK 139B', 'JURONG EAST ST 21 BLK 202', 'LOR 1A TOA PAYOH BLK 138A', 'LOR 4 TOA PAYOH BLK 58', 'POTONG PASIR AVE 1 BLK 114', 'JURONG WEST ST 61 BLK 652C', 'JURONG EAST ST 13 BLK 103', 'LOR 5 TOA PAYOH BLK 59', 'YUNG AN RD BLK 357', 'BEDOK NTH RD BLK 705', 'LOR 7 TOA PAYOH BLK 14', 'LOR 7 TOA PAYOH BLK 12', 'JURONG WEST ST 93 BLK 987B', 'JURONG WEST ST 93 BLK 987C', 'JURONG WEST ST 93 BLK 987D', 'JURONG WEST ST 64 BLK 660C', 'JURONG WEST ST 61 BLK 652B', 'JURONG WEST ST 61 BLK 652A', 'JURONG EAST ST 13 BLK 104', 'BEDOK RESERVOIR RD BLK 722', 'JURONG WEST ST 93 BLK 987A', 'JOO SENG RD BLK 16', 'YUNG AN RD BLK 363', 'BEDOK RESERVOIR RD BLK 704', 'JURONG WEST ST 64 BLK 661D', 'JURONG WEST ST 65 BLK 658B', 'BEDOK RESERVOIR VIEW BLK 774', 'JURONG WEST ST 65 BLK 659C', 'BEDOK RESERVOIR RD BLK 719', 'JURONG WEST ST 65 BLK 659D', 'BEDOK RESERVOIR VIEW BLK 772', 'TAH CHING RD BLK 324', 'LOR 5 TOA PAYOH BLK 44', 'LOR 5 TOA PAYOH BLK 46', 'JURONG WEST ST 64 BLK 660D', 'JURONG EAST ST 21 BLK 201', 'BEDOK RESERVOIR VIEW BLK 762', 'LOR 5 TOA PAYOH BLK 61', 'LOR 7 TOA PAYOH BLK 17', 'LOR 4 TOA PAYOH BLK 60', 'LOR 1A TOA PAYOH BLK 138B', 'LOR 4 TOA PAYOH BLK 85C', 'LOR 4 TOA PAYOH BLK 85B', 'LOR 4 TOA PAYOH BLK 85A', 'JURONG WEST ST 64 BLK 661C', 'LOR 1A TOA PAYOH BLK 139A', 'BEDOK NTH RD BLK 706', 'POTONG PASIR AVE 1 BLK 117', 'YUNG AN RD BLK 359', 'LOR 7 TOA PAYOH BLK 13', 'BEDOK RESERVOIR VIEW BLK 773', 'TAH CHING RD BLK 327', 'BEDOK RESERVOIR RD BLK 721', 'LOR 4 TOA PAYOH BLK 62', 'LOR 1A TOA PAYOH BLK 138C', 'JOO SENG RD BLK 17', 'BEDOK RESERVOIR VIEW BLK 761', 'BEDOK RESERVOIR VIEW BLK 763', 'BEDOK RESERVOIR VIEW BLK 766', 'JURONG WEST ST 61 BLK 653B', 'JURONG WEST ST 64 BLK 660B', 'JURONG WEST ST 61 BLK 654B', 'JURONG WEST ST 93 BLK 988B', 'POTONG PASIR AVE 1 BLK 113', 'JURONG WEST ST 93 BLK 988A', 'JURONG EAST ST 13 BLK 102', 'LOR 7 TOA PAYOH BLK 14A', 'YUNG AN RD BLK 362', 'BEDOK RESERVOIR VIEW BLK 765', 'JURONG WEST ST 61 BLK 654A', 'BEDOK RESERVOIR RD BLK 150', 'BEDOK RESERVOIR VIEW BLK 770', 'TAH CHING RD BLK 325', 'JURONG WEST ST 61 BLK 656C', 'JURONG WEST ST 65 BLK 657B', 'YUAN CHING RD BLK 122', 'BEDOK RESERVOIR VIEW BLK 771', 'JURONG WEST ST 93 BLK 989A', 'BEDOK RESERVOIR RD BLK 711', 'LOR 4 TOA PAYOH BLK 82A', 'JURONG WEST ST 61 BLK 654C', 'LOR 4 TOA PAYOH BLK 81B', 'JURONG WEST ST 61 BLK 656B', 'JURONG WEST ST 64 BLK 661B', 'BEDOK RESERVOIR VIEW BLK 767', 'BEDOK RESERVOIR RD BLK 712', 'BEDOK RESERVOIR VIEW BLK 764', 'YUNG AN RD BLK 361', 'JURONG WEST ST 93 BLK 989B', 'YUNG AN RD BLK 360', 'BEDOK RESERVOIR RD BLK 720', 'JURONG WEST ST 93 BLK 988C', 'LOR 5 TOA PAYOH BLK 45', 'BEDOK RESERVOIR VIEW BLK 769', 'JOO SENG RD BLK 14', 'POTONG PASIR AVE 3 BLK 136', 'LOR 2 TOA PAYOH BLK 84B', 'JOO SENG RD BLK 12', 'LOR 7 TOA PAYOH BLK 18', 'LOR 2 TOA PAYOH BLK 83', 'YUAN CHING RD BLK 121', 'BEDOK RESERVOIR RD BLK 151', 'JURONG WEST ST 61 BLK 655B', 'TAH CHING RD BLK 326', 'LOR 7 TOA PAYOH BLK 14B', 'LOR 2 TOA PAYOH BLK 142', 'BEDOK RESERVOIR RD BLK 142', 'JURONG WEST ST 64 BLK 660A', 'POTONG PASIR AVE 1 BLK 121', 'BEDOK RESERVOIR VIEW BLK 768', 'LOR 2 TOA PAYOH BLK 141', 'LOR 5 TOA PAYOH BLK 43', 'LOR 4 TOA PAYOH BLK 82B', 'LOR 2 TOA PAYOH BLK 143', 'JURONG WEST ST 64 BLK 661A', 'JURONG WEST ST 61 BLK 656D', 'BEDOK RESERVOIR RD BLK 710', 'LOR 4 TOA PAYOH BLK 82', 'BEDOK RESERVOIR RD BLK 149', 'JURONG WEST ST 93 BLK 989C', 'JURONG WEST ST 93 BLK 989D', 'JURONG WEST ST 93 BLK 990C', 'BEDOK RESERVOIR RD BLK 141', 'JOO SENG RD BLK 13', 'JURONG WEST ST 61 BLK 655A', 'POTONG PASIR AVE 1 BLK 118', 'LOR 2 TOA PAYOH BLK 86', 'JURONG WEST ST 61 BLK 653C', 'POTONG PASIR AVE 1 BLK 120', 'LOR 4 TOA PAYOH BLK 81A', 'LOR 4 TOA PAYOH BLK 81', 'JURONG WEST ST 61 BLK 656A', 'JURONG WEST ST 65 BLK 657A', 'BEDOK NTH RD BLK 707', 'JURONG WEST ST 93 BLK 990B', 'POTONG PASIR AVE 1 BLK 125', 'BEDOK RESERVOIR RD BLK 148', 'JOO SENG RD BLK 15', 'LOR 2 TOA PAYOH BLK 84A', 'LOR 5 TOA PAYOH BLK 38', 'BEDOK RESERVOIR RD BLK 709', 'JURONG WEST ST 93 BLK 990A', 'LOR 4 TOA PAYOH BLK 80A', 'LOR 4 TOA PAYOH BLK 80B', 'HO CHING RD BLK 120', 'LOR 2 TOA PAYOH BLK 84', 'POTONG PASIR AVE 1 BLK 124', 'LOR 2 TOA PAYOH BLK 144', 'LOR 4 TOA PAYOH BLK 80', 'JOO SENG RD BLK 8', 'POTONG PASIR AVE 1 BLK 123', 'POTONG PASIR AVE 1 BLK 122', 'BEDOK RESERVOIR RD BLK 144', 'HO CHING RD BLK 119', 'LOR 2 TOA PAYOH BLK 145', 'JOO SENG RD BLK 11', 'BEDOK RESERVOIR RD BLK 143', 'LOR 4 TOA PAYOH BLK 66', 'POTONG PASIR AVE 1 BLK 108', 'POTONG PASIR AVE 1 BLK 127', 'BEDOK NTH RD BLK 708', 'POTONG PASIR AVE 1 BLK 126', 'BEDOK RESERVOIR RD BLK 628', 'LOR 7 TOA PAYOH BLK 20', 'BEDOK RESERVOIR RD BLK 147', 'BEDOK RESERVOIR RD BLK 140', 'BEDOK NTH ST 3 BLK 524', 'LOR 5 TOA PAYOH BLK 36', 'BEDOK NTH ST 3 BLK 528', 'TOA PAYOH CTRL BLK 79D', 'LOR 5 TOA PAYOH BLK 34', 'POTONG PASIR AVE 1 BLK 109', 'TOA PAYOH CTRL BLK 79B', 'TOA PAYOH CTRL BLK 79A', 'POTONG PASIR AVE 1 BLK 128', 'TOA PAYOH CTRL BLK 79E', 'POTONG PASIR AVE 1 BLK 129', 'BEDOK NTH ST 3 BLK 525', 'POTONG PASIR AVE 3 BLK 135', 'JLN DAMAI BLK 661', 'JLN DAMAI BLK 662', 'JOO SENG RD BLK 10', 'LOR 4 TOA PAYOH BLK 70', 'LOR 2 TOA PAYOH BLK 146', 'JLN DAMAI BLK 663', 'POTONG PASIR AVE 1 BLK 107', 'BEDOK RESERVOIR RD BLK 146', 'LOR 5 TOA PAYOH BLK 37', 'BEDOK RESERVOIR RD BLK 629', 'POTONG PASIR AVE 1 BLK 131', 'BEDOK RESERVOIR RD BLK 621', 'TOA PAYOH EAST BLK 23', 'BEDOK RESERVOIR RD BLK 138', 'POTONG PASIR AVE 1 BLK 119', 'JOO SENG RD BLK 20', 'JOO SENG RD BLK 19', 'BEDOK RESERVOIR RD BLK 139', 'POTONG PASIR AVE 3 BLK 134', 'JLN TENAGA BLK 660', 'POTONG PASIR AVE 1 BLK 105', 'BEDOK NTH AVE 4 BLK 101', 'BEDOK RESERVOIR RD BLK 626', 'POTONG PASIR AVE 1 BLK 130', 'TOA PAYOH CTRL BLK 79C', 'BEDOK NTH AVE 4 BLK 106', 'JOO SENG RD BLK 21', 'LOR 2 TOA PAYOH BLK 147', 'BEDOK NTH ST 3 BLK 523', 'LOR 5 TOA PAYOH BLK 35', 'POTONG PASIR AVE 1 BLK 104', 'BEDOK RESERVOIR RD BLK 145', 'BEDOK NTH ST 3 BLK 526', 'LOR 4 TOA PAYOH BLK 73', 'POTONG PASIR AVE 1 BLK 133', 'BEDOK RESERVOIR RD BLK 625', 'BEDOK NTH AVE 4 BLK 100', 'BEDOK NTH AVE 4 BLK 98', 'JLN DAMAI BLK 664', 'BEDOK NTH ST 3 BLK 529', 'BEDOK RESERVOIR RD BLK 624', 'LOR 4 TOA PAYOH BLK 69', 'POTONG PASIR AVE 1 BLK 106', 'LOR 4 TOA PAYOH BLK 71', 'POTONG PASIR AVE 1 BLK 132', 'JLN TENAGA BLK 659', 'POTONG PASIR AVE 1 BLK 103', 'JLN DAMAI BLK 665', 'LOR 2 TOA PAYOH BLK 152', 'BEDOK RESERVOIR RD BLK 627', 'BEDOK RESERVOIR RD BLK 622', 'BEDOK RESERVOIR RD BLK 129', 'BEDOK NTH ST 3 BLK 532', 'UPP ALJUNIED LANE BLK 3', 'UPP ALJUNIED LANE BLK 2', 'BEDOK NTH AVE 4 BLK 94B', 'POTONG PASIR AVE 3 BLK 141', 'BEDOK RESERVOIR RD BLK 620', 'JLN TENAGA BLK 657', 'HO CHING RD BLK 111', 'HO CHING RD BLK 112', 'BEDOK NTH ST 3 BLK 509', 'KIM KEAT AVE BLK 259', 'HO CHING RD BLK 114', 'TOA PAYOH CTRL BLK 177', 'TOA PAYOH CTRL BLK 179', 'BEDOK NTH AVE 4 BLK 102', 'LOR 5 TOA PAYOH BLK 72', 'YUNG SHENG RD BLK 179', 'BEDOK NTH ST 3 BLK 527', 'JLN TENAGA BLK 656', 'BEDOK NTH AVE 4 BLK 99', 'JLN DAMAI BLK 667', 'BEDOK NTH AVE 4 BLK 95', 'YUNG SHENG RD BLK 182', 'POTONG PASIR AVE 3 BLK 137', 'LOR 1 TOA PAYOH BLK 153A', 'JLN DAMAI BLK 666', 'BEDOK RESERVOIR RD BLK 137', 'YUNG SHENG RD BLK 180', 'YUNG SHENG RD BLK 181', 'BEDOK NTH ST 3 BLK 530', 'BEDOK NTH AVE 4 BLK 94D', 'UPP ALJUNIED LANE BLK 5', 'POTONG PASIR AVE 3 BLK 140', 'HO CHING RD BLK 115', 'BEDOK NTH AVE 4 BLK 105', 'JLN TENAGA BLK 658', 'POTONG PASIR AVE 1 BLK 102', 'BEDOK RESERVOIR RD BLK 623', 'LOR 2 TOA PAYOH BLK 153', 'BEDOK NTH ST 3 BLK 533', 'TOA PAYOH CTRL BLK 178', 'BEDOK RESERVOIR RD BLK 136', 'POTONG PASIR AVE 3 BLK 138', 'TOA PAYOH EAST BLK 25', 'BEDOK RESERVOIR RD BLK 619', 'BEDOK RESERVOIR RD BLK 130', 'BEDOK NTH AVE 4 BLK 94C', 'UPP ALJUNIED LANE BLK 4', 'JLN DAMAI BLK 668', 'BEDOK NTH ST 3 BLK 536', 'YUNG SHENG RD BLK 184', 'BEDOK RESERVOIR RD BLK 128', 'BEDOK RESERVOIR RD BLK 631', 'BEDOK NTH AVE 4 BLK 103', 'BEDOK NTH AVE 3 BLK 508', 'YUNG SHENG RD BLK 177', 'LOR 2 TOA PAYOH BLK 175', 'TOA PAYOH CTRL BLK 183', 'BEDOK NTH ST 3 BLK 531', 'LOR 2 TOA PAYOH BLK 154', 'BEDOK NTH AVE 4 BLK 94E', 'JLN TENAGA BLK 655', 'BEDOK NTH AVE 2 BLK 512', 'POTONG PASIR AVE 3 BLK 142', 'YUNG SHENG RD BLK 178', 'YUNG SHENG RD BLK 183', 'POTONG PASIR AVE 3 BLK 139', 'TAO CHING RD BLK 113', 'BEDOK NTH AVE 4 BLK 104', 'BEDOK NTH AVE 4 BLK 96', 'BEDOK RESERVOIR RD BLK 617', 'JLN DAMAI BLK 669', 'BEDOK RESERVOIR RD BLK 131', 'BEDOK NTH ST 3 BLK 534', 'BEDOK RESERVOIR RD BLK 135', 'BEDOK RESERVOIR RD BLK 613B', 'BEDOK RESERVOIR RD BLK 618', 'JLN TENAGA BLK 653', 'BEDOK RESERVOIR RD BLK 125', 'BEDOK NTH AVE 3 BLK 507', 'BEDOK NTH ST 4 BLK 86', 'BEDOK NTH AVE 2 BLK 513', 'POTONG PASIR AVE 1 BLK 101', 'BEDOK NTH AVE 4 BLK 93', 'BEDOK RESERVOIR RD BLK 132', 'BEDOK RESERVOIR RD BLK 134', 'BEDOK NTH AVE 4 BLK 97', 'JLN TENAGA BLK 654', 'BEDOK NTH ST 4 BLK 87', 'TOA PAYOH EAST BLK 26', 'JLN DAMAI BLK 670', 'BEDOK RESERVOIR RD BLK 127', 'BEDOK RESERVOIR RD BLK 613A', 'POTONG PASIR AVE 2 BLK 143', 'BEDOK NTH ST 3 BLK 535', 'BEDOK RESERVOIR RD BLK 126', 'BEDOK NTH ST 4 BLK 88', 'LOR 1 TOA PAYOH BLK 155', 'BEDOK NTH ST 4 BLK 89', 'BEDOK RESERVOIR RD BLK 124', 'BEDOK NTH RD BLK 108', 'BEDOK NTH ST 3 BLK 554', 'POTONG PASIR AVE 1 BLK 148', 'JLN TENAGA BLK 652', 'TOA PAYOH CTRL BLK 185', 'POTONG PASIR AVE 2 BLK 144', 'TOA PAYOH CTRL BLK 186', 'LOR 1 TOA PAYOH BLK 156', 'KIM KEAT AVE BLK 257', 'KIM KEAT AVE BLK 258', 'BEDOK NTH AVE 1 BLK 550', 'BEDOK NTH ST 4 BLK 91', 'BEDOK NTH RD BLK 110', 'BEDOK RESERVOIR RD BLK 133', 'BEDOK NTH AVE 4 BLK 92', 'BEDOK RESERVOIR RD BLK 614', 'JLN DAMAI BLK 671', 'BEDOK RESERVOIR RD BLK 123', 'BEDOK NTH RD BLK 107', 'POTONG PASIR AVE 2 BLK 145', 'TOA PAYOH EAST BLK 27', 'MACPHERSON LANE BLK 82', 'JLN TENAGA BLK 649', 'BEDOK NTH AVE 1 BLK 551', 'LOR 4 TOA PAYOH BLK 193', 'LOR 1 TOA PAYOH BLK 157', 'LOR 4 TOA PAYOH BLK 191', 'BEDOK NTH ST 3 BLK 510', 'BEDOK NTH AVE 2 BLK 514', 'MACPHERSON LANE BLK 81', 'JLN TENAGA BLK 651', 'BEDOK NTH AVE 3 BLK 506', 'BEDOK RESERVOIR RD BLK 615', 'BEDOK RESERVOIR RD BLK 640', 'BEDOK NTH ST 4 BLK 90', 'JLN TENAGA BLK 647', 'JLN TENAGA BLK 648', 'KIM KEAT AVE BLK 256', 'BEDOK NTH AVE 2 BLK 515', 'BEDOK NTH ST 3 BLK 537', 'LOR 1 TOA PAYOH BLK 163', 'BEDOK NTH RD BLK 109', 'JLN DAMAI BLK 672', 'BEDOK RESERVOIR RD BLK 122', 'BEDOK RESERVOIR RD BLK 613', 'LOR 1 TOA PAYOH BLK 168', 'JLN TENAGA BLK 650', 'BEDOK RESERVOIR RD BLK 632', 'BEDOK RESERVOIR RD BLK 608', 'TOA PAYOH CTRL BLK 184', 'BEDOK RESERVOIR RD BLK 641', 'BEDOK NTH AVE 1 BLK 552', 'BEDOK NTH ST 3 BLK 504', 'KIM KEAT AVE BLK 255', 'BEDOK NTH AVE 3 BLK 505', 'BEDOK RESERVOIR RD BLK 609', 'BEDOK NTH ST 4 BLK 84', 'BEDOK RESERVOIR RD BLK 616', 'POTONG PASIR AVE 1 BLK 146', 'KIM KEAT LINK BLK 250', \"C'WEALTH CL BLK 84\", 'KIM KEAT AVE BLK 254', 'BEDOK RESERVOIR RD BLK 639', 'LOR 1 TOA PAYOH BLK 169', 'BEDOK RESERVOIR RD BLK 606', 'BEDOK NTH AVE 1 BLK 549', 'BEDOK NTH AVE 2 BLK 518', 'BEDOK RESERVOIR RD BLK 612', 'BEDOK NTH ST 3 BLK 502', 'MACPHERSON LANE BLK 83', 'BEDOK NTH ST 3 BLK 539', 'JLN TENAGA BLK 645', 'BEDOK NTH RD BLK 111', 'BEDOK RESERVOIR RD BLK 638', 'KIM KEAT LINK BLK 251', 'BEDOK NTH AVE 1 BLK 553', 'LOR 1 TOA PAYOH BLK 158', 'BEDOK NTH ST 3 BLK 503', 'BALAM RD BLK 19', 'BEDOK RESERVOIR RD BLK 642', 'BEDOK RESERVOIR RD BLK 117', 'BEDOK NTH ST 3 BLK 541', 'BEDOK NTH RD BLK 115', 'KIM KEAT LINK BLK 248', 'KIM KEAT LINK BLK 249', 'JLN TENAGA BLK 646', 'BEDOK RESERVOIR RD BLK 121', 'BEDOK NTH AVE 1 BLK 548', 'BEDOK RESERVOIR RD BLK 119', 'KIM KEAT LINK BLK 252', 'BALAM RD BLK 21', 'BEDOK RESERVOIR RD BLK 636', 'BEDOK NTH ST 3 BLK 501', 'BEDOK RESERVOIR RD BLK 637', 'BEDOK NTH ST 3 BLK 540', 'KIM KEAT AVE BLK 253', 'BEDOK NTH AVE 2 BLK 516', 'BEDOK RESERVOIR RD BLK 116', 'BEDOK RESERVOIR RD BLK 118', 'BEDOK RESERVOIR RD BLK 607', 'KIM KEAT LINK BLK 247', 'KIM KEAT LINK BLK 245', 'BEDOK RESERVOIR RD BLK 643', 'BEDOK NTH AVE 2 BLK 517', 'BEDOK RESERVOIR RD BLK 611', 'BEDOK NTH RD BLK 112', 'BALAM RD BLK 23', 'KIM KEAT AVE BLK 194', 'BEDOK RESERVOIR RD BLK 120', 'BEDOK RESERVOIR RD BLK 610', 'BEDOK NTH RD BLK 116', 'BEDOK NTH AVE 3 BLK 401', 'BEDOK RESERVOIR RD BLK 644', 'BEDOK NTH AVE 1 BLK 519', 'LOR 1 TOA PAYOH BLK 160', 'BEDOK NTH ST 3 BLK 546', 'BALAM RD BLK 20', 'BEDOK RESERVOIR RD BLK 604', 'BEDOK RESERVOIR RD BLK 635', 'LOR 1 TOA PAYOH BLK 171', 'BEDOK NTH ST 3 BLK 542', 'KIM KEAT LINK BLK 244', 'UBI AVE 1 BLK 301', 'KIM KEAT LINK BLK 246', 'LOR 1 TOA PAYOH BLK 174', 'BEDOK RESERVOIR RD BLK 115', 'LOR 1 TOA PAYOH BLK 159', 'BEDOK NTH RD BLK 117', 'BEDOK NTH AVE 1 BLK 522', 'BEDOK RESERVOIR RD BLK 113', 'BALAM RD BLK 28', 'BEDOK NTH AVE 3 BLK 402', 'LOR 1 TOA PAYOH BLK 161', 'BEDOK NTH AVE 1 BLK 520', 'KIM KEAT AVE BLK 195', 'BEDOK RESERVOIR RD BLK 114', 'BEDOK NTH ST 2 BLK 114', 'KIM KEAT LINK BLK 241', 'BEDOK RESERVOIR RD BLK 633', 'BEDOK NTH ST 2 BLK 118', 'YUNG PING RD BLK 163', 'LOR 1 TOA PAYOH BLK 172', 'BEDOK NTH ST 2 BLK 113', 'BEDOK NTH ST 3 BLK 543', 'BALAM RD BLK 27', 'BEDOK NTH AVE 2 BLK 413', 'BEDOK NTH ST 3 BLK 547', 'LOR 1 TOA PAYOH BLK 172A', 'BEDOK RESERVOIR RD BLK 605', 'KIM KEAT LINK BLK 243', 'BEDOK NTH AVE 1 BLK 521', 'BEDOK RESERVOIR RD BLK 108', 'BALAM RD BLK 29', 'BEDOK NTH RD BLK 119', 'BEDOK RESERVOIR RD BLK 634', 'BEDOK RESERVOIR RD BLK 110', 'BEDOK NTH ST 3 BLK 545', 'BALAM RD BLK 22', 'UBI AVE 1 BLK 311', 'KIM KEAT LINK BLK 242', 'BEDOK NTH AVE 2 BLK 414', 'UBI AVE 1 BLK 302', 'BALAM RD BLK 24', 'LOR 1 TOA PAYOH BLK 173', 'BEDOK RESERVOIR RD BLK 603', 'YUNG PING RD BLK 161', 'BEDOK RESERVOIR RD BLK 601', 'BALAM RD BLK 31', 'UBI AVE 1 BLK 305', 'BEDOK NTH ST 2 BLK 120', 'BEDOK RESERVOIR RD BLK 111', 'BEDOK RESERVOIR RD BLK 107', 'BEDOK NTH ST 2 BLK 140', 'BALAM RD BLK 33', 'BEDOK RESERVOIR RD BLK 109', 'BEDOK NTH AVE 3 BLK 403', 'BEDOK NTH RD BLK 426', 'BEDOK NTH ST 2 BLK 138', 'BEDOK NTH AVE 2 BLK 415', 'BEDOK RESERVOIR RD BLK 112', 'BALAM RD BLK 30', 'YUNG PING RD BLK 162', 'CHAI CHEE ST BLK 54', 'UBI AVE 1 BLK 312', 'BEDOK NTH RD BLK 121', 'YUNG PING RD BLK 159', 'UBI AVE 1 BLK 304', 'BEDOK NTH RD BLK 82', 'BEDOK NTH RD BLK 428', 'BEDOK RESERVOIR RD BLK 106', 'BALAM RD BLK 32', 'BEDOK NTH AVE 3 BLK 139', 'BEDOK NTH AVE 3 BLK 404', 'BEDOK NTH RD BLK 425', 'BEDOK RESERVOIR RD BLK 602', 'YUNG PING RD BLK 160', 'CHAI CHEE ST BLK 50', 'UBI AVE 1 BLK 314', 'BEDOK RESERVOIR RD BLK 104', 'BEDOK NTH ST 2 BLK 123', 'BEDOK NTH RD BLK 124', 'CIRCUIT RD BLK 35', 'UBI AVE 1 BLK 315', 'CIRCUIT RD BLK 34', 'UBI AVE 1 BLK 313', 'BEDOK RESERVOIR RD BLK 105', 'BEDOK NTH RD BLK 427', 'BEDOK NTH ST 2 BLK 122', 'BEDOK NTH AVE 2 BLK 412', 'CIRCUIT RD BLK 36', 'CHAI CHEE ST BLK 44', 'UBI AVE 1 BLK 316', 'UBI AVE 1 BLK 320', 'CHAI CHEE ST BLK 51', 'BEDOK NTH RD BLK 125', 'BEDOK NTH RD BLK 81', 'JLN RAJAH BLK 101', 'BEDOK NTH AVE 3 BLK 137', 'YUNG LOH RD BLK 157', 'CHAI CHEE ST BLK 52', 'BEDOK RESERVOIR RD BLK 103', 'BEDOK NTH RD BLK 422', 'BEDOK NTH RD BLK 77', 'BEDOK NTH AVE 3 BLK 405', 'BEDOK NTH ST 2 BLK 135', 'CHAI CHEE ST BLK 45', 'JLN RAJAH BLK 105', 'UBI AVE 1 BLK 317', 'JLN RAJAH BLK 106', \"JLN MA'MOR BLK 63\", 'JLN DUSUN BLK 106', 'JLN DUSUN BLK 104', 'BEDOK RESERVOIR RD BLK 102', 'YUNG LOH RD BLK 158', 'BEDOK NTH RD BLK 80', \"JLN MA'MOR BLK 64\", 'UBI AVE 1 BLK 318', 'CHAI CHEE ST BLK 53', 'BEDOK NTH AVE 2 BLK 408', 'BEDOK NTH AVE 1 BLK 424', 'UBI AVE 1 BLK 321', \"JLN MA'MOR BLK 53\", 'BEDOK NTH AVE 2 BLK 416', \"JLN MA'MOR BLK 57\", \"JLN MA'MOR BLK 62\", 'BEDOK RESERVOIR RD BLK 101', 'BEDOK NTH AVE 3 BLK 407', 'CHAI CHEE ST BLK 43', 'BEDOK NTH RD BLK 76', 'BEDOK NTH AVE 2 BLK 411', 'BEDOK NTH AVE 2 BLK 418', 'BEDOK NTH ST 2 BLK 134', \"JLN MA'MOR BLK 56\", 'BEDOK NTH RD BLK 421', 'UBI AVE 1 BLK 319', 'JLN TENTERAM BLK 17', \"JLN MA'MOR BLK 58\", 'UBI AVE 1 BLK 324', \"JLN MA'MOR BLK 54\", 'JLN RAJAH BLK 102', 'JLN RAJAH BLK 108', 'BEDOK NTH ST 2 BLK 126', 'JLN TENTERAM BLK 16', 'BEDOK NTH AVE 3 BLK 136', \"JLN MA'MOR BLK 65\", 'YUNG LOH RD BLK 156', \"JLN MA'MOR BLK 59\", 'CIRCUIT RD BLK 37', 'UBI AVE 1 BLK 323', 'BEDOK NTH AVE 2 BLK 409', 'BEDOK NTH AVE 3 BLK 406', 'CHAI CHEE RD BLK 1', 'UBI AVE 1 BLK 322', 'BEDOK NTH AVE 1 BLK 423', 'AH HOOD RD BLK 103', 'JLN RAJAH BLK 107', 'JLN BAHAGIA BLK 60', 'CIRCUIT RD BLK 38', 'JLN BAHAGIA BLK 55', 'JLN TENTERAM BLK 18', 'BEDOK NTH ST 2 BLK 127', 'CHAI CHEE ST BLK 42', 'BEDOK NTH RD BLK 75', 'JLN RAJAH BLK 104', 'JLN DUSUN BLK 102', 'JLN TENTERAM BLK 61', 'BEDOK NTH AVE 2 BLK 410', 'YUNG LOH RD BLK 155', 'JLN BAHAGIA BLK 52', 'JLN BAHAGIA BLK 49', 'JLN BAHAGIA BLK 48', 'JLN BAHAGIA BLK 50', 'BEDOK NTH ST 2 BLK 132', 'BEDOK NTH ST 2 BLK 128', 'BEDOK NTH RD BLK 79', 'BEDOK NTH ST 1 BLK 420', 'UBI AVE 1 BLK 325', 'JLN BAHAGIA BLK 46', 'CIRCUIT RD BLK 40', 'JLN TENTERAM BLK 19', 'BEDOK NTH AVE 2 BLK 417', 'BEDOK NTH ST 2 BLK 129', 'UBI AVE 1 BLK 328', 'CHAI CHEE RD BLK 19', 'BEDOK NTH AVE 3 BLK 133', 'CIRCUIT RD BLK 39', 'YUNG HO RD BLK 154', 'AH HOOD RD BLK 101', 'YUNG HO RD BLK 153', 'BEDOK NTH RD BLK 74', 'BEDOK NTH ST 1 BLK 218', 'CIRCUIT RD BLK 65', 'JLN BAHAGIA BLK 44', 'YUNG HO RD BLK 152', 'CHAI CHEE ST BLK 41', 'JLN RAJAH BLK 103', 'CIRCUIT RD BLK 42', 'BEDOK NTH RD BLK 78', 'JLN BAHAGIA BLK 42', 'JLN BAHAGIA BLK 39', 'CIRCUIT RD BLK 41', 'JLN BAHAGIA BLK 41', 'CHAI CHEE DR BLK 55', 'JLN BAHAGIA BLK 43', 'UBI AVE 1 BLK 326', 'BEDOK NTH ST 2 BLK 130', 'WHAMPOA RD BLK 109', 'UBI AVE 1 BLK 329', 'JLN BAHAGIA BLK 34', 'CHAI CHEE RD BLK 10', 'JLN BAHAGIA BLK 38', 'CIRCUIT RD BLK 64', 'UBI AVE 1 BLK 332', 'CHAI CHEE RD BLK 2', 'BEDOK NTH RD BLK 182', 'BEDOK NTH AVE 3 BLK 131', 'CHAI CHEE RD BLK 11', 'BEDOK NTH ST 1 BLK 419', 'UBI AVE 1 BLK 341', 'BEDOK NTH ST 1 BLK 217', 'UBI AVE 1 BLK 327', 'WHAMPOA RD BLK 110', 'YUNG HO RD BLK 151', 'JLN BAHAGIA BLK 35', 'BEDOK NTH RD BLK 180', 'UBI AVE 1 BLK 331', 'CIRCUIT RD BLK 44', 'UBI AVE 1 BLK 333', 'CIRCUIT RD BLK 66', 'JLN BAHAGIA BLK 33', 'BEDOK NTH RD BLK 181', 'UBI AVE 1 BLK 339', 'WHAMPOA RD BLK 115', 'CIRCUIT RD BLK 63', 'UBI AVE 1 BLK 342', 'UBI AVE 1 BLK 330', 'CIRCUIT RD BLK 43', 'WHAMPOA RD BLK 111', 'CIRCUIT RD BLK 45', 'BEDOK NTH ST 1 BLK 204', 'CHAI CHEE RD BLK 20', 'UBI AVE 1 BLK 343', 'UBI AVE 1 BLK 340', 'UBI AVE 1 BLK 334', 'BEDOK NTH RD BLK 183', 'CHAI CHEE DR BLK 56', 'UBI AVE 1 BLK 344', 'BEDOK NTH ST 1 BLK 213', 'CIRCUIT RD BLK 62', 'JLN BAHAGIA BLK 32', 'WHAMPOA RD BLK 112', 'CIRCUIT RD BLK 46', 'UBI AVE 1 BLK 338', 'BEDOK NTH RD BLK 185', 'UBI AVE 1 BLK 348', 'CHAI CHEE RD BLK 63', 'CHAI CHEE AVE BLK 40', 'BEDOK NTH ST 1 BLK 201', 'UBI AVE 1 BLK 335', 'UBI AVE 1 BLK 337', 'BEDOK NTH ST 1 BLK 205', 'JLN BAHAGIA BLK 27', 'UBI AVE 1 BLK 346', 'WHAMPOA RD BLK 113', 'BEDOK NTH ST 1 BLK 214', 'CHAI CHEE DR BLK 57', 'LENGKONG TIGA BLK 104', 'LENGKONG TIGA BLK 103', 'CIRCUIT RD BLK 47', 'CIRCUIT RD BLK 61', 'CIRCUIT RD BLK 67', 'UBI AVE 1 BLK 350', 'UBI AVE 1 BLK 345', 'UBI AVE 1 BLK 349', 'CHAI CHEE RD BLK 21', 'UBI AVE 1 BLK 336', 'BEDOK NTH ST 1 BLK 203', 'JLN BAHAGIA BLK 28', 'CHAI CHEE DR BLK 58', 'JLN BAHAGIA BLK 30', 'BEDOK CTRL BLK 220A', 'UBI AVE 1 BLK 347', 'BEDOK CTRL BLK 220B', 'BEDOK NTH ST 1 BLK 202', 'LENGKONG TIGA BLK 105', 'LENGKONG TIGA BLK 102', 'CIRCUIT RD BLK 60', 'UBI AVE 1 BLK 351', 'CIRCUIT RD BLK 68', 'CIRCUIT RD BLK 48', 'WHAMPOA RD BLK 114', 'NEW UPP CHANGI RD BLK 211', 'NEW UPP CHANGI RD BLK 208', 'CHAI CHEE RD BLK 62', 'JLN BAHAGIA BLK 29', 'BEDOK CTRL BLK 220C', 'CHAI CHEE AVE BLK 37', 'BEDOK CTRL BLK 219A', 'BEDOK CTRL BLK 219B', 'NEW UPP CHANGI RD BLK 56', 'UBI AVE 1 BLK 352', 'CHAI CHEE AVE BLK 36', 'CIRCUIT RD BLK 49', 'CIRCUIT RD BLK 70', 'LOR LIMAU BLK 76', 'CIRCUIT RD BLK 59', \"ST. GEORGE'S RD BLK 22\", 'NEW UPP CHANGI RD BLK 55', 'CHAI CHEE RD BLK 61', 'EUNOS CRES BLK 21', 'LENGKONG TIGA BLK 106', 'CIRCUIT RD BLK 58', 'BEDOK CTRL BLK 221C', 'LOR LIMAU BLK 77', 'BEDOK CTRL BLK 221B', \"ST. GEORGE'S RD BLK 23\", 'CIRCUIT RD BLK 71', 'CIRCUIT RD BLK 69', 'CIRCUIT RD BLK 50', 'CLEMENTI ST 13 BLK 118', 'BEDOK CTRL BLK 219D', 'NEW UPP CHANGI RD BLK 54', 'BEDOK CTRL BLK 219C', 'CHAI CHEE RD BLK 59', 'BEDOK CTRL BLK 221A', 'WHAMPOA DR BLK 74', 'CHAI CHEE AVE BLK 29', 'CHAI CHEE AVE BLK 35', 'EUNOS CRES BLK 22', 'LENGKONG TIGA BLK 108', 'CHAI CHEE AVE BLK 29A', \"ST. GEORGE'S RD BLK 21\", 'CIRCUIT RD BLK 57', \"ST. GEORGE'S RD BLK 20\", 'NEW UPP CHANGI RD BLK 65', 'EUNOS CRES BLK 20', 'NEW UPP CHANGI RD BLK 210', 'CHAI CHEE RD BLK 60', 'LENGKONG TIGA BLK 109', 'CIRCUIT RD BLK 72', 'CHAI CHEE RD BLK 804', 'CIRCUIT RD BLK 51', 'CHAI CHEE RD BLK 805', 'WHAMPOA DR BLK 75', 'CLEMENTI ST 13 BLK 117', 'CLEMENTI ST 13 BLK 116', \"ST. GEORGE'S RD BLK 19\", 'WHAMPOA STH BLK 49', \"ST. GEORGE'S RD BLK 16\", 'GEYLANG BAHRU BLK 53', \"ST. GEORGE'S RD BLK 15\", 'EUNOS CRES BLK 19', 'NEW UPP CHANGI RD BLK 53', 'CHAI CHEE RD BLK 27', 'PIPIT RD BLK 54', 'NEW UPP CHANGI RD BLK 64', 'EUNOS CRES BLK 23', 'CIRCUIT RD BLK 52', 'CHAI CHEE AVE BLK 34', 'PIPIT RD BLK 56', \"ST. GEORGE'S RD BLK 18\", 'CHAI CHEE RD BLK 803', 'GEYLANG BAHRU BLK 55', 'NEW UPP CHANGI RD BLK 27', 'LENGKONG TIGA BLK 111', 'NEW UPP CHANGI RD BLK 57', 'CHAI CHEE AVE BLK 33', 'NEW UPP CHANGI RD BLK 59', 'GEYLANG BAHRU BLK 54', 'NEW UPP CHANGI RD BLK 29', 'CLEMENTI ST 13 BLK 115', 'NEW UPP CHANGI RD BLK 52', 'WHAMPOA DR BLK 82', 'PIPIT RD BLK 53', 'EUNOS CRES BLK 15', \"ST. GEORGE'S RD BLK 17\", \"ST. GEORGE'S RD BLK 14\", 'EUNOS CRES BLK 24', 'ALJUNIED RD BLK 126', 'EUNOS CRES BLK 18', 'CHAI CHEE RD BLK 25', 'NEW UPP CHANGI RD BLK 24', \"ST. GEORGE'S RD BLK 10\", \"ST. GEORGE'S LANE BLK 7\", 'CHAI CHEE AVE BLK 32', 'CLEMENTI ST 13 BLK 114', 'NEW UPP CHANGI RD BLK 63', 'PIPIT RD BLK 55', 'GEYLANG BAHRU BLK 97', 'NEW UPP CHANGI RD BLK 28', 'GEYLANG BAHRU BLK 56', \"ST. GEORGE'S LANE BLK 8\", \"ST. GEORGE'S RD BLK 9\", 'WHAMPOA DR BLK 83', 'LENGKONG TIGA BLK 113', 'TEBAN GDNS RD BLK 21', 'NEW UPP CHANGI RD BLK 30', 'CLEMENTI ST 13 BLK 113', 'LENGKONG TIGA BLK 110', 'LENGKONG TIGA BLK 112', 'EUNOS CRES BLK 25', 'NEW UPP CHANGI RD BLK 51', 'GEYLANG BAHRU BLK 57', \"ST. GEORGE'S RD BLK 1\", 'PIPIT RD BLK 92', 'EUNOS CRES BLK 17', 'ALJUNIED RD BLK 125', 'CHAI CHEE RD BLK 26', 'NEW UPP CHANGI RD BLK 26', \"ST. GEORGE'S LANE BLK 5\", 'CIRCUIT RD BLK 87', 'NEW UPP CHANGI RD BLK 62', \"ST. GEORGE'S RD BLK 13\", 'BENDEMEER RD BLK 47', 'GEYLANG BAHRU BLK 96', 'GEYLANG BAHRU BLK 58', 'BEDOK STH AVE 1 BLK 23', 'PIPIT RD BLK 92A', 'WHAMPOA DR BLK 84', 'BENDEMEER RD BLK 48', 'CLEMENTI ST 13 BLK 111', 'EUNOS CRES BLK 14', \"ST. GEORGE'S LANE BLK 6\", 'CLEMENTI ST 13 BLK 112', 'LENGKONG TIGA BLK 114', 'PAYA LEBAR WAY BLK 124', 'WHAMPOA DR BLK 86', 'BEDOK STH AVE 2 BLK 9', \"ST. GEORGE'S RD BLK 11\", 'EUNOS CRES BLK 16', 'LENGKONG TIGA BLK 115', 'BEDOK STH AVE 2 BLK 31', 'GEYLANG BAHRU BLK 95', 'CLEMENTI ST 14 BLK 104', 'PAYA LEBAR WAY BLK 123', 'BEDOK STH AVE 2 BLK 33', \"ST. GEORGE'S RD BLK 3\", \"QUEEN'S RD BLK 3\", 'BEDOK STH AVE 1 BLK 22', 'BEDOK STH AVE 2 BLK 8', 'TEBAN GDNS RD BLK 23', \"QUEEN'S RD BLK 2\", 'LENGKONG TIGA BLK 116', 'CLEMENTI ST 13 BLK 110', 'PAYA LEBAR WAY BLK 93', 'NEW UPP CHANGI RD BLK 61', 'GEYLANG BAHRU BLK 60', 'TEBAN GDNS RD BLK 22', 'WHAMPOA DR BLK 85', 'BEDOK STH AVE 2 BLK 7', 'EUNOS CRES BLK 13', 'CIRCUIT RD BLK 85', 'PAYA LEBAR WAY BLK 122', 'BENDEMEER RD BLK 45', 'TEBAN GDNS RD BLK 60', 'CLEMENTI ST 14 BLK 103', 'CLEMENTI ST 12 BLK 105', 'BEDOK STH AVE 2 BLK 32', 'PAYA LEBAR WAY BLK 91', 'GEYLANG BAHRU BLK 73', 'PAYA LEBAR WAY BLK 120', 'GEYLANG BAHRU BLK 59A', 'NEW UPP CHANGI RD BLK 60', 'BEDOK STH AVE 1 BLK 4', 'BEDOK STH AVE 2 BLK 10B', \"ST. GEORGE'S LANE BLK 4C\", \"ST. GEORGE'S RD BLK 2\", 'BEDOK STH AVE 2 BLK 35', 'GEYLANG BAHRU BLK 94', 'GEYLANG BAHRU BLK 68', 'EUNOS CRES BLK 10', \"ST. GEORGE'S LANE BLK 4B\", 'CLEMENTI ST 14 BLK 102', 'CLEMENTI ST 11 BLK 109', 'BENDEMEER RD BLK 44', 'GEYLANG BAHRU BLK 59B', 'GEYLANG BAHRU BLK 59C', 'WHAMPOA DR BLK 93', 'WHAMPOA DR BLK 95', 'BEDOK STH AVE 2 BLK 6', 'BEDOK STH AVE 2 BLK 10F', 'GEYLANG BAHRU BLK 93', 'CLEMENTI AVE 4 BLK 301', 'MCNAIR RD BLK 110', 'CLEMENTI ST 14 BLK 101', 'BEDOK STH AVE 2 BLK 10C', 'BEDOK STH AVE 2 BLK 5', 'TEBAN GDNS RD BLK 25', 'TEBAN GDNS RD BLK 24', 'TEBAN GDNS RD BLK 20', 'BEDOK STH AVE 2 BLK 34', 'TEBAN GDNS RD BLK 65', 'WHAMPOA DR BLK 94', 'CLEMENTI AVE 4 BLK 305', 'MCNAIR RD BLK 108', 'MCNAIR RD BLK 108C', 'BEDOK STH AVE 2 BLK 37', 'BEDOK STH AVE 1 BLK 3', 'PAYA LEBAR WAY BLK 121', 'EUNOS CRES BLK 11', 'TEBAN GDNS RD BLK 32', 'CLEMENTI AVE 4 BLK 302', 'KALLANG BAHRU BLK 67', 'BEDOK STH AVE 2 BLK 10D', 'MCNAIR RD BLK 109', 'EUNOS CRES BLK 9', 'WHAMPOA DR BLK 98', 'ALJUNIED CRES BLK 96', 'BEDOK STH AVE 2 BLK 10E', 'TEBAN GDNS RD BLK 62', 'TEBAN GDNS RD BLK 41', 'BEDOK STH AVE 2 BLK 36', 'GEYLANG BAHRU BLK 72', 'BEDOK STH RD BLK 43', 'WHAMPOA DR BLK 96', 'TEBAN GDNS RD BLK 64', 'TEBAN GDNS RD BLK 54', 'BEDOK STH RD BLK 42', 'CLEMENTI AVE 6 BLK 206', 'CLEMENTI AVE 4 BLK 306', 'CLEMENTI AVE 4 BLK 307', 'BEDOK STH RD BLK 39', 'ALJUNIED CRES BLK 99', 'TEBAN GDNS RD BLK 53', 'TEBAN GDNS RD BLK 39', 'MCNAIR RD BLK 111', 'TEBAN GDNS RD BLK 40', 'BEDOK STH AVE 2 BLK 14', 'ALJUNIED CRES BLK 95', 'WHAMPOA DR BLK 97', 'BENDEMEER RD BLK 38D', 'BEDOK STH AVE 1 BLK 2', 'ALJUNIED CRES BLK 97', 'CLEMENTI AVE 4 BLK 303', 'MCNAIR RD BLK 112', 'TEBAN GDNS RD BLK 43', 'TEBAN GDNS RD BLK 38', 'EUNOS CRES BLK 35', 'EUNOS CRES BLK 36', 'BEDOK STH RD BLK 41', 'TEBAN GDNS RD BLK 63', 'BEDOK STH RD BLK 44', 'CLEMENTI AVE 6 BLK 205', 'TOWNER RD BLK 106', 'BENDEMEER RD BLK 43', 'BEDOK STH RD BLK 40', 'CLEMENTI AVE 4 BLK 308', 'TEBAN GDNS RD BLK 52', 'TEBAN GDNS RD BLK 49', 'KALLANG BAHRU BLK 63', 'BEDOK STH RD BLK 38', 'PANDAN GDNS BLK 416', 'EUNOS CRES BLK 34', 'ALJUNIED CRES BLK 101', 'WHAMPOA DR BLK 104', 'CLEMENTI AVE 4 BLK 309', 'CLEMENTI AVE 4 BLK 304', 'CLEMENTI AVE 6 BLK 204', 'WHAMPOA DR BLK 99', 'BEDOK STH RD BLK 171', 'BEDOK STH AVE 1 BLK 1', 'BEDOK STH RD BLK 15', 'TEBAN GDNS RD BLK 30', 'BENDEMEER RD BLK 38C', 'CLEMENTI AVE 6 BLK 203', 'ALJUNIED CRES BLK 98', 'WHAMPOA DR BLK 100', 'TEBAN GDNS RD BLK 44', 'PANDAN GDNS BLK 402', 'TEBAN GDNS RD BLK 51', 'PANDAN GDNS BLK 415', 'TOWNER RD BLK 102', 'TOWNER RD BLK 103', 'CLEMENTI AVE 6 BLK 202', 'BEDOK STH RD BLK 170', 'KALLANG BAHRU BLK 66', 'EUNOS CRES BLK 31', 'BEDOK STH RD BLK 172', 'EUNOS CRES BLK 32', 'TEBAN GDNS RD BLK 50', 'TEBAN GDNS RD BLK 37', 'TOWNER RD BLK 105', 'WHAMPOA WEST BLK 34', 'ALJUNIED CRES BLK 102', 'WHAMPOA DR BLK 101', 'BEDOK STH RD BLK 18', 'BENDEMEER RD BLK 38B', 'TEBAN GDNS RD BLK 48', 'KALLANG BAHRU BLK 64', 'BEDOK STH RD BLK 71', 'ALJUNIED CRES BLK 111', 'ALJUNIED CRES BLK 112', 'PANDAN GDNS BLK 401', 'TEBAN GDNS RD BLK 33', 'CLEMENTI AVE 4 BLK 371', 'BEDOK STH AVE 3 BLK 72', 'TEBAN GDNS RD BLK 31', 'BEDOK STH AVE 3 BLK 169', 'PANDAN GDNS BLK 403', 'BEDOK STH RD BLK 165', 'EUNOS CRES BLK 33', 'CLEMENTI AVE 6 BLK 201', 'TEBAN GDNS RD BLK 46', 'BENDEMEER RD BLK 38A', 'CLEMENTI AVE 4 BLK 310', 'BENDEMEER RD BLK 39A', 'MCNAIR RD BLK 108B', 'BEDOK STH AVE 3 BLK 168', 'TEBAN GDNS RD BLK 47', 'PANDAN GDNS BLK 414', 'ALJUNIED CRES BLK 104', 'BEDOK STH RD BLK 164', 'TEBAN GDNS RD BLK 45', 'BEDOK STH RD BLK 70', 'BEDOK STH AVE 3 BLK 166', 'BEDOK STH RD BLK 21', 'TEBAN GDNS RD BLK 36', 'ALJUNIED CRES BLK 110', 'TEBAN GDNS RD BLK 34', 'PANDAN GDNS BLK 404', 'MCNAIR RD BLK 119', 'CLEMENTI AVE 4 BLK 372', 'TOWNER RD BLK 104', 'TOWNER RD BLK 107', 'BEDOK STH RD BLK 20', 'KALLANG BAHRU BLK 65', 'BEDOK STH RD BLK 163', 'PANDAN GDNS BLK 412', 'BEDOK STH AVE 3 BLK 167', 'BEDOK STH RD BLK 162', 'BEDOK STH RD BLK 19', 'TEBAN GDNS RD BLK 35', 'BEDOK STH AVE 3 BLK 161', 'CLEMENTI AVE 5 BLK 339', 'ALJUNIED CRES BLK 105', 'PANDAN GDNS BLK 413', 'CLEMENTI AVE 4 BLK 373', 'ALJUNIED CRES BLK 109', 'BENDEMEER RD BLK 30', 'BEDOK STH AVE 3 BLK 69', 'MCNAIR RD BLK 120', 'TOWNER RD BLK 101', 'PANDAN GDNS BLK 405', 'BEDOK STH AVE 3 BLK 160', 'MCNAIR RD BLK 121', 'PANDAN GDNS BLK 407', 'BENDEMEER RD BLK 24', \"QUEEN'S RD BLK 4\", 'ALJUNIED CRES BLK 106', 'CLEMENTI AVE 5 BLK 341', 'ALJUNIED CRES BLK 108', 'PANDAN GDNS BLK 410', 'BEDOK STH AVE 3 BLK 159', 'CLEMENTI AVE 4 BLK 374', 'MCNAIR RD BLK 122', 'MOULMEIN RD BLK 69', 'PANDAN GDNS BLK 411', 'ALJUNIED CRES BLK 107', 'BEDOK STH AVE 3 BLK 67', 'PANDAN GDNS BLK 406', 'CLEMENTI AVE 5 BLK 340', 'UPP BOON KENG RD BLK 39', 'BEDOK STH AVE 3 BLK 158', 'BENDEMEER RD BLK 28', 'BEDOK STH AVE 3 BLK 68', 'BEDOK STH AVE 3 BLK 157', 'GEYLANG EAST AVE 1 BLK 128', 'PANDAN GDNS BLK 409', 'EUNOS RD 5 BLK 411', 'CLEMENTI AVE 5 BLK 381', 'BENDEMEER RD BLK 26', 'EUNOS RD 5 BLK 413', 'BEDOK STH AVE 3 BLK 66', 'CLEMENTI AVE 4 BLK 316', 'GEYLANG EAST AVE 1 BLK 124', 'CLEMENTI AVE 4 BLK 315', 'CLEMENTI AVE 4 BLK 375', 'MCNAIR RD BLK 123', 'CLEMENTI AVE 5 BLK 380', 'MCNAIR RD BLK 124', 'BEDOK STH AVE 3 BLK 156', 'EUNOS RD 5 BLK 412', 'EUNOS RD 5 BLK 414', 'PANDAN GDNS BLK 408', 'SIMS AVE BLK 844', 'CLEMENTI AVE 5 BLK 342', 'GEYLANG EAST CTRL BLK 120', 'GEYLANG EAST CTRL BLK 123', 'SIMS PL BLK 53', 'BOON KENG RD BLK 22', 'EUNOS RD 5 BLK 415', 'CLEMENTI AVE 4 BLK 376', 'EUNOS RD 5 BLK 417', 'GEYLANG EAST AVE 1 BLK 127', 'CLEMENTI AVE 5 BLK 344', 'CLEMENTI AVE 4 BLK 317', 'CLEMENTI AVE 4 BLK 318', 'SIMS AVE BLK 842', 'CLEMENTI AVE 5 BLK 379', 'UPP BOON KENG RD BLK 38', 'EUNOS RD 5 BLK 416', \"QUEEN'S RD BLK 1\", 'GEYLANG EAST AVE 1 BLK 125', 'GEYLANG EAST AVE 1 BLK 126', 'CLEMENTI AVE 5 BLK 343', 'BENDEMEER RD BLK 23', 'CLEMENTI AVE 5 BLK 345', 'GEYLANG EAST CTRL BLK 122', 'CLEMENTI AVE 5 BLK 378', 'SIMS AVE BLK 846', 'GEYLANG SERAI BLK 2D', 'CLEMENTI AVE 5 BLK 377', 'GEYLANG SERAI BLK 3A', 'BOON KENG RD BLK 6', 'GEYLANG SERAI BLK 2C', 'CLEMENTI AVE 4 BLK 319', 'SIMS DR BLK 45', 'SIMS DR BLK 40', 'GEYLANG SERAI BLK 2B', 'FARRER RD BLK 6', 'SIMS DR BLK 43', 'CLEMENTI AVE 5 BLK 347', 'SIMS AVE BLK 848', 'KENT RD BLK 54', 'CLEMENTI AVE 5 BLK 346', 'CLEMENTI AVE 4 BLK 320', 'SIMS DR BLK 42', 'GEYLANG SERAI BLK 2A', 'GEYLANG EAST AVE 1 BLK 130', 'CLEMENTI AVE 2 BLK 335', 'SIMS DR BLK 41', 'CAMBRIDGE RD BLK 37', 'BOON KENG RD BLK 7', 'SIMS DR BLK 43A', 'GEYLANG EAST AVE 1 BLK 131', 'BOON KENG RD BLK 5', 'CLEMENTI AVE 5 BLK 348', 'KENT RD BLK 51', 'SIMS PL BLK 52', 'CAMBRIDGE RD BLK 38', 'CLEMENTI AVE 2 BLK 336', 'KENT RD BLK 53', 'SIMS DR BLK 42A', 'SIMS DR BLK 50', 'FARRER RD BLK 5', 'BOON KENG RD BLK 8', 'CAMBRIDGE RD BLK 39', 'SIMS DR BLK 44', 'SIMS DR BLK 51', 'KENT RD BLK 52', 'EMPRESS RD BLK 8', 'GEYLANG EAST AVE 1 BLK 133', 'GEYLANG EAST AVE 1 BLK 132', 'CAMBRIDGE RD BLK 41', 'CLEMENTI AVE 2 BLK 338', 'BOON KENG RD BLK 9', 'BOON KENG RD BLK 4', 'UPP BOON KENG RD BLK 15', 'CLEMENTI AVE 2 BLK 337', 'GEYLANG EAST AVE 1 BLK 134', 'CLEMENTI AVE 2 BLK 349', 'CAMBRIDGE RD BLK 42', 'CLEMENTI AVE 2 BLK 350', 'JOO CHIAT RD BLK 3', 'CAMBRIDGE RD BLK 40', 'UPP BOON KENG RD BLK 16', 'OWEN RD BLK 44', 'CAMBRIDGE RD BLK 43', 'UPP BOON KENG RD BLK 14A', 'CLEMENTI AVE 2 BLK 351', 'OWEN RD BLK 46', 'CLEMENTI AVE 2 BLK 333', 'CLEMENTI AVE 2 BLK 334', 'JOO CHIAT RD BLK 4', 'CLEMENTI AVE 5 BLK 324', 'CLEMENTI AVE 5 BLK 325', 'UPP BOON KENG RD BLK 14', 'BENDEMEER RD BLK 46', 'CLEMENTI AVE 3 BLK 441B', 'HAIG RD BLK 10', 'HAIG RD BLK 11', 'CLEMENTI AVE 2 BLK 332', 'CLEMENTI AVE 2 BLK 352', 'CLEMENTI AVE 3 BLK 434', 'CLEMENTI AVE 3 BLK 435', 'CLEMENTI AVE 3 BLK 441A', 'RACE COURSE RD BLK 682', 'UPP BOON KENG RD BLK 13', 'DORSET RD BLK 48A', 'TESSENSOHN RD BLK 683', 'HAIG RD BLK 9', 'CLEMENTI AVE 2 BLK 355', 'UPP BOON KENG RD BLK 12', 'CLEMENTI AVE 5 BLK 326', 'DORSET RD BLK 48', 'UPP BOON KENG RD BLK 3B', 'UPP BOON KENG RD BLK 11', 'RACE COURSE RD BLK 684', 'RACE COURSE RD BLK 685', 'CLEMENTI AVE 2 BLK 357', 'RACE COURSE RD BLK 681', 'CLEMENTI AVE 3 BLK 432', 'CLEMENTI AVE 2 BLK 331', 'UPP BOON KENG RD BLK 3A', 'CLEMENTI AVE 3 BLK 433', 'CLEMENTI AVE 3 BLK 442', 'CLEMENTI AVE 2 BLK 356', 'GLOUCESTER RD BLK 10', 'CLEMENTI AVE 5 BLK 327', 'CLEMENTI AVE 2 BLK 328', 'UPP BOON KENG RD BLK 3C', 'UPP BOON KENG RD BLK 2A', 'CLEMENTI AVE 3 BLK 431', 'HAIG RD BLK 7', 'HAIG RD BLK 22', 'UPP BOON KENG RD BLK 2B', 'CLEMENTI AVE 2 BLK 330', 'GLOUCESTER RD BLK 9', 'HAIG RD BLK 8', 'CLEMENTI AVE 3 BLK 450', 'CLEMENTI AVE 2 BLK 358', 'CLEMENTI AVE 2 BLK 354', 'CLEMENTI AVE 2 BLK 359', 'UPP BOON KENG RD BLK 5A', 'CLEMENTI AVE 3 BLK 449', 'HAIG RD BLK 23', 'CLEMENTI AVE 3 BLK 430', 'UPP BOON KENG RD BLK 2D', 'UPP BOON KENG RD BLK 2C', 'UPP BOON KENG RD BLK 3D', 'DORSET RD BLK 50', 'GHIM MOH RD BLK 4', 'HAIG RD BLK 6', 'HAIG RD BLK 21', 'CLEMENTI AVE 2 BLK 329', 'CLEMENTI AVE 2 BLK 367', 'GHIM MOH RD BLK 1', 'CLEMENTI AVE 3 BLK 429', 'CLEMENTI AVE 2 BLK 363', 'DORSET RD BLK 49', 'CLEMENTI AVE 2 BLK 362', 'GHIM MOH RD BLK 5', 'CLEMENTI AVE 3 BLK 446', 'WEST COAST DR BLK 506', 'HAIG RD BLK 5', 'CLEMENTI AVE 3 BLK 428', 'CLEMENTI AVE 2 BLK 366', 'FARRER PK RD BLK 11', 'GHIM MOH RD BLK 2', 'HAIG RD BLK 2', 'CLEMENTI AVE 2 BLK 364', 'GHIM MOH RD BLK 6', 'WEST COAST DR BLK 505', 'CLEMENTI AVE 2 BLK 365', 'CLEMENTI AVE 3 BLK 454', 'FARRER PK RD BLK 12', 'CLEMENTI AVE 3 BLK 455', 'LOR 3 GEYLANG BLK 112', 'WEST COAST DR BLK 507', 'GHIM MOH RD BLK 3', 'HAIG RD BLK 4', 'CLEMENTI AVE 3 BLK 427', 'LOR 3 GEYLANG BLK 111', 'CLEMENTI AVE 3 BLK 456', 'LOR 3 GEYLANG BLK 113', 'CLEMENTI AVE 3 BLK 457', 'FARRER PK RD BLK 13', 'WEST COAST DR BLK 508', 'HAIG RD BLK 3', \"C'WEALTH AVE WEST BLK 414\", 'LOR 3 GEYLANG BLK 114', 'CLEMENTI AVE 3 BLK 426', 'CLEMENTI AVE 3 BLK 458', 'GHIM MOH RD BLK 19', \"C'WEALTH AVE WEST BLK 410\", 'GHIM MOH RD BLK 7', \"C'WEALTH AVE WEST BLK 413\", 'CLEMENTI AVE 3 BLK 459', 'HAIG RD BLK 1', 'WEST COAST DR BLK 509', 'CLEMENTI AVE 3 BLK 462', 'CLEMENTI AVE 3 BLK 461', 'HOLLAND DR BLK 18A', 'FARRER PK RD BLK 15', 'HOLLAND DR BLK 18B', 'HOLLAND DR BLK 21', 'CLEMENTI AVE 3 BLK 460', \"C'WEALTH AVE WEST BLK 415\", \"C'WEALTH AVE WEST BLK 411\", \"C'WEALTH AVE WEST BLK 412\", 'WEST COAST DR BLK 510', 'GHIM MOH RD BLK 8', 'GHIM MOH RD BLK 21', 'HOLLAND DR BLK 20', 'HOLLAND DR BLK 18C', 'CASSIA CRES BLK 42', 'CLEMENTI AVE 1 BLK 416', 'WEST COAST DR BLK 511', 'CLEMENTI AVE 1 BLK 417', 'CASSIA CRES BLK 56', 'CLEMENTI AVE 1 BLK 420', 'GHIM MOH RD BLK 18', 'CLEMENTI AVE 1 BLK 418', 'CASSIA CRES BLK 54', 'WEST COAST DR BLK 512', 'HOLLAND DR BLK 18D', 'CASSIA CRES BLK 36', 'GHIM MOH RD BLK 13', 'CLEMENTI AVE 1 BLK 425', 'CASSIA CRES BLK 34', 'CASSIA CRES BLK 30', 'HOLLAND AVE BLK 12', 'CLEMENTI AVE 1 BLK 424', 'PINE CL BLK 9', 'CASSIA CRES BLK 32', 'CLEMENTI AVE 1 BLK 423', \"KING GEORGE'S AVE BLK 807\", 'HOLLAND DR BLK 13', 'GHIM MOH LINK BLK 22', 'KLANG LANE BLK 671B', 'HOLLAND AVE BLK 2', 'HOLLAND DR BLK 47', 'PINE CL BLK 10', 'CLEMENTI AVE 1 BLK 421', 'GHIM MOH RD BLK 15', 'HOLLAND DR BLK 11', 'CASSIA CRES BLK 28', 'JLN DUA BLK 97', 'WEST COAST RD BLK 514', 'KLANG LANE BLK 672B', 'GHIM MOH RD BLK 14', 'GHIM MOH LINK BLK 28', 'JLN TIGA BLK 49', 'GHIM MOH LINK BLK 23', 'JLN TIGA BLK 47', 'HOLLAND DR BLK 46', 'HOLLAND DR BLK 45', 'KLANG LANE BLK 671A', 'HOLLAND CL BLK 3A', 'WEST COAST RD BLK 513', 'JLN TIGA BLK 45', 'JLN DUA BLK 93', 'PINE CL BLK 12', 'OLD AIRPORT RD BLK 99', \"KING GEORGE'S AVE BLK 806\", 'KLANG LANE BLK 672A', 'OLD AIRPORT RD BLK 95', 'WEST COAST RD BLK 515', 'GHIM MOH LINK BLK 27', 'GHIM MOH LINK BLK 26', 'ROWELL RD BLK 641', \"KING GEORGE'S AVE BLK 805\", 'HOLLAND CL BLK 3', 'WEST COAST RD BLK 518', 'WEST COAST RD BLK 516', 'HOLLAND AVE BLK 10', 'PINE CL BLK 11', 'JLN TIGA BLK 43', 'DOVER CRES BLK 18', \"C'WEALTH CRES BLK 101\", \"KING GEORGE'S AVE BLK 804\", 'HOLLAND CL BLK 4', 'DAKOTA CRES BLK 62', 'PINE CL BLK 1', 'HOLLAND DR BLK 42', \"C'WEALTH CRES BLK 102\", 'PINE CL BLK 7', 'DOVER CRES BLK 19', 'DAKOTA CRES BLK 60', 'HOLLAND CL BLK 30', 'ROWELL RD BLK 639', 'ROWELL RD BLK 640', 'JLN TIGA BLK 39', 'HOLLAND AVE BLK 9', 'DOVER CRES BLK 17', 'WEST COAST RD BLK 519', 'WEST COAST RD BLK 701', 'HOLLAND DR BLK 41', 'CHANDER RD BLK 668', 'HOLLAND CL BLK 30A', 'ROWELL RD BLK 642', 'HOLLAND CL BLK 5', 'FRENCH RD BLK 801', 'FRENCH RD BLK 802', 'DOVER CRES BLK 23', 'JELLICOE RD BLK 813', 'DAKOTA CRES BLK 58', \"C'WEALTH CRES BLK 99\", \"C'WEALTH CRES BLK 109\", 'WEST COAST RD BLK 702', 'HOLLAND DR BLK 40', 'PINE CL BLK 5', 'WEST COAST RD BLK 520', 'HOLLAND CL BLK 6', 'PINE CL BLK 3', 'HOLLAND DR BLK 43', 'DOVER CRES BLK 22', 'JELLICOE RD BLK 816', 'HOLLAND CL BLK 31', 'DOVER CRES BLK 21', \"C'WEALTH CRES BLK 96\", \"C'WEALTH CRES BLK 100\", 'BUFFALO RD BLK 661', \"C'WEALTH CRES BLK 98\", 'VEERASAMY RD BLK 637', 'HOLLAND AVE BLK 8', 'JELLICOE RD BLK 815', \"C'WEALTH CRES BLK 110\", \"C'WEALTH CRES BLK 113\", 'CLEMENTI WEST ST 2 BLK 706', 'VEERASAMY RD BLK 635', 'DOVER CRES BLK 20', 'WEST COAST RD BLK 703', \"C'WEALTH CRES BLK 112\", \"C'WEALTH CRES BLK 108\", 'HOLLAND CL BLK 32', 'MARINE TER BLK 57', \"C'WEALTH AVE BLK 7\", \"C'WEALTH CRES BLK 111\", \"C'WEALTH AVE BLK 7A\", 'VEERASAMY RD BLK 636', 'WEST COAST RD BLK 704', 'CLEMENTI WEST ST 2 BLK 707', 'JLN BERSEH BLK 26', 'DOVER CRES BLK 28D', 'BUFFALO RD BLK 664', \"C'WEALTH CRES BLK 97\", 'VEERASAMY RD BLK 634', 'BUFFALO RD BLK 662', 'VEERASAMY RD BLK 632', 'DOVER CRES BLK 26', 'KELANTAN RD BLK 28', \"C'WEALTH DR BLK 93\", \"C'WEALTH DR BLK 91\", 'MARINE TER BLK 59', 'KELANTAN RD BLK 29', 'DOVER CRES BLK 28C', 'MARINE TER BLK 58', 'VEERASAMY RD BLK 633', \"C'WEALTH DR BLK 92\", 'CLEMENTI WEST ST 2 BLK 705', 'CLEMENTI WEST ST 2 BLK 708', 'BUFFALO RD BLK 663', 'KELANTAN RD BLK 30', 'DOVER CL EAST BLK 14', 'DOVER CRES BLK 27', 'MARINE CRES BLK 47', \"C'WEALTH DR BLK 89\", 'DOVER CL EAST BLK 13', 'MARINE CRES BLK 43', 'CLEMENTI WEST ST 2 BLK 728', 'CLEMENTI WEST ST 1 BLK 604', 'MARINE TER BLK 55', 'NTH BRIDGE RD BLK 468', \"C'WEALTH DR BLK 90\", 'DOVER CRES BLK 28B', 'CLEMENTI WEST ST 1 BLK 605', 'MARINE TER BLK 54', 'CLEMENTI WEST ST 2 BLK 709', 'NTH BRIDGE RD BLK 467', 'CRAWFORD LANE BLK 466', 'MARINE TER BLK 4', 'CLEMENTI WEST ST 1 BLK 602', 'CRAWFORD LANE BLK 461', 'CRAWFORD LANE BLK 463', 'CLEMENTI WEST ST 2 BLK 711', 'CLEMENTI WEST ST 2 BLK 729', 'MARINE CRES BLK 46', 'DOVER CRES BLK 28A', 'DOVER CL EAST BLK 12', 'CLEMENTI WEST ST 2 BLK 712', 'CLEMENTI WEST ST 1 BLK 603', 'CLEMENTI WEST ST 1 BLK 610', 'MARINE TER BLK 1', 'MARINE TER BLK 15', 'CLEMENTI WEST ST 1 BLK 606', 'MARINE TER BLK 19', 'CLEMENTI WEST ST 2 BLK 730', 'CLEMENTI WEST ST 1 BLK 601', \"C'WEALTH CL BLK 87\", \"C'WEALTH CL BLK 83\", 'MARINE CRES BLK 44', 'MARINE TER BLK 12', 'MARINE TER BLK 5', 'CRAWFORD LANE BLK 462', 'CLEMENTI WEST ST 1 BLK 612', 'MARINE TER BLK 8', 'MARINE TER BLK 2', 'MARINE DR BLK 71', \"C'WEALTH CL BLK 86\", 'MARINE CRES BLK 45', 'CLEMENTI WEST ST 2 BLK 731', 'MARINE DR BLK 72', 'MARINE DR BLK 67', 'CLEMENTI WEST ST 1 BLK 608', 'MARINE TER BLK 16', 'BEACH RD BLK 3', 'NTH BRIDGE RD BLK 12', \"C'WEALTH CL BLK 82\", 'MARINE CRES BLK 30', 'CLEMENTI WEST ST 1 BLK 607', 'MARINE TER BLK 3', 'CLEMENTI WEST ST 2 BLK 714', 'CLEMENTI WEST ST 1 BLK 609', 'MARINE TER BLK 13', 'CLEMENTI WEST ST 2 BLK 713', 'DOVER CRES BLK 5', 'BEACH RD BLK 6', 'MARINE CRES BLK 27', 'BEACH RD BLK 2', 'MARINE DR BLK 66', 'MARINE TER BLK 6', 'MARINE TER BLK 7', 'MARINE CRES BLK 34', 'DOVER RD BLK 3', 'CLEMENTI WEST ST 1 BLK 611', \"C'WEALTH CL BLK 81\", 'MARINE DR BLK 73', 'MARINE TER BLK 17', 'SELEGIE RD BLK 10', 'BEACH RD BLK 17', 'MARINE CRES BLK 31', 'CLEMENTI WEST ST 1 BLK 613', 'MARINE TER BLK 20', 'MARINE DR BLK 74', 'CLEMENTI WEST ST 2 BLK 724', 'KG KAYU RD BLK 1', 'BEACH RD BLK 1', 'MARINE TER BLK 14', 'BEACH RD BLK 15', 'MARINE DR BLK 60', 'MARINE DR BLK 65', 'SELEGIE RD BLK 9', 'MARINE CRES BLK 28', 'MARINE DR BLK 75', 'MARINE TER BLK 18', 'CLEMENTI WEST ST 2 BLK 717', 'JLN BATU BLK 2', 'MARINE CRES BLK 35', 'DOVER RD BLK 2', 'MARINE CRES BLK 32', 'CLEMENTI WEST ST 2 BLK 715', 'CLEMENTI WEST ST 2 BLK 723', 'SELEGIE RD BLK 8', 'MARINE DR BLK 61', 'JLN BATU BLK 3', 'MARINE DR BLK 76', 'JLN BATU BLK 9', 'MARINE CRES BLK 29', 'CLEMENTI WEST ST 2 BLK 722', 'MARINE CRES BLK 33', 'JLN BATU BLK 8', 'MARINE DR BLK 62', 'DOVER RD BLK 1', 'JLN BATU BLK 7', \"C'WEALTH DR BLK 53\", 'MARINE DR BLK 63', 'CLEMENTI WEST ST 2 BLK 710', 'CLEMENTI WEST ST 2 BLK 716', 'MARINE PARADE CTRL BLK 80', 'MARINE DR BLK 64', 'JLN BATU BLK 10', \"C'WEALTH CL BLK 88\", 'MARINE DR BLK 77', 'JLN BATU BLK 4', \"C'WEALTH DR BLK 52\", 'JLN BATU BLK 11', 'MARINE DR BLK 78', 'JLN BATU BLK 5', 'MARINE DR BLK 79', 'JLN BATU BLK 6', 'TANGLIN HALT RD BLK 89', \"C'WEALTH DR BLK 63\", \"C'WEALTH DR BLK 66\", \"C'WEALTH DR BLK 55\", \"C'WEALTH DR BLK 60\", \"C'WEALTH DR BLK 59\", \"C'WEALTH DR BLK 95\", \"C'WEALTH DR BLK 94\", \"C'WEALTH DR BLK 64\", \"C'WEALTH DR BLK 50\", 'QUEEN ST BLK 271', \"C'WEALTH DR BLK 51\", 'KG ARANG RD BLK 12', 'TANGLIN HALT RD BLK 91', 'QUEEN ST BLK 269C', 'TANGLIN HALT RD BLK 90', 'KG ARANG RD BLK 14', 'QUEEN ST BLK 269B', 'QUEEN ST BLK 269A', \"C'WEALTH DR BLK 65\", 'TANGLIN HALT RD BLK 32', 'TANGLIN HALT RD BLK 31', 'TANGLIN HALT RD BLK 45', 'TANGLIN HALT RD BLK 30', 'WATERLOO ST BLK 264', 'TANGLIN HALT RD BLK 44', 'TANGLIN HALT RD BLK 29', 'WATERLOO ST BLK 263', 'TANGLIN HALT RD BLK 43', 'STIRLING RD BLK 41', 'WATERLOO ST BLK 262', 'TANGLIN HALT RD BLK 28', \"C'WEALTH DR BLK 62\", 'TANGLIN HALT RD BLK 42', 'STIRLING RD BLK 46', 'TANGLIN HALT RD BLK 27', 'TANGLIN HALT RD BLK 26', 'STIRLING RD BLK 43', 'TANGLIN HALT RD BLK 40', 'TANGLIN HALT RD BLK 41', 'TANGLIN HALT RD BLK 25', 'TANGLIN HALT RD BLK 37', \"C'WEALTH DR BLK 58\", 'TANGLIN HALT RD BLK 24', 'STIRLING RD BLK 44', 'TANGLIN HALT RD BLK 38', \"C'WEALTH DR BLK 56\", 'TANGLIN HALT RD BLK 36', 'TANGLIN HALT RD BLK 35', 'STIRLING RD BLK 50', 'TANGLIN HALT RD BLK 34', 'BAIN ST BLK 233', 'BAIN ST BLK 232', 'STIRLING RD BLK 56', 'STIRLING RD BLK 53', 'TANGLIN HALT RD BLK 33', 'STIRLING RD BLK 55', 'STIRLING RD BLK 57', \"C'WEALTH CL BLK 85\", 'STIRLING RD BLK 58', 'STIRLING RD BLK 184', 'STIRLING RD BLK 183', 'STIRLING RD BLK 182', 'MEI LING ST BLK 150', 'STRATHMORE AVE BLK 83', 'MEI LING ST BLK 149', 'STRATHMORE AVE BLK 82', 'STRATHMORE AVE BLK 80', 'STRATHMORE AVE BLK 62B', 'STIRLING RD BLK 181', 'STRATHMORE AVE BLK 81', 'MEI LING ST BLK 148', \"QUEEN'S CL BLK 23A\", 'STRATHMORE AVE BLK 62A', 'MEI LING ST BLK 147', 'STRATHMORE AVE BLK 49', 'MEI LING ST BLK 146', 'MEI LING ST BLK 145', 'STRATHMORE AVE BLK 50', 'MEI LING ST BLK 152', 'STRATHMORE AVE BLK 61B', 'STRATHMORE AVE BLK 61C', 'MEI LING ST BLK 153', 'STRATHMORE AVE BLK 48', \"QUEEN'S CL BLK 22\", \"QUEEN'S CL BLK 23B\", 'MEI LING ST BLK 154', 'MEI LING ST BLK 143', 'STRATHMORE AVE BLK 61A', 'STRATHMORE AVE BLK 51', 'STRATHMORE AVE BLK 52', 'STRATHMORE AVE BLK 56', 'STRATHMORE AVE BLK 55', \"QUEEN'S CL BLK 21\", 'CLARENCE LANE BLK 129', 'STRATHMORE AVE BLK 58', 'STRATHMORE AVE BLK 59', 'MEI LING ST BLK 157', \"QUEEN'S CL BLK 20\", 'STRATHMORE AVE BLK 60', 'CLARENCE LANE BLK 130', 'MEI LING ST BLK 158', \"QUEEN'S CL BLK 19\", 'CLARENCE LANE BLK 131', 'CLARENCE LANE BLK 133', 'DELTA AVE BLK 5', 'MEI LING ST BLK 160', 'CLARENCE LANE BLK 132', 'MEI LING ST BLK 162', 'DELTA AVE BLK 1', 'STIRLING RD BLK 163', 'DELTA AVE BLK 4', 'DELTA AVE BLK 3', 'DELTA AVE BLK 2', 'STIRLING RD BLK 164', 'MEI LING ST BLK 161', 'INDUS RD BLK 78', 'INDUS RD BLK 77', 'STIRLING RD BLK 170', 'STIRLING RD BLK 165', 'HENDERSON CRES BLK 101', 'ZION RD BLK 87', 'STIRLING RD BLK 171', 'STIRLING RD BLK 166', 'STIRLING RD BLK 169', 'HENDERSON CRES BLK 102', 'HENDERSON CRES BLK 105', 'HAVELOCK RD BLK 58', 'HAVELOCK RD BLK 55', 'HAVELOCK RD BLK 57', 'HAVELOCK RD BLK 56', 'STIRLING RD BLK 167', 'HENDERSON CRES BLK 103', 'HAVELOCK RD BLK 50', 'LENGKOK BAHRU BLK 63A', 'STIRLING RD BLK 168', 'HENDERSON CRES BLK 106', 'HAVELOCK RD BLK 53', 'LENGKOK BAHRU BLK 63B', 'HENDERSON CRES BLK 104', 'HAVELOCK RD BLK 52', 'HAVELOCK RD BLK 54', 'JLN RUMAH TINGGI BLK 37', 'BEO CRES BLK 40', 'LENGKOK BAHRU BLK 54', 'QUEENSWAY BLK 168A', 'JLN RUMAH TINGGI BLK 9', 'REDHILL RD BLK 75C', 'LOWER DELTA RD BLK 48', 'HAVELOCK RD BLK 22', 'LENGKOK BAHRU BLK 53', 'JLN RUMAH TINGGI BLK 39', 'JLN RUMAH TINGGI BLK 40', 'JLN RUMAH TINGGI BLK 38', 'REDHILL RD BLK 76A', 'LENGKOK BAHRU BLK 52', 'BEO CRES BLK 38', 'BEO CRES BLK 24', 'JLN RUMAH TINGGI BLK 36', 'JLN RUMAH TINGGI BLK 8', 'HAVELOCK RD BLK 95', 'REDHILL RD BLK 75B', 'REDHILL RD BLK 77A', 'JLN BT HO SWEE BLK 46', 'BEO CRES BLK 36', 'JLN RUMAH TINGGI BLK 10', 'JLN KLINIK BLK 26', 'JLN KLINIK BLK 20', 'HAVELOCK RD BLK 94', 'JLN RUMAH TINGGI BLK 35', 'JLN BT HO SWEE BLK 34', 'TAMAN HO SWEE BLK 18', 'REDHILL RD BLK 74A', 'REDHILL RD BLK 75A', 'REDHILL RD BLK 73A', 'TAMAN HO SWEE BLK 16', 'JLN KLINIK BLK 28', 'TAMAN HO SWEE BLK 14', 'JLN BT MERAH BLK 14', 'TAMAN HO SWEE BLK 12', 'REDHILL LANE BLK 81', 'LENGKOK BAHRU BLK 51', 'JLN BT MERAH BLK 13', 'CHIN SWEE RD BLK 53', 'JLN KUKOH BLK 9', 'HOY FATT RD BLK 50', 'JLN KLINIK BLK 30', 'JLN BT HO SWEE BLK 6', 'HOY FATT RD BLK 49', 'JLN BT HO SWEE BLK 32', 'JLN BT HO SWEE BLK 8', 'JLN BT HO SWEE BLK 10', 'JLN BT MERAH BLK 12', 'JLN BT MERAH BLK 7', 'JLN BT HO SWEE BLK 4', 'REDHILL LANE BLK 82', 'JLN KUKOH BLK 8', 'JLN BT HO SWEE BLK 2', 'LENGKOK BAHRU BLK 48', 'LENGKOK BAHRU BLK 47', 'BOON TIONG RD BLK 8B', 'LENGKOK BAHRU BLK 46', 'LENGKOK BAHRU BLK 43', 'REDHILL CL BLK 69', 'REDHILL LANE BLK 83', 'JLN KUKOH BLK 10', 'REDHILL CL BLK 70', 'LENGKOK BAHRU BLK 44', 'BOON TIONG RD BLK 9B', 'REDHILL CL BLK 86', 'BOON TIONG RD BLK 2C', 'REDHILL CL BLK 68', 'BOON TIONG RD BLK 6A', 'LENGKOK BAHRU BLK 45', 'JLN BT MERAH BLK 2', 'BOON TIONG RD BLK 6B', 'BOON TIONG RD BLK 4B', 'BOON TIONG RD BLK 4A', 'BOON TIONG RD BLK 2A', 'JLN BT MERAH BLK 1', 'BT MERAH LANE 1 BLK 122', 'BOON TIONG RD BLK 8A', 'HOY FATT RD BLK 28', 'JLN BT MERAH BLK 28', 'BT MERAH LANE 1 BLK 124', 'UPP CROSS ST BLK 34', 'REDHILL CL BLK 87', 'REDHILL CL BLK 88', 'TIONG BAHRU RD BLK 20', 'TIONG BAHRU RD BLK 18', 'TIONG BAHRU RD BLK 24', 'TIONG BAHRU RD BLK 26', 'TIONG BAHRU RD BLK 22', 'TIONG BAHRU RD BLK 17', 'JLN MEMBINA BLK 20', 'TIONG BAHRU RD BLK 28', 'JLN MEMBINA BLK 19', 'LIM LIAK ST BLK 19', 'LIM LIAK ST BLK 21', 'LIM LIAK ST BLK 25', 'LIM LIAK ST BLK 29', 'LIM LIAK ST BLK 27', 'LIM LIAK ST BLK 23', 'BT MERAH VIEW BLK 124B', 'BT MERAH LANE 1 BLK 127', 'SENG POH RD BLK 17', 'JLN MEMBINA BLK 22', 'UPP CROSS ST BLK 538', 'LIM LIAK ST BLK 33', 'LIM LIAK ST BLK 35', 'LIM LIAK ST BLK 37', 'BT MERAH VIEW BLK 116', 'BT MERAH VIEW BLK 125', 'JLN MEMBINA BLK 21', 'NEW MKT RD BLK 32', 'BT MERAH VIEW BLK 130', 'BT MERAH VIEW BLK 124A', 'KIM CHENG ST BLK 34', 'UPP CROSS ST BLK 536', 'MOH GUAN TER BLK 36', 'KIM PONG RD BLK 38', 'KIM CHENG ST BLK 41', 'MOH GUAN TER BLK 43', 'UPP CROSS ST BLK 535', 'BT MERAH VIEW BLK 126', 'KIM CHENG ST BLK 42', 'MOH GUAN TER BLK 44', 'UPP CROSS ST BLK 533', 'JLN MEMBINA BLK 23', 'KIM PONG RD BLK 49', 'KIM CHENG ST BLK 45', 'MOH GUAN TER BLK 47', 'UPP CROSS ST BLK 532', 'BT MERAH CTRL BLK 115', 'BT MERAH CTRL BLK 161', 'MOH GUAN TER BLK 50', 'KIM TIAN RD BLK 6', 'SENG POH RD BLK 46', 'MOH GUAN TER BLK 48', 'KIM TIAN RD BLK 123', 'BT MERAH CTRL BLK 117', 'BT MERAH CTRL BLK 116', 'KIM TIAN RD BLK 125', 'BT MERAH VIEW BLK 129', 'KIM TIAN PL BLK 7', 'BT MERAH VIEW BLK 119', 'JLN MEMBINA BLK 25A', 'KIM TIAN RD BLK 122', 'KIM TIAN PL BLK 120A', 'KIM TIAN PL BLK 8', 'JLN MEMBINA BLK 26A', 'JLN MEMBINA BLK 26B', 'JLN MEMBINA BLK 27B', 'KIM TIAN PL BLK 120', 'JLN MEMBINA BLK 25B', 'KIM TIAN RD BLK 126A', 'BT MERAH VIEW BLK 120', 'KIM TIAN PL BLK 121', 'JLN MEMBINA BLK 26D', 'KIM TIAN PL BLK 121A', 'BT MERAH VIEW BLK 128', 'JLN MEMBINA BLK 118D', 'SMITH ST BLK 335A', 'JLN MEMBINA BLK 26C', 'SMITH ST BLK 335B', 'JLN MEMBINA BLK 118C', 'JLN MEMBINA BLK 27A', 'KIM TIAN RD BLK 126C', 'JLN MEMBINA BLK 118B', 'KIM TIAN RD BLK 119D', 'DEPOT RD BLK 114', 'SAGO LANE BLK 4', 'DEPOT RD BLK 112B', 'DEPOT RD BLK 112A', 'KIM TIAN RD BLK 128', 'KIM TIAN RD BLK 119C', 'KRETA AYER RD BLK 334', 'JLN MEMBINA BLK 118A', 'KIM TIAN RD BLK 127C', 'DEPOT RD BLK 113', 'KIM TIAN RD BLK 127D', 'KIM TIAN RD BLK 129', 'DEPOT RD BLK 104B', 'DEPOT RD BLK 111B', 'KIM TIAN RD BLK 127A', 'KIM TIAN RD BLK 119B', 'DEPOT RD BLK 111A', 'DEPOT RD BLK 109B', 'DEPOT RD BLK 109A', 'KIM TIAN RD BLK 131B', 'DEPOT RD BLK 103A', 'DEPOT RD BLK 103B', 'DEPOT RD BLK 106B', 'DEPOT RD BLK 106A', 'JLN BT MERAH BLK 113', 'KIM TIAN RD BLK 130', 'DEPOT RD BLK 104A', 'KIM TIAN RD BLK 131C', 'JLN BT MERAH BLK 131', 'JLN BT MERAH BLK 107', 'JLN BT MERAH BLK 133', 'TELOK BLANGAH CRES BLK 1', 'JLN BT MERAH BLK 109', 'JLN BT MERAH BLK 108', 'JLN BT MERAH BLK 134', 'JLN BT MERAH BLK 132', 'TELOK BLANGAH CRES BLK 5', 'JLN BT MERAH BLK 139', 'JLN BT MERAH BLK 135', 'JLN BT MERAH BLK 138', 'JLN BT MERAH BLK 136', 'TELOK BLANGAH CRES BLK 7', 'JLN BT MERAH BLK 140', 'TELOK BLANGAH CRES BLK 6', 'TELOK BLANGAH CRES BLK 13', 'JLN BT MERAH BLK 137', 'TELOK BLANGAH CRES BLK 16', 'CANTONMENT RD BLK 1B', 'JLN BT MERAH BLK 146', 'TELOK BLANGAH CRES BLK 18', 'CANTONMENT RD BLK 1A', 'JLN BT MERAH BLK 143', 'TELOK BLANGAH CRES BLK 14A', 'TELOK BLANGAH CRES BLK 8', 'TELOK BLANGAH CRES BLK 10', 'TELOK BLANGAH CRES BLK 17', 'EVERTON PK BLK 2', 'TELOK BLANGAH CRES BLK 14', 'JLN BT MERAH BLK 145', 'TELOK BLANGAH HTS BLK 88', 'EVERTON PK BLK 1', 'SILAT AVE BLK 149', 'CANTONMENT RD BLK 1C', 'JLN BT MERAH BLK 144', 'SILAT AVE BLK 147', 'TELOK BLANGAH CRES BLK 17A', 'TELOK BLANGAH HTS BLK 85', 'EVERTON PK BLK 3', 'TG PAGAR PLAZA BLK 8', 'JLN BT MERAH BLK 141', 'TELOK BLANGAH CRES BLK 12', 'TG PAGAR PLAZA BLK 7', 'SILAT AVE BLK 150', 'TELOK BLANGAH CRES BLK 15', 'EVERTON PK BLK 7', 'JLN BT MERAH BLK 142', 'TELOK BLANGAH CRES BLK 20', 'SILAT AVE BLK 148', 'TELOK BLANGAH HTS BLK 84', 'CANTONMENT RD BLK 1D', 'TELOK BLANGAH HTS BLK 87', 'EVERTON PK BLK 4', 'EVERTON PK BLK 6', 'EVERTON PK BLK 5', 'TELOK BLANGAH HTS BLK 86', 'TELOK BLANGAH CRES BLK 26', 'TELOK BLANGAH CRES BLK 21', 'CANTONMENT RD BLK 1E', 'TELOK BLANGAH CRES BLK 22', 'TELOK BLANGAH CRES BLK 25', 'TG PAGAR PLAZA BLK 5', 'TELOK BLANGAH HTS BLK 72', 'TELOK BLANGAH CRES BLK 23', 'TELOK BLANGAH HTS BLK 60', 'CANTONMENT RD BLK 1F', 'TG PAGAR PLAZA BLK 4', 'CANTONMENT CL BLK 8', 'TELOK BLANGAH HTS BLK 61', 'TELOK BLANGAH HTS BLK 73', 'TELOK BLANGAH HTS BLK 69', 'TG PAGAR PLAZA BLK 3', 'CANTONMENT RD BLK 1G', 'TELOK BLANGAH HTS BLK 74', 'BT PURMEI RD BLK 115', 'CANTONMENT CL BLK 9', 'TELOK BLANGAH CRES BLK 24', 'TELOK BLANGAH HTS BLK 59', 'TELOK BLANGAH HTS BLK 68', 'TELOK BLANGAH HTS BLK 62', 'TG PAGAR PLAZA BLK 2', 'BT PURMEI RD BLK 114', 'TELOK BLANGAH HTS BLK 58', 'TELOK BLANGAH DR BLK 75', 'BT PURMEI RD BLK 113', 'TG PAGAR PLAZA BLK 1', 'TELOK BLANGAH HTS BLK 63', 'TELOK BLANGAH DR BLK 67', 'SPOTTISWOODE PK RD BLK 103', 'CANTONMENT CL BLK 13', 'TELOK BLANGAH HTS BLK 57', 'TELOK BLANGAH DR BLK 64', 'BT PURMEI RD BLK 112', 'TELOK BLANGAH WAY BLK 27', 'SPOTTISWOODE PK RD BLK 104', 'CANTONMENT CL BLK 12', 'TELOK BLANGAH DR BLK 76', 'CANTONMENT CL BLK 11', 'BT PURMEI RD BLK 111', 'TELOK BLANGAH DR BLK 53', 'TELOK BLANGAH HTS BLK 56', 'TELOK BLANGAH WAY BLK 33', 'TELOK BLANGAH DR BLK 66', 'TELOK BLANGAH DR BLK 65', 'TELOK BLANGAH ST 31 BLK 80C', 'SPOTTISWOODE PK RD BLK 109', 'TELOK BLANGAH ST 31 BLK 80B', 'TELOK BLANGAH RISE BLK 28', 'BT PURMEI RD BLK 109', 'TELOK BLANGAH DR BLK 55', 'TELOK BLANGAH DR BLK 77', 'CANTONMENT CL BLK 16', 'CANTONMENT CL BLK 19', 'CANTONMENT CL BLK 18', 'CANTONMENT CL BLK 17', 'TELOK BLANGAH DR BLK 52', 'BT PURMEI RD BLK 110', 'SPOTTISWOODE PK RD BLK 110', 'TELOK BLANGAH ST 31 BLK 80A', 'SPOTTISWOODE PK RD BLK 106', 'TELOK BLANGAH DR BLK 54', 'TELOK BLANGAH WAY BLK 34', 'TELOK BLANGAH DR BLK 51', 'BT PURMEI RD BLK 108', 'BT PURMEI RD BLK 107', 'TELOK BLANGAH RISE BLK 32', 'TELOK BLANGAH DR BLK 50', 'BT PURMEI RD BLK 106', 'TELOK BLANGAH RISE BLK 35', 'TELOK BLANGAH RISE BLK 30', 'TELOK BLANGAH RISE BLK 37', 'BT PURMEI RD BLK 105', 'TELOK BLANGAH RISE BLK 38', 'BT PURMEI RD BLK 104', 'TELOK BLANGAH RISE BLK 31', 'TELOK BLANGAH DR BLK 48', 'TELOK BLANGAH DR BLK 49', 'TELOK BLANGAH RISE BLK 40', 'TELOK BLANGAH DR BLK 45', 'TELOK BLANGAH DR BLK 47', 'BT PURMEI RD BLK 103', 'BT PURMEI RD BLK 102', 'TELOK BLANGAH RISE BLK 39', 'TELOK BLANGAH DR BLK 46', 'BT PURMEI RD BLK 101', 'TELOK BLANGAH DR BLK 44', 'TELOK BLANGAH RISE BLK 42', 'TELOK BLANGAH RISE BLK 43']\n"
     ]
    }
   ],
   "source": [
    "matching_vals = []\n",
    "\n",
    "for val in build_list:\n",
    "    if val in new_list:\n",
    "        matching_vals.append(val)\n",
    "    else:\n",
    "        continue\n",
    "\n",
    "print (matching_vals)"
   ]
  },
  {
   "cell_type": "code",
   "execution_count": 34,
   "metadata": {},
   "outputs": [
    {
     "data": {
      "text/plain": [
       "['ADMIRALTY LINK BLK 484',\n",
       " 'ADMIRALTY LINK BLK 485',\n",
       " 'ADMIRALTY LINK BLK 493',\n",
       " 'ADMIRALTY LINK BLK 492',\n",
       " 'ADMIRALTY LINK BLK 491',\n",
       " 'ADMIRALTY LINK BLK 486',\n",
       " 'ADMIRALTY LINK BLK 483',\n",
       " 'SEMBAWANG DR BLK 466C',\n",
       " 'SEMBAWANG DR BLK 466D',\n",
       " 'ADMIRALTY LINK BLK 487',\n",
       " 'ADMIRALTY LINK BLK 482',\n",
       " 'SEMBAWANG DR BLK 466A',\n",
       " 'SEMBAWANG DR BLK 466B',\n",
       " 'ADMIRALTY LINK BLK 490',\n",
       " 'ADMIRALTY LINK BLK 488',\n",
       " 'ADMIRALTY LINK BLK 489',\n",
       " 'CANBERRA RD BLK 425',\n",
       " 'ADMIRALTY LINK BLK 401',\n",
       " 'WELLINGTON CIRCLE BLK 513',\n",
       " 'ADMIRALTY LINK BLK 403',\n",
       " 'WELLINGTON CIRCLE BLK 510B',\n",
       " 'ADMIRALTY LINK BLK 402',\n",
       " 'CANBERRA RD BLK 424',\n",
       " 'CANBERRA RD BLK 423',\n",
       " 'ADMIRALTY LINK BLK 404',\n",
       " 'WELLINGTON CIRCLE BLK 510A',\n",
       " 'SEMBAWANG DR BLK 408',\n",
       " 'SEMBAWANG DR BLK 407',\n",
       " 'ADMIRALTY LINK BLK 405',\n",
       " 'CANBERRA RD BLK 422',\n",
       " 'WELLINGTON CIRCLE BLK 509B',\n",
       " 'SEMBAWANG DR BLK 409',\n",
       " 'SEMBAWANG DR BLK 406',\n",
       " 'WELLINGTON CIRCLE BLK 509A',\n",
       " 'CANBERRA RD BLK 421',\n",
       " 'WELLINGTON CIRCLE BLK 508C',\n",
       " 'WELLINGTON CIRCLE BLK 507B',\n",
       " 'SEMBAWANG DR BLK 481',\n",
       " 'ADMIRALTY DR BLK 467A',\n",
       " 'WELLINGTON CIRCLE BLK 508B',\n",
       " 'CANBERRA RD BLK 420',\n",
       " 'WELLINGTON CIRCLE BLK 507A',\n",
       " 'SEMBAWANG DR BLK 410',\n",
       " 'WELLINGTON CIRCLE BLK 508A',\n",
       " 'SEMBAWANG DR BLK 479',\n",
       " 'SEMBAWANG DR BLK 478',\n",
       " 'CANBERRA RD BLK 418',\n",
       " 'SEMBAWANG DR BLK 480',\n",
       " 'ADMIRALTY DR BLK 467',\n",
       " 'SEMBAWANG DR BLK 411',\n",
       " 'CANBERRA RD BLK 419',\n",
       " 'WELLINGTON CIRCLE BLK 507C',\n",
       " 'WELLINGTON CIRCLE BLK 501B',\n",
       " 'SEMBAWANG DR BLK 477',\n",
       " 'CANBERRA RD BLK 417',\n",
       " 'SEMBAWANG DR BLK 412',\n",
       " 'WELLINGTON CIRCLE BLK 506A',\n",
       " 'SEMBAWANG DR BLK 471',\n",
       " 'CANBERRA RD BLK 416',\n",
       " 'SEMBAWANG DR BLK 413',\n",
       " 'WELLINGTON CIRCLE BLK 501C',\n",
       " 'WELLINGTON CIRCLE BLK 501A',\n",
       " 'SEMBAWANG DR BLK 470',\n",
       " 'SEMBAWANG DR BLK 472',\n",
       " 'SEMBAWANG DR BLK 414',\n",
       " 'SEMBAWANG DR BLK 415',\n",
       " 'MONTREAL DR BLK 504A',\n",
       " 'SEMBAWANG DR BLK 476',\n",
       " 'WELLINGTON CIRCLE BLK 507D',\n",
       " 'CANBERRA RD BLK 351C',\n",
       " 'SEMBAWANG DR BLK 473',\n",
       " 'ADMIRALTY DR BLK 467B',\n",
       " 'WELLINGTON CIRCLE BLK 502A',\n",
       " 'CANBERRA RD BLK 351D',\n",
       " 'WELLINGTON CIRCLE BLK 501D',\n",
       " 'MONTREAL DR BLK 504B',\n",
       " 'ADMIRALTY DR BLK 354D',\n",
       " 'SEMBAWANG DR BLK 475',\n",
       " 'ADMIRALTY DR BLK 468D',\n",
       " 'CANBERRA RD BLK 351B',\n",
       " 'SEMBAWANG DR BLK 474',\n",
       " 'CANBERRA RD BLK 352A',\n",
       " 'ADMIRALTY DR BLK 353A',\n",
       " 'MONTREAL DR BLK 504D',\n",
       " 'ADMIRALTY DR BLK 468A',\n",
       " 'ADMIRALTY DR BLK 354C',\n",
       " 'MONTREAL DR BLK 588C',\n",
       " 'CANBERRA LINK BLK 503C',\n",
       " 'MONTREAL DR BLK 588A',\n",
       " 'CANBERRA LINK BLK 503A',\n",
       " 'CANBERRA RD BLK 351A',\n",
       " 'ADMIRALTY DR BLK 357B',\n",
       " 'CANBERRA RD BLK 350A',\n",
       " 'CANBERRA LINK BLK 503B',\n",
       " 'MONTREAL DR BLK 588B',\n",
       " 'CANBERRA RD BLK 352B',\n",
       " 'ADMIRALTY DR BLK 354B',\n",
       " 'ADMIRALTY DR BLK 468C',\n",
       " 'ADMIRALTY DR BLK 353B',\n",
       " 'CANBERRA LINK BLK 504C',\n",
       " 'ADMIRALTY DR BLK 354A',\n",
       " 'ADMIRALTY DR BLK 468B',\n",
       " 'CANBERRA RD BLK 350B',\n",
       " 'ADMIRALTY DR BLK 357A',\n",
       " 'ADMIRALTY DR BLK 357',\n",
       " 'MONTREAL DR BLK 589D',\n",
       " 'ADMIRALTY DR BLK 469A',\n",
       " 'CANBERRA RD BLK 350C',\n",
       " 'MONTREAL DR BLK 589C',\n",
       " 'MONTREAL DR BLK 589A',\n",
       " 'CANBERRA RD BLK 352C',\n",
       " 'ADMIRALTY DR BLK 357C',\n",
       " 'ADMIRALTY DR BLK 353C',\n",
       " 'MONTREAL DR BLK 589B',\n",
       " 'ADMIRALTY DR BLK 359',\n",
       " 'SEMBAWANG WAY BLK 355A',\n",
       " 'ADMIRALTY DR BLK 359A',\n",
       " 'ADMIRALTY DR BLK 356A',\n",
       " 'ADMIRALTY DR BLK 359B',\n",
       " 'ADMIRALTY DR BLK 359C',\n",
       " 'ADMIRALTY DR BLK 356C',\n",
       " 'ADMIRALTY DR BLK 360A',\n",
       " 'ADMIRALTY DR BLK 356B',\n",
       " 'ADMIRALTY DR BLK 469',\n",
       " 'ADMIRALTY DR BLK 360B',\n",
       " 'WOODLANDS CRES BLK 775',\n",
       " 'ADMIRALTY DR BLK 360C',\n",
       " 'ADMIRALTY DR BLK 469B',\n",
       " 'SEMBAWANG CL BLK 341B',\n",
       " 'WOODLANDS CRES BLK 774',\n",
       " 'WOODLANDS CRES BLK 777',\n",
       " 'SEMBAWANG CL BLK 339B',\n",
       " 'SEMBAWANG CL BLK 339A',\n",
       " 'WOODLANDS CRES BLK 776',\n",
       " 'SEMBAWANG CL BLK 334',\n",
       " 'MARSILING LANE BLK 215',\n",
       " 'SEMBAWANG CL BLK 341A',\n",
       " 'SEMBAWANG CL BLK 340A',\n",
       " 'WOODLANDS CRES BLK 779',\n",
       " 'SEMBAWANG CL BLK 331',\n",
       " 'WOODLANDS DR 60 BLK 778',\n",
       " 'WOODLANDS DR 60 BLK 773',\n",
       " 'SEMBAWANG CL BLK 340B',\n",
       " 'WOODLANDS DR 60 BLK 772',\n",
       " 'SEMBAWANG CL BLK 335',\n",
       " 'SEMBAWANG CL BLK 341',\n",
       " 'MARSILING LANE BLK 216',\n",
       " 'WOODLANDS DR 60 BLK 786E',\n",
       " 'CANBERRA RD BLK 310',\n",
       " 'WOODLANDS DR 60 BLK 769',\n",
       " 'SEMBAWANG CL BLK 333',\n",
       " 'SEMBAWANG CRES BLK 336',\n",
       " 'SEMBAWANG VISTA BLK 315',\n",
       " 'WOODLANDS DR 60 BLK 786B',\n",
       " 'WOODLANDS AVE 6 BLK 760',\n",
       " 'SEMBAWANG CL BLK 330',\n",
       " 'WOODLANDS DR 60 BLK 771',\n",
       " 'MARSILING LANE BLK 214',\n",
       " 'MARSILING CRES BLK 217',\n",
       " 'CANBERRA RD BLK 309',\n",
       " 'WOODLANDS DR 60 BLK 786D',\n",
       " 'SEMBAWANG CL BLK 332',\n",
       " 'MARSILING CRES BLK 218',\n",
       " 'CANBERRA RD BLK 311',\n",
       " 'WOODLANDS DR 60 BLK 770',\n",
       " 'SEMBAWANG CL BLK 320',\n",
       " 'SEMBAWANG VISTA BLK 316',\n",
       " 'SEMBAWANG VISTA BLK 318',\n",
       " 'WOODLANDS AVE 6 BLK 759',\n",
       " 'WOODLANDS AVE 6 BLK 761',\n",
       " 'MARSILING CRES BLK 213',\n",
       " 'WOODLANDS DR 60 BLK 786F',\n",
       " 'CANBERRA RD BLK 308',\n",
       " 'SEMBAWANG CL BLK 329',\n",
       " 'SEMBAWANG CL BLK 319',\n",
       " 'WOODLANDS CIRCLE BLK 767',\n",
       " 'SEMBAWANG CRES BLK 337',\n",
       " 'WOODLANDS AVE 4 BLK 757',\n",
       " 'WOODLANDS CIRCLE BLK 766',\n",
       " 'MARSILING CRES BLK 212',\n",
       " 'WOODLANDS AVE 6 BLK 758',\n",
       " 'WOODLANDS AVE 6 BLK 762',\n",
       " 'CANBERRA RD BLK 306',\n",
       " 'SEMBAWANG CL BLK 321',\n",
       " 'WOODLANDS CIRCLE BLK 765',\n",
       " 'CANBERRA RD BLK 300',\n",
       " 'WOODLANDS DR 60 BLK 786C',\n",
       " 'CANBERRA RD BLK 307',\n",
       " 'SEMBAWANG VISTA BLK 317',\n",
       " 'WOODLANDS CIRCLE BLK 753',\n",
       " 'WOODLANDS AVE 4 BLK 756',\n",
       " 'SEMBAWANG CRES BLK 338',\n",
       " 'SEMBAWANG CRES BLK 327',\n",
       " 'CANBERRA RD BLK 305',\n",
       " 'WOODLANDS CIRCLE BLK 764A',\n",
       " 'SEMBAWANG CL BLK 322',\n",
       " 'SEMBAWANG CRES BLK 328',\n",
       " 'WOODLANDS AVE 6 BLK 723',\n",
       " 'WOODLANDS CIRCLE BLK 754',\n",
       " 'WOODLANDS CIRCLE BLK 752',\n",
       " 'WOODLANDS AVE 6 BLK 763',\n",
       " 'WOODLANDS CRES BLK 787D',\n",
       " 'MARSILING DR BLK 206',\n",
       " 'WOODLANDS AVE 9 BLK 878',\n",
       " 'WOODLANDS AVE 6 BLK 722',\n",
       " 'WOODLANDS AVE 4 BLK 755',\n",
       " 'WOODLANDS CIRCLE BLK 748',\n",
       " 'WOODLANDS CIRCLE BLK 764',\n",
       " 'WOODLANDS AVE 9 BLK 877',\n",
       " 'CANBERRA RD BLK 304',\n",
       " 'MARSILING DR BLK 35',\n",
       " 'MARSILING DR BLK 36',\n",
       " 'MARSILING DR BLK 37',\n",
       " 'WOODLANDS CIRCLE BLK 751',\n",
       " 'SEMBAWANG CL BLK 323',\n",
       " 'CANBERRA RD BLK 302',\n",
       " 'MARSILING DR BLK 205',\n",
       " 'WOODLANDS ST 82 BLK 879',\n",
       " 'WOODLANDS AVE 6 BLK 725',\n",
       " 'WOODLANDS DR 75 BLK 689C',\n",
       " 'SEMBAWANG CRES BLK 326',\n",
       " 'WOODLANDS CRES BLK 787C',\n",
       " 'WOODLANDS CRES BLK 787E',\n",
       " 'WOODLANDS AVE 9 BLK 876',\n",
       " 'SEMBAWANG DR BLK 313',\n",
       " 'CANBERRA RD BLK 303',\n",
       " 'WOODLANDS CIRCLE BLK 740',\n",
       " 'WOODLANDS CIRCLE BLK 749',\n",
       " 'WOODLANDS DR 75 BLK 689B',\n",
       " 'SEMBAWANG CL BLK 324',\n",
       " 'WOODLANDS ST 82 BLK 881',\n",
       " 'WOODLANDS DR 75 BLK 689A',\n",
       " 'SEMBAWANG DR BLK 312',\n",
       " 'WOODLANDS AVE 6 BLK 724',\n",
       " 'WOODLANDS CRES BLK 788E',\n",
       " 'SEMBAWANG CRES BLK 325',\n",
       " 'WOODLANDS ST 82 BLK 880',\n",
       " 'WOODLANDS CIRCLE BLK 741',\n",
       " 'WOODLANDS AVE 4 BLK 750',\n",
       " 'WOODLANDS DR 75 BLK 689D',\n",
       " 'WOODLANDS CRES BLK 787B',\n",
       " 'MARSILING DR BLK 34',\n",
       " 'WOODLANDS ST 82 BLK 882',\n",
       " 'WOODLANDS CIRCLE BLK 738',\n",
       " 'MARSILING DR BLK 204',\n",
       " 'WOODLANDS CIRCLE BLK 726',\n",
       " 'WOODLANDS DR 75 BLK 688F',\n",
       " 'WOODLANDS CIRCLE BLK 739',\n",
       " 'WOODLANDS CIRCLE BLK 721',\n",
       " 'WOODLANDS CIRCLE BLK 734',\n",
       " 'WOODLANDS DR 75 BLK 688A',\n",
       " 'WOODLANDS CRES BLK 788D',\n",
       " 'WOODLANDS DR 75 BLK 689E',\n",
       " 'WOODLANDS CIRCLE BLK 742',\n",
       " 'WOODLANDS AVE 4 BLK 844',\n",
       " 'WOODLANDS CRES BLK 788B',\n",
       " 'WOODLANDS ST 81 BLK 872',\n",
       " 'WOODLANDS ST 81 BLK 871',\n",
       " 'WOODLANDS ST 82 BLK 840',\n",
       " 'WOODLANDS CRES BLK 788C',\n",
       " 'WOODLANDS DR 75 BLK 688E',\n",
       " 'SEMBAWANG DR BLK 314',\n",
       " 'WOODLANDS DR 72 BLK 798',\n",
       " 'WOODLANDS CIRCLE BLK 743',\n",
       " 'WOODLANDS CIRCLE BLK 733',\n",
       " 'WOODLANDS CIRCLE BLK 727',\n",
       " 'MARSILING LANE BLK 19',\n",
       " 'WOODLANDS DR 72 BLK 797',\n",
       " 'WOODLANDS CIRCLE BLK 737',\n",
       " 'WOODLANDS DR 75 BLK 690A',\n",
       " 'WOODLANDS DR 75 BLK 689F',\n",
       " 'WOODLANDS DR 75 BLK 688D',\n",
       " 'MARSILING DR BLK 29',\n",
       " 'MARSILING DR BLK 33',\n",
       " 'WOODLANDS AVE 4 BLK 846',\n",
       " 'WOODLANDS ST 82 BLK 842',\n",
       " 'WOODLANDS ST 82 BLK 841',\n",
       " 'WOODLANDS AVE 6 BLK 789',\n",
       " 'WOODLANDS ST 81 BLK 870',\n",
       " 'WOODLANDS DR 75 BLK 688C',\n",
       " 'WOODLANDS CIRCLE BLK 735',\n",
       " 'MARSILING LANE BLK 18',\n",
       " 'MARSILING DR BLK 32',\n",
       " 'WOODLANDS DR 75 BLK 688B',\n",
       " 'WOODLANDS DR 75 BLK 690B',\n",
       " 'WOODLANDS CIRCLE BLK 732',\n",
       " 'WOODLANDS AVE 6 BLK 788',\n",
       " 'MARSILING DR BLK 203',\n",
       " 'MARSILING DR BLK 31',\n",
       " 'WOODLANDS ST 81 BLK 873',\n",
       " 'WOODLANDS CIRCLE BLK 747',\n",
       " 'WOODLANDS DR 72 BLK 796',\n",
       " 'WOODLANDS ST 82 BLK 843',\n",
       " 'MARSILING DR BLK 202',\n",
       " 'WOODLANDS ST 81 BLK 809',\n",
       " 'WOODLANDS DR 75 BLK 690C',\n",
       " 'WOODLANDS DR 75 BLK 690F',\n",
       " 'WOODLANDS CIRCLE BLK 744',\n",
       " 'WOODLANDS CIRCLE BLK 728',\n",
       " 'WOODLANDS ST 82 BLK 874',\n",
       " 'WOODLANDS AVE 6 BLK 790',\n",
       " 'WOODLANDS DR 72 BLK 795',\n",
       " 'WOODLANDS ST 83 BLK 869',\n",
       " 'WOODLANDS CIRCLE BLK 731',\n",
       " 'MARSILING DR BLK 28',\n",
       " 'WOODLANDS ST 82 BLK 845',\n",
       " 'WOODLANDS AVE 6 BLK 791',\n",
       " 'WOODLANDS ST 81 BLK 810',\n",
       " 'WOODLANDS CIRCLE BLK 736',\n",
       " 'MARSILING DR BLK 22',\n",
       " 'MARSILING DR BLK 27',\n",
       " 'MARSILING LANE BLK 17',\n",
       " 'MARSILING DR BLK 201',\n",
       " 'WOODLANDS DR 72 BLK 794',\n",
       " 'WOODLANDS ST 82 BLK 839',\n",
       " 'WOODLANDS DR 73 BLK 686B',\n",
       " 'WOODLANDS DR 75 BLK 690D',\n",
       " 'WOODLANDS ST 83 BLK 868',\n",
       " 'MARSILING DR BLK 30',\n",
       " 'WOODLANDS CIRCLE BLK 746',\n",
       " 'WOODLANDS CIRCLE BLK 730',\n",
       " 'WOODLANDS CIRCLE BLK 729',\n",
       " 'WOODLANDS ST 82 BLK 875',\n",
       " 'WOODLANDS ST 81 BLK 808',\n",
       " 'MARSILING LANE BLK 16',\n",
       " 'WOODLANDS AVE 6 BLK 720',\n",
       " 'WOODLANDS ST 83 BLK 867',\n",
       " 'WOODLANDS DR 73 BLK 686C',\n",
       " 'WOODLANDS CIRCLE BLK 745',\n",
       " 'WOODLANDS AVE 6 BLK 793',\n",
       " 'WOODLANDS DR 75 BLK 690E',\n",
       " 'WOODLANDS AVE 6 BLK 792',\n",
       " 'WOODLANDS DR 70 BLK 715',\n",
       " 'WOODLANDS ST 82 BLK 847',\n",
       " 'WOODLANDS DR 73 BLK 686A',\n",
       " 'WOODLANDS DR 70 BLK 714',\n",
       " 'WOODLANDS ST 81 BLK 807',\n",
       " 'WOODLANDS ST 82 BLK 816',\n",
       " 'MARSILING LANE BLK 15',\n",
       " 'MARSILING DR BLK 6',\n",
       " 'MARSILING DR BLK 26',\n",
       " 'MARSILING DR BLK 25',\n",
       " 'WOODLANDS DR 70 BLK 713',\n",
       " 'WOODLANDS ST 81 BLK 801',\n",
       " 'WOODLANDS DR 75 BLK 687B',\n",
       " 'WOODLANDS ST 82 BLK 822',\n",
       " 'WOODLANDS ST 82 BLK 817',\n",
       " 'WOODLANDS ST 82 BLK 838',\n",
       " 'WOODLANDS ST 82 BLK 848',\n",
       " 'WOODLANDS CTR RD BLK 1A',\n",
       " 'WOODLANDS DR 40 BLK 701',\n",
       " 'WOODLANDS DR 40 BLK 702',\n",
       " 'WOODLANDS AVE 6 BLK 719',\n",
       " 'WOODLANDS DR 73 BLK 685C',\n",
       " 'WOODLANDS DR 75 BLK 687C',\n",
       " 'WOODLANDS ST 82 BLK 818',\n",
       " 'WOODLANDS ST 83 BLK 866',\n",
       " 'WOODLANDS AVE 6 BLK 718',\n",
       " 'WOODLANDS DR 73 BLK 684B',\n",
       " 'MARSILING DR BLK 24',\n",
       " 'WOODLANDS DR 70 BLK 712',\n",
       " 'WOODLANDS DR 62 BLK 684C',\n",
       " 'WOODLANDS DR 70 BLK 716',\n",
       " 'MARSILING DR BLK 23',\n",
       " 'MARSILING DR BLK 8',\n",
       " 'WOODLANDS DR 73 BLK 684D',\n",
       " 'WOODLANDS DR 73 BLK 685B',\n",
       " 'WOODLANDS ST 82 BLK 837',\n",
       " 'WOODLANDS ST 82 BLK 849',\n",
       " 'MARSILING DR BLK 9',\n",
       " 'MARSILING LANE BLK 12A',\n",
       " 'WOODLANDS DR 62 BLK 683C',\n",
       " 'WOODLANDS DR 73 BLK 684A',\n",
       " 'WOODLANDS DR 70 BLK 711',\n",
       " 'MARSILING DR BLK 7',\n",
       " 'WOODLANDS ST 82 BLK 820',\n",
       " 'WOODLANDS ST 83 BLK 865',\n",
       " 'MARSILING LANE BLK 12',\n",
       " 'MARSILING LANE BLK 12B',\n",
       " 'WOODLANDS ST 82 BLK 819',\n",
       " 'WOODLANDS DR 75 BLK 687A',\n",
       " 'WOODLANDS ST 81 BLK 802',\n",
       " 'MARSILING LANE BLK 13',\n",
       " 'WOODLANDS DR 40 BLK 703',\n",
       " 'MARSILING LANE BLK 12C',\n",
       " 'WOODLANDS DR 62 BLK 683B',\n",
       " 'WOODLANDS ST 82 BLK 850',\n",
       " 'WOODLANDS ST 83 BLK 864',\n",
       " 'WOODLANDS DR 70 BLK 717',\n",
       " 'WOODLANDS ST 82 BLK 823',\n",
       " 'WOODLANDS ST 82 BLK 821',\n",
       " 'WOODLANDS DR 73 BLK 682D',\n",
       " 'MARSILING DR BLK 10',\n",
       " 'WOODLANDS DR 62 BLK 683D',\n",
       " 'WOODLANDS DR 40 BLK 707',\n",
       " 'WOODLANDS DR 70 BLK 710',\n",
       " 'MARSILING DR BLK 1',\n",
       " 'MARSILING DR BLK 5A',\n",
       " 'WOODLANDS ST 81 BLK 805',\n",
       " 'WOODLANDS DR 73 BLK 682C',\n",
       " 'WOODLANDS DR 40 BLK 704',\n",
       " 'WOODLANDS ST 83 BLK 857',\n",
       " 'WOODLANDS DR 62 BLK 682B',\n",
       " 'WOODLANDS ST 83 BLK 856',\n",
       " 'WOODLANDS CTR RD BLK 2A',\n",
       " 'WOODLANDS ST 83 BLK 835',\n",
       " 'YISHUN AVE 6 BLK 289',\n",
       " 'WOODLANDS ST 81 BLK 803',\n",
       " 'WOODLANDS ST 83 BLK 863',\n",
       " 'WOODLANDS ST 83 BLK 851',\n",
       " 'WOODLANDS DR 70 BLK 709',\n",
       " 'WOODLANDS ST 83 BLK 858',\n",
       " 'WOODLANDS AVE 6 BLK 679',\n",
       " 'MARSILING DR BLK 11',\n",
       " 'WOODLANDS DR 62 BLK 682A',\n",
       " 'WOODLANDS DR 62 BLK 683A',\n",
       " 'YISHUN AVE 6 BLK 286',\n",
       " 'WOODLANDS ST 83 BLK 833',\n",
       " 'WOODLANDS ST 83 BLK 855',\n",
       " 'WOODLANDS ST 81 BLK 804',\n",
       " 'WOODLANDS DR 62 BLK 681D',\n",
       " 'WOODLANDS ST 83 BLK 836',\n",
       " 'WOODLANDS ST 83 BLK 862',\n",
       " 'WOODLANDS ST 83 BLK 834',\n",
       " 'WOODLANDS DR 70 BLK 708',\n",
       " 'YISHUN AVE 6 BLK 285',\n",
       " 'YISHUN AVE 6 BLK 288',\n",
       " 'WOODLANDS ST 83 BLK 859',\n",
       " 'MARSILING DR BLK 2',\n",
       " 'WOODLANDS AVE 6 BLK 678',\n",
       " 'WOODLANDS ST 83 BLK 854',\n",
       " 'WOODLANDS DR 40 BLK 706',\n",
       " 'WOODLANDS DR 62 BLK 681C',\n",
       " 'YISHUN AVE 6 BLK 284',\n",
       " 'WOODLANDS DR 40 BLK 705',\n",
       " 'YISHUN AVE 6 BLK 287',\n",
       " 'WOODLANDS ST 81 BLK 827',\n",
       " 'WOODLANDS ST 81 BLK 828',\n",
       " 'WOODLANDS ST 83 BLK 829',\n",
       " 'WOODLANDS ST 83 BLK 832',\n",
       " 'WOODLANDS DR 71 BLK 672',\n",
       " 'WOODLANDS ST 83 BLK 861',\n",
       " 'WOODLANDS ST 83 BLK 831',\n",
       " 'WOODLANDS DR 62 BLK 681A',\n",
       " 'WOODLANDS ST 83 BLK 853',\n",
       " 'YISHUN AVE 6 BLK 282',\n",
       " 'MARSILING DR BLK 5',\n",
       " 'WOODLANDS AVE 6 BLK 680',\n",
       " 'WOODLANDS ST 83 BLK 860',\n",
       " 'YISHUN AVE 6 BLK 283',\n",
       " 'WOODLANDS DR 71 BLK 671',\n",
       " 'WOODLANDS DR 62 BLK 681B',\n",
       " 'WOODLANDS AVE 6 BLK 677',\n",
       " 'WOODLANDS ST 83 BLK 830',\n",
       " 'WOODLANDS ST 81 BLK 826',\n",
       " 'MARSILING RISE BLK 120',\n",
       " 'MARSILING RISE BLK 123',\n",
       " 'MARSILING RISE BLK 121',\n",
       " 'WOODLANDS DR 71 BLK 673',\n",
       " 'WOODLANDS ST 81 BLK 824',\n",
       " 'YISHUN ST 22 BLK 281',\n",
       " 'WOODLANDS RING RD BLK 668',\n",
       " 'WOODLANDS RING RD BLK 649',\n",
       " 'WOODLANDS ST 81 BLK 825',\n",
       " 'MARSILING RISE BLK 124',\n",
       " 'WOODLANDS DR 71 BLK 670',\n",
       " 'MARSILING RISE BLK 119',\n",
       " 'MARSILING RISE BLK 114',\n",
       " 'WOODLANDS DR 42 BLK 601',\n",
       " 'WOODLANDS RING RD BLK 667',\n",
       " 'WOODLANDS DR 50 BLK 886D',\n",
       " 'WOODLANDS DR 50 BLK 886C',\n",
       " 'YISHUN ST 22 BLK 280',\n",
       " 'MARSILING RISE BLK 125',\n",
       " 'MARSILING RISE BLK 118',\n",
       " 'WOODLANDS RING RD BLK 650',\n",
       " 'MARSILING RD BLK 137',\n",
       " 'MARSILING RISE BLK 131',\n",
       " 'YISHUN ST 22 BLK 279',\n",
       " 'MARSILING RD BLK 136',\n",
       " 'WOODLANDS ST 13 BLK 112',\n",
       " 'WOODLANDS RING RD BLK 669',\n",
       " 'WOODLANDS RING RD BLK 651',\n",
       " 'MARSILING RISE BLK 132',\n",
       " 'WOODLANDS RING RD BLK 666',\n",
       " 'WOODLANDS DR 50 BLK 886B',\n",
       " 'MARSILING RISE BLK 117',\n",
       " 'WOODLANDS RING RD BLK 648',\n",
       " 'YISHUN ST 22 BLK 278',\n",
       " 'WOODLANDS DR 42 BLK 602',\n",
       " 'WOODLANDS RING RD BLK 640',\n",
       " 'MARSILING RISE BLK 130',\n",
       " 'MARSILING RISE BLK 127',\n",
       " 'MARSILING RISE BLK 115',\n",
       " 'MARSILING RD BLK 138',\n",
       " 'YISHUN ST 22 BLK 272',\n",
       " 'MARSILING RISE BLK 116',\n",
       " 'WOODLANDS RING RD BLK 665',\n",
       " 'YISHUN ST 22 BLK 277',\n",
       " 'WOODLANDS ST 13 BLK 113',\n",
       " 'WOODLANDS RING RD BLK 653',\n",
       " 'WOODLANDS ST 13 BLK 111',\n",
       " 'YISHUN ST 22 BLK 276',\n",
       " 'WOODLANDS RING RD BLK 652',\n",
       " 'WOODLANDS RING RD BLK 647',\n",
       " 'YISHUN ST 22 BLK 271',\n",
       " 'MARSILING RISE BLK 129',\n",
       " 'WOODLANDS DR 50 BLK 887B',\n",
       " 'WOODLANDS DR 50 BLK 891A',\n",
       " 'WOODLANDS DR 42 BLK 603',\n",
       " 'YISHUN ST 22 BLK 275',\n",
       " 'WOODLANDS RING RD BLK 654',\n",
       " 'MARSILING RD BLK 139',\n",
       " 'WOODLANDS RING RD BLK 643',\n",
       " 'WOODLANDS DR 50 BLK 891B',\n",
       " 'MARSILING RD BLK 140',\n",
       " 'MARSILING RISE BLK 133',\n",
       " 'WOODLANDS RING RD BLK 639',\n",
       " 'WOODLANDS ST 13 BLK 110',\n",
       " 'WOODLANDS RING RD BLK 655',\n",
       " 'WOODLANDS RING RD BLK 646',\n",
       " 'WOODLANDS DR 50 BLK 892B',\n",
       " 'YISHUN ST 22 BLK 273',\n",
       " 'MARSILING RD BLK 135',\n",
       " 'YISHUN AVE 7 BLK 175',\n",
       " 'YISHUN ST 22 BLK 274',\n",
       " 'YISHUN AVE 7 BLK 174',\n",
       " 'MARSILING RISE BLK 128',\n",
       " 'YISHUN ST 22 BLK 270',\n",
       " 'WOODLANDS ST 13 BLK 109',\n",
       " 'MARSILING RD BLK 141',\n",
       " 'WOODLANDS RING RD BLK 637',\n",
       " 'WOODLANDS DR 42 BLK 605',\n",
       " 'WOODLANDS DR 50 BLK 887A',\n",
       " 'WOODLANDS DR 50 BLK 892A',\n",
       " 'YISHUN AVE 7 BLK 170',\n",
       " 'WOODLANDS RING RD BLK 638',\n",
       " 'WOODLANDS DR 50 BLK 896B',\n",
       " 'WOODLANDS ST 13 BLK 108',\n",
       " 'WOODLANDS DR 42 BLK 604',\n",
       " 'WOODLANDS RING RD BLK 644',\n",
       " 'YISHUN ST 22 BLK 269',\n",
       " 'YISHUN ST 22 BLK 267',\n",
       " 'WOODLANDS RING RD BLK 645',\n",
       " 'WOODLANDS DR 50 BLK 896C',\n",
       " 'YISHUN ST 22 BLK 292',\n",
       " 'WOODLANDS DR 50 BLK 887C',\n",
       " 'YISHUN AVE 7 BLK 173',\n",
       " 'WOODLANDS RING RD BLK 656',\n",
       " 'YISHUN AVE 7 BLK 171',\n",
       " 'YISHUN ST 22 BLK 266',\n",
       " 'MARSILING RD BLK 142',\n",
       " 'WOODLANDS DR 50 BLK 893B',\n",
       " 'YISHUN ST 22 BLK 268',\n",
       " 'YISHUN AVE 7 BLK 172',\n",
       " 'WOODLANDS ST 13 BLK 105',\n",
       " 'WOODLANDS RING RD BLK 636',\n",
       " 'MARSILING RD BLK 134',\n",
       " 'WOODLANDS RING RD BLK 635',\n",
       " 'WOODLANDS DR 50 BLK 893A',\n",
       " 'WOODLANDS ST 13 BLK 106',\n",
       " 'WOODLANDS RING RD BLK 657',\n",
       " 'WOODLANDS RING RD BLK 606',\n",
       " 'MARSILING RD BLK 143',\n",
       " 'YISHUN ST 22 BLK 265',\n",
       " 'WOODLANDS RING RD BLK 607',\n",
       " 'WOODLANDS ST 13 BLK 103',\n",
       " 'YISHUN RING RD BLK 167',\n",
       " 'WOODLANDS DR 50 BLK 897A',\n",
       " 'WOODLANDS DR 50 BLK 899C',\n",
       " 'WOODLANDS DR 50 BLK 893D',\n",
       " 'WOODLANDS DR 50 BLK 896A',\n",
       " 'WOODLANDS ST 13 BLK 104',\n",
       " 'YISHUN ST 22 BLK 293',\n",
       " 'YISHUN ST 20 BLK 299',\n",
       " 'WOODLANDS RING RD BLK 664',\n",
       " 'WOODLANDS DR 50 BLK 893C',\n",
       " 'YISHUN RING RD BLK 166',\n",
       " 'WOODLANDS ST 13 BLK 102',\n",
       " 'WOODLANDS RING RD BLK 658',\n",
       " 'WOODLANDS RING RD BLK 608',\n",
       " 'WOODLANDS RING RD BLK 663',\n",
       " 'WOODLANDS RING RD BLK 659',\n",
       " 'YISHUN ST 22 BLK 263',\n",
       " 'WOODLANDS RING RD BLK 634',\n",
       " 'WOODLANDS DR 50 BLK 899B',\n",
       " 'YISHUN ST 20 BLK 298',\n",
       " 'WOODLANDS DR 50 BLK 897B',\n",
       " 'WOODLANDS ST 13 BLK 145',\n",
       " 'WOODLANDS ST 13 BLK 146',\n",
       " 'WOODLANDS DR 50 BLK 895A',\n",
       " 'YISHUN RING RD BLK 118',\n",
       " 'WOODLANDS DR 50 BLK 894A',\n",
       " 'WOODLANDS DR 50 BLK 894B',\n",
       " 'YISHUN ST 22 BLK 291',\n",
       " 'WOODLANDS DR 50 BLK 895C',\n",
       " 'WOODLANDS RING RD BLK 609',\n",
       " 'WOODLANDS ST 13 BLK 101',\n",
       " 'YISHUN ST 20 BLK 297',\n",
       " 'WOODLANDS RING RD BLK 632',\n",
       " 'WOODLANDS ST 13 BLK 149',\n",
       " 'YISHUN ST 22 BLK 262',\n",
       " 'WOODLANDS ST 13 BLK 148',\n",
       " 'WOODLANDS DR 50 BLK 897C',\n",
       " 'WOODLANDS DR 50 BLK 899A',\n",
       " 'YISHUN RING RD BLK 165',\n",
       " 'YISHUN AVE 9 BLK 248',\n",
       " 'WOODLANDS DR 50 BLK 894D',\n",
       " 'WOODLANDS DR 50 BLK 894C',\n",
       " 'WOODLANDS RING RD BLK 633',\n",
       " 'YISHUN ST 22 BLK 264',\n",
       " 'WOODLANDS DR 50 BLK 895B',\n",
       " 'WOODLANDS RING RD BLK 662',\n",
       " 'YISHUN ST 22 BLK 260',\n",
       " 'YISHUN AVE 9 BLK 250',\n",
       " 'YISHUN RING RD BLK 117',\n",
       " 'WOODLANDS RING RD BLK 660',\n",
       " 'WOODLANDS RING RD BLK 611',\n",
       " 'WOODLANDS RING RD BLK 661',\n",
       " 'WOODLANDS RING RD BLK 631',\n",
       " 'YISHUN RING RD BLK 119',\n",
       " 'YISHUN ST 21 BLK 228',\n",
       " 'WOODLANDS ST 13 BLK 151',\n",
       " 'WOODLANDS AVE 4 BLK 610',\n",
       " 'YISHUN ST 22 BLK 261',\n",
       " 'YISHUN ST 20 BLK 296',\n",
       " 'WOODLANDS DR 50 BLK 898A',\n",
       " 'WOODLANDS ST 13 BLK 150',\n",
       " 'YISHUN AVE 9 BLK 249',\n",
       " 'YISHUN ST 22 BLK 259',\n",
       " 'YISHUN ST 21 BLK 227',\n",
       " 'YISHUN ST 22 BLK 258',\n",
       " 'WOODLANDS AVE 4 BLK 612',\n",
       " 'YISHUN RING RD BLK 116',\n",
       " 'YISHUN AVE 9 BLK 246',\n",
       " 'WOODLANDS ST 13 BLK 152',\n",
       " 'YISHUN ST 21 BLK 233',\n",
       " 'YISHUN AVE 9 BLK 247',\n",
       " 'YISHUN RING RD BLK 253',\n",
       " 'YISHUN ST 11 BLK 122',\n",
       " 'WOODLANDS DR 50 BLK 898B',\n",
       " 'YISHUN RING RD BLK 120',\n",
       " 'YISHUN ST 21 BLK 229',\n",
       " 'YISHUN ST 21 BLK 225',\n",
       " 'YISHUN ST 11 BLK 123',\n",
       " 'WOODLANDS DR 52 BLK 623',\n",
       " 'YISHUN RING RD BLK 251',\n",
       " 'WOODLANDS DR 14 BLK 515',\n",
       " 'WOODLANDS DR 14 BLK 519',\n",
       " 'WOODLANDS ST 13 BLK 154',\n",
       " 'WOODLANDS RING RD BLK 628A',\n",
       " 'WOODLANDS ST 13 BLK 179',\n",
       " 'YISHUN RING RD BLK 252',\n",
       " 'WOODLANDS DR 14 BLK 516',\n",
       " 'WOODLANDS ST 13 BLK 155',\n",
       " 'WOODLANDS DR 14 BLK 514',\n",
       " 'YISHUN ST 21 BLK 224',\n",
       " 'YISHUN ST 21 BLK 230',\n",
       " 'WOODLANDS RING RD BLK 630',\n",
       " 'YISHUN ST 11 BLK 124',\n",
       " 'YISHUN RING RD BLK 254',\n",
       " 'WOODLANDS ST 13 BLK 178',\n",
       " 'YISHUN RING RD BLK 257',\n",
       " 'YISHUN RING RD BLK 115',\n",
       " 'YISHUN ST 21 BLK 235',\n",
       " 'WOODLANDS AVE 4 BLK 614',\n",
       " 'YISHUN ST 21 BLK 226',\n",
       " 'YISHUN ST 21 BLK 223',\n",
       " 'YISHUN RING RD BLK 113',\n",
       " 'WOODLANDS AVE 4 BLK 613',\n",
       " 'YISHUN AVE 9 BLK 245',\n",
       " 'YISHUN ST 21 BLK 234',\n",
       " 'WOODLANDS DR 14 BLK 518',\n",
       " 'WOODLANDS AVE 4 BLK 616',\n",
       " 'YISHUN ST 11 BLK 121',\n",
       " 'WOODLANDS ST 13 BLK 157',\n",
       " 'WOODLANDS ST 13 BLK 177',\n",
       " 'YISHUN RING RD BLK 114',\n",
       " 'WOODLANDS DR 14 BLK 520',\n",
       " 'YISHUN ST 11 BLK 125',\n",
       " 'YISHUN RING RD BLK 255',\n",
       " 'WOODLANDS DR 14 BLK 512',\n",
       " 'YISHUN RING RD BLK 112',\n",
       " 'YISHUN ST 21 BLK 232',\n",
       " 'WOODLANDS ST 13 BLK 156',\n",
       " 'WOODLANDS AVE 5 BLK 365',\n",
       " 'WOODLANDS RING RD BLK 629',\n",
       " 'WOODLANDS DR 52 BLK 622',\n",
       " 'WOODLANDS DR 52 BLK 624A',\n",
       " 'WOODLANDS DR 52 BLK 624B',\n",
       " 'YISHUN ST 21 BLK 231',\n",
       " 'WOODLANDS RING RD BLK 628B',\n",
       " 'WOODLANDS AVE 5 BLK 359',\n",
       " 'YISHUN ST 21 BLK 222',\n",
       " 'YISHUN RING RD BLK 236',\n",
       " 'YISHUN ST 11 BLK 127',\n",
       " 'WOODLANDS AVE 4 BLK 615',\n",
       " 'WOODLANDS ST 13 BLK 158',\n",
       " 'WOODLANDS AVE 5 BLK 360',\n",
       " 'YISHUN ST 21 BLK 221',\n",
       " 'YISHUN RING RD BLK 256',\n",
       " 'WOODLANDS AVE 5 BLK 364',\n",
       " 'WOODLANDS ST 11 BLK 171',\n",
       " 'WOODLANDS ST 13 BLK 172',\n",
       " 'YISHUN RING RD BLK 244',\n",
       " 'WOODLANDS AVE 4 BLK 617',\n",
       " 'WOODLANDS AVE 5 BLK 361',\n",
       " 'WOODLANDS AVE 5 BLK 363',\n",
       " 'WOODLANDS DR 52 BLK 621',\n",
       " 'YISHUN ST 11 BLK 128',\n",
       " 'YISHUN ST 11 BLK 129',\n",
       " 'WOODLANDS AVE 3 BLK 350',\n",
       " 'WOODLANDS AVE 5 BLK 366',\n",
       " 'WOODLANDS DR 14 BLK 517',\n",
       " 'WOODLANDS DR 14 BLK 521',\n",
       " 'WOODLANDS DR 14 BLK 522',\n",
       " 'WOODLANDS DR 14 BLK 513',\n",
       " 'YISHUN RING RD BLK 115C',\n",
       " 'YISHUN RING RD BLK 239',\n",
       " 'WOODLANDS AVE 5 BLK 362',\n",
       " 'WOODLANDS ST 13 BLK 159',\n",
       " 'WOODLANDS ST 13 BLK 166',\n",
       " 'WOODLANDS AVE 6 BLK 626',\n",
       " 'YISHUN RING RD BLK 110',\n",
       " 'WOODLANDS AVE 5 BLK 358',\n",
       " 'WOODLANDS AVE 4 BLK 618',\n",
       " 'YISHUN ST 11 BLK 126',\n",
       " 'WOODLANDS DR 52 BLK 620',\n",
       " 'WOODLANDS ST 11 BLK 170',\n",
       " 'WOODLANDS AVE 6 BLK 627',\n",
       " 'WOODLANDS ST 13 BLK 175',\n",
       " 'WOODLANDS DR 52 BLK 625A',\n",
       " 'WOODLANDS ST 13 BLK 176',\n",
       " 'WOODLANDS ST 11 BLK 167',\n",
       " 'YISHUN RING RD BLK 243',\n",
       " 'WOODLANDS AVE 5 BLK 367',\n",
       " 'YISHUN ST 11 BLK 130',\n",
       " 'WOODLANDS DR 52 BLK 625B',\n",
       " 'WOODLANDS AVE 5 BLK 356',\n",
       " 'WOODLANDS DR 52 BLK 619',\n",
       " 'WOODLANDS AVE 1 BLK 369',\n",
       " 'YISHUN RING RD BLK 237',\n",
       " 'WOODLANDS AVE 3 BLK 349',\n",
       " 'WOODLANDS DR 14 BLK 511',\n",
       " 'YISHUN ST 21 BLK 220',\n",
       " 'WOODLANDS ST 13 BLK 161',\n",
       " 'YISHUN ST 21 BLK 219',\n",
       " 'WOODLANDS ST 13 BLK 160',\n",
       " 'WOODLANDS ST 11 BLK 169',\n",
       " 'WOODLANDS ST 13 BLK 174',\n",
       " 'WOODLANDS DR 14 BLK 502A',\n",
       " 'YISHUN RING RD BLK 115A',\n",
       " 'YISHUN RING RD BLK 115B',\n",
       " 'YISHUN RING RD BLK 238',\n",
       " 'YISHUN RING RD BLK 111',\n",
       " 'WOODLANDS DR 14 BLK 502',\n",
       " 'WOODLANDS AVE 3 BLK 347',\n",
       " 'WOODLANDS DR 14 BLK 523',\n",
       " 'YISHUN ST 11 BLK 131',\n",
       " 'WOODLANDS AVE 1 BLK 368',\n",
       " 'WOODLANDS DR 44 BLK 551',\n",
       " 'WOODLANDS AVE 5 BLK 357',\n",
       " 'WOODLANDS ST 13 BLK 163',\n",
       " 'WOODLANDS ST 13 BLK 164',\n",
       " 'YISHUN ST 21 BLK 218',\n",
       " 'WOODLANDS DR 14 BLK 526',\n",
       " 'WOODLANDS DR 53 BLK 556',\n",
       " 'WOODLANDS ST 13 BLK 162',\n",
       " 'WOODLANDS ST 13 BLK 165',\n",
       " 'WOODLANDS ST 11 BLK 168',\n",
       " 'WOODLANDS ST 13 BLK 173',\n",
       " 'WOODLANDS AVE 3 BLK 348',\n",
       " 'WOODLANDS DR 14 BLK 504',\n",
       " 'YISHUN RING RD BLK 242',\n",
       " 'WOODLANDS AVE 1 BLK 370',\n",
       " 'WOODLANDS DR 14 BLK 501',\n",
       " 'YISHUN ST 11 BLK 132',\n",
       " 'YISHUN ST 11 BLK 161',\n",
       " 'YISHUN ST 11 BLK 159',\n",
       " 'WOODLANDS DR 53 BLK 557',\n",
       " 'YISHUN RING RD BLK 109',\n",
       " 'WOODLANDS AVE 1 BLK 355',\n",
       " 'YISHUN RING RD BLK 107',\n",
       " 'WOODLANDS DR 44 BLK 550',\n",
       " 'YISHUN ST 21 BLK 217',\n",
       " 'YISHUN RING RD BLK 240',\n",
       " 'WOODLANDS DR 14 BLK 524',\n",
       " 'WOODLANDS DR 14 BLK 510',\n",
       " 'WOODLANDS DR 14 BLK 509',\n",
       " 'YISHUN ST 11 BLK 158',\n",
       " 'WOODLANDS DR 14 BLK 503',\n",
       " 'YISHUN ST 11 BLK 160',\n",
       " 'WOODLANDS DR 14 BLK 506',\n",
       " 'YISHUN ST 11 BLK 134',\n",
       " 'WOODLANDS ST 32 BLK 346',\n",
       " 'WOODLANDS DR 14 BLK 525',\n",
       " 'YISHUN ST 11 BLK 133',\n",
       " 'WOODLANDS AVE 1 BLK 354',\n",
       " 'YISHUN ST 21 BLK 216',\n",
       " 'YISHUN RING RD BLK 108',\n",
       " 'YISHUN RING RD BLK 309',\n",
       " 'WOODLANDS DR 53 BLK 555',\n",
       " 'YISHUN ST 11 BLK 135',\n",
       " 'WOODLANDS AVE 1 BLK 371',\n",
       " 'YISHUN ST 11 BLK 157',\n",
       " 'WOODLANDS ST 32 BLK 345',\n",
       " 'YISHUN ST 11 BLK 144',\n",
       " 'WOODLANDS AVE 1 BLK 351',\n",
       " 'WOODLANDS DR 14 BLK 508',\n",
       " 'WOODLANDS DR 14 BLK 505',\n",
       " 'WOODLANDS ST 32 BLK 344',\n",
       " 'YISHUN RING RD BLK 241',\n",
       " 'WOODLANDS DR 53 BLK 554',\n",
       " 'YISHUN RING RD BLK 136',\n",
       " 'YISHUN RING RD BLK 310',\n",
       " 'YISHUN ST 11 BLK 155',\n",
       " 'WOODLANDS DR 44 BLK 549',\n",
       " 'YISHUN ST 11 BLK 148',\n",
       " 'WOODLANDS AVE 1 BLK 342',\n",
       " 'YISHUN ST 11 BLK 156',\n",
       " 'WOODLANDS DR 44 BLK 552',\n",
       " 'YISHUN RING RD BLK 137',\n",
       " 'YISHUN RING RD BLK 103',\n",
       " 'WOODLANDS AVE 1 BLK 343',\n",
       " 'WOODLANDS ST 31 BLK 317',\n",
       " 'WOODLANDS ST 31 BLK 318',\n",
       " 'YISHUN ST 21 BLK 213',\n",
       " 'WOODLANDS DR 14 BLK 507',\n",
       " 'WOODLANDS ST 32 BLK 321',\n",
       " 'WOODLANDS DR 14 BLK 527',\n",
       " 'WOODLANDS AVE 1 BLK 353',\n",
       " 'YISHUN ST 21 BLK 212',\n",
       " 'WOODLANDS ST 31 BLK 302',\n",
       " 'WOODLANDS DR 14 BLK 529',\n",
       " 'YISHUN ST 21 BLK 211',\n",
       " 'WOODLANDS AVE 1 BLK 572B',\n",
       " 'YISHUN RING RD BLK 139',\n",
       " 'WOODLANDS AVE 1 BLK 352',\n",
       " 'YISHUN ST 21 BLK 215',\n",
       " 'YISHUN RING RD BLK 314',\n",
       " 'YISHUN RING RD BLK 138',\n",
       " 'WOODLANDS ST 31 BLK 301',\n",
       " 'WOODLANDS ST 32 BLK 320',\n",
       " 'YISHUN ST 11 BLK 154',\n",
       " 'WOODLANDS DR 44 BLK 553',\n",
       " 'YISHUN ST 11 BLK 149',\n",
       " 'WOODLANDS DR 16 BLK 578',\n",
       " 'WOODLANDS DR 14 BLK 528',\n",
       " 'WOODLANDS AVE 1 BLK 341',\n",
       " 'YISHUN RING RD BLK 312',\n",
       " 'YISHUN ST 21 BLK 214',\n",
       " 'YISHUN RING RD BLK 106',\n",
       " 'WOODLANDS ST 31 BLK 319',\n",
       " 'WOODLANDS ST 31 BLK 316',\n",
       " 'WOODLANDS ST 31 BLK 315',\n",
       " 'YISHUN ST 21 BLK 209',\n",
       " 'WOODLANDS ST 32 BLK 322',\n",
       " 'WOODLANDS DR 14 BLK 536',\n",
       " 'YISHUN RING RD BLK 311',\n",
       " 'WOODLANDS DR 14 BLK 530',\n",
       " 'WOODLANDS AVE 1 BLK 570C',\n",
       " 'YISHUN ST 11 BLK 147',\n",
       " 'YISHUN ST 21 BLK 210',\n",
       " 'YISHUN RING RD BLK 308',\n",
       " 'YISHUN ST 21 BLK 207',\n",
       " 'YISHUN ST 11 BLK 153',\n",
       " 'WOODLANDS ST 32 BLK 324',\n",
       " 'YISHUN AVE 5 BLK 101',\n",
       " 'YISHUN CTRL BLK 306',\n",
       " 'WOODLANDS AVE 1 BLK 340',\n",
       " 'YISHUN ST 21 BLK 206',\n",
       " 'WOODLANDS DR 16 BLK 575',\n",
       " 'YISHUN RING RD BLK 140',\n",
       " 'YISHUN CTRL BLK 305',\n",
       " 'WOODLANDS DR 14 BLK 535',\n",
       " 'YISHUN ST 21 BLK 205',\n",
       " 'WOODLANDS ST 31 BLK 314',\n",
       " 'WOODLANDS ST 32 BLK 323',\n",
       " 'YISHUN RING RD BLK 143',\n",
       " 'YISHUN ST 11 BLK 145',\n",
       " 'YISHUN ST 11 BLK 152',\n",
       " 'WOODLANDS DR 14 BLK 531',\n",
       " 'WOODLANDS AVE 1 BLK 339',\n",
       " 'YISHUN RING RD BLK 330',\n",
       " 'WOODLANDS ST 41 BLK 402',\n",
       " 'WOODLANDS DR 16 BLK 577',\n",
       " 'YISHUN ST 11 BLK 146',\n",
       " 'WOODLANDS ST 31 BLK 303',\n",
       " 'YISHUN RING RD BLK 141',\n",
       " 'YISHUN ST 21 BLK 208',\n",
       " 'WOODLANDS AVE 1 BLK 572A',\n",
       " 'YISHUN ST 11 BLK 151',\n",
       " 'WOODLANDS AVE 1 BLK 337',\n",
       " 'YISHUN ST 11 BLK 150',\n",
       " 'YISHUN RING RD BLK 142',\n",
       " 'WOODLANDS ST 31 BLK 313',\n",
       " 'WOODLANDS AVE 1 BLK 570B',\n",
       " 'WOODLANDS ST 32 BLK 325',\n",
       " 'WOODLANDS DR 16 BLK 579',\n",
       " 'YISHUN ST 21 BLK 203',\n",
       " 'WOODLANDS AVE 1 BLK 338',\n",
       " 'WOODLANDS ST 41 BLK 403',\n",
       " 'YISHUN ST 21 BLK 202',\n",
       " 'YISHUN ST 21 BLK 201',\n",
       " 'WOODLANDS AVE 1 BLK 570A',\n",
       " 'WOODLANDS DR 14 BLK 532',\n",
       " 'WOODLANDS ST 31 BLK 312',\n",
       " 'WOODLANDS DR 14 BLK 534',\n",
       " 'YISHUN RING RD BLK 331',\n",
       " 'YISHUN ST 21 BLK 204',\n",
       " 'WOODLANDS DR 14 BLK 533',\n",
       " 'YISHUN CTRL BLK 304',\n",
       " 'WOODLANDS DR 16 BLK 580',\n",
       " 'WOODLANDS DR 16 BLK 576',\n",
       " 'WOODLANDS DR 16 BLK 583',\n",
       " 'WOODLANDS ST 41 BLK 401',\n",
       " 'WOODLANDS ST 31 BLK 311',\n",
       " 'WOODLANDS AVE 1 BLK 336',\n",
       " 'YISHUN RING RD BLK 332',\n",
       " 'WOODLANDS ST 32 BLK 326',\n",
       " 'WOODLANDS AVE 1 BLK 571C',\n",
       " 'YISHUN RING RD BLK 329',\n",
       " 'YISHUN CTRL BLK 303',\n",
       " 'WOODLANDS ST 32 BLK 329',\n",
       " 'WOODLANDS ST 41 BLK 404',\n",
       " 'WOODLANDS ST 32 BLK 327',\n",
       " 'WOODLANDS DR 16 BLK 582',\n",
       " 'YISHUN CTRL BLK 302',\n",
       " 'WOODLANDS DR 16 BLK 547',\n",
       " 'WOODLANDS ST 31 BLK 306',\n",
       " 'YISHUN RING RD BLK 327',\n",
       " 'YISHUN AVE 5 BLK 740',\n",
       " 'WOODLANDS AVE 1 BLK 571A',\n",
       " 'YISHUN AVE 5 BLK 741',\n",
       " 'WOODLANDS ST 31 BLK 310',\n",
       " 'WOODLANDS AVE 1 BLK 571B',\n",
       " 'WOODLANDS ST 32 BLK 328',\n",
       " 'WOODLANDS ST 32 BLK 334',\n",
       " 'WOODLANDS ST 41 BLK 405',\n",
       " 'WOODLANDS DR 16 BLK 581',\n",
       " 'YISHUN AVE 5 BLK 743',\n",
       " 'YISHUN RING RD BLK 328',\n",
       " 'WOODLANDS DR 16 BLK 537',\n",
       " 'YISHUN AVE 5 BLK 701',\n",
       " 'WOODLANDS ST 31 BLK 304',\n",
       " 'YISHUN AVE 5 BLK 739',\n",
       " 'YISHUN AVE 5 BLK 742',\n",
       " 'YISHUN AVE 5 BLK 702',\n",
       " 'WOODLANDS AVE 1 BLK 308',\n",
       " 'WOODLANDS ST 32 BLK 335',\n",
       " 'WOODLANDS DR 16 BLK 546',\n",
       " 'WOODLANDS AVE 1 BLK 332',\n",
       " 'WOODLANDS ST 32 BLK 333',\n",
       " 'WOODLANDS AVE 1 BLK 309',\n",
       " 'WOODLANDS AVE 1 BLK 330',\n",
       " 'YISHUN AVE 5 BLK 733',\n",
       " 'YISHUN RING RD BLK 326',\n",
       " 'YISHUN AVE 6 BLK 389',\n",
       " 'WOODLANDS DR 16 BLK 584',\n",
       " 'WOODLANDS DR 16 BLK 538',\n",
       " 'YISHUN AVE 5 BLK 703',\n",
       " 'YISHUN RING RD BLK 367',\n",
       " 'YISHUN RING RD BLK 387',\n",
       " 'YISHUN AVE 11 BLK 343',\n",
       " 'YISHUN AVE 6 BLK 391',\n",
       " 'WOODLANDS AVE 1 BLK 307',\n",
       " 'WOODLANDS AVE 1 BLK 331',\n",
       " 'YISHUN ST 72 BLK 738',\n",
       " 'WOODLANDS ST 41 BLK 406',\n",
       " 'YISHUN ST 72 BLK 744',\n",
       " 'YISHUN AVE 5 BLK 704',\n",
       " 'YISHUN AVE 5 BLK 734',\n",
       " 'WOODLANDS DR 16 BLK 585',\n",
       " 'YISHUN ST 72 BLK 745',\n",
       " 'YISHUN CTRL BLK 320',\n",
       " 'YISHUN AVE 6 BLK 390',\n",
       " 'YISHUN RING RD BLK 365',\n",
       " 'YISHUN RING RD BLK 388',\n",
       " 'YISHUN CTRL BLK 325',\n",
       " 'YISHUN RING RD BLK 364',\n",
       " 'WOODLANDS ST 41 BLK 409',\n",
       " 'YISHUN RING RD BLK 366',\n",
       " 'WOODLANDS DR 16 BLK 539',\n",
       " 'YISHUN CTRL BLK 321',\n",
       " 'YISHUN AVE 5 BLK 705',\n",
       " 'WOODLANDS DR 16 BLK 545',\n",
       " 'YISHUN AVE 5 BLK 732',\n",
       " 'YISHUN ST 72 BLK 737',\n",
       " 'YISHUN CTRL BLK 322',\n",
       " 'YISHUN AVE 11 BLK 344',\n",
       " 'YISHUN RING RD BLK 386',\n",
       " 'WOODLANDS ST 41 BLK 418',\n",
       " 'YISHUN ST 72 BLK 746',\n",
       " 'YISHUN AVE 5 BLK 707',\n",
       " 'YISHUN AVE 5 BLK 706',\n",
       " 'YISHUN RING RD BLK 363',\n",
       " 'YISHUN ST 72 BLK 735',\n",
       " 'YISHUN AVE 6 BLK 394',\n",
       " 'WOODLANDS DR 16 BLK 544',\n",
       " 'YISHUN AVE 5 BLK 708',\n",
       " ...]"
      ]
     },
     "execution_count": 34,
     "metadata": {},
     "output_type": "execute_result"
    }
   ],
   "source": [
    "# getting unique values in the list\n",
    "import pandas as pd\n",
    "drop_dups  = pd.Series(matching_vals).drop_duplicates().tolist()\n",
    "drop_dups"
   ]
  },
  {
   "cell_type": "code",
   "execution_count": 35,
   "metadata": {},
   "outputs": [
    {
     "data": {
      "text/plain": [
       "8614"
      ]
     },
     "execution_count": 35,
     "metadata": {},
     "output_type": "execute_result"
    }
   ],
   "source": [
    "#Getting count of list\n",
    "len(drop_dups)"
   ]
  },
  {
   "cell_type": "code",
   "execution_count": 36,
   "metadata": {},
   "outputs": [],
   "source": [
    "all3['Building'] = Building_new"
   ]
  },
  {
   "cell_type": "code",
   "execution_count": 37,
   "metadata": {},
   "outputs": [
    {
     "data": {
      "text/html": [
       "<div>\n",
       "<style scoped>\n",
       "    .dataframe tbody tr th:only-of-type {\n",
       "        vertical-align: middle;\n",
       "    }\n",
       "\n",
       "    .dataframe tbody tr th {\n",
       "        vertical-align: top;\n",
       "    }\n",
       "\n",
       "    .dataframe thead th {\n",
       "        text-align: right;\n",
       "    }\n",
       "</style>\n",
       "<table border=\"1\" class=\"dataframe\">\n",
       "  <thead>\n",
       "    <tr style=\"text-align: right;\">\n",
       "      <th></th>\n",
       "      <th>month</th>\n",
       "      <th>town</th>\n",
       "      <th>flat_type</th>\n",
       "      <th>block</th>\n",
       "      <th>street_name</th>\n",
       "      <th>storey_range</th>\n",
       "      <th>floor_area_sqm</th>\n",
       "      <th>flat_model</th>\n",
       "      <th>lease_commence_date</th>\n",
       "      <th>resale_price</th>\n",
       "      <th>uniqueID</th>\n",
       "      <th>remaining_lease</th>\n",
       "      <th>Building</th>\n",
       "    </tr>\n",
       "  </thead>\n",
       "  <tbody>\n",
       "    <tr>\n",
       "      <th>0</th>\n",
       "      <td>2012</td>\n",
       "      <td>ANG MO KIO</td>\n",
       "      <td>2 ROOM</td>\n",
       "      <td>172</td>\n",
       "      <td>ANG MO KIO AVE 4</td>\n",
       "      <td>10</td>\n",
       "      <td>45.0</td>\n",
       "      <td>Improved</td>\n",
       "      <td>1986</td>\n",
       "      <td>250000.0</td>\n",
       "      <td>100000</td>\n",
       "      <td>73</td>\n",
       "      <td>ANG MO KIO AVE 4 BLK 172</td>\n",
       "    </tr>\n",
       "    <tr>\n",
       "      <th>1</th>\n",
       "      <td>2012</td>\n",
       "      <td>ANG MO KIO</td>\n",
       "      <td>2 ROOM</td>\n",
       "      <td>510</td>\n",
       "      <td>ANG MO KIO AVE 8</td>\n",
       "      <td>5</td>\n",
       "      <td>44.0</td>\n",
       "      <td>Improved</td>\n",
       "      <td>1980</td>\n",
       "      <td>265000.0</td>\n",
       "      <td>100001</td>\n",
       "      <td>67</td>\n",
       "      <td>ANG MO KIO AVE 8 BLK 510</td>\n",
       "    </tr>\n",
       "    <tr>\n",
       "      <th>2</th>\n",
       "      <td>2012</td>\n",
       "      <td>ANG MO KIO</td>\n",
       "      <td>3 ROOM</td>\n",
       "      <td>610</td>\n",
       "      <td>ANG MO KIO AVE 4</td>\n",
       "      <td>10</td>\n",
       "      <td>68.0</td>\n",
       "      <td>New Generation</td>\n",
       "      <td>1980</td>\n",
       "      <td>315000.0</td>\n",
       "      <td>100002</td>\n",
       "      <td>67</td>\n",
       "      <td>ANG MO KIO AVE 4 BLK 610</td>\n",
       "    </tr>\n",
       "    <tr>\n",
       "      <th>3</th>\n",
       "      <td>2012</td>\n",
       "      <td>ANG MO KIO</td>\n",
       "      <td>3 ROOM</td>\n",
       "      <td>474</td>\n",
       "      <td>ANG MO KIO AVE 10</td>\n",
       "      <td>5</td>\n",
       "      <td>67.0</td>\n",
       "      <td>New Generation</td>\n",
       "      <td>1984</td>\n",
       "      <td>320000.0</td>\n",
       "      <td>100003</td>\n",
       "      <td>71</td>\n",
       "      <td>ANG MO KIO AVE 10 BLK 474</td>\n",
       "    </tr>\n",
       "    <tr>\n",
       "      <th>4</th>\n",
       "      <td>2012</td>\n",
       "      <td>ANG MO KIO</td>\n",
       "      <td>3 ROOM</td>\n",
       "      <td>604</td>\n",
       "      <td>ANG MO KIO AVE 5</td>\n",
       "      <td>10</td>\n",
       "      <td>67.0</td>\n",
       "      <td>New Generation</td>\n",
       "      <td>1980</td>\n",
       "      <td>321000.0</td>\n",
       "      <td>100004</td>\n",
       "      <td>67</td>\n",
       "      <td>ANG MO KIO AVE 5 BLK 604</td>\n",
       "    </tr>\n",
       "  </tbody>\n",
       "</table>\n",
       "</div>"
      ],
      "text/plain": [
       "   month        town flat_type block        street_name  storey_range  \\\n",
       "0   2012  ANG MO KIO    2 ROOM   172   ANG MO KIO AVE 4            10   \n",
       "1   2012  ANG MO KIO    2 ROOM   510   ANG MO KIO AVE 8             5   \n",
       "2   2012  ANG MO KIO    3 ROOM   610   ANG MO KIO AVE 4            10   \n",
       "3   2012  ANG MO KIO    3 ROOM   474  ANG MO KIO AVE 10             5   \n",
       "4   2012  ANG MO KIO    3 ROOM   604   ANG MO KIO AVE 5            10   \n",
       "\n",
       "   floor_area_sqm      flat_model  lease_commence_date  resale_price  \\\n",
       "0            45.0        Improved                 1986      250000.0   \n",
       "1            44.0        Improved                 1980      265000.0   \n",
       "2            68.0  New Generation                 1980      315000.0   \n",
       "3            67.0  New Generation                 1984      320000.0   \n",
       "4            67.0  New Generation                 1980      321000.0   \n",
       "\n",
       "   uniqueID  remaining_lease                   Building  \n",
       "0    100000               73   ANG MO KIO AVE 4 BLK 172  \n",
       "1    100001               67   ANG MO KIO AVE 8 BLK 510  \n",
       "2    100002               67   ANG MO KIO AVE 4 BLK 610  \n",
       "3    100003               71  ANG MO KIO AVE 10 BLK 474  \n",
       "4    100004               67   ANG MO KIO AVE 5 BLK 604  "
      ]
     },
     "execution_count": 37,
     "metadata": {},
     "output_type": "execute_result"
    }
   ],
   "source": [
    "all3.head()"
   ]
  },
  {
   "cell_type": "code",
   "execution_count": 38,
   "metadata": {},
   "outputs": [
    {
     "data": {
      "text/plain": [
       "month                    int64\n",
       "town                    object\n",
       "flat_type               object\n",
       "block                   object\n",
       "street_name             object\n",
       "storey_range             int64\n",
       "floor_area_sqm         float64\n",
       "flat_model              object\n",
       "lease_commence_date      int64\n",
       "resale_price           float64\n",
       "uniqueID                 int64\n",
       "remaining_lease          int64\n",
       "Building                object\n",
       "dtype: object"
      ]
     },
     "execution_count": 38,
     "metadata": {},
     "output_type": "execute_result"
    }
   ],
   "source": [
    "all3.dtypes"
   ]
  },
  {
   "cell_type": "markdown",
   "metadata": {},
   "source": [
    "### Converting into appropriate datatype"
   ]
  },
  {
   "cell_type": "code",
   "execution_count": 39,
   "metadata": {},
   "outputs": [],
   "source": [
    "all3['block'] = all3['block'].astype('category')\n",
    "all3['flat_model'] = all3['flat_model'].astype('category')\n",
    "all3['flat_type'] = all3['flat_type'].astype('category')\n",
    "all3['town'] = all3['town'].astype('category')\n",
    "all3['street_name'] = all3['street_name'].astype('category')"
   ]
  },
  {
   "cell_type": "code",
   "execution_count": 40,
   "metadata": {},
   "outputs": [
    {
     "data": {
      "text/plain": [
       "month                     int64\n",
       "town                   category\n",
       "flat_type              category\n",
       "block                  category\n",
       "street_name            category\n",
       "storey_range              int64\n",
       "floor_area_sqm          float64\n",
       "flat_model             category\n",
       "lease_commence_date       int64\n",
       "resale_price            float64\n",
       "uniqueID                  int64\n",
       "remaining_lease           int64\n",
       "Building                 object\n",
       "dtype: object"
      ]
     },
     "execution_count": 40,
     "metadata": {},
     "output_type": "execute_result"
    }
   ],
   "source": [
    "all3.dtypes"
   ]
  },
  {
   "cell_type": "code",
   "execution_count": 41,
   "metadata": {},
   "outputs": [
    {
     "data": {
      "text/plain": [
       "month                  0\n",
       "town                   0\n",
       "flat_type              0\n",
       "block                  0\n",
       "street_name            0\n",
       "storey_range           0\n",
       "floor_area_sqm         0\n",
       "flat_model             0\n",
       "lease_commence_date    0\n",
       "resale_price           0\n",
       "uniqueID               0\n",
       "remaining_lease        0\n",
       "Building               0\n",
       "dtype: int64"
      ]
     },
     "execution_count": 41,
     "metadata": {},
     "output_type": "execute_result"
    }
   ],
   "source": [
    "all3.isnull().sum()"
   ]
  },
  {
   "cell_type": "markdown",
   "metadata": {},
   "source": [
    "# Merging all data"
   ]
  },
  {
   "cell_type": "code",
   "execution_count": 42,
   "metadata": {},
   "outputs": [],
   "source": [
    "Final_df = pd.merge(all3,distance, how = 'outer', on = 'Building')"
   ]
  },
  {
   "cell_type": "code",
   "execution_count": 43,
   "metadata": {},
   "outputs": [
    {
     "data": {
      "text/plain": [
       "((8811, 120), (121934, 13))"
      ]
     },
     "execution_count": 43,
     "metadata": {},
     "output_type": "execute_result"
    }
   ],
   "source": [
    "distance.shape,all3.shape"
   ]
  },
  {
   "cell_type": "code",
   "execution_count": 44,
   "metadata": {},
   "outputs": [
    {
     "data": {
      "text/plain": [
       "(122131, 132)"
      ]
     },
     "execution_count": 44,
     "metadata": {},
     "output_type": "execute_result"
    }
   ],
   "source": [
    "Final_df.shape"
   ]
  },
  {
   "cell_type": "code",
   "execution_count": 45,
   "metadata": {},
   "outputs": [
    {
     "data": {
      "text/plain": [
       "month                           float64\n",
       "town                           category\n",
       "flat_type                      category\n",
       "block                          category\n",
       "street_name                    category\n",
       "                                 ...   \n",
       "Bedok North MRT station         float64\n",
       "Bedok Reservoir MRT station     float64\n",
       "Tampines West MRT station       float64\n",
       "Tampines East MRT station       float64\n",
       "Upper Changi MRT station        float64\n",
       "Length: 132, dtype: object"
      ]
     },
     "execution_count": 45,
     "metadata": {},
     "output_type": "execute_result"
    }
   ],
   "source": [
    "Final_df.dtypes"
   ]
  },
  {
   "cell_type": "code",
   "execution_count": 46,
   "metadata": {},
   "outputs": [],
   "source": [
    "del Final_df['Building'] "
   ]
  },
  {
   "cell_type": "code",
   "execution_count": 47,
   "metadata": {},
   "outputs": [
    {
     "data": {
      "text/plain": [
       "(122131, 131)"
      ]
     },
     "execution_count": 47,
     "metadata": {},
     "output_type": "execute_result"
    }
   ],
   "source": [
    "Final_df.shape"
   ]
  },
  {
   "cell_type": "code",
   "execution_count": 48,
   "metadata": {},
   "outputs": [
    {
     "data": {
      "text/plain": [
       "[ANG MO KIO AVE 4, ANG MO KIO AVE 4, ANG MO KIO AVE 4, ANG MO KIO AVE 4, ANG MO KIO AVE 4, ..., NaN, NaN, NaN, NaN, NaN]\n",
       "Length: 122131\n",
       "Categories (527, object): [ADMIRALTY DR, ADMIRALTY LINK, AH HOOD RD, ALJUNIED CRES, ..., YUNG LOH RD, YUNG PING RD, YUNG SHENG RD, ZION RD]"
      ]
     },
     "execution_count": 48,
     "metadata": {},
     "output_type": "execute_result"
    }
   ],
   "source": [
    "Final_df.street_name.values"
   ]
  },
  {
   "cell_type": "code",
   "execution_count": 49,
   "metadata": {},
   "outputs": [
    {
     "data": {
      "text/plain": [
       "month                          197\n",
       "town                           197\n",
       "flat_type                      197\n",
       "block                          197\n",
       "street_name                    197\n",
       "                              ... \n",
       "Bedok North MRT station          0\n",
       "Bedok Reservoir MRT station      0\n",
       "Tampines West MRT station        0\n",
       "Tampines East MRT station        0\n",
       "Upper Changi MRT station         0\n",
       "Length: 131, dtype: int64"
      ]
     },
     "execution_count": 49,
     "metadata": {},
     "output_type": "execute_result"
    }
   ],
   "source": [
    "Final_df.isnull().sum()"
   ]
  },
  {
   "cell_type": "code",
   "execution_count": 50,
   "metadata": {},
   "outputs": [
    {
     "data": {
      "text/plain": [
       "month                      197\n",
       "floor_area_sqm             197\n",
       "uniqueID                   197\n",
       "resale_price               197\n",
       "lease_commence_date        197\n",
       "flat_model                 197\n",
       "remaining_lease            197\n",
       "storey_range               197\n",
       "block                      197\n",
       "flat_type                  197\n",
       "town                       197\n",
       "street_name                197\n",
       "Eunos MRT station            0\n",
       "Lavender MRT station         0\n",
       "Kallang MRT station          0\n",
       "Aljunied MRT station         0\n",
       "Paya Lebar MRT station       0\n",
       "Tanah Merah MRT station      0\n",
       "Kembangan MRT station        0\n",
       "Bedok MRT station            0\n",
       "dtype: int64"
      ]
     },
     "execution_count": 50,
     "metadata": {},
     "output_type": "execute_result"
    }
   ],
   "source": [
    "Final_df.isnull().sum().sort_values(ascending = False).head(20)"
   ]
  },
  {
   "cell_type": "code",
   "execution_count": 51,
   "metadata": {},
   "outputs": [],
   "source": [
    "Final_df.dropna(inplace=True)"
   ]
  },
  {
   "cell_type": "code",
   "execution_count": 52,
   "metadata": {},
   "outputs": [
    {
     "data": {
      "text/plain": [
       "(month                        0\n",
       " town                         0\n",
       " flat_type                    0\n",
       " block                        0\n",
       " street_name                  0\n",
       " storey_range                 0\n",
       " floor_area_sqm               0\n",
       " flat_model                   0\n",
       " lease_commence_date          0\n",
       " resale_price                 0\n",
       " uniqueID                     0\n",
       " remaining_lease              0\n",
       " Jurong East MRT station      0\n",
       " Bukit Batok MRT station      0\n",
       " Bukit Gombak MRT station     0\n",
       " Choa Chu Kang MRT station    0\n",
       " Yew Tee MRT station          0\n",
       " Kranji MRT station           0\n",
       " Marsiling MRT station        0\n",
       " Woodlands MRT station        0\n",
       " dtype: int64,\n",
       " (121934, 131))"
      ]
     },
     "execution_count": 52,
     "metadata": {},
     "output_type": "execute_result"
    }
   ],
   "source": [
    "Final_df.isnull().sum().head(20), Final_df.shape"
   ]
  },
  {
   "cell_type": "markdown",
   "metadata": {},
   "source": [
    "<h1 style='color:Purple'>Clustering</h1>"
   ]
  },
  {
   "cell_type": "code",
   "execution_count": 59,
   "metadata": {},
   "outputs": [],
   "source": [
    "from sklearn.cluster import KMeans\n",
    "import copy as cp"
   ]
  },
  {
   "cell_type": "code",
   "execution_count": 60,
   "metadata": {},
   "outputs": [
    {
     "data": {
      "text/plain": [
       "(121934, 131)"
      ]
     },
     "execution_count": 60,
     "metadata": {},
     "output_type": "execute_result"
    }
   ],
   "source": [
    "Final_df.shape"
   ]
  },
  {
   "cell_type": "code",
   "execution_count": 66,
   "metadata": {},
   "outputs": [],
   "source": [
    "Final_df.drop(\"uniqueID\",axis=1,inplace=True)\n",
    "Final_df.drop(\"street_name\",axis=1,inplace=True)\n",
    "Final_df.drop(['block','lease_commence_date'],axis=1,inplace=True)"
   ]
  },
  {
   "cell_type": "code",
   "execution_count": 67,
   "metadata": {},
   "outputs": [
    {
     "data": {
      "text/html": [
       "<div>\n",
       "<style scoped>\n",
       "    .dataframe tbody tr th:only-of-type {\n",
       "        vertical-align: middle;\n",
       "    }\n",
       "\n",
       "    .dataframe tbody tr th {\n",
       "        vertical-align: top;\n",
       "    }\n",
       "\n",
       "    .dataframe thead th {\n",
       "        text-align: right;\n",
       "    }\n",
       "</style>\n",
       "<table border=\"1\" class=\"dataframe\">\n",
       "  <thead>\n",
       "    <tr style=\"text-align: right;\">\n",
       "      <th></th>\n",
       "      <th>month</th>\n",
       "      <th>town</th>\n",
       "      <th>flat_type</th>\n",
       "      <th>storey_range</th>\n",
       "      <th>floor_area_sqm</th>\n",
       "      <th>flat_model</th>\n",
       "      <th>resale_price</th>\n",
       "      <th>remaining_lease</th>\n",
       "      <th>Jurong East MRT station</th>\n",
       "      <th>Bukit Batok MRT station</th>\n",
       "      <th>...</th>\n",
       "      <th>Bendemeer MRT station</th>\n",
       "      <th>Geylang Bahru MRT Station</th>\n",
       "      <th>Mattar MRT station</th>\n",
       "      <th>Ubi MRT station</th>\n",
       "      <th>Kaki Bukit MRT Station</th>\n",
       "      <th>Bedok North MRT station</th>\n",
       "      <th>Bedok Reservoir MRT station</th>\n",
       "      <th>Tampines West MRT station</th>\n",
       "      <th>Tampines East MRT station</th>\n",
       "      <th>Upper Changi MRT station</th>\n",
       "    </tr>\n",
       "  </thead>\n",
       "  <tbody>\n",
       "    <tr>\n",
       "      <th>0</th>\n",
       "      <td>2012.0</td>\n",
       "      <td>ANG MO KIO</td>\n",
       "      <td>2 ROOM</td>\n",
       "      <td>10.0</td>\n",
       "      <td>45.0</td>\n",
       "      <td>Improved</td>\n",
       "      <td>250000.0</td>\n",
       "      <td>73.0</td>\n",
       "      <td>11477.78323</td>\n",
       "      <td>10141.0331</td>\n",
       "      <td>...</td>\n",
       "      <td>7396.943191</td>\n",
       "      <td>7076.419886</td>\n",
       "      <td>7368.404889</td>\n",
       "      <td>8633.054865</td>\n",
       "      <td>9181.288024</td>\n",
       "      <td>10097.60426</td>\n",
       "      <td>11482.59923</td>\n",
       "      <td>11746.91309</td>\n",
       "      <td>13278.94819</td>\n",
       "      <td>14345.68675</td>\n",
       "    </tr>\n",
       "    <tr>\n",
       "      <th>1</th>\n",
       "      <td>2012.0</td>\n",
       "      <td>ANG MO KIO</td>\n",
       "      <td>3 ROOM</td>\n",
       "      <td>10.0</td>\n",
       "      <td>60.0</td>\n",
       "      <td>Improved</td>\n",
       "      <td>302500.0</td>\n",
       "      <td>73.0</td>\n",
       "      <td>11477.78323</td>\n",
       "      <td>10141.0331</td>\n",
       "      <td>...</td>\n",
       "      <td>7396.943191</td>\n",
       "      <td>7076.419886</td>\n",
       "      <td>7368.404889</td>\n",
       "      <td>8633.054865</td>\n",
       "      <td>9181.288024</td>\n",
       "      <td>10097.60426</td>\n",
       "      <td>11482.59923</td>\n",
       "      <td>11746.91309</td>\n",
       "      <td>13278.94819</td>\n",
       "      <td>14345.68675</td>\n",
       "    </tr>\n",
       "    <tr>\n",
       "      <th>2</th>\n",
       "      <td>2012.0</td>\n",
       "      <td>ANG MO KIO</td>\n",
       "      <td>3 ROOM</td>\n",
       "      <td>10.0</td>\n",
       "      <td>60.0</td>\n",
       "      <td>Improved</td>\n",
       "      <td>295000.0</td>\n",
       "      <td>73.0</td>\n",
       "      <td>11477.78323</td>\n",
       "      <td>10141.0331</td>\n",
       "      <td>...</td>\n",
       "      <td>7396.943191</td>\n",
       "      <td>7076.419886</td>\n",
       "      <td>7368.404889</td>\n",
       "      <td>8633.054865</td>\n",
       "      <td>9181.288024</td>\n",
       "      <td>10097.60426</td>\n",
       "      <td>11482.59923</td>\n",
       "      <td>11746.91309</td>\n",
       "      <td>13278.94819</td>\n",
       "      <td>14345.68675</td>\n",
       "    </tr>\n",
       "    <tr>\n",
       "      <th>3</th>\n",
       "      <td>2012.0</td>\n",
       "      <td>ANG MO KIO</td>\n",
       "      <td>2 ROOM</td>\n",
       "      <td>6.0</td>\n",
       "      <td>45.0</td>\n",
       "      <td>Improved</td>\n",
       "      <td>259000.0</td>\n",
       "      <td>73.0</td>\n",
       "      <td>11477.78323</td>\n",
       "      <td>10141.0331</td>\n",
       "      <td>...</td>\n",
       "      <td>7396.943191</td>\n",
       "      <td>7076.419886</td>\n",
       "      <td>7368.404889</td>\n",
       "      <td>8633.054865</td>\n",
       "      <td>9181.288024</td>\n",
       "      <td>10097.60426</td>\n",
       "      <td>11482.59923</td>\n",
       "      <td>11746.91309</td>\n",
       "      <td>13278.94819</td>\n",
       "      <td>14345.68675</td>\n",
       "    </tr>\n",
       "    <tr>\n",
       "      <th>4</th>\n",
       "      <td>2012.0</td>\n",
       "      <td>ANG MO KIO</td>\n",
       "      <td>2 ROOM</td>\n",
       "      <td>9.0</td>\n",
       "      <td>45.0</td>\n",
       "      <td>Improved</td>\n",
       "      <td>263000.0</td>\n",
       "      <td>73.0</td>\n",
       "      <td>11477.78323</td>\n",
       "      <td>10141.0331</td>\n",
       "      <td>...</td>\n",
       "      <td>7396.943191</td>\n",
       "      <td>7076.419886</td>\n",
       "      <td>7368.404889</td>\n",
       "      <td>8633.054865</td>\n",
       "      <td>9181.288024</td>\n",
       "      <td>10097.60426</td>\n",
       "      <td>11482.59923</td>\n",
       "      <td>11746.91309</td>\n",
       "      <td>13278.94819</td>\n",
       "      <td>14345.68675</td>\n",
       "    </tr>\n",
       "  </tbody>\n",
       "</table>\n",
       "<p>5 rows × 127 columns</p>\n",
       "</div>"
      ],
      "text/plain": [
       "    month        town flat_type  storey_range  floor_area_sqm flat_model  \\\n",
       "0  2012.0  ANG MO KIO    2 ROOM          10.0            45.0   Improved   \n",
       "1  2012.0  ANG MO KIO    3 ROOM          10.0            60.0   Improved   \n",
       "2  2012.0  ANG MO KIO    3 ROOM          10.0            60.0   Improved   \n",
       "3  2012.0  ANG MO KIO    2 ROOM           6.0            45.0   Improved   \n",
       "4  2012.0  ANG MO KIO    2 ROOM           9.0            45.0   Improved   \n",
       "\n",
       "   resale_price  remaining_lease  Jurong East MRT station  \\\n",
       "0      250000.0             73.0              11477.78323   \n",
       "1      302500.0             73.0              11477.78323   \n",
       "2      295000.0             73.0              11477.78323   \n",
       "3      259000.0             73.0              11477.78323   \n",
       "4      263000.0             73.0              11477.78323   \n",
       "\n",
       "   Bukit Batok MRT station  ...  Bendemeer MRT station  \\\n",
       "0               10141.0331  ...            7396.943191   \n",
       "1               10141.0331  ...            7396.943191   \n",
       "2               10141.0331  ...            7396.943191   \n",
       "3               10141.0331  ...            7396.943191   \n",
       "4               10141.0331  ...            7396.943191   \n",
       "\n",
       "   Geylang Bahru MRT Station  Mattar MRT station  Ubi MRT station  \\\n",
       "0                7076.419886         7368.404889      8633.054865   \n",
       "1                7076.419886         7368.404889      8633.054865   \n",
       "2                7076.419886         7368.404889      8633.054865   \n",
       "3                7076.419886         7368.404889      8633.054865   \n",
       "4                7076.419886         7368.404889      8633.054865   \n",
       "\n",
       "   Kaki Bukit MRT Station  Bedok North MRT station  \\\n",
       "0             9181.288024              10097.60426   \n",
       "1             9181.288024              10097.60426   \n",
       "2             9181.288024              10097.60426   \n",
       "3             9181.288024              10097.60426   \n",
       "4             9181.288024              10097.60426   \n",
       "\n",
       "   Bedok Reservoir MRT station  Tampines West MRT station  \\\n",
       "0                  11482.59923                11746.91309   \n",
       "1                  11482.59923                11746.91309   \n",
       "2                  11482.59923                11746.91309   \n",
       "3                  11482.59923                11746.91309   \n",
       "4                  11482.59923                11746.91309   \n",
       "\n",
       "   Tampines East MRT station  Upper Changi MRT station  \n",
       "0                13278.94819               14345.68675  \n",
       "1                13278.94819               14345.68675  \n",
       "2                13278.94819               14345.68675  \n",
       "3                13278.94819               14345.68675  \n",
       "4                13278.94819               14345.68675  \n",
       "\n",
       "[5 rows x 127 columns]"
      ]
     },
     "execution_count": 67,
     "metadata": {},
     "output_type": "execute_result"
    }
   ],
   "source": [
    "Final_df.head()"
   ]
  },
  {
   "cell_type": "code",
   "execution_count": 76,
   "metadata": {},
   "outputs": [
    {
     "data": {
      "text/plain": [
       "Index(['month', 'town', 'flat_type', 'storey_range', 'floor_area_sqm',\n",
       "       'flat_model', 'resale_price', 'remaining_lease'],\n",
       "      dtype='object')"
      ]
     },
     "execution_count": 76,
     "metadata": {},
     "output_type": "execute_result"
    }
   ],
   "source": [
    "Final_df.columns[:8]"
   ]
  },
  {
   "cell_type": "code",
   "execution_count": 77,
   "metadata": {},
   "outputs": [],
   "source": [
    "cluster_df = Final_df[Final_df.columns[8:]]"
   ]
  },
  {
   "cell_type": "markdown",
   "metadata": {},
   "source": [
    "<h4 style='color:purple'>Elbow Plot</h4>"
   ]
  },
  {
   "cell_type": "code",
   "execution_count": 81,
   "metadata": {},
   "outputs": [],
   "source": [
    "#Elbow plot\n",
    "sse = []\n",
    "clusterRange = range(1,10)\n",
    "for k in clusterRange:\n",
    "    km = KMeans(n_clusters=k)\n",
    "    km.fit(cluster_df)\n",
    "    sse.append(km.inertia_)"
   ]
  },
  {
   "cell_type": "code",
   "execution_count": 83,
   "metadata": {},
   "outputs": [],
   "source": [
    "%matplotlib inline\n",
    "from matplotlib import pyplot as plt"
   ]
  },
  {
   "cell_type": "code",
   "execution_count": 84,
   "metadata": {},
   "outputs": [
    {
     "data": {
      "text/plain": [
       "[<matplotlib.lines.Line2D at 0x2eb8035e6c8>]"
      ]
     },
     "execution_count": 84,
     "metadata": {},
     "output_type": "execute_result"
    },
    {
     "data": {
      "image/png": "[encoded data removed]",
      "text/plain": [
       "<Figure size 432x288 with 1 Axes>"
      ]
     },
     "metadata": {
      "needs_background": "light"
     },
     "output_type": "display_data"
    }
   ],
   "source": [
    "plt.xlabel('Cluster Count')\n",
    "plt.ylabel('Sum of squared error')\n",
    "plt.plot(clusterRange,sse)"
   ]
  },
  {
   "cell_type": "code",
   "execution_count": 85,
   "metadata": {},
   "outputs": [],
   "source": [
    "m = KMeans(n_clusters=4)"
   ]
  },
  {
   "cell_type": "code",
   "execution_count": 86,
   "metadata": {},
   "outputs": [
    {
     "name": "stdout",
     "output_type": "stream",
     "text": [
      "[2 2 2 ... 0 0 3]\n"
     ]
    }
   ],
   "source": [
    "predicted_Cluster = km.fit_predict(cluster_df)\n",
    "print(predicted_Cluster)"
   ]
  },
  {
   "cell_type": "code",
   "execution_count": 87,
   "metadata": {},
   "outputs": [
    {
     "data": {
      "text/plain": [
       "Index(['Jurong East MRT station', 'Bukit Batok MRT station',\n",
       "       'Bukit Gombak MRT station', 'Choa Chu Kang MRT station',\n",
       "       'Yew Tee MRT station', 'Kranji MRT station', 'Marsiling MRT station',\n",
       "       'Woodlands MRT station', 'Admiralty MRT station',\n",
       "       'Sembawang MRT station',\n",
       "       ...\n",
       "       'Bendemeer MRT station', 'Geylang Bahru MRT Station',\n",
       "       'Mattar MRT station', 'Ubi MRT station', 'Kaki Bukit MRT Station',\n",
       "       'Bedok North MRT station', 'Bedok Reservoir MRT station',\n",
       "       'Tampines West MRT station', 'Tampines East MRT station',\n",
       "       'Upper Changi MRT station'],\n",
       "      dtype='object', length=119)"
      ]
     },
     "execution_count": 87,
     "metadata": {},
     "output_type": "execute_result"
    }
   ],
   "source": [
    "col_of_cluster = cluster_df.columns\n",
    "col_of_cluster"
   ]
  },
  {
   "cell_type": "code",
   "execution_count": 88,
   "metadata": {},
   "outputs": [],
   "source": [
    "Final_df['Cluster'] = predicted_Cluster"
   ]
  },
  {
   "cell_type": "code",
   "execution_count": 93,
   "metadata": {},
   "outputs": [
    {
     "data": {
      "text/html": [
       "<div>\n",
       "<style scoped>\n",
       "    .dataframe tbody tr th:only-of-type {\n",
       "        vertical-align: middle;\n",
       "    }\n",
       "\n",
       "    .dataframe tbody tr th {\n",
       "        vertical-align: top;\n",
       "    }\n",
       "\n",
       "    .dataframe thead th {\n",
       "        text-align: right;\n",
       "    }\n",
       "</style>\n",
       "<table border=\"1\" class=\"dataframe\">\n",
       "  <thead>\n",
       "    <tr style=\"text-align: right;\">\n",
       "      <th></th>\n",
       "      <th>month</th>\n",
       "      <th>town</th>\n",
       "      <th>flat_type</th>\n",
       "      <th>storey_range</th>\n",
       "      <th>floor_area_sqm</th>\n",
       "      <th>flat_model</th>\n",
       "      <th>resale_price</th>\n",
       "      <th>remaining_lease</th>\n",
       "      <th>Jurong East MRT station</th>\n",
       "      <th>Bukit Batok MRT station</th>\n",
       "      <th>...</th>\n",
       "      <th>Geylang Bahru MRT Station</th>\n",
       "      <th>Mattar MRT station</th>\n",
       "      <th>Ubi MRT station</th>\n",
       "      <th>Kaki Bukit MRT Station</th>\n",
       "      <th>Bedok North MRT station</th>\n",
       "      <th>Bedok Reservoir MRT station</th>\n",
       "      <th>Tampines West MRT station</th>\n",
       "      <th>Tampines East MRT station</th>\n",
       "      <th>Upper Changi MRT station</th>\n",
       "      <th>Cluster</th>\n",
       "    </tr>\n",
       "  </thead>\n",
       "  <tbody>\n",
       "    <tr>\n",
       "      <th>0</th>\n",
       "      <td>2012.0</td>\n",
       "      <td>ANG MO KIO</td>\n",
       "      <td>2 ROOM</td>\n",
       "      <td>10.0</td>\n",
       "      <td>45.0</td>\n",
       "      <td>Improved</td>\n",
       "      <td>250000.0</td>\n",
       "      <td>73.0</td>\n",
       "      <td>11477.78323</td>\n",
       "      <td>10141.0331</td>\n",
       "      <td>...</td>\n",
       "      <td>7076.419886</td>\n",
       "      <td>7368.404889</td>\n",
       "      <td>8633.054865</td>\n",
       "      <td>9181.288024</td>\n",
       "      <td>10097.60426</td>\n",
       "      <td>11482.59923</td>\n",
       "      <td>11746.91309</td>\n",
       "      <td>13278.94819</td>\n",
       "      <td>14345.68675</td>\n",
       "      <td>2</td>\n",
       "    </tr>\n",
       "    <tr>\n",
       "      <th>1</th>\n",
       "      <td>2012.0</td>\n",
       "      <td>ANG MO KIO</td>\n",
       "      <td>3 ROOM</td>\n",
       "      <td>10.0</td>\n",
       "      <td>60.0</td>\n",
       "      <td>Improved</td>\n",
       "      <td>302500.0</td>\n",
       "      <td>73.0</td>\n",
       "      <td>11477.78323</td>\n",
       "      <td>10141.0331</td>\n",
       "      <td>...</td>\n",
       "      <td>7076.419886</td>\n",
       "      <td>7368.404889</td>\n",
       "      <td>8633.054865</td>\n",
       "      <td>9181.288024</td>\n",
       "      <td>10097.60426</td>\n",
       "      <td>11482.59923</td>\n",
       "      <td>11746.91309</td>\n",
       "      <td>13278.94819</td>\n",
       "      <td>14345.68675</td>\n",
       "      <td>2</td>\n",
       "    </tr>\n",
       "    <tr>\n",
       "      <th>2</th>\n",
       "      <td>2012.0</td>\n",
       "      <td>ANG MO KIO</td>\n",
       "      <td>3 ROOM</td>\n",
       "      <td>10.0</td>\n",
       "      <td>60.0</td>\n",
       "      <td>Improved</td>\n",
       "      <td>295000.0</td>\n",
       "      <td>73.0</td>\n",
       "      <td>11477.78323</td>\n",
       "      <td>10141.0331</td>\n",
       "      <td>...</td>\n",
       "      <td>7076.419886</td>\n",
       "      <td>7368.404889</td>\n",
       "      <td>8633.054865</td>\n",
       "      <td>9181.288024</td>\n",
       "      <td>10097.60426</td>\n",
       "      <td>11482.59923</td>\n",
       "      <td>11746.91309</td>\n",
       "      <td>13278.94819</td>\n",
       "      <td>14345.68675</td>\n",
       "      <td>2</td>\n",
       "    </tr>\n",
       "  </tbody>\n",
       "</table>\n",
       "<p>3 rows × 128 columns</p>\n",
       "</div>"
      ],
      "text/plain": [
       "    month        town flat_type  storey_range  floor_area_sqm flat_model  \\\n",
       "0  2012.0  ANG MO KIO    2 ROOM          10.0            45.0   Improved   \n",
       "1  2012.0  ANG MO KIO    3 ROOM          10.0            60.0   Improved   \n",
       "2  2012.0  ANG MO KIO    3 ROOM          10.0            60.0   Improved   \n",
       "\n",
       "   resale_price  remaining_lease  Jurong East MRT station  \\\n",
       "0      250000.0             73.0              11477.78323   \n",
       "1      302500.0             73.0              11477.78323   \n",
       "2      295000.0             73.0              11477.78323   \n",
       "\n",
       "   Bukit Batok MRT station  ...  Geylang Bahru MRT Station  \\\n",
       "0               10141.0331  ...                7076.419886   \n",
       "1               10141.0331  ...                7076.419886   \n",
       "2               10141.0331  ...                7076.419886   \n",
       "\n",
       "   Mattar MRT station  Ubi MRT station  Kaki Bukit MRT Station  \\\n",
       "0         7368.404889      8633.054865             9181.288024   \n",
       "1         7368.404889      8633.054865             9181.288024   \n",
       "2         7368.404889      8633.054865             9181.288024   \n",
       "\n",
       "   Bedok North MRT station  Bedok Reservoir MRT station  \\\n",
       "0              10097.60426                  11482.59923   \n",
       "1              10097.60426                  11482.59923   \n",
       "2              10097.60426                  11482.59923   \n",
       "\n",
       "   Tampines West MRT station  Tampines East MRT station  \\\n",
       "0                11746.91309                13278.94819   \n",
       "1                11746.91309                13278.94819   \n",
       "2                11746.91309                13278.94819   \n",
       "\n",
       "   Upper Changi MRT station  Cluster  \n",
       "0               14345.68675        2  \n",
       "1               14345.68675        2  \n",
       "2               14345.68675        2  \n",
       "\n",
       "[3 rows x 128 columns]"
      ]
     },
     "execution_count": 93,
     "metadata": {},
     "output_type": "execute_result"
    }
   ],
   "source": [
    "Final_df.head(3)"
   ]
  },
  {
   "cell_type": "code",
   "execution_count": 94,
   "metadata": {},
   "outputs": [],
   "source": [
    "# Dropping columns which are used for clustering:\n",
    "Final_df.drop(col_of_cluster,axis=1,inplace=True)"
   ]
  },
  {
   "cell_type": "code",
   "execution_count": 95,
   "metadata": {},
   "outputs": [
    {
     "name": "stdout",
     "output_type": "stream",
     "text": [
      "(121934, 9)\n"
     ]
    },
    {
     "data": {
      "text/html": [
       "<div>\n",
       "<style scoped>\n",
       "    .dataframe tbody tr th:only-of-type {\n",
       "        vertical-align: middle;\n",
       "    }\n",
       "\n",
       "    .dataframe tbody tr th {\n",
       "        vertical-align: top;\n",
       "    }\n",
       "\n",
       "    .dataframe thead th {\n",
       "        text-align: right;\n",
       "    }\n",
       "</style>\n",
       "<table border=\"1\" class=\"dataframe\">\n",
       "  <thead>\n",
       "    <tr style=\"text-align: right;\">\n",
       "      <th></th>\n",
       "      <th>month</th>\n",
       "      <th>town</th>\n",
       "      <th>flat_type</th>\n",
       "      <th>storey_range</th>\n",
       "      <th>floor_area_sqm</th>\n",
       "      <th>flat_model</th>\n",
       "      <th>resale_price</th>\n",
       "      <th>remaining_lease</th>\n",
       "      <th>Cluster</th>\n",
       "    </tr>\n",
       "  </thead>\n",
       "  <tbody>\n",
       "    <tr>\n",
       "      <th>0</th>\n",
       "      <td>2012.0</td>\n",
       "      <td>ANG MO KIO</td>\n",
       "      <td>2 ROOM</td>\n",
       "      <td>10.0</td>\n",
       "      <td>45.0</td>\n",
       "      <td>Improved</td>\n",
       "      <td>250000.0</td>\n",
       "      <td>73.0</td>\n",
       "      <td>2</td>\n",
       "    </tr>\n",
       "    <tr>\n",
       "      <th>1</th>\n",
       "      <td>2012.0</td>\n",
       "      <td>ANG MO KIO</td>\n",
       "      <td>3 ROOM</td>\n",
       "      <td>10.0</td>\n",
       "      <td>60.0</td>\n",
       "      <td>Improved</td>\n",
       "      <td>302500.0</td>\n",
       "      <td>73.0</td>\n",
       "      <td>2</td>\n",
       "    </tr>\n",
       "    <tr>\n",
       "      <th>2</th>\n",
       "      <td>2012.0</td>\n",
       "      <td>ANG MO KIO</td>\n",
       "      <td>3 ROOM</td>\n",
       "      <td>10.0</td>\n",
       "      <td>60.0</td>\n",
       "      <td>Improved</td>\n",
       "      <td>295000.0</td>\n",
       "      <td>73.0</td>\n",
       "      <td>2</td>\n",
       "    </tr>\n",
       "    <tr>\n",
       "      <th>3</th>\n",
       "      <td>2012.0</td>\n",
       "      <td>ANG MO KIO</td>\n",
       "      <td>2 ROOM</td>\n",
       "      <td>6.0</td>\n",
       "      <td>45.0</td>\n",
       "      <td>Improved</td>\n",
       "      <td>259000.0</td>\n",
       "      <td>73.0</td>\n",
       "      <td>2</td>\n",
       "    </tr>\n",
       "    <tr>\n",
       "      <th>4</th>\n",
       "      <td>2012.0</td>\n",
       "      <td>ANG MO KIO</td>\n",
       "      <td>2 ROOM</td>\n",
       "      <td>9.0</td>\n",
       "      <td>45.0</td>\n",
       "      <td>Improved</td>\n",
       "      <td>263000.0</td>\n",
       "      <td>73.0</td>\n",
       "      <td>2</td>\n",
       "    </tr>\n",
       "  </tbody>\n",
       "</table>\n",
       "</div>"
      ],
      "text/plain": [
       "    month        town flat_type  storey_range  floor_area_sqm flat_model  \\\n",
       "0  2012.0  ANG MO KIO    2 ROOM          10.0            45.0   Improved   \n",
       "1  2012.0  ANG MO KIO    3 ROOM          10.0            60.0   Improved   \n",
       "2  2012.0  ANG MO KIO    3 ROOM          10.0            60.0   Improved   \n",
       "3  2012.0  ANG MO KIO    2 ROOM           6.0            45.0   Improved   \n",
       "4  2012.0  ANG MO KIO    2 ROOM           9.0            45.0   Improved   \n",
       "\n",
       "   resale_price  remaining_lease  Cluster  \n",
       "0      250000.0             73.0        2  \n",
       "1      302500.0             73.0        2  \n",
       "2      295000.0             73.0        2  \n",
       "3      259000.0             73.0        2  \n",
       "4      263000.0             73.0        2  "
      ]
     },
     "execution_count": 95,
     "metadata": {},
     "output_type": "execute_result"
    }
   ],
   "source": [
    "print(Final_df.shape)\n",
    "Final_df.head()"
   ]
  },
  {
   "cell_type": "code",
   "execution_count": 100,
   "metadata": {},
   "outputs": [],
   "source": [
    "def GetClustername(_aminitiesCluster):\n",
    "    clusterName = \"Cluster-1\"\n",
    "    if _aminitiesCluster==0:\n",
    "         clusterName = \"Cluster-1\"\n",
    "    elif _aminitiesCluster==1:\n",
    "         clusterName = \"Cluster-2\"\n",
    "    elif _aminitiesCluster==2:\n",
    "         clusterName = \"Cluster-3\"\n",
    "    elif _aminitiesCluster==3:\n",
    "         clusterName = \"Cluster-4\"\n",
    "    return clusterName"
   ]
  },
  {
   "cell_type": "code",
   "execution_count": 101,
   "metadata": {},
   "outputs": [],
   "source": [
    "Final_df['AminitiesCluster'] = Final_df.Cluster.apply(GetClustername)"
   ]
  },
  {
   "cell_type": "code",
   "execution_count": 102,
   "metadata": {},
   "outputs": [
    {
     "data": {
      "text/html": [
       "<div>\n",
       "<style scoped>\n",
       "    .dataframe tbody tr th:only-of-type {\n",
       "        vertical-align: middle;\n",
       "    }\n",
       "\n",
       "    .dataframe tbody tr th {\n",
       "        vertical-align: top;\n",
       "    }\n",
       "\n",
       "    .dataframe thead th {\n",
       "        text-align: right;\n",
       "    }\n",
       "</style>\n",
       "<table border=\"1\" class=\"dataframe\">\n",
       "  <thead>\n",
       "    <tr style=\"text-align: right;\">\n",
       "      <th></th>\n",
       "      <th>town</th>\n",
       "      <th>flat_type</th>\n",
       "      <th>storey_range</th>\n",
       "      <th>floor_area_sqm</th>\n",
       "      <th>flat_model</th>\n",
       "      <th>resale_price</th>\n",
       "      <th>remaining_lease</th>\n",
       "      <th>Cluster</th>\n",
       "      <th>AminitiesCluster</th>\n",
       "    </tr>\n",
       "  </thead>\n",
       "  <tbody>\n",
       "    <tr>\n",
       "      <th>0</th>\n",
       "      <td>ANG MO KIO</td>\n",
       "      <td>2 ROOM</td>\n",
       "      <td>10.0</td>\n",
       "      <td>45.0</td>\n",
       "      <td>Improved</td>\n",
       "      <td>250000.0</td>\n",
       "      <td>73.0</td>\n",
       "      <td>2</td>\n",
       "      <td>Cluster-3</td>\n",
       "    </tr>\n",
       "    <tr>\n",
       "      <th>1</th>\n",
       "      <td>ANG MO KIO</td>\n",
       "      <td>3 ROOM</td>\n",
       "      <td>10.0</td>\n",
       "      <td>60.0</td>\n",
       "      <td>Improved</td>\n",
       "      <td>302500.0</td>\n",
       "      <td>73.0</td>\n",
       "      <td>2</td>\n",
       "      <td>Cluster-3</td>\n",
       "    </tr>\n",
       "    <tr>\n",
       "      <th>2</th>\n",
       "      <td>ANG MO KIO</td>\n",
       "      <td>3 ROOM</td>\n",
       "      <td>10.0</td>\n",
       "      <td>60.0</td>\n",
       "      <td>Improved</td>\n",
       "      <td>295000.0</td>\n",
       "      <td>73.0</td>\n",
       "      <td>2</td>\n",
       "      <td>Cluster-3</td>\n",
       "    </tr>\n",
       "    <tr>\n",
       "      <th>3</th>\n",
       "      <td>ANG MO KIO</td>\n",
       "      <td>2 ROOM</td>\n",
       "      <td>6.0</td>\n",
       "      <td>45.0</td>\n",
       "      <td>Improved</td>\n",
       "      <td>259000.0</td>\n",
       "      <td>73.0</td>\n",
       "      <td>2</td>\n",
       "      <td>Cluster-3</td>\n",
       "    </tr>\n",
       "    <tr>\n",
       "      <th>4</th>\n",
       "      <td>ANG MO KIO</td>\n",
       "      <td>2 ROOM</td>\n",
       "      <td>9.0</td>\n",
       "      <td>45.0</td>\n",
       "      <td>Improved</td>\n",
       "      <td>263000.0</td>\n",
       "      <td>73.0</td>\n",
       "      <td>2</td>\n",
       "      <td>Cluster-3</td>\n",
       "    </tr>\n",
       "  </tbody>\n",
       "</table>\n",
       "</div>"
      ],
      "text/plain": [
       "         town flat_type  storey_range  floor_area_sqm flat_model  \\\n",
       "0  ANG MO KIO    2 ROOM          10.0            45.0   Improved   \n",
       "1  ANG MO KIO    3 ROOM          10.0            60.0   Improved   \n",
       "2  ANG MO KIO    3 ROOM          10.0            60.0   Improved   \n",
       "3  ANG MO KIO    2 ROOM           6.0            45.0   Improved   \n",
       "4  ANG MO KIO    2 ROOM           9.0            45.0   Improved   \n",
       "\n",
       "   resale_price  remaining_lease  Cluster AminitiesCluster  \n",
       "0      250000.0             73.0        2        Cluster-3  \n",
       "1      302500.0             73.0        2        Cluster-3  \n",
       "2      295000.0             73.0        2        Cluster-3  \n",
       "3      259000.0             73.0        2        Cluster-3  \n",
       "4      263000.0             73.0        2        Cluster-3  "
      ]
     },
     "execution_count": 102,
     "metadata": {},
     "output_type": "execute_result"
    }
   ],
   "source": [
    "Final_df.head()"
   ]
  },
  {
   "cell_type": "code",
   "execution_count": 103,
   "metadata": {},
   "outputs": [
    {
     "data": {
      "text/plain": [
       "town                category\n",
       "flat_type           category\n",
       "storey_range         float64\n",
       "floor_area_sqm       float64\n",
       "flat_model          category\n",
       "resale_price         float64\n",
       "remaining_lease      float64\n",
       "Cluster                int32\n",
       "AminitiesCluster    category\n",
       "dtype: object"
      ]
     },
     "execution_count": 103,
     "metadata": {},
     "output_type": "execute_result"
    }
   ],
   "source": [
    "Final_df['AminitiesCluster'] = Final_df['AminitiesCluster'].astype('category')\n",
    "Final_df.dtypes"
   ]
  },
  {
   "cell_type": "code",
   "execution_count": 98,
   "metadata": {},
   "outputs": [],
   "source": [
    "del Final_df['month']\n",
    "del Final_df['Cluster']\n",
    "Final_df.shape"
   ]
  },
  {
   "cell_type": "code",
   "execution_count": 109,
   "metadata": {},
   "outputs": [],
   "source": []
  },
  {
   "cell_type": "code",
   "execution_count": 105,
   "metadata": {},
   "outputs": [],
   "source": [
    "import seaborn as sns"
   ]
  },
  {
   "cell_type": "code",
   "execution_count": 111,
   "metadata": {},
   "outputs": [
    {
     "data": {
      "image/png": "[encoded data removed]",
      "text/plain": [
       "<Figure size 432x288 with 1 Axes>"
      ]
     },
     "metadata": {
      "needs_background": "light"
     },
     "output_type": "display_data"
    }
   ],
   "source": [
    "# Plotting Categorical Data\n",
    "sns.countplot(x=\"AminitiesCluster\", data=Final_df)\n",
    "plt.show()"
   ]
  },
  {
   "cell_type": "code",
   "execution_count": 110,
   "metadata": {},
   "outputs": [
    {
     "data": {
      "image/png": "[encoded data removed]",
      "text/plain": [
       "<Figure size 360x360 with 2 Axes>"
      ]
     },
     "metadata": {
      "needs_background": "light"
     },
     "output_type": "display_data"
    }
   ],
   "source": [
    "plt.figure(figsize=(5,5))\n",
    "sns.heatmap(Final_df.corr())\n",
    "plt.show()"
   ]
  },
  {
   "cell_type": "markdown",
   "metadata": {},
   "source": [
    "## Train and Test split:"
   ]
  },
  {
   "cell_type": "code",
   "execution_count": 112,
   "metadata": {},
   "outputs": [],
   "source": [
    "from sklearn.model_selection import train_test_split"
   ]
  },
  {
   "cell_type": "code",
   "execution_count": 113,
   "metadata": {},
   "outputs": [],
   "source": [
    "Y = Final_df['resale_price']\n",
    "X = Final_df.drop('resale_price', axis=1)\n",
    "X_train,X_test,Y_train,Y_test = train_test_split(X,Y,test_size=0.20,random_state=123)"
   ]
  },
  {
   "cell_type": "code",
   "execution_count": 114,
   "metadata": {},
   "outputs": [
    {
     "name": "stdout",
     "output_type": "stream",
     "text": [
      "(97547, 7)\n",
      "(24387, 7)\n",
      "(97547,)\n",
      "(24387,)\n"
     ]
    }
   ],
   "source": [
    "print(X_train.shape)\n",
    "print(X_test.shape)\n",
    "print(Y_train.shape)\n",
    "print(Y_test.shape)"
   ]
  },
  {
   "cell_type": "code",
   "execution_count": 117,
   "metadata": {},
   "outputs": [],
   "source": [
    "num_Atribute = X_train.select_dtypes(['float64','int64']).columns\n",
    "cat_Attributes = X_train.select_dtypes(['category']).columns\n",
    "num_unseenAttribute = X_test.select_dtypes(['float64','int64']).columns\n",
    "cat_unseenAttribute = X_test.select_dtypes(['category']).columns"
   ]
  },
  {
   "cell_type": "code",
   "execution_count": 118,
   "metadata": {},
   "outputs": [
    {
     "name": "stdout",
     "output_type": "stream",
     "text": [
      "Num attributes Index(['storey_range', 'floor_area_sqm', 'remaining_lease'], dtype='object')\n",
      "cat Attributes Index(['town', 'flat_type', 'flat_model', 'AminitiesCluster'], dtype='object')\n"
     ]
    }
   ],
   "source": [
    "print(\"Num attributes\",num_Atribute)\n",
    "print(\"cat Attributes\",cat_Attributes)"
   ]
  },
  {
   "cell_type": "markdown",
   "metadata": {},
   "source": [
    "### Handling of Numerical attributes"
   ]
  },
  {
   "cell_type": "code",
   "execution_count": 120,
   "metadata": {},
   "outputs": [],
   "source": [
    "#Imputers\n",
    "from sklearn.impute import SimpleImputer\n",
    "from sklearn.preprocessing import StandardScaler"
   ]
  },
  {
   "cell_type": "code",
   "execution_count": 121,
   "metadata": {},
   "outputs": [
    {
     "name": "stderr",
     "output_type": "stream",
     "text": [
      "C:\\Users\\hanit\\anaconda3\\lib\\site-packages\\ipykernel_launcher.py:3: SettingWithCopyWarning: \n",
      "A value is trying to be set on a copy of a slice from a DataFrame.\n",
      "Try using .loc[row_indexer,col_indexer] = value instead\n",
      "\n",
      "See the caveats in the documentation: https://pandas.pydata.org/pandas-docs/stable/user_guide/indexing.html#returning-a-view-versus-a-copy\n",
      "  This is separate from the ipykernel package so we can avoid doing imports until\n",
      "C:\\Users\\hanit\\anaconda3\\lib\\site-packages\\pandas\\core\\indexing.py:965: SettingWithCopyWarning: \n",
      "A value is trying to be set on a copy of a slice from a DataFrame.\n",
      "Try using .loc[row_indexer,col_indexer] = value instead\n",
      "\n",
      "See the caveats in the documentation: https://pandas.pydata.org/pandas-docs/stable/user_guide/indexing.html#returning-a-view-versus-a-copy\n",
      "  self.obj[item] = s\n",
      "C:\\Users\\hanit\\anaconda3\\lib\\site-packages\\ipykernel_launcher.py:4: SettingWithCopyWarning: \n",
      "A value is trying to be set on a copy of a slice from a DataFrame.\n",
      "Try using .loc[row_indexer,col_indexer] = value instead\n",
      "\n",
      "See the caveats in the documentation: https://pandas.pydata.org/pandas-docs/stable/user_guide/indexing.html#returning-a-view-versus-a-copy\n",
      "  after removing the cwd from sys.path.\n",
      "C:\\Users\\hanit\\anaconda3\\lib\\site-packages\\pandas\\core\\indexing.py:965: SettingWithCopyWarning: \n",
      "A value is trying to be set on a copy of a slice from a DataFrame.\n",
      "Try using .loc[row_indexer,col_indexer] = value instead\n",
      "\n",
      "See the caveats in the documentation: https://pandas.pydata.org/pandas-docs/stable/user_guide/indexing.html#returning-a-view-versus-a-copy\n",
      "  self.obj[item] = s\n"
     ]
    }
   ],
   "source": [
    "numericImputer = SimpleImputer(strategy='median')\n",
    "numericImputer = numericImputer.fit(X_train[num_Atribute])\n",
    "X_train[num_Atribute] = numericImputer.transform(X_train[num_Atribute])\n",
    "X_test[num_Atribute] = numericImputer.transform(X_test[num_Atribute])"
   ]
  },
  {
   "cell_type": "code",
   "execution_count": 123,
   "metadata": {},
   "outputs": [
    {
     "name": "stderr",
     "output_type": "stream",
     "text": [
      "C:\\Users\\hanit\\anaconda3\\lib\\site-packages\\ipykernel_launcher.py:5: SettingWithCopyWarning: \n",
      "A value is trying to be set on a copy of a slice from a DataFrame.\n",
      "Try using .loc[row_indexer,col_indexer] = value instead\n",
      "\n",
      "See the caveats in the documentation: https://pandas.pydata.org/pandas-docs/stable/user_guide/indexing.html#returning-a-view-versus-a-copy\n",
      "  \"\"\"\n",
      "C:\\Users\\hanit\\anaconda3\\lib\\site-packages\\pandas\\core\\indexing.py:965: SettingWithCopyWarning: \n",
      "A value is trying to be set on a copy of a slice from a DataFrame.\n",
      "Try using .loc[row_indexer,col_indexer] = value instead\n",
      "\n",
      "See the caveats in the documentation: https://pandas.pydata.org/pandas-docs/stable/user_guide/indexing.html#returning-a-view-versus-a-copy\n",
      "  self.obj[item] = s\n",
      "C:\\Users\\hanit\\anaconda3\\lib\\site-packages\\ipykernel_launcher.py:6: SettingWithCopyWarning: \n",
      "A value is trying to be set on a copy of a slice from a DataFrame.\n",
      "Try using .loc[row_indexer,col_indexer] = value instead\n",
      "\n",
      "See the caveats in the documentation: https://pandas.pydata.org/pandas-docs/stable/user_guide/indexing.html#returning-a-view-versus-a-copy\n",
      "  \n",
      "C:\\Users\\hanit\\anaconda3\\lib\\site-packages\\pandas\\core\\indexing.py:965: SettingWithCopyWarning: \n",
      "A value is trying to be set on a copy of a slice from a DataFrame.\n",
      "Try using .loc[row_indexer,col_indexer] = value instead\n",
      "\n",
      "See the caveats in the documentation: https://pandas.pydata.org/pandas-docs/stable/user_guide/indexing.html#returning-a-view-versus-a-copy\n",
      "  self.obj[item] = s\n"
     ]
    }
   ],
   "source": [
    "scaler = StandardScaler()\n",
    "\n",
    "scaler = scaler.fit(X_train[num_Atribute])\n",
    "\n",
    "X_train[num_Atribute]=scaler.transform(X_train[num_Atribute])\n",
    "X_test[num_Atribute]=scaler.transform(X_test[num_Atribute])"
   ]
  },
  {
   "cell_type": "markdown",
   "metadata": {},
   "source": [
    "## Handling of Categorical variables"
   ]
  },
  {
   "cell_type": "code",
   "execution_count": 122,
   "metadata": {},
   "outputs": [
    {
     "name": "stderr",
     "output_type": "stream",
     "text": [
      "C:\\Users\\hanit\\anaconda3\\lib\\site-packages\\ipykernel_launcher.py:3: SettingWithCopyWarning: \n",
      "A value is trying to be set on a copy of a slice from a DataFrame.\n",
      "Try using .loc[row_indexer,col_indexer] = value instead\n",
      "\n",
      "See the caveats in the documentation: https://pandas.pydata.org/pandas-docs/stable/user_guide/indexing.html#returning-a-view-versus-a-copy\n",
      "  This is separate from the ipykernel package so we can avoid doing imports until\n",
      "C:\\Users\\hanit\\anaconda3\\lib\\site-packages\\pandas\\core\\indexing.py:965: SettingWithCopyWarning: \n",
      "A value is trying to be set on a copy of a slice from a DataFrame.\n",
      "Try using .loc[row_indexer,col_indexer] = value instead\n",
      "\n",
      "See the caveats in the documentation: https://pandas.pydata.org/pandas-docs/stable/user_guide/indexing.html#returning-a-view-versus-a-copy\n",
      "  self.obj[item] = s\n",
      "C:\\Users\\hanit\\anaconda3\\lib\\site-packages\\ipykernel_launcher.py:4: SettingWithCopyWarning: \n",
      "A value is trying to be set on a copy of a slice from a DataFrame.\n",
      "Try using .loc[row_indexer,col_indexer] = value instead\n",
      "\n",
      "See the caveats in the documentation: https://pandas.pydata.org/pandas-docs/stable/user_guide/indexing.html#returning-a-view-versus-a-copy\n",
      "  after removing the cwd from sys.path.\n",
      "C:\\Users\\hanit\\anaconda3\\lib\\site-packages\\pandas\\core\\indexing.py:965: SettingWithCopyWarning: \n",
      "A value is trying to be set on a copy of a slice from a DataFrame.\n",
      "Try using .loc[row_indexer,col_indexer] = value instead\n",
      "\n",
      "See the caveats in the documentation: https://pandas.pydata.org/pandas-docs/stable/user_guide/indexing.html#returning-a-view-versus-a-copy\n",
      "  self.obj[item] = s\n"
     ]
    }
   ],
   "source": [
    "catImputer = SimpleImputer(strategy=\"most_frequent\")\n",
    "catImputer = catImputer.fit(X_train[cat_Attributes])\n",
    "X_train[cat_Attributes] = catImputer.transform(X_train[cat_Attributes])\n",
    "X_test[cat_Attributes] = catImputer.transform(X_test[cat_Attributes])"
   ]
  },
  {
   "cell_type": "code",
   "execution_count": 124,
   "metadata": {},
   "outputs": [
    {
     "name": "stdout",
     "output_type": "stream",
     "text": [
      "FLAT TYPE  7\n",
      "STOREY RANGE  23\n",
      "FLAT MODEL  21\n",
      "Aminities Cluster  4\n"
     ]
    }
   ],
   "source": [
    "print(\"FLAT TYPE \",len(X_train.flat_type.unique()))\n",
    "print(\"STOREY RANGE \",len(X_train.storey_range.unique()))\n",
    "print(\"FLAT MODEL \",len(X_train.flat_model.unique()))\n",
    "print(\"Aminities Cluster \",len(X_train.AminitiesCluster.unique()))"
   ]
  },
  {
   "cell_type": "code",
   "execution_count": 125,
   "metadata": {},
   "outputs": [],
   "source": [
    "X_train = pd.get_dummies(X_train,columns=cat_Attributes,drop_first=True)\n",
    "X_test = pd.get_dummies(X_test,columns=cat_unseenAttribute,drop_first=True)"
   ]
  },
  {
   "cell_type": "code",
   "execution_count": 126,
   "metadata": {},
   "outputs": [
    {
     "name": "stdout",
     "output_type": "stream",
     "text": [
      "(97547, 57)\n",
      "(24387, 56)\n"
     ]
    }
   ],
   "source": [
    "print(X_train.shape)\n",
    "print(X_test.shape)"
   ]
  },
  {
   "cell_type": "code",
   "execution_count": 128,
   "metadata": {},
   "outputs": [
    {
     "name": "stdout",
     "output_type": "stream",
     "text": [
      "flat_model_Adjoined flat\n"
     ]
    }
   ],
   "source": [
    "# Get missing columns in the training test\n",
    "missing_cols = set( X_train.columns ) - set( X_test.columns )\n",
    "\n",
    "# Add a missing column in test set with default value equal to 0\n",
    "for c in missing_cols:\n",
    "    print (c)\n",
    "    X_test[c] = 0\n",
    "    \n",
    "# Ensure the order of column in the test set is in the same order than in train set\n",
    "X_test = X_test[X_train.columns]"
   ]
  },
  {
   "cell_type": "code",
   "execution_count": 129,
   "metadata": {},
   "outputs": [
    {
     "data": {
      "text/html": [
       "<div>\n",
       "<style scoped>\n",
       "    .dataframe tbody tr th:only-of-type {\n",
       "        vertical-align: middle;\n",
       "    }\n",
       "\n",
       "    .dataframe tbody tr th {\n",
       "        vertical-align: top;\n",
       "    }\n",
       "\n",
       "    .dataframe thead th {\n",
       "        text-align: right;\n",
       "    }\n",
       "</style>\n",
       "<table border=\"1\" class=\"dataframe\">\n",
       "  <thead>\n",
       "    <tr style=\"text-align: right;\">\n",
       "      <th></th>\n",
       "      <th>storey_range</th>\n",
       "      <th>floor_area_sqm</th>\n",
       "      <th>remaining_lease</th>\n",
       "      <th>town_BEDOK</th>\n",
       "      <th>town_BISHAN</th>\n",
       "      <th>town_BUKIT BATOK</th>\n",
       "      <th>town_BUKIT MERAH</th>\n",
       "      <th>town_BUKIT PANJANG</th>\n",
       "      <th>town_BUKIT TIMAH</th>\n",
       "      <th>town_CENTRAL AREA</th>\n",
       "      <th>...</th>\n",
       "      <th>flat_model_Premium Apartment.</th>\n",
       "      <th>flat_model_Premium Maisonette</th>\n",
       "      <th>flat_model_Simplified</th>\n",
       "      <th>flat_model_Standard</th>\n",
       "      <th>flat_model_Terrace</th>\n",
       "      <th>flat_model_Type S1</th>\n",
       "      <th>flat_model_Type S2</th>\n",
       "      <th>AminitiesCluster_Cluster-2</th>\n",
       "      <th>AminitiesCluster_Cluster-3</th>\n",
       "      <th>AminitiesCluster_Cluster-4</th>\n",
       "    </tr>\n",
       "  </thead>\n",
       "  <tbody>\n",
       "    <tr>\n",
       "      <th>9065</th>\n",
       "      <td>2.046292</td>\n",
       "      <td>0.568053</td>\n",
       "      <td>1.316436</td>\n",
       "      <td>0</td>\n",
       "      <td>0</td>\n",
       "      <td>0</td>\n",
       "      <td>0</td>\n",
       "      <td>1</td>\n",
       "      <td>0</td>\n",
       "      <td>0</td>\n",
       "      <td>...</td>\n",
       "      <td>0</td>\n",
       "      <td>0</td>\n",
       "      <td>0</td>\n",
       "      <td>0</td>\n",
       "      <td>0</td>\n",
       "      <td>0</td>\n",
       "      <td>0</td>\n",
       "      <td>1</td>\n",
       "      <td>0</td>\n",
       "      <td>0</td>\n",
       "    </tr>\n",
       "    <tr>\n",
       "      <th>17943</th>\n",
       "      <td>-0.593030</td>\n",
       "      <td>-0.936473</td>\n",
       "      <td>-0.790313</td>\n",
       "      <td>0</td>\n",
       "      <td>0</td>\n",
       "      <td>0</td>\n",
       "      <td>0</td>\n",
       "      <td>0</td>\n",
       "      <td>0</td>\n",
       "      <td>0</td>\n",
       "      <td>...</td>\n",
       "      <td>0</td>\n",
       "      <td>0</td>\n",
       "      <td>0</td>\n",
       "      <td>0</td>\n",
       "      <td>0</td>\n",
       "      <td>0</td>\n",
       "      <td>0</td>\n",
       "      <td>0</td>\n",
       "      <td>0</td>\n",
       "      <td>0</td>\n",
       "    </tr>\n",
       "    <tr>\n",
       "      <th>60994</th>\n",
       "      <td>-1.158599</td>\n",
       "      <td>-0.245204</td>\n",
       "      <td>0.400458</td>\n",
       "      <td>0</td>\n",
       "      <td>0</td>\n",
       "      <td>0</td>\n",
       "      <td>0</td>\n",
       "      <td>0</td>\n",
       "      <td>0</td>\n",
       "      <td>0</td>\n",
       "      <td>...</td>\n",
       "      <td>0</td>\n",
       "      <td>0</td>\n",
       "      <td>0</td>\n",
       "      <td>0</td>\n",
       "      <td>0</td>\n",
       "      <td>0</td>\n",
       "      <td>0</td>\n",
       "      <td>1</td>\n",
       "      <td>0</td>\n",
       "      <td>0</td>\n",
       "    </tr>\n",
       "    <tr>\n",
       "      <th>116437</th>\n",
       "      <td>-0.027461</td>\n",
       "      <td>-0.082553</td>\n",
       "      <td>1.866023</td>\n",
       "      <td>0</td>\n",
       "      <td>0</td>\n",
       "      <td>0</td>\n",
       "      <td>0</td>\n",
       "      <td>0</td>\n",
       "      <td>0</td>\n",
       "      <td>0</td>\n",
       "      <td>...</td>\n",
       "      <td>0</td>\n",
       "      <td>0</td>\n",
       "      <td>0</td>\n",
       "      <td>0</td>\n",
       "      <td>0</td>\n",
       "      <td>0</td>\n",
       "      <td>0</td>\n",
       "      <td>0</td>\n",
       "      <td>0</td>\n",
       "      <td>0</td>\n",
       "    </tr>\n",
       "    <tr>\n",
       "      <th>18368</th>\n",
       "      <td>-0.027461</td>\n",
       "      <td>1.137333</td>\n",
       "      <td>1.224838</td>\n",
       "      <td>0</td>\n",
       "      <td>0</td>\n",
       "      <td>0</td>\n",
       "      <td>0</td>\n",
       "      <td>0</td>\n",
       "      <td>0</td>\n",
       "      <td>0</td>\n",
       "      <td>...</td>\n",
       "      <td>0</td>\n",
       "      <td>0</td>\n",
       "      <td>0</td>\n",
       "      <td>0</td>\n",
       "      <td>0</td>\n",
       "      <td>0</td>\n",
       "      <td>0</td>\n",
       "      <td>0</td>\n",
       "      <td>0</td>\n",
       "      <td>0</td>\n",
       "    </tr>\n",
       "  </tbody>\n",
       "</table>\n",
       "<p>5 rows × 57 columns</p>\n",
       "</div>"
      ],
      "text/plain": [
       "        storey_range  floor_area_sqm  remaining_lease  town_BEDOK  \\\n",
       "9065        2.046292        0.568053         1.316436           0   \n",
       "17943      -0.593030       -0.936473        -0.790313           0   \n",
       "60994      -1.158599       -0.245204         0.400458           0   \n",
       "116437     -0.027461       -0.082553         1.866023           0   \n",
       "18368      -0.027461        1.137333         1.224838           0   \n",
       "\n",
       "        town_BISHAN  town_BUKIT BATOK  town_BUKIT MERAH  town_BUKIT PANJANG  \\\n",
       "9065              0                 0                 0                   1   \n",
       "17943             0                 0                 0                   0   \n",
       "60994             0                 0                 0                   0   \n",
       "116437            0                 0                 0                   0   \n",
       "18368             0                 0                 0                   0   \n",
       "\n",
       "        town_BUKIT TIMAH  town_CENTRAL AREA  ...  \\\n",
       "9065                   0                  0  ...   \n",
       "17943                  0                  0  ...   \n",
       "60994                  0                  0  ...   \n",
       "116437                 0                  0  ...   \n",
       "18368                  0                  0  ...   \n",
       "\n",
       "        flat_model_Premium Apartment.  flat_model_Premium Maisonette  \\\n",
       "9065                                0                              0   \n",
       "17943                               0                              0   \n",
       "60994                               0                              0   \n",
       "116437                              0                              0   \n",
       "18368                               0                              0   \n",
       "\n",
       "        flat_model_Simplified  flat_model_Standard  flat_model_Terrace  \\\n",
       "9065                        0                    0                   0   \n",
       "17943                       0                    0                   0   \n",
       "60994                       0                    0                   0   \n",
       "116437                      0                    0                   0   \n",
       "18368                       0                    0                   0   \n",
       "\n",
       "        flat_model_Type S1  flat_model_Type S2  AminitiesCluster_Cluster-2  \\\n",
       "9065                     0                   0                           1   \n",
       "17943                    0                   0                           0   \n",
       "60994                    0                   0                           1   \n",
       "116437                   0                   0                           0   \n",
       "18368                    0                   0                           0   \n",
       "\n",
       "        AminitiesCluster_Cluster-3  AminitiesCluster_Cluster-4  \n",
       "9065                             0                           0  \n",
       "17943                            0                           0  \n",
       "60994                            0                           0  \n",
       "116437                           0                           0  \n",
       "18368                            0                           0  \n",
       "\n",
       "[5 rows x 57 columns]"
      ]
     },
     "execution_count": 129,
     "metadata": {},
     "output_type": "execute_result"
    }
   ],
   "source": [
    "X_train.head()"
   ]
  },
  {
   "cell_type": "code",
   "execution_count": 130,
   "metadata": {},
   "outputs": [
    {
     "data": {
      "text/plain": [
       "storey_range                         float64\n",
       "floor_area_sqm                       float64\n",
       "remaining_lease                      float64\n",
       "town_BEDOK                             uint8\n",
       "town_BISHAN                            uint8\n",
       "town_BUKIT BATOK                       uint8\n",
       "town_BUKIT MERAH                       uint8\n",
       "town_BUKIT PANJANG                     uint8\n",
       "town_BUKIT TIMAH                       uint8\n",
       "town_CENTRAL AREA                      uint8\n",
       "town_CHOA CHU KANG                     uint8\n",
       "town_CLEMENTI                          uint8\n",
       "town_GEYLANG                           uint8\n",
       "town_HOUGANG                           uint8\n",
       "town_JURONG EAST                       uint8\n",
       "town_JURONG WEST                       uint8\n",
       "town_KALLANG/WHAMPOA                   uint8\n",
       "town_MARINE PARADE                     uint8\n",
       "town_PASIR RIS                         uint8\n",
       "town_PUNGGOL                           uint8\n",
       "town_QUEENSTOWN                        uint8\n",
       "town_SEMBAWANG                         uint8\n",
       "town_SENGKANG                          uint8\n",
       "town_SERANGOON                         uint8\n",
       "town_TAMPINES                          uint8\n",
       "town_TOA PAYOH                         uint8\n",
       "town_WOODLANDS                         uint8\n",
       "town_YISHUN                            uint8\n",
       "flat_type_2 ROOM                       uint8\n",
       "flat_type_3 ROOM                       uint8\n",
       "flat_type_4 ROOM                       uint8\n",
       "flat_type_5 ROOM                       uint8\n",
       "flat_type_EXECUTIVE                    uint8\n",
       "flat_type_MULTI-GENERATION             uint8\n",
       "flat_model_Adjoined flat               uint8\n",
       "flat_model_Apartment                   uint8\n",
       "flat_model_DBSS                        uint8\n",
       "flat_model_Improved                    uint8\n",
       "flat_model_Improved-Maisonette         uint8\n",
       "flat_model_Maisonette                  uint8\n",
       "flat_model_Model A                     uint8\n",
       "flat_model_Model A-Maisonette          uint8\n",
       "flat_model_Model A2                    uint8\n",
       "flat_model_Multi Generation            uint8\n",
       "flat_model_New Generation              uint8\n",
       "flat_model_Premium Apartment           uint8\n",
       "flat_model_Premium Apartment Loft      uint8\n",
       "flat_model_Premium Apartment.          uint8\n",
       "flat_model_Premium Maisonette          uint8\n",
       "flat_model_Simplified                  uint8\n",
       "flat_model_Standard                    uint8\n",
       "flat_model_Terrace                     uint8\n",
       "flat_model_Type S1                     uint8\n",
       "flat_model_Type S2                     uint8\n",
       "AminitiesCluster_Cluster-2             uint8\n",
       "AminitiesCluster_Cluster-3             uint8\n",
       "AminitiesCluster_Cluster-4             uint8\n",
       "dtype: object"
      ]
     },
     "execution_count": 130,
     "metadata": {},
     "output_type": "execute_result"
    }
   ],
   "source": [
    "X_train.dtypes"
   ]
  },
  {
   "cell_type": "markdown",
   "metadata": {},
   "source": [
    "## PCA"
   ]
  },
  {
   "cell_type": "code",
   "execution_count": 131,
   "metadata": {},
   "outputs": [],
   "source": [
    "from sklearn.decomposition import PCA \n",
    "from matplotlib.pyplot import figure"
   ]
  },
  {
   "cell_type": "code",
   "execution_count": 133,
   "metadata": {},
   "outputs": [
    {
     "data": {
      "image/png": "[encoded data removed]",
      "text/plain": [
       "<Figure size 720x576 with 1 Axes>"
      ]
     },
     "metadata": {
      "needs_background": "light"
     },
     "output_type": "display_data"
    }
   ],
   "source": [
    "pca = PCA().fit(X_train)\n",
    "\n",
    "#Plotting the Cumulative Summation of the Explained Variance\n",
    "plt.figure(figsize=(10,8))\n",
    "plt.plot(np.cumsum(pca.explained_variance_ratio_))\n",
    "plt.xlabel('Number of Components')\n",
    "plt.ylabel('Variance (%)') #for each component\n",
    "plt.title('Attribute components influencing resale value')\n",
    "plt.show()"
   ]
  },
  {
   "cell_type": "code",
   "execution_count": 134,
   "metadata": {},
   "outputs": [],
   "source": [
    "pca = PCA(n_components = 30) \n",
    "X_train_PCA = pca.fit_transform(X_train) \n",
    "X_test_PCA = pca.transform(X_test)\n",
    "explained_variance = pca.explained_variance_ratio_"
   ]
  },
  {
   "cell_type": "markdown",
   "metadata": {},
   "source": [
    "<h4 style='color:blue'>MAPE</h4>"
   ]
  },
  {
   "cell_type": "code",
   "execution_count": 139,
   "metadata": {},
   "outputs": [],
   "source": [
    "def mean_absolute_percentage_error(y_true, y_pred): \n",
    "    y_true, y_pred = np.array(y_true), np.array(y_pred)\n",
    "    return np.mean(np.abs((y_true - y_pred) / y_true)) * 100"
   ]
  },
  {
   "cell_type": "markdown",
   "metadata": {},
   "source": [
    "<h2 style='color:brown'>MODELS</h2>"
   ]
  },
  {
   "cell_type": "code",
   "execution_count": 140,
   "metadata": {},
   "outputs": [],
   "source": [
    "from sklearn import linear_model\n",
    "from sklearn.linear_model import Ridge\n",
    "from sklearn.linear_model import Lasso\n",
    "from sklearn.linear_model import ElasticNet"
   ]
  },
  {
   "cell_type": "markdown",
   "metadata": {},
   "source": [
    "## Linear Regression"
   ]
  },
  {
   "cell_type": "code",
   "execution_count": 141,
   "metadata": {},
   "outputs": [],
   "source": [
    "lm = linear_model.LinearRegression()\n",
    "model = lm.fit(X_train,Y_train)"
   ]
  },
  {
   "cell_type": "code",
   "execution_count": 142,
   "metadata": {},
   "outputs": [],
   "source": [
    "trainPred = model.predict(X_train)\n",
    "testPred = model.predict(X_test)"
   ]
  },
  {
   "cell_type": "code",
   "execution_count": 143,
   "metadata": {},
   "outputs": [
    {
     "name": "stdout",
     "output_type": "stream",
     "text": [
      "mean_absolute_percentage_error TRAIN 9.5927766222033\n",
      "mean_absolute_percentage_error TEST 9.531494327723195\n"
     ]
    }
   ],
   "source": [
    "print(\"mean_absolute_percentage_error TRAIN\",mean_absolute_percentage_error(Y_train,trainPred))\n",
    "print(\"mean_absolute_percentage_error TEST\",mean_absolute_percentage_error(Y_test,testPred))"
   ]
  },
  {
   "cell_type": "markdown",
   "metadata": {},
   "source": [
    "<h2 style='color:green'>DecisionTree</h2>"
   ]
  },
  {
   "cell_type": "code",
   "execution_count": 144,
   "metadata": {},
   "outputs": [],
   "source": [
    "from sklearn.tree import DecisionTreeRegressor"
   ]
  },
  {
   "cell_type": "code",
   "execution_count": 145,
   "metadata": {},
   "outputs": [],
   "source": [
    "DT_regression = DecisionTreeRegressor(criterion='mse',max_depth=200,random_state=123,min_samples_leaf=5)"
   ]
  },
  {
   "cell_type": "markdown",
   "metadata": {},
   "source": [
    "## With PCA"
   ]
  },
  {
   "cell_type": "code",
   "execution_count": 146,
   "metadata": {},
   "outputs": [
    {
     "data": {
      "text/plain": [
       "DecisionTreeRegressor(ccp_alpha=0.0, criterion='mse', max_depth=200,\n",
       "                      max_features=None, max_leaf_nodes=None,\n",
       "                      min_impurity_decrease=0.0, min_impurity_split=None,\n",
       "                      min_samples_leaf=5, min_samples_split=2,\n",
       "                      min_weight_fraction_leaf=0.0, presort='deprecated',\n",
       "                      random_state=123, splitter='best')"
      ]
     },
     "execution_count": 146,
     "metadata": {},
     "output_type": "execute_result"
    }
   ],
   "source": [
    "DT_regression.fit(X_train_PCA,Y_train)"
   ]
  },
  {
   "cell_type": "code",
   "execution_count": 148,
   "metadata": {},
   "outputs": [],
   "source": [
    "trainPred_DT = DT_regression.predict(X_train_PCA)\n",
    "testPred_DT = DT_regression.predict(X_test_PCA)"
   ]
  },
  {
   "cell_type": "code",
   "execution_count": 149,
   "metadata": {},
   "outputs": [
    {
     "name": "stdout",
     "output_type": "stream",
     "text": [
      "mean_absolute_percentage_error TRAIN 4.439990619155855\n",
      "mean_absolute_percentage_error TEST 6.340179884682577\n"
     ]
    }
   ],
   "source": [
    "print(\"mean_absolute_percentage_error TRAIN\",mean_absolute_percentage_error(Y_train,trainPred_DT))\n",
    "print(\"mean_absolute_percentage_error TEST\",mean_absolute_percentage_error(Y_test,testPred_DT))"
   ]
  },
  {
   "cell_type": "markdown",
   "metadata": {},
   "source": [
    "### Without PCA"
   ]
  },
  {
   "cell_type": "code",
   "execution_count": 151,
   "metadata": {},
   "outputs": [
    {
     "data": {
      "text/plain": [
       "DecisionTreeRegressor(ccp_alpha=0.0, criterion='mse', max_depth=200,\n",
       "                      max_features=None, max_leaf_nodes=None,\n",
       "                      min_impurity_decrease=0.0, min_impurity_split=None,\n",
       "                      min_samples_leaf=5, min_samples_split=2,\n",
       "                      min_weight_fraction_leaf=0.0, presort='deprecated',\n",
       "                      random_state=123, splitter='best')"
      ]
     },
     "execution_count": 151,
     "metadata": {},
     "output_type": "execute_result"
    }
   ],
   "source": [
    "DT_regression.fit(X_train,Y_train)"
   ]
  },
  {
   "cell_type": "code",
   "execution_count": 152,
   "metadata": {},
   "outputs": [],
   "source": [
    "trainPred_DT_Without = DT_regression.predict(X_train)\n",
    "testPred_DT_Without = DT_regression.predict(X_test)"
   ]
  },
  {
   "cell_type": "code",
   "execution_count": 153,
   "metadata": {},
   "outputs": [
    {
     "name": "stdout",
     "output_type": "stream",
     "text": [
      "mean_absolute_percentage_error TRAIN 4.927095159345191\n",
      "mean_absolute_percentage_error TEST 5.97834236658451\n"
     ]
    }
   ],
   "source": [
    "print(\"mean_absolute_percentage_error TRAIN\",mean_absolute_percentage_error(Y_train,trainPred_DT_Without))\n",
    "print(\"mean_absolute_percentage_error TEST\",mean_absolute_percentage_error(Y_test,testPred_DT_Without))"
   ]
  },
  {
   "cell_type": "code",
   "execution_count": null,
   "metadata": {},
   "outputs": [],
   "source": []
  },
  {
   "cell_type": "markdown",
   "metadata": {},
   "source": [
    "## RandomForest"
   ]
  },
  {
   "cell_type": "code",
   "execution_count": 154,
   "metadata": {},
   "outputs": [],
   "source": [
    "from sklearn import metrics\n",
    "from sklearn.ensemble import RandomForestRegressor"
   ]
  },
  {
   "cell_type": "code",
   "execution_count": 155,
   "metadata": {},
   "outputs": [],
   "source": [
    "#Creating RandomForest object\n",
    "rfr = RandomForestRegressor()"
   ]
  },
  {
   "cell_type": "code",
   "execution_count": 156,
   "metadata": {},
   "outputs": [
    {
     "data": {
      "text/plain": [
       "<bound method BaseEstimator.get_params of RandomForestRegressor(bootstrap=True, ccp_alpha=0.0, criterion='mse',\n",
       "                      max_depth=None, max_features='auto', max_leaf_nodes=None,\n",
       "                      max_samples=None, min_impurity_decrease=0.0,\n",
       "                      min_impurity_split=None, min_samples_leaf=1,\n",
       "                      min_samples_split=2, min_weight_fraction_leaf=0.0,\n",
       "                      n_estimators=100, n_jobs=None, oob_score=False,\n",
       "                      random_state=None, verbose=0, warm_start=False)>"
      ]
     },
     "execution_count": 156,
     "metadata": {},
     "output_type": "execute_result"
    }
   ],
   "source": [
    "rfr.get_params"
   ]
  },
  {
   "cell_type": "markdown",
   "metadata": {},
   "source": [
    "## Without PCA"
   ]
  },
  {
   "cell_type": "code",
   "execution_count": 157,
   "metadata": {},
   "outputs": [
    {
     "data": {
      "text/plain": [
       "RandomForestRegressor(bootstrap=True, ccp_alpha=0.0, criterion='mse',\n",
       "                      max_depth=None, max_features='auto', max_leaf_nodes=None,\n",
       "                      max_samples=None, min_impurity_decrease=0.0,\n",
       "                      min_impurity_split=None, min_samples_leaf=1,\n",
       "                      min_samples_split=2, min_weight_fraction_leaf=0.0,\n",
       "                      n_estimators=100, n_jobs=None, oob_score=False,\n",
       "                      random_state=None, verbose=0, warm_start=False)"
      ]
     },
     "execution_count": 157,
     "metadata": {},
     "output_type": "execute_result"
    }
   ],
   "source": [
    "rfr.fit(X_train,Y_train)"
   ]
  },
  {
   "cell_type": "code",
   "execution_count": 158,
   "metadata": {},
   "outputs": [
    {
     "data": {
      "text/plain": [
       "array([8.29451840e-02, 5.27812799e-01, 8.54122888e-02, 7.48040407e-03,\n",
       "       2.39403252e-03, 1.44387325e-03, 4.43941644e-02, 1.62748132e-03,\n",
       "       7.58190174e-03, 1.23426505e-02, 3.79443511e-03, 1.34025142e-02,\n",
       "       9.62550418e-03, 1.76387664e-03, 1.66022569e-03, 4.50115596e-03,\n",
       "       2.42164973e-03, 1.12506239e-02, 1.22669933e-03, 1.16949404e-03,\n",
       "       3.38739735e-02, 2.40128800e-04, 1.11741595e-02, 1.78277291e-03,\n",
       "       6.79592161e-03, 1.58669683e-03, 1.33298013e-03, 1.88692165e-03,\n",
       "       6.36009818e-04, 1.71196281e-03, 7.20680846e-03, 2.01093267e-03,\n",
       "       4.02981169e-03, 3.04472428e-05, 1.84837281e-04, 5.29045207e-04,\n",
       "       2.76027435e-03, 4.12820038e-03, 5.61027701e-05, 5.48557656e-04,\n",
       "       3.98144440e-03, 1.06623409e-04, 1.37690274e-04, 3.02585645e-05,\n",
       "       2.12871004e-03, 1.96687263e-03, 3.19568539e-07, 1.44445177e-06,\n",
       "       2.74932117e-05, 5.60044958e-04, 6.77888399e-04, 1.47510301e-03,\n",
       "       4.28319027e-04, 7.97601352e-04, 8.83179391e-03, 5.93781525e-02,\n",
       "       1.27127367e-02])"
      ]
     },
     "execution_count": 158,
     "metadata": {},
     "output_type": "execute_result"
    }
   ],
   "source": [
    "rfr.feature_importances_"
   ]
  },
  {
   "cell_type": "code",
   "execution_count": 163,
   "metadata": {},
   "outputs": [],
   "source": [
    "test_pred_rfr = rfr.predict(X_test)"
   ]
  },
  {
   "cell_type": "code",
   "execution_count": 160,
   "metadata": {},
   "outputs": [],
   "source": [
    "train_pred_rfr = rfr.predict(X_train)"
   ]
  },
  {
   "cell_type": "code",
   "execution_count": 161,
   "metadata": {},
   "outputs": [
    {
     "data": {
      "text/plain": [
       "numpy.ndarray"
      ]
     },
     "execution_count": 161,
     "metadata": {},
     "output_type": "execute_result"
    }
   ],
   "source": [
    "type(pred_rfr)"
   ]
  },
  {
   "cell_type": "code",
   "execution_count": 164,
   "metadata": {},
   "outputs": [
    {
     "name": "stdout",
     "output_type": "stream",
     "text": [
      "mean_absolute_percentage_error TRAIN 3.8681727723491433\n",
      "mean_absolute_percentage_error TEST 5.706033421182881\n"
     ]
    }
   ],
   "source": [
    "print(\"mean_absolute_percentage_error TRAIN\",mean_absolute_percentage_error(Y_train,train_pred_rfr))\n",
    "print(\"mean_absolute_percentage_error TEST\",mean_absolute_percentage_error(Y_test,test_pred_rfr))"
   ]
  },
  {
   "cell_type": "markdown",
   "metadata": {},
   "source": [
    "## With PCA"
   ]
  },
  {
   "cell_type": "code",
   "execution_count": 165,
   "metadata": {},
   "outputs": [],
   "source": [
    "#Creating RandomForest object\n",
    "rfr_PCA = RandomForestRegressor()"
   ]
  },
  {
   "cell_type": "code",
   "execution_count": 166,
   "metadata": {},
   "outputs": [
    {
     "data": {
      "text/plain": [
       "RandomForestRegressor(bootstrap=True, ccp_alpha=0.0, criterion='mse',\n",
       "                      max_depth=None, max_features='auto', max_leaf_nodes=None,\n",
       "                      max_samples=None, min_impurity_decrease=0.0,\n",
       "                      min_impurity_split=None, min_samples_leaf=1,\n",
       "                      min_samples_split=2, min_weight_fraction_leaf=0.0,\n",
       "                      n_estimators=100, n_jobs=None, oob_score=False,\n",
       "                      random_state=None, verbose=0, warm_start=False)"
      ]
     },
     "execution_count": 166,
     "metadata": {},
     "output_type": "execute_result"
    }
   ],
   "source": [
    "rfr_PCA.fit(X_train_PCA,Y_train)"
   ]
  },
  {
   "cell_type": "code",
   "execution_count": 168,
   "metadata": {},
   "outputs": [],
   "source": [
    "trainPred_RF_PCA = rfr_PCA.predict(X_train_PCA)\n",
    "testPred_RF_PCA = rfr_PCA.predict(X_test_PCA)"
   ]
  },
  {
   "cell_type": "code",
   "execution_count": 169,
   "metadata": {},
   "outputs": [
    {
     "name": "stdout",
     "output_type": "stream",
     "text": [
      "mean_absolute_percentage_error TRAIN 3.9222866164226384\n",
      "mean_absolute_percentage_error TEST 5.857204702434855\n"
     ]
    }
   ],
   "source": [
    "print(\"mean_absolute_percentage_error TRAIN\",mean_absolute_percentage_error(Y_train,trainPred_RF_PCA))\n",
    "print(\"mean_absolute_percentage_error TEST\",mean_absolute_percentage_error(Y_test,testPred_RF_PCA))"
   ]
  },
  {
   "cell_type": "code",
   "execution_count": 170,
   "metadata": {},
   "outputs": [],
   "source": [
    "import pandas as pd\n",
    "feature_importances = pd.DataFrame(rfr.feature_importances_,\n",
    "                                   index = X_train.columns,\n",
    "                                    columns=['importance']).sort_values('importance',ascending=False)"
   ]
  },
  {
   "cell_type": "code",
   "execution_count": 172,
   "metadata": {},
   "outputs": [
    {
     "data": {
      "text/html": [
       "<div>\n",
       "<style scoped>\n",
       "    .dataframe tbody tr th:only-of-type {\n",
       "        vertical-align: middle;\n",
       "    }\n",
       "\n",
       "    .dataframe tbody tr th {\n",
       "        vertical-align: top;\n",
       "    }\n",
       "\n",
       "    .dataframe thead th {\n",
       "        text-align: right;\n",
       "    }\n",
       "</style>\n",
       "<table border=\"1\" class=\"dataframe\">\n",
       "  <thead>\n",
       "    <tr style=\"text-align: right;\">\n",
       "      <th></th>\n",
       "      <th>importance</th>\n",
       "    </tr>\n",
       "  </thead>\n",
       "  <tbody>\n",
       "    <tr>\n",
       "      <th>floor_area_sqm</th>\n",
       "      <td>0.527813</td>\n",
       "    </tr>\n",
       "    <tr>\n",
       "      <th>remaining_lease</th>\n",
       "      <td>0.085412</td>\n",
       "    </tr>\n",
       "    <tr>\n",
       "      <th>storey_range</th>\n",
       "      <td>0.082945</td>\n",
       "    </tr>\n",
       "    <tr>\n",
       "      <th>AminitiesCluster_Cluster-3</th>\n",
       "      <td>0.059378</td>\n",
       "    </tr>\n",
       "    <tr>\n",
       "      <th>town_BUKIT MERAH</th>\n",
       "      <td>0.044394</td>\n",
       "    </tr>\n",
       "    <tr>\n",
       "      <th>town_QUEENSTOWN</th>\n",
       "      <td>0.033874</td>\n",
       "    </tr>\n",
       "    <tr>\n",
       "      <th>town_CLEMENTI</th>\n",
       "      <td>0.013403</td>\n",
       "    </tr>\n",
       "    <tr>\n",
       "      <th>AminitiesCluster_Cluster-4</th>\n",
       "      <td>0.012713</td>\n",
       "    </tr>\n",
       "    <tr>\n",
       "      <th>town_CENTRAL AREA</th>\n",
       "      <td>0.012343</td>\n",
       "    </tr>\n",
       "    <tr>\n",
       "      <th>town_MARINE PARADE</th>\n",
       "      <td>0.011251</td>\n",
       "    </tr>\n",
       "  </tbody>\n",
       "</table>\n",
       "</div>"
      ],
      "text/plain": [
       "                            importance\n",
       "floor_area_sqm                0.527813\n",
       "remaining_lease               0.085412\n",
       "storey_range                  0.082945\n",
       "AminitiesCluster_Cluster-3    0.059378\n",
       "town_BUKIT MERAH              0.044394\n",
       "town_QUEENSTOWN               0.033874\n",
       "town_CLEMENTI                 0.013403\n",
       "AminitiesCluster_Cluster-4    0.012713\n",
       "town_CENTRAL AREA             0.012343\n",
       "town_MARINE PARADE            0.011251"
      ]
     },
     "execution_count": 172,
     "metadata": {},
     "output_type": "execute_result"
    }
   ],
   "source": [
    "feature_importances.head(10)"
   ]
  },
  {
   "cell_type": "code",
   "execution_count": 178,
   "metadata": {},
   "outputs": [
    {
     "name": "stdout",
     "output_type": "stream",
     "text": [
      "storey_range = 0.08294518397237179\n",
      "floor_area_sqm = 0.5278127989680738\n",
      "remaining_lease = 0.08541228879706583\n",
      "town_BEDOK = 0.007480404065154528\n",
      "town_BISHAN = 0.002394032521763095\n",
      "town_BUKIT BATOK = 0.00144387325391038\n",
      "town_BUKIT MERAH = 0.04439416443033115\n",
      "town_BUKIT PANJANG = 0.001627481322514987\n",
      "town_BUKIT TIMAH = 0.007581901741965285\n",
      "town_CENTRAL AREA = 0.012342650466284974\n",
      "town_CHOA CHU KANG = 0.003794435111283674\n",
      "town_CLEMENTI = 0.013402514221069441\n",
      "town_GEYLANG = 0.009625504178070624\n",
      "town_HOUGANG = 0.0017638766426684611\n",
      "town_JURONG EAST = 0.0016602256935951392\n",
      "town_JURONG WEST = 0.004501155957688103\n",
      "town_KALLANG/WHAMPOA = 0.002421649726394353\n",
      "town_MARINE PARADE = 0.011250623865381086\n",
      "town_PASIR RIS = 0.0012266993344276264\n",
      "town_PUNGGOL = 0.0011694940386300643\n",
      "town_QUEENSTOWN = 0.033873973511434285\n",
      "town_SEMBAWANG = 0.0002401287999448488\n",
      "town_SENGKANG = 0.011174159534437364\n",
      "town_SERANGOON = 0.0017827729064083045\n",
      "town_TAMPINES = 0.00679592161373585\n",
      "town_TOA PAYOH = 0.0015866968293674277\n",
      "town_WOODLANDS = 0.0013329801264808183\n",
      "town_YISHUN = 0.0018869216518058024\n",
      "flat_type_2 ROOM = 0.0006360098178886454\n",
      "flat_type_3 ROOM = 0.0017119628078231452\n",
      "flat_type_4 ROOM = 0.007206808462639591\n",
      "flat_type_5 ROOM = 0.002010932667372872\n",
      "flat_type_EXECUTIVE = 0.004029811691355346\n",
      "flat_type_MULTI-GENERATION = 3.044724277522219e-05\n",
      "flat_model_Adjoined flat = 0.0001848372813014899\n",
      "flat_model_Apartment = 0.0005290452070549154\n",
      "flat_model_DBSS = 0.002760274345815179\n",
      "flat_model_Improved = 0.004128200380704662\n",
      "flat_model_Improved-Maisonette = 5.610277005277532e-05\n",
      "flat_model_Maisonette = 0.0005485576562271741\n",
      "flat_model_Model A = 0.003981444404406037\n",
      "flat_model_Model A-Maisonette = 0.00010662340914097598\n",
      "flat_model_Model A2 = 0.00013769027410521963\n",
      "flat_model_Multi Generation = 3.0258564512410705e-05\n",
      "flat_model_New Generation = 0.00212871003794002\n",
      "flat_model_Premium Apartment = 0.001966872629137795\n",
      "flat_model_Premium Apartment Loft = 3.195685387714302e-07\n",
      "flat_model_Premium Apartment. = 1.444451774147147e-06\n",
      "flat_model_Premium Maisonette = 2.7493211687115488e-05\n",
      "flat_model_Simplified = 0.0005600449582442048\n",
      "flat_model_Standard = 0.0006778883991514109\n",
      "flat_model_Terrace = 0.001475103008773507\n",
      "flat_model_Type S1 = 0.00042831902701535293\n",
      "flat_model_Type S2 = 0.000797601351872116\n",
      "AminitiesCluster_Cluster-2 = 0.008831793914077941\n",
      "AminitiesCluster_Cluster-3 = 0.05937815251197642\n",
      "AminitiesCluster_Cluster-4 = 0.012712736664376398\n"
     ]
    }
   ],
   "source": [
    "for name, importance in zip(X_train.columns, rfr.feature_importances_):\n",
    "   print(name, \"=\", importance)   "
   ]
  },
  {
   "cell_type": "code",
   "execution_count": 185,
   "metadata": {},
   "outputs": [
    {
     "data": {
      "text/plain": [
       "array([46, 47, 48, 43, 33, 38, 41, 42, 34, 21], dtype=int64)"
      ]
     },
     "execution_count": 185,
     "metadata": {},
     "output_type": "execute_result"
    }
   ],
   "source": [
    "indices[:10]"
   ]
  },
  {
   "cell_type": "code",
   "execution_count": 189,
   "metadata": {},
   "outputs": [
    {
     "data": {
      "image/png": "[encoded data removed]",
      "text/plain": [
       "<Figure size 432x288 with 1 Axes>"
      ]
     },
     "metadata": {
      "needs_background": "light"
     },
     "output_type": "display_data"
    }
   ],
   "source": [
    "features = X_train.columns\n",
    "importances = rfr.feature_importances_\n",
    "indices = np.argsort(importances)\n",
    "indices = indices[:10]\n",
    "\n",
    "plt.title('Feature Importances')\n",
    "\n",
    "plt.barh(range(len(indices)), importances[indices], color='g', align='center')\n",
    "plt.yticks(range(len(indices)), [features[i] for i in indices])\n",
    "plt.xlabel('Relative Importance')\n",
    "plt.show()"
   ]
  },
  {
   "cell_type": "code",
   "execution_count": null,
   "metadata": {},
   "outputs": [],
   "source": []
  },
  {
   "cell_type": "code",
   "execution_count": null,
   "metadata": {},
   "outputs": [],
   "source": []
  },
  {
   "cell_type": "code",
   "execution_count": null,
   "metadata": {},
   "outputs": [],
   "source": [
    "df_RF = pd.DataFrame({'Actual': Y_val, 'Predicted': pred_rfr})"
   ]
  },
  {
   "cell_type": "code",
   "execution_count": null,
   "metadata": {},
   "outputs": [],
   "source": [
    "df_RF25 = df_RF.head(25)\n",
    "df_RF25"
   ]
  },
  {
   "cell_type": "code",
   "execution_count": null,
   "metadata": {},
   "outputs": [],
   "source": [
    "df_RF25.plot(kind='bar',figsize=(10,8))\n",
    "plt.grid(which='major', linestyle='-', linewidth='0.5', color='green')\n",
    "plt.grid(which='minor', linestyle=':', linewidth='0.5', color='black')\n",
    "plt.show()"
   ]
  },
  {
   "cell_type": "markdown",
   "metadata": {},
   "source": [
    "### RandomForest with PCA"
   ]
  },
  {
   "cell_type": "code",
   "execution_count": null,
   "metadata": {},
   "outputs": [],
   "source": [
    "#Creating RandomForest object\n",
    "rfr_PCA = RandomForestRegressor()"
   ]
  },
  {
   "cell_type": "code",
   "execution_count": null,
   "metadata": {},
   "outputs": [],
   "source": [
    "rfr_PCA.fit(X_train_PCA, Y_train)"
   ]
  },
  {
   "cell_type": "code",
   "execution_count": null,
   "metadata": {},
   "outputs": [],
   "source": [
    "pred_RF_trainPCA = rfr_PCA.predict(X_train_PCA)"
   ]
  },
  {
   "cell_type": "code",
   "execution_count": null,
   "metadata": {},
   "outputs": [],
   "source": [
    "RF_pred_valPCA = rfr_PCA.predict(X_val_PCA)"
   ]
  },
  {
   "cell_type": "code",
   "execution_count": null,
   "metadata": {},
   "outputs": [],
   "source": [
    "print(\"Train error: \", mean_absolute_percentage_error(y_true = Y_train, y_pred = pred_RF_trainPCA ))"
   ]
  },
  {
   "cell_type": "code",
   "execution_count": null,
   "metadata": {},
   "outputs": [],
   "source": [
    "print (\"Validation Error: \", mean_absolute_percentage_error(y_true = Y_val, y_pred = RF_pred_valPCA ))"
   ]
  },
  {
   "cell_type": "markdown",
   "metadata": {},
   "source": [
    "## MultiLinear Regression with Residual analysis"
   ]
  },
  {
   "cell_type": "code",
   "execution_count": null,
   "metadata": {},
   "outputs": [],
   "source": []
  }
 ],
 "metadata": {
  "kernelspec": {
   "display_name": "Python 3",
   "language": "python",
   "name": "python3"
  },
  "language_info": {
   "codemirror_mode": {
    "name": "ipython",
    "version": 3
   },
   "file_extension": ".py",
   "mimetype": "text/x-python",
   "name": "python",
   "nbconvert_exporter": "python",
   "pygments_lexer": "ipython3",
   "version": "3.7.6"
  }
 },
 "nbformat": 4,
 "nbformat_minor": 2
}
